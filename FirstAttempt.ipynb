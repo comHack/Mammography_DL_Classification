{
  "nbformat": 4,
  "nbformat_minor": 0,
  "metadata": {
    "colab": {
      "name": "FirstAttempt.ipynb",
      "provenance": [],
      "toc_visible": true,
      "include_colab_link": true
    },
    "kernelspec": {
      "name": "python3",
      "display_name": "Python 3"
    },
    "accelerator": "GPU"
  },
  "cells": [
    {
      "cell_type": "markdown",
      "metadata": {
        "id": "view-in-github",
        "colab_type": "text"
      },
      "source": [
        "<a href=\"https://colab.research.google.com/github/comHack/Mammography_DL_Classification/blob/master/FirstAttempt.ipynb\" target=\"_parent\"><img src=\"https://colab.research.google.com/assets/colab-badge.svg\" alt=\"Open In Colab\"/></a>"
      ]
    },
    {
      "cell_type": "markdown",
      "metadata": {
        "id": "RrCa_j7t_ru7",
        "colab_type": "text"
      },
      "source": [
        "# **Importing Libraries**"
      ]
    },
    {
      "cell_type": "markdown",
      "metadata": {
        "id": "4o7-FL3P5J3A",
        "colab_type": "text"
      },
      "source": [
        "Don't forget to change runtime type to GPU/TPU:\n",
        "    - Go to Runtime -> Change runtime type "
      ]
    },
    {
      "cell_type": "code",
      "metadata": {
        "id": "U_9gWrb6-K4c",
        "colab_type": "code",
        "colab": {}
      },
      "source": [
        "import numpy as np\n",
        "\n",
        "#import pandas as pd\n",
        "\n",
        "#import cv2\n",
        "\n",
        "import matplotlib.pyplot as plt\n",
        "\n",
        "import tensorflow as tf\n",
        "from tensorflow.keras.models import Sequential\n",
        "from tensorflow.keras.layers import Dense, Flatten, Dropout, Activation, Conv2D, MaxPooling2D\n",
        "from tensorflow.keras.optimizers import RMSprop, Adam\n",
        "from tensorflow.keras.preprocessing.image import ImageDataGenerator\n",
        "from tensorflow.keras.preprocessing import image\n",
        "\n",
        "import random\n",
        "\n",
        "import shutil\n",
        "\n",
        "import os\n",
        "\n",
        "from google.colab import drive"
      ],
      "execution_count": 0,
      "outputs": []
    },
    {
      "cell_type": "markdown",
      "metadata": {
        "id": "2I-agdvH_0qh",
        "colab_type": "text"
      },
      "source": [
        "# **Mounting Drive**"
      ]
    },
    {
      "cell_type": "code",
      "metadata": {
        "id": "ezRGKnqp-osQ",
        "colab_type": "code",
        "outputId": "59d21544-eb0b-49d9-e1a7-66409e0af6e1",
        "colab": {
          "base_uri": "https://localhost:8080/",
          "height": 121
        }
      },
      "source": [
        "drive.mount('/gdrive')\n",
        "os.symlink('/gdrive/My Drive', '/content/gdrive')"
      ],
      "execution_count": 2,
      "outputs": [
        {
          "output_type": "stream",
          "text": [
            "Go to this URL in a browser: https://accounts.google.com/o/oauth2/auth?client_id=947318989803-6bn6qk8qdgf4n4g3pfee6491hc0brc4i.apps.googleusercontent.com&redirect_uri=urn%3aietf%3awg%3aoauth%3a2.0%3aoob&response_type=code&scope=email%20https%3a%2f%2fwww.googleapis.com%2fauth%2fdocs.test%20https%3a%2f%2fwww.googleapis.com%2fauth%2fdrive%20https%3a%2f%2fwww.googleapis.com%2fauth%2fdrive.photos.readonly%20https%3a%2f%2fwww.googleapis.com%2fauth%2fpeopleapi.readonly\n",
            "\n",
            "Enter your authorization code:\n",
            "··········\n",
            "Mounted at /gdrive\n"
          ],
          "name": "stdout"
        }
      ]
    },
    {
      "cell_type": "markdown",
      "metadata": {
        "id": "DxUivr5ImPMx",
        "colab_type": "text"
      },
      "source": [
        "# **Splitting the data**"
      ]
    },
    {
      "cell_type": "markdown",
      "metadata": {
        "id": "g6zBSdFkmW2g",
        "colab_type": "text"
      },
      "source": [
        "## Directories paths"
      ]
    },
    {
      "cell_type": "code",
      "metadata": {
        "id": "m5pMkpK8IHKA",
        "colab_type": "code",
        "colab": {}
      },
      "source": [
        "#data folder link to the images_resized_2 folder in your drive\n",
        "data_folder = '/gdrive/My Drive/Breast_Cancer_Detection/images_resized_2'\n",
        "\n",
        "#Workspace is the folder that will contain a copy of the images\n",
        "#The workspace folder is arranged so ImageDataGenerator can be used\n",
        "workspace = data_folder + '/workspace'\n",
        "\n",
        "workspace_train = workspace + '/train'\n",
        "workspace_val = workspace + '/val'\n",
        "workspace_test = workspace + '/test'\n",
        "\n",
        "workspace_models = data_folder + '/Saved_Models'\n",
        "\n",
        "train_benign = workspace_train + '/benign'\n",
        "train_malign = workspace_train + '/malign'\n",
        "\n",
        "val_benign = workspace_val + '/benign'\n",
        "val_malign = workspace_val + '/malign'\n",
        "\n",
        "test_benign = workspace_test + '/benign'\n",
        "test_malign = workspace_test + '/malign'\n",
        "\n",
        "\n"
      ],
      "execution_count": 0,
      "outputs": []
    },
    {
      "cell_type": "markdown",
      "metadata": {
        "id": "aTP6RLJOmqtZ",
        "colab_type": "text"
      },
      "source": [
        "## Creating directories"
      ]
    },
    {
      "cell_type": "code",
      "metadata": {
        "id": "HHqEXFdU-omA",
        "colab_type": "code",
        "colab": {}
      },
      "source": [
        "try:\n",
        "    os.mkdir(workspace)\n",
        "    os.mkdir(workspace_train)\n",
        "    os.mkdir(workspace_val)\n",
        "    os.mkdir(workspace_test)\n",
        "    os.mkdir(workspace_models)\n",
        "    os.mkdir(train_benign)\n",
        "    os.mkdir(train_malign)\n",
        "    os.mkdir(val_benign)\n",
        "    os.mkdir(val_malign)\n",
        "    os.mkdir(test_benign)\n",
        "    os.mkdir(test_malign)\n",
        "except OSError:\n",
        "    pass"
      ],
      "execution_count": 0,
      "outputs": []
    },
    {
      "cell_type": "markdown",
      "metadata": {
        "id": "SpCjHiZMmzFP",
        "colab_type": "text"
      },
      "source": [
        "## Splitting data to respective directories"
      ]
    },
    {
      "cell_type": "code",
      "metadata": {
        "id": "p6xpG0dp-ogN",
        "colab_type": "code",
        "colab": {}
      },
      "source": [
        "def split(src, train, val, test, size=0.7):\n",
        "    '''\n",
        "\n",
        "    randomly split the data to train, validation and test set \n",
        "\n",
        "    the train set will take size*100% of the data\n",
        "\n",
        "    the rest split equally between the validation and test set\n",
        "\n",
        "    '''\n",
        "    global workspace_train, workspace_val, workspace_test\n",
        "\n",
        "    folders = ['/benign', '/malign']\n",
        "\n",
        "    for folder in folders:\n",
        "\n",
        "        data = os.listdir(src + folder)\n",
        "\n",
        "        random_set = random.sample(data, len(data))\n",
        "\n",
        "        train_size = int(len(data) * size)\n",
        "\n",
        "        val_size = int(len(data) * ((1 - size) / 2))\n",
        "\n",
        "        print('train_size = ' + str(train_size))\n",
        "        print('val_size = ' + str(val_size))\n",
        "\n",
        "        train_set = random_set[0: train_size]\n",
        "\n",
        "        val_set = random_set[train_size + 1: train_size + val_size]\n",
        "\n",
        "        test_set = random_set[train_size + val_size + 1:]\n",
        "\n",
        "        for file in train_set:\n",
        "            source = src + folder + '/' + file\n",
        "            destination = workspace_train + folder + '/' + file\n",
        "            try:\n",
        "                shutil.copyfile(source, destination)\n",
        "                print(\"------ Copied \" + source + \" to \" + destination)\n",
        "            except OSError:\n",
        "                print(\"------ |||| FAILED COPYING \" + file + \" |||| --\")\n",
        "\n",
        "        for file in val_set:\n",
        "            source = src + folder + '/' + file\n",
        "            destination = workspace_val + folder + '/' + file\n",
        "            try:\n",
        "                shutil.copyfile(source, destination)\n",
        "                print(\"------ Copied \" + source + \" to \" + destination)\n",
        "            except OSError:\n",
        "                print(\"------ |||| FAILED COPYING \" + file + \" |||| --\")\n",
        "\n",
        "        for file in test_set:\n",
        "            source = src + folder + '/' + file\n",
        "            destination = workspace_test + folder + '/' + file\n",
        "            try:\n",
        "                shutil.copyfile(source, destination)\n",
        "                print(\"------ Copied \" + source + \" to \" + destination)\n",
        "            except OSError:\n",
        "                print(\"------ |||| FAILED COPYING \" + file + \" |||| --\")\n"
      ],
      "execution_count": 0,
      "outputs": []
    },
    {
      "cell_type": "code",
      "metadata": {
        "id": "oB7U19CU-odM",
        "colab_type": "code",
        "colab": {}
      },
      "source": [
        "#10 - 15 minutes\n",
        "split(data_folder, workspace_train, workspace_val, workspace_test, size=0.8)"
      ],
      "execution_count": 0,
      "outputs": []
    },
    {
      "cell_type": "markdown",
      "metadata": {
        "id": "EYVQhFcLm8cX",
        "colab_type": "text"
      },
      "source": [
        "## Checking the split"
      ]
    },
    {
      "cell_type": "markdown",
      "metadata": {
        "id": "a6cnjeOUnGmO",
        "colab_type": "text"
      },
      "source": [
        "**All the data**"
      ]
    },
    {
      "cell_type": "code",
      "metadata": {
        "id": "X2LqkSzjiL5A",
        "colab_type": "code",
        "outputId": "6682240a-b660-4e7c-ed4a-dd0683bfde5b",
        "colab": {
          "base_uri": "https://localhost:8080/",
          "height": 34
        }
      },
      "source": [
        "len(os.listdir(data_folder + '/benign'))"
      ],
      "execution_count": 14,
      "outputs": [
        {
          "output_type": "execute_result",
          "data": {
            "text/plain": [
              "2001"
            ]
          },
          "metadata": {
            "tags": []
          },
          "execution_count": 14
        }
      ]
    },
    {
      "cell_type": "code",
      "metadata": {
        "id": "47KiWKTviLqV",
        "colab_type": "code",
        "outputId": "d31c1d20-148b-4a63-ee8a-515dcf66c7bd",
        "colab": {
          "base_uri": "https://localhost:8080/",
          "height": 34
        }
      },
      "source": [
        "len(os.listdir(data_folder + '/malign'))"
      ],
      "execution_count": 15,
      "outputs": [
        {
          "output_type": "execute_result",
          "data": {
            "text/plain": [
              "2010"
            ]
          },
          "metadata": {
            "tags": []
          },
          "execution_count": 15
        }
      ]
    },
    {
      "cell_type": "markdown",
      "metadata": {
        "id": "FonolBQZnQio",
        "colab_type": "text"
      },
      "source": [
        "**Training data**"
      ]
    },
    {
      "cell_type": "code",
      "metadata": {
        "id": "oT3Nq-WX-oaP",
        "colab_type": "code",
        "outputId": "cd27eafb-87b8-42b1-d1c3-5a6e5a1e0229",
        "colab": {
          "base_uri": "https://localhost:8080/",
          "height": 34
        }
      },
      "source": [
        "len(os.listdir(train_benign))"
      ],
      "execution_count": 16,
      "outputs": [
        {
          "output_type": "execute_result",
          "data": {
            "text/plain": [
              "1599"
            ]
          },
          "metadata": {
            "tags": []
          },
          "execution_count": 16
        }
      ]
    },
    {
      "cell_type": "code",
      "metadata": {
        "id": "s-pXb1to-oSO",
        "colab_type": "code",
        "outputId": "586c0b3e-3f15-4dc3-e9af-72d8b72728e8",
        "colab": {
          "base_uri": "https://localhost:8080/",
          "height": 34
        }
      },
      "source": [
        "len(os.listdir(train_malign))"
      ],
      "execution_count": 17,
      "outputs": [
        {
          "output_type": "execute_result",
          "data": {
            "text/plain": [
              "1608"
            ]
          },
          "metadata": {
            "tags": []
          },
          "execution_count": 17
        }
      ]
    },
    {
      "cell_type": "code",
      "metadata": {
        "id": "X3qVocfIimUi",
        "colab_type": "code",
        "outputId": "e0dc68d8-d2fc-4445-b018-dfb08a3b334c",
        "colab": {
          "base_uri": "https://localhost:8080/",
          "height": 34
        }
      },
      "source": [
        "len(os.listdir(train_benign)) + len(os.listdir(train_malign))"
      ],
      "execution_count": 18,
      "outputs": [
        {
          "output_type": "execute_result",
          "data": {
            "text/plain": [
              "3207"
            ]
          },
          "metadata": {
            "tags": []
          },
          "execution_count": 18
        }
      ]
    },
    {
      "cell_type": "markdown",
      "metadata": {
        "id": "3009h_yFnUyH",
        "colab_type": "text"
      },
      "source": [
        "**Validation data**"
      ]
    },
    {
      "cell_type": "code",
      "metadata": {
        "id": "ZJAvRpeH-oXu",
        "colab_type": "code",
        "outputId": "12c3f820-0034-4d5b-9ce5-b8fcce488120",
        "colab": {
          "base_uri": "https://localhost:8080/",
          "height": 34
        }
      },
      "source": [
        "len(os.listdir(val_benign))"
      ],
      "execution_count": 0,
      "outputs": [
        {
          "output_type": "execute_result",
          "data": {
            "text/plain": [
              "200"
            ]
          },
          "metadata": {
            "tags": []
          },
          "execution_count": 47
        }
      ]
    },
    {
      "cell_type": "code",
      "metadata": {
        "id": "e74PmdXA-oPY",
        "colab_type": "code",
        "outputId": "244c2462-a901-4fa1-a7a1-bd11e4be73a7",
        "colab": {
          "base_uri": "https://localhost:8080/",
          "height": 34
        }
      },
      "source": [
        "len(os.listdir(val_malign))"
      ],
      "execution_count": 0,
      "outputs": [
        {
          "output_type": "execute_result",
          "data": {
            "text/plain": [
              "200"
            ]
          },
          "metadata": {
            "tags": []
          },
          "execution_count": 48
        }
      ]
    },
    {
      "cell_type": "code",
      "metadata": {
        "id": "MKSHrFI_iulI",
        "colab_type": "code",
        "outputId": "ed5c457e-a3c3-4061-d8bd-68cedf33a671",
        "colab": {
          "base_uri": "https://localhost:8080/",
          "height": 34
        }
      },
      "source": [
        "len(os.listdir(val_benign)) + len(os.listdir(val_malign))"
      ],
      "execution_count": 0,
      "outputs": [
        {
          "output_type": "execute_result",
          "data": {
            "text/plain": [
              "400"
            ]
          },
          "metadata": {
            "tags": []
          },
          "execution_count": 49
        }
      ]
    },
    {
      "cell_type": "markdown",
      "metadata": {
        "id": "n3Xu54WWnWvn",
        "colab_type": "text"
      },
      "source": [
        "**Testing data**"
      ]
    },
    {
      "cell_type": "code",
      "metadata": {
        "id": "DXIV4UmS-oU3",
        "colab_type": "code",
        "outputId": "d0df8d86-6d12-4945-a48a-b0372debf51e",
        "colab": {
          "base_uri": "https://localhost:8080/",
          "height": 34
        }
      },
      "source": [
        "len(os.listdir(test_benign))"
      ],
      "execution_count": 0,
      "outputs": [
        {
          "output_type": "execute_result",
          "data": {
            "text/plain": [
              "201"
            ]
          },
          "metadata": {
            "tags": []
          },
          "execution_count": 50
        }
      ]
    },
    {
      "cell_type": "code",
      "metadata": {
        "id": "IeUO20eP-oMw",
        "colab_type": "code",
        "outputId": "bd962175-b164-44de-9f5a-5a09f4bc1cf1",
        "colab": {
          "base_uri": "https://localhost:8080/",
          "height": 34
        }
      },
      "source": [
        "len(os.listdir(test_malign))"
      ],
      "execution_count": 0,
      "outputs": [
        {
          "output_type": "execute_result",
          "data": {
            "text/plain": [
              "202"
            ]
          },
          "metadata": {
            "tags": []
          },
          "execution_count": 51
        }
      ]
    },
    {
      "cell_type": "code",
      "metadata": {
        "id": "1Ur8YkX0-oJ3",
        "colab_type": "code",
        "outputId": "a90d10a3-4665-4afd-9fd0-63cfedc6aac1",
        "colab": {
          "base_uri": "https://localhost:8080/",
          "height": 34
        }
      },
      "source": [
        "len(os.listdir(test_benign)) + len(os.listdir(test_malign))"
      ],
      "execution_count": 0,
      "outputs": [
        {
          "output_type": "execute_result",
          "data": {
            "text/plain": [
              "403"
            ]
          },
          "metadata": {
            "tags": []
          },
          "execution_count": 52
        }
      ]
    },
    {
      "cell_type": "markdown",
      "metadata": {
        "id": "zBAuG_1KtScz",
        "colab_type": "text"
      },
      "source": [
        "# **Configuring the ImageDataGenerator**"
      ]
    },
    {
      "cell_type": "markdown",
      "metadata": {
        "id": "VTmHpQ8mtkTI",
        "colab_type": "text"
      },
      "source": [
        "## Train set Generator"
      ]
    },
    {
      "cell_type": "code",
      "metadata": {
        "id": "zcBiTSvJ-oHA",
        "colab_type": "code",
        "outputId": "94720065-bf5e-4793-8dec-03ade2c975b2",
        "colab": {
          "base_uri": "https://localhost:8080/",
          "height": 34
        }
      },
      "source": [
        "train_datagen = ImageDataGenerator(rescale=1./255)\n",
        "\n",
        "train_generator = train_datagen.flow_from_directory(\n",
        "    workspace_train,\n",
        "    target_size = (100, 100),\n",
        "    batch_size = 20,\n",
        "    class_mode = 'binary'\n",
        ")"
      ],
      "execution_count": 6,
      "outputs": [
        {
          "output_type": "stream",
          "text": [
            "Found 3207 images belonging to 2 classes.\n"
          ],
          "name": "stdout"
        }
      ]
    },
    {
      "cell_type": "markdown",
      "metadata": {
        "id": "bd22ukgEtqXU",
        "colab_type": "text"
      },
      "source": [
        "## Validation set Generator"
      ]
    },
    {
      "cell_type": "code",
      "metadata": {
        "id": "QqNF8ThZ-oEJ",
        "colab_type": "code",
        "outputId": "0ae69ef9-cc22-4326-af3f-7d5fbfb3b3c7",
        "colab": {
          "base_uri": "https://localhost:8080/",
          "height": 34
        }
      },
      "source": [
        "validation_datagen = ImageDataGenerator(rescale=1./255)\n",
        "\n",
        "validation_generator = validation_datagen.flow_from_directory(\n",
        "    workspace_val,\n",
        "    target_size = (100, 100),\n",
        "    batch_size = 20,\n",
        "    class_mode = 'binary'\n",
        ")"
      ],
      "execution_count": 7,
      "outputs": [
        {
          "output_type": "stream",
          "text": [
            "Found 400 images belonging to 2 classes.\n"
          ],
          "name": "stdout"
        }
      ]
    },
    {
      "cell_type": "markdown",
      "metadata": {
        "id": "akDpqox2ttu9",
        "colab_type": "text"
      },
      "source": [
        "## Test set Generator"
      ]
    },
    {
      "cell_type": "code",
      "metadata": {
        "id": "oRltd93H-nF4",
        "colab_type": "code",
        "outputId": "3fa227a9-0a97-4023-f32d-30161fe5b51b",
        "colab": {
          "base_uri": "https://localhost:8080/",
          "height": 34
        }
      },
      "source": [
        "test_datagen = ImageDataGenerator(rescale=1./255)\n",
        "\n",
        "test_generator = test_datagen.flow_from_directory(\n",
        "    workspace_test,\n",
        "    target_size = (100, 100),\n",
        "    batch_size = 20,\n",
        "    class_mode = 'binary'\n",
        ")"
      ],
      "execution_count": 8,
      "outputs": [
        {
          "output_type": "stream",
          "text": [
            "Found 403 images belonging to 2 classes.\n"
          ],
          "name": "stdout"
        }
      ]
    },
    {
      "cell_type": "markdown",
      "metadata": {
        "id": "cIBc1D1Yt0pm",
        "colab_type": "text"
      },
      "source": [
        "# **Setting up the model**"
      ]
    },
    {
      "cell_type": "markdown",
      "metadata": {
        "id": "yhcbfimhuJwE",
        "colab_type": "text"
      },
      "source": [
        "model"
      ]
    },
    {
      "cell_type": "code",
      "metadata": {
        "id": "jObIrtDK-n-H",
        "colab_type": "code",
        "colab": {}
      },
      "source": [
        "model = tf.keras.models.Sequential(\n",
        "    [\n",
        "     \n",
        "     Conv2D(16, (3,3), padding='same', activation='relu', input_shape=(100,100,3)),\n",
        "     MaxPooling2D(2,2),\n",
        "\n",
        "     Conv2D(32, (3,3), padding='same', activation='relu'),\n",
        "     MaxPooling2D(2,2),\n",
        "\n",
        "     Flatten(),\n",
        "\n",
        "     Dense(512, activation='relu'),\n",
        "\n",
        "     Dense(1, activation='sigmoid')\n",
        "     \n",
        "    ]\n",
        ")"
      ],
      "execution_count": 0,
      "outputs": []
    },
    {
      "cell_type": "code",
      "metadata": {
        "id": "qqMZ_c-T-n7a",
        "colab_type": "code",
        "outputId": "66e4b0f5-cd0b-44f8-c168-7bffd8c5270c",
        "colab": {
          "base_uri": "https://localhost:8080/",
          "height": 386
        }
      },
      "source": [
        "model.summary()"
      ],
      "execution_count": 10,
      "outputs": [
        {
          "output_type": "stream",
          "text": [
            "Model: \"sequential\"\n",
            "_________________________________________________________________\n",
            "Layer (type)                 Output Shape              Param #   \n",
            "=================================================================\n",
            "conv2d (Conv2D)              (None, 100, 100, 16)      448       \n",
            "_________________________________________________________________\n",
            "max_pooling2d (MaxPooling2D) (None, 50, 50, 16)        0         \n",
            "_________________________________________________________________\n",
            "conv2d_1 (Conv2D)            (None, 50, 50, 32)        4640      \n",
            "_________________________________________________________________\n",
            "max_pooling2d_1 (MaxPooling2 (None, 25, 25, 32)        0         \n",
            "_________________________________________________________________\n",
            "flatten (Flatten)            (None, 20000)             0         \n",
            "_________________________________________________________________\n",
            "dense (Dense)                (None, 512)               10240512  \n",
            "_________________________________________________________________\n",
            "dense_1 (Dense)              (None, 1)                 513       \n",
            "=================================================================\n",
            "Total params: 10,246,113\n",
            "Trainable params: 10,246,113\n",
            "Non-trainable params: 0\n",
            "_________________________________________________________________\n"
          ],
          "name": "stdout"
        }
      ]
    },
    {
      "cell_type": "code",
      "metadata": {
        "id": "Xjb5XbD6-n4Y",
        "colab_type": "code",
        "colab": {}
      },
      "source": [
        "model.compile(\n",
        "    loss = 'binary_crossentropy',\n",
        "    optimizer = Adam(),\n",
        "    metrics = ['acc']\n",
        ")"
      ],
      "execution_count": 0,
      "outputs": []
    },
    {
      "cell_type": "code",
      "metadata": {
        "id": "PpiaonjN-n1f",
        "colab_type": "code",
        "outputId": "c4d64585-475f-4b3b-a774-29503d5812e0",
        "colab": {
          "base_uri": "https://localhost:8080/",
          "height": 521
        }
      },
      "source": [
        "result = model.fit(\n",
        "    train_generator,\n",
        "    steps_per_epoch = 160,\n",
        "    epochs = 15,\n",
        "    validation_data = validation_generator,\n",
        "    validation_steps = 20,\n",
        "    verbose = 2\n",
        ")"
      ],
      "execution_count": 12,
      "outputs": [
        {
          "output_type": "stream",
          "text": [
            "Epoch 1/15\n",
            "160/160 - 1613s - loss: 0.5700 - acc: 0.7216 - val_loss: 0.4017 - val_acc: 0.8300\n",
            "Epoch 2/15\n",
            "160/160 - 6s - loss: 0.4240 - acc: 0.8139 - val_loss: 0.3738 - val_acc: 0.8425\n",
            "Epoch 3/15\n",
            "160/160 - 6s - loss: 0.3496 - acc: 0.8478 - val_loss: 0.3803 - val_acc: 0.8300\n",
            "Epoch 4/15\n",
            "160/160 - 6s - loss: 0.3184 - acc: 0.8569 - val_loss: 0.3560 - val_acc: 0.8625\n",
            "Epoch 5/15\n",
            "160/160 - 6s - loss: 0.2799 - acc: 0.8820 - val_loss: 0.3231 - val_acc: 0.8550\n",
            "Epoch 6/15\n",
            "160/160 - 6s - loss: 0.2456 - acc: 0.8924 - val_loss: 0.3079 - val_acc: 0.8825\n",
            "Epoch 7/15\n",
            "160/160 - 6s - loss: 0.2181 - acc: 0.9052 - val_loss: 0.3665 - val_acc: 0.8800\n",
            "Epoch 8/15\n",
            "160/160 - 6s - loss: 0.1909 - acc: 0.9212 - val_loss: 0.3079 - val_acc: 0.8700\n",
            "Epoch 9/15\n",
            "160/160 - 6s - loss: 0.1570 - acc: 0.9338 - val_loss: 0.3891 - val_acc: 0.8475\n",
            "Epoch 10/15\n",
            "160/160 - 6s - loss: 0.1359 - acc: 0.9495 - val_loss: 0.4430 - val_acc: 0.8475\n",
            "Epoch 11/15\n",
            "160/160 - 6s - loss: 0.1373 - acc: 0.9438 - val_loss: 0.3786 - val_acc: 0.8900\n",
            "Epoch 12/15\n",
            "160/160 - 6s - loss: 0.1081 - acc: 0.9570 - val_loss: 0.4812 - val_acc: 0.8775\n",
            "Epoch 13/15\n",
            "160/160 - 6s - loss: 0.0857 - acc: 0.9645 - val_loss: 0.4620 - val_acc: 0.8475\n",
            "Epoch 14/15\n",
            "160/160 - 6s - loss: 0.0927 - acc: 0.9645 - val_loss: 0.5554 - val_acc: 0.8800\n",
            "Epoch 15/15\n",
            "160/160 - 6s - loss: 0.0701 - acc: 0.9740 - val_loss: 0.5002 - val_acc: 0.8525\n"
          ],
          "name": "stdout"
        }
      ]
    },
    {
      "cell_type": "code",
      "metadata": {
        "id": "ZIO6YiSN-nvf",
        "colab_type": "code",
        "outputId": "208ae2d0-712b-422c-f66a-355f493f0e20",
        "colab": {
          "base_uri": "https://localhost:8080/",
          "height": 573
        }
      },
      "source": [
        "# Plotting the accuracy of \"model\"\n",
        "plt.plot(result.history['acc'])\n",
        "plt.plot(result.history['val_acc'])\n",
        "plt.title('model accuracy')\n",
        "plt.ylabel('accuracy')\n",
        "plt.xlabel('epoch')\n",
        "plt.legend(['train', 'validation'], loc='upper left')\n",
        "plt.show()\n",
        "\n",
        "# Loss of \"model\"\n",
        "plt.plot(result.history['loss'])\n",
        "plt.plot(result.history['val_loss'])\n",
        "plt.title('model loss')\n",
        "plt.ylabel('loss')\n",
        "plt.xlabel('epoch')\n",
        "plt.legend(['train', 'validation'], loc='upper left')\n",
        "plt.show()\n"
      ],
      "execution_count": 13,
      "outputs": [
        {
          "output_type": "display_data",
          "data": {
            "image/png": "[encoded data removed]",
            "text/plain": [
              "<Figure size 432x288 with 1 Axes>"
            ]
          },
          "metadata": {
            "tags": [],
            "needs_background": "light"
          }
        },
        {
          "output_type": "display_data",
          "data": {
            "image/png": "[encoded data removed]",
            "text/plain": [
              "<Figure size 432x288 with 1 Axes>"
            ]
          },
          "metadata": {
            "tags": [],
            "needs_background": "light"
          }
        }
      ]
    },
    {
      "cell_type": "markdown",
      "metadata": {
        "id": "tAH3BbyeuYKe",
        "colab_type": "text"
      },
      "source": [
        "model_DO"
      ]
    },
    {
      "cell_type": "code",
      "metadata": {
        "id": "esRrGBa6-np5",
        "colab_type": "code",
        "colab": {}
      },
      "source": [
        "model_DO = tf.keras.models.Sequential(\n",
        "    [\n",
        "     \n",
        "     Conv2D(16, (3,3), padding='same', activation='relu', input_shape=(100,100,3)),\n",
        "     MaxPooling2D(2,2),\n",
        "\n",
        "     Conv2D(32, (3,3), padding='same', activation='relu'),\n",
        "     MaxPooling2D(2,2),\n",
        "\n",
        "     Flatten(),\n",
        "\n",
        "     Dense(512, activation='relu'),\n",
        "\n",
        "     Dropout(0.5),\n",
        "\n",
        "     Dense(1, activation='sigmoid')\n",
        "     \n",
        "    ]\n",
        ")"
      ],
      "execution_count": 0,
      "outputs": []
    },
    {
      "cell_type": "code",
      "metadata": {
        "id": "KVi5zTXY-nnQ",
        "colab_type": "code",
        "outputId": "057e94bc-74d0-4668-c64d-87a43524dcfc",
        "colab": {
          "base_uri": "https://localhost:8080/",
          "height": 420
        }
      },
      "source": [
        "model_DO.summary()"
      ],
      "execution_count": 0,
      "outputs": [
        {
          "output_type": "stream",
          "text": [
            "Model: \"sequential_2\"\n",
            "_________________________________________________________________\n",
            "Layer (type)                 Output Shape              Param #   \n",
            "=================================================================\n",
            "conv2d_4 (Conv2D)            (None, 100, 100, 16)      448       \n",
            "_________________________________________________________________\n",
            "max_pooling2d_4 (MaxPooling2 (None, 50, 50, 16)        0         \n",
            "_________________________________________________________________\n",
            "conv2d_5 (Conv2D)            (None, 50, 50, 32)        4640      \n",
            "_________________________________________________________________\n",
            "max_pooling2d_5 (MaxPooling2 (None, 25, 25, 32)        0         \n",
            "_________________________________________________________________\n",
            "flatten_2 (Flatten)          (None, 20000)             0         \n",
            "_________________________________________________________________\n",
            "dense_4 (Dense)              (None, 512)               10240512  \n",
            "_________________________________________________________________\n",
            "dropout (Dropout)            (None, 512)               0         \n",
            "_________________________________________________________________\n",
            "dense_5 (Dense)              (None, 1)                 513       \n",
            "=================================================================\n",
            "Total params: 10,246,113\n",
            "Trainable params: 10,246,113\n",
            "Non-trainable params: 0\n",
            "_________________________________________________________________\n"
          ],
          "name": "stdout"
        }
      ]
    },
    {
      "cell_type": "code",
      "metadata": {
        "id": "9GVnF07q-nki",
        "colab_type": "code",
        "colab": {}
      },
      "source": [
        "model_DO.compile(\n",
        "    loss = 'binary_crossentropy',\n",
        "    optimizer = Adam(),\n",
        "    metrics = ['acc']\n",
        ")"
      ],
      "execution_count": 0,
      "outputs": []
    },
    {
      "cell_type": "code",
      "metadata": {
        "id": "D_EfWYjW-nhu",
        "colab_type": "code",
        "outputId": "43d5ac52-014e-417b-8392-6992c3496c50",
        "colab": {
          "base_uri": "https://localhost:8080/",
          "height": 521
        }
      },
      "source": [
        "result_DO = model_DO.fit(\n",
        "    train_generator,\n",
        "    steps_per_epoch = 160,\n",
        "    epochs = 15,\n",
        "    validation_data = validation_generator,\n",
        "    validation_steps = 20,\n",
        "    verbose = 2\n",
        ")"
      ],
      "execution_count": 0,
      "outputs": [
        {
          "output_type": "stream",
          "text": [
            "Epoch 1/15\n",
            "160/160 - 41s - loss: 0.5901 - acc: 0.7270 - val_loss: 0.4120 - val_acc: 0.8525\n",
            "Epoch 2/15\n",
            "160/160 - 37s - loss: 0.4430 - acc: 0.7948 - val_loss: 0.3533 - val_acc: 0.8500\n",
            "Epoch 3/15\n",
            "160/160 - 37s - loss: 0.3733 - acc: 0.8375 - val_loss: 0.3604 - val_acc: 0.8375\n",
            "Epoch 4/15\n",
            "160/160 - 37s - loss: 0.3500 - acc: 0.8409 - val_loss: 0.3479 - val_acc: 0.8400\n",
            "Epoch 5/15\n",
            "160/160 - 37s - loss: 0.3239 - acc: 0.8513 - val_loss: 0.3197 - val_acc: 0.8700\n",
            "Epoch 6/15\n",
            "160/160 - 37s - loss: 0.2817 - acc: 0.8776 - val_loss: 0.3266 - val_acc: 0.8575\n",
            "Epoch 7/15\n",
            "160/160 - 37s - loss: 0.2558 - acc: 0.8867 - val_loss: 0.3390 - val_acc: 0.8450\n",
            "Epoch 8/15\n",
            "160/160 - 37s - loss: 0.2476 - acc: 0.8952 - val_loss: 0.3168 - val_acc: 0.8775\n",
            "Epoch 9/15\n",
            "160/160 - 37s - loss: 0.2131 - acc: 0.9121 - val_loss: 0.3055 - val_acc: 0.8925\n",
            "Epoch 10/15\n",
            "160/160 - 37s - loss: 0.1927 - acc: 0.9238 - val_loss: 0.3520 - val_acc: 0.8500\n",
            "Epoch 11/15\n",
            "160/160 - 37s - loss: 0.1668 - acc: 0.9357 - val_loss: 0.3575 - val_acc: 0.8625\n",
            "Epoch 12/15\n",
            "160/160 - 37s - loss: 0.1549 - acc: 0.9338 - val_loss: 0.3465 - val_acc: 0.8450\n",
            "Epoch 13/15\n",
            "160/160 - 37s - loss: 0.1378 - acc: 0.9441 - val_loss: 0.3999 - val_acc: 0.8350\n",
            "Epoch 14/15\n",
            "160/160 - 37s - loss: 0.1236 - acc: 0.9504 - val_loss: 0.4011 - val_acc: 0.8750\n",
            "Epoch 15/15\n",
            "160/160 - 37s - loss: 0.1155 - acc: 0.9548 - val_loss: 0.3715 - val_acc: 0.8450\n"
          ],
          "name": "stdout"
        }
      ]
    },
    {
      "cell_type": "code",
      "metadata": {
        "id": "1j3Kddxo-neo",
        "colab_type": "code",
        "outputId": "58f74a57-8ad0-4e8a-8e56-f68d2ca3e0e1",
        "colab": {
          "base_uri": "https://localhost:8080/",
          "height": 573
        }
      },
      "source": [
        "# Accuracy of \"model_DO\"\n",
        "plt.plot(result_DO.history['acc'])\n",
        "plt.plot(result_DO.history['val_acc'])\n",
        "plt.title('model accuracy')\n",
        "plt.ylabel('accuracy')\n",
        "plt.xlabel('epoch')\n",
        "plt.legend(['train', 'validation'], loc='upper left')\n",
        "plt.show()\n",
        "\n",
        "# Loss of \"model_DO\"\n",
        "plt.plot(result_DO.history['loss'])\n",
        "plt.plot(result_DO.history['val_loss'])\n",
        "plt.title('model loss')\n",
        "plt.ylabel('loss')\n",
        "plt.xlabel('epoch')\n",
        "plt.legend(['train', 'validation'], loc='upper left')\n",
        "plt.show()\n"
      ],
      "execution_count": 0,
      "outputs": [
        {
          "output_type": "display_data",
          "data": {
            "image/png": "[encoded data removed]",
            "text/plain": [
              "<Figure size 432x288 with 1 Axes>"
            ]
          },
          "metadata": {
            "tags": [],
            "needs_background": "light"
          }
        },
        {
          "output_type": "display_data",
          "data": {
            "image/png": "[encoded data removed]",
            "text/plain": [
              "<Figure size 432x288 with 1 Axes>"
            ]
          },
          "metadata": {
            "tags": [],
            "needs_background": "light"
          }
        }
      ]
    },
    {
      "cell_type": "markdown",
      "metadata": {
        "id": "u1MDvszRulre",
        "colab_type": "text"
      },
      "source": [
        "model_DO_less"
      ]
    },
    {
      "cell_type": "code",
      "metadata": {
        "id": "DeMevjtQ-nZB",
        "colab_type": "code",
        "colab": {}
      },
      "source": [
        "model_DO_less = tf.keras.models.Sequential(\n",
        "    [\n",
        "     \n",
        "     Conv2D(8, (3,3), padding='same', activation='relu', input_shape=(100,100,3)),\n",
        "     MaxPooling2D(2,2),\n",
        "\n",
        "     Conv2D(16, (3,3), padding='same', activation='relu'),\n",
        "     MaxPooling2D(2,2),\n",
        "\n",
        "     Flatten(),\n",
        "\n",
        "     Dense(128, activation='relu'),\n",
        "\n",
        "     Dropout(0.5),\n",
        "\n",
        "     Dense(1, activation='sigmoid')\n",
        "     \n",
        "    ]\n",
        ")"
      ],
      "execution_count": 0,
      "outputs": []
    },
    {
      "cell_type": "code",
      "metadata": {
        "id": "pZK6i3ht-nWQ",
        "colab_type": "code",
        "outputId": "cd16dd42-1abc-457d-f978-8c0ec0334e2d",
        "colab": {
          "base_uri": "https://localhost:8080/",
          "height": 420
        }
      },
      "source": [
        "model_DO_less.summary()"
      ],
      "execution_count": 0,
      "outputs": [
        {
          "output_type": "stream",
          "text": [
            "Model: \"sequential_3\"\n",
            "_________________________________________________________________\n",
            "Layer (type)                 Output Shape              Param #   \n",
            "=================================================================\n",
            "conv2d_6 (Conv2D)            (None, 100, 100, 8)       224       \n",
            "_________________________________________________________________\n",
            "max_pooling2d_6 (MaxPooling2 (None, 50, 50, 8)         0         \n",
            "_________________________________________________________________\n",
            "conv2d_7 (Conv2D)            (None, 50, 50, 16)        1168      \n",
            "_________________________________________________________________\n",
            "max_pooling2d_7 (MaxPooling2 (None, 25, 25, 16)        0         \n",
            "_________________________________________________________________\n",
            "flatten_3 (Flatten)          (None, 10000)             0         \n",
            "_________________________________________________________________\n",
            "dense_6 (Dense)              (None, 128)               1280128   \n",
            "_________________________________________________________________\n",
            "dropout_1 (Dropout)          (None, 128)               0         \n",
            "_________________________________________________________________\n",
            "dense_7 (Dense)              (None, 1)                 129       \n",
            "=================================================================\n",
            "Total params: 1,281,649\n",
            "Trainable params: 1,281,649\n",
            "Non-trainable params: 0\n",
            "_________________________________________________________________\n"
          ],
          "name": "stdout"
        }
      ]
    },
    {
      "cell_type": "code",
      "metadata": {
        "id": "yqGpmFwh-nTg",
        "colab_type": "code",
        "colab": {}
      },
      "source": [
        "model_DO_less.compile(\n",
        "    loss = 'binary_crossentropy',\n",
        "    optimizer = Adam(),\n",
        "    metrics = ['acc']\n",
        ")"
      ],
      "execution_count": 0,
      "outputs": []
    },
    {
      "cell_type": "code",
      "metadata": {
        "id": "zFHDNeAV-nQv",
        "colab_type": "code",
        "outputId": "50e00a72-789d-4d23-eec3-5de3f51d92ed",
        "colab": {
          "base_uri": "https://localhost:8080/",
          "height": 521
        }
      },
      "source": [
        "result_DO_less = model_DO_less.fit(\n",
        "    train_generator,\n",
        "    steps_per_epoch = 160,\n",
        "    epochs = 15,\n",
        "    validation_data = validation_generator,\n",
        "    validation_steps = 20,\n",
        "    verbose = 2\n",
        ")"
      ],
      "execution_count": 0,
      "outputs": [
        {
          "output_type": "stream",
          "text": [
            "Epoch 1/15\n",
            "160/160 - 21s - loss: 0.5744 - acc: 0.7204 - val_loss: 0.4433 - val_acc: 0.8000\n",
            "Epoch 2/15\n",
            "160/160 - 21s - loss: 0.4461 - acc: 0.8045 - val_loss: 0.4062 - val_acc: 0.8125\n",
            "Epoch 3/15\n",
            "160/160 - 21s - loss: 0.4323 - acc: 0.8029 - val_loss: 0.3574 - val_acc: 0.8500\n",
            "Epoch 4/15\n",
            "160/160 - 21s - loss: 0.3859 - acc: 0.8302 - val_loss: 0.3298 - val_acc: 0.8650\n",
            "Epoch 5/15\n",
            "160/160 - 21s - loss: 0.3700 - acc: 0.8393 - val_loss: 0.3424 - val_acc: 0.8650\n",
            "Epoch 6/15\n",
            "160/160 - 21s - loss: 0.3524 - acc: 0.8481 - val_loss: 0.3430 - val_acc: 0.8425\n",
            "Epoch 7/15\n",
            "160/160 - 21s - loss: 0.3430 - acc: 0.8481 - val_loss: 0.3255 - val_acc: 0.8575\n",
            "Epoch 8/15\n",
            "160/160 - 21s - loss: 0.3247 - acc: 0.8634 - val_loss: 0.2996 - val_acc: 0.8750\n",
            "Epoch 9/15\n",
            "160/160 - 21s - loss: 0.3143 - acc: 0.8604 - val_loss: 0.3062 - val_acc: 0.8775\n",
            "Epoch 10/15\n",
            "160/160 - 21s - loss: 0.2858 - acc: 0.8801 - val_loss: 0.2981 - val_acc: 0.8825\n",
            "Epoch 11/15\n",
            "160/160 - 21s - loss: 0.2784 - acc: 0.8801 - val_loss: 0.2993 - val_acc: 0.8675\n",
            "Epoch 12/15\n",
            "160/160 - 21s - loss: 0.2825 - acc: 0.8739 - val_loss: 0.2986 - val_acc: 0.8875\n",
            "Epoch 13/15\n",
            "160/160 - 21s - loss: 0.2494 - acc: 0.8914 - val_loss: 0.3024 - val_acc: 0.8800\n",
            "Epoch 14/15\n",
            "160/160 - 21s - loss: 0.2528 - acc: 0.8911 - val_loss: 0.3119 - val_acc: 0.8775\n",
            "Epoch 15/15\n",
            "160/160 - 21s - loss: 0.2287 - acc: 0.8987 - val_loss: 0.2827 - val_acc: 0.8975\n"
          ],
          "name": "stdout"
        }
      ]
    },
    {
      "cell_type": "code",
      "metadata": {
        "id": "W00eO2Ie-nN_",
        "colab_type": "code",
        "outputId": "74630159-5435-4f72-c0b3-f17affa20862",
        "colab": {
          "base_uri": "https://localhost:8080/",
          "height": 573
        }
      },
      "source": [
        "# Accuracy of \"model_DO_less\"\n",
        "plt.plot(result_DO_less.history['acc'])\n",
        "plt.plot(result_DO_less.history['val_acc'])\n",
        "plt.title('model accuracy')\n",
        "plt.ylabel('accuracy')\n",
        "plt.xlabel('epoch')\n",
        "plt.legend(['train', 'validation'], loc='upper left')\n",
        "plt.show()\n",
        "\n",
        "# Loss of \"model_DO_less\"\n",
        "plt.plot(result_DO_less.history['loss'])\n",
        "plt.plot(result_DO_less.history['val_loss'])\n",
        "plt.title('model loss')\n",
        "plt.ylabel('loss')\n",
        "plt.xlabel('epoch')\n",
        "plt.legend(['train', 'validation'], loc='upper left')\n",
        "plt.show()\n"
      ],
      "execution_count": 0,
      "outputs": [
        {
          "output_type": "display_data",
          "data": {
            "image/png": "[encoded data removed]",
            "text/plain": [
              "<Figure size 432x288 with 1 Axes>"
            ]
          },
          "metadata": {
            "tags": [],
            "needs_background": "light"
          }
        },
        {
          "output_type": "display_data",
          "data": {
            "image/png": "[encoded data removed]",
            "text/plain": [
              "<Figure size 432x288 with 1 Axes>"
            ]
          },
          "metadata": {
            "tags": [],
            "needs_background": "light"
          }
        }
      ]
    },
    {
      "cell_type": "markdown",
      "metadata": {
        "id": "ZJAbIU2fuw-2",
        "colab_type": "text"
      },
      "source": [
        "model_DO_06_Dense_128"
      ]
    },
    {
      "cell_type": "code",
      "metadata": {
        "id": "Y6rSoUWJw7qC",
        "colab_type": "code",
        "colab": {}
      },
      "source": [
        "model_DO_06_Dense_128 = tf.keras.models.Sequential(\n",
        "    [\n",
        "     \n",
        "     Conv2D(8, (3,3), padding='same', activation='relu', input_shape=(100,100,3)),\n",
        "     MaxPooling2D(2,2),\n",
        "\n",
        "     Conv2D(16, (3,3), padding='same', activation='relu'),\n",
        "     MaxPooling2D(2,2),\n",
        "\n",
        "     Flatten(),\n",
        "\n",
        "     Dense(128, activation='relu'),\n",
        "\n",
        "     Dropout(0.6),\n",
        "\n",
        "     Dense(1, activation='sigmoid')\n",
        "     \n",
        "    ]\n",
        ")"
      ],
      "execution_count": 0,
      "outputs": []
    },
    {
      "cell_type": "code",
      "metadata": {
        "id": "9IS6f3N4w7Yo",
        "colab_type": "code",
        "outputId": "854572f8-2903-45c8-dcef-f5643a101821",
        "colab": {
          "base_uri": "https://localhost:8080/",
          "height": 420
        }
      },
      "source": [
        "model_DO_06_Dense_128.summary()"
      ],
      "execution_count": 0,
      "outputs": [
        {
          "output_type": "stream",
          "text": [
            "Model: \"sequential_5\"\n",
            "_________________________________________________________________\n",
            "Layer (type)                 Output Shape              Param #   \n",
            "=================================================================\n",
            "conv2d_10 (Conv2D)           (None, 100, 100, 8)       224       \n",
            "_________________________________________________________________\n",
            "max_pooling2d_10 (MaxPooling (None, 50, 50, 8)         0         \n",
            "_________________________________________________________________\n",
            "conv2d_11 (Conv2D)           (None, 50, 50, 16)        1168      \n",
            "_________________________________________________________________\n",
            "max_pooling2d_11 (MaxPooling (None, 25, 25, 16)        0         \n",
            "_________________________________________________________________\n",
            "flatten_5 (Flatten)          (None, 10000)             0         \n",
            "_________________________________________________________________\n",
            "dense_10 (Dense)             (None, 128)               1280128   \n",
            "_________________________________________________________________\n",
            "dropout_3 (Dropout)          (None, 128)               0         \n",
            "_________________________________________________________________\n",
            "dense_11 (Dense)             (None, 1)                 129       \n",
            "=================================================================\n",
            "Total params: 1,281,649\n",
            "Trainable params: 1,281,649\n",
            "Non-trainable params: 0\n",
            "_________________________________________________________________\n"
          ],
          "name": "stdout"
        }
      ]
    },
    {
      "cell_type": "code",
      "metadata": {
        "id": "AjPhnlX2w6fL",
        "colab_type": "code",
        "colab": {}
      },
      "source": [
        "model_DO_06_Dense_128.compile(\n",
        "    loss = 'binary_crossentropy',\n",
        "    optimizer = Adam(),\n",
        "    metrics = ['acc']\n",
        ")"
      ],
      "execution_count": 0,
      "outputs": []
    },
    {
      "cell_type": "code",
      "metadata": {
        "id": "miAKqRHCw6VD",
        "colab_type": "code",
        "outputId": "c165c13a-cbbf-4857-8041-98ab9669edcc",
        "colab": {
          "base_uri": "https://localhost:8080/",
          "height": 521
        }
      },
      "source": [
        "result_DO_06_Dense_128 = model_DO_06_Dense_128.fit(\n",
        "    train_generator,\n",
        "    steps_per_epoch = 160,\n",
        "    epochs = 15,\n",
        "    validation_data = validation_generator,\n",
        "    validation_steps = 20,\n",
        "    verbose = 2\n",
        ")"
      ],
      "execution_count": 0,
      "outputs": [
        {
          "output_type": "stream",
          "text": [
            "Epoch 1/15\n",
            "160/160 - 21s - loss: 0.6279 - acc: 0.6727 - val_loss: 0.4930 - val_acc: 0.7975\n",
            "Epoch 2/15\n",
            "160/160 - 25s - loss: 0.5039 - acc: 0.7719 - val_loss: 0.4717 - val_acc: 0.8175\n",
            "Epoch 3/15\n",
            "160/160 - 21s - loss: 0.4797 - acc: 0.7848 - val_loss: 0.3880 - val_acc: 0.8425\n",
            "Epoch 4/15\n",
            "160/160 - 21s - loss: 0.4194 - acc: 0.8227 - val_loss: 0.3676 - val_acc: 0.8425\n",
            "Epoch 5/15\n",
            "160/160 - 21s - loss: 0.4058 - acc: 0.8190 - val_loss: 0.3592 - val_acc: 0.8475\n",
            "Epoch 6/15\n",
            "160/160 - 21s - loss: 0.3907 - acc: 0.8293 - val_loss: 0.3361 - val_acc: 0.8575\n",
            "Epoch 7/15\n",
            "160/160 - 21s - loss: 0.3543 - acc: 0.8412 - val_loss: 0.3397 - val_acc: 0.8575\n",
            "Epoch 8/15\n",
            "160/160 - 21s - loss: 0.3391 - acc: 0.8522 - val_loss: 0.3661 - val_acc: 0.8350\n",
            "Epoch 9/15\n",
            "160/160 - 21s - loss: 0.3286 - acc: 0.8557 - val_loss: 0.3144 - val_acc: 0.8775\n",
            "Epoch 10/15\n",
            "160/160 - 21s - loss: 0.3081 - acc: 0.8717 - val_loss: 0.3132 - val_acc: 0.8575\n",
            "Epoch 11/15\n",
            "160/160 - 21s - loss: 0.2998 - acc: 0.8635 - val_loss: 0.2960 - val_acc: 0.8700\n",
            "Epoch 12/15\n",
            "160/160 - 21s - loss: 0.2835 - acc: 0.8808 - val_loss: 0.3098 - val_acc: 0.8525\n",
            "Epoch 13/15\n",
            "160/160 - 21s - loss: 0.2833 - acc: 0.8717 - val_loss: 0.2909 - val_acc: 0.8625\n",
            "Epoch 14/15\n",
            "160/160 - 21s - loss: 0.2641 - acc: 0.8833 - val_loss: 0.3044 - val_acc: 0.8650\n",
            "Epoch 15/15\n",
            "160/160 - 21s - loss: 0.2610 - acc: 0.8817 - val_loss: 0.3109 - val_acc: 0.8525\n"
          ],
          "name": "stdout"
        }
      ]
    },
    {
      "cell_type": "code",
      "metadata": {
        "id": "-Jkx2nrOxmAL",
        "colab_type": "code",
        "outputId": "6d6bd8e9-9eb1-4a80-90f8-2fb3ef46b41b",
        "colab": {
          "base_uri": "https://localhost:8080/",
          "height": 573
        }
      },
      "source": [
        "# Accuracy of \"model_DO_06_Dense_128\"\n",
        "plt.plot(result_DO_06_Dense_128.history['acc'])\n",
        "plt.plot(result_DO_06_Dense_128.history['val_acc'])\n",
        "plt.title('model accuracy')\n",
        "plt.ylabel('accuracy')\n",
        "plt.legend(['train', 'validation'], loc='upper left')\n",
        "plt.show()\n",
        "plt.xlabel('epoch')\n",
        "\n",
        "# Loss of \"model_DO_06_Dense_128\"\n",
        "plt.plot(result_DO_06_Dense_128.history['loss'])\n",
        "plt.plot(result_DO_06_Dense_128.history['val_loss'])\n",
        "plt.title('model loss')\n",
        "plt.ylabel('loss')\n",
        "plt.xlabel('epoch')\n",
        "plt.legend(['train', 'validation'], loc='upper left')\n",
        "plt.show()\n"
      ],
      "execution_count": 0,
      "outputs": [
        {
          "output_type": "display_data",
          "data": {
            "image/png": "[encoded data removed]",
            "text/plain": [
              "<Figure size 432x288 with 1 Axes>"
            ]
          },
          "metadata": {
            "tags": [],
            "needs_background": "light"
          }
        },
        {
          "output_type": "display_data",
          "data": {
            "image/png": "[encoded data removed]",
            "text/plain": [
              "<Figure size 432x288 with 1 Axes>"
            ]
          },
          "metadata": {
            "tags": [],
            "needs_background": "light"
          }
        }
      ]
    },
    {
      "cell_type": "markdown",
      "metadata": {
        "id": "yA2V1oIJu8XM",
        "colab_type": "text"
      },
      "source": [
        "model_DO_04_Dense_256"
      ]
    },
    {
      "cell_type": "code",
      "metadata": {
        "id": "QayBfJ1WujPc",
        "colab_type": "code",
        "colab": {}
      },
      "source": [
        "model_DO_04_Dense_256 = tf.keras.models.Sequential(\n",
        "    [\n",
        "     \n",
        "     Conv2D(8, (3,3), padding='same', activation='relu', input_shape=(100,100,3)),\n",
        "     MaxPooling2D(2,2),\n",
        "\n",
        "     Conv2D(16, (3,3), padding='same', activation='relu'),\n",
        "     MaxPooling2D(2,2),\n",
        "\n",
        "     layers.Flatten(),\n",
        "\n",
        "     Dense(256, activation='relu'),\n",
        "\n",
        "     Dropout(0.4),\n",
        "\n",
        "     Dense(1, activation='sigmoid')\n",
        "     \n",
        "    ]\n",
        ")"
      ],
      "execution_count": 0,
      "outputs": []
    },
    {
      "cell_type": "code",
      "metadata": {
        "id": "X-NDvD9iujNB",
        "colab_type": "code",
        "outputId": "d7ee79d6-3f02-4eeb-884f-e3a1bb2c2238",
        "colab": {
          "base_uri": "https://localhost:8080/",
          "height": 420
        }
      },
      "source": [
        "model_DO_04_Dense_256.summary()"
      ],
      "execution_count": 0,
      "outputs": [
        {
          "output_type": "stream",
          "text": [
            "Model: \"sequential_4\"\n",
            "_________________________________________________________________\n",
            "Layer (type)                 Output Shape              Param #   \n",
            "=================================================================\n",
            "conv2d_8 (Conv2D)            (None, 100, 100, 8)       224       \n",
            "_________________________________________________________________\n",
            "max_pooling2d_8 (MaxPooling2 (None, 50, 50, 8)         0         \n",
            "_________________________________________________________________\n",
            "conv2d_9 (Conv2D)            (None, 50, 50, 16)        1168      \n",
            "_________________________________________________________________\n",
            "max_pooling2d_9 (MaxPooling2 (None, 25, 25, 16)        0         \n",
            "_________________________________________________________________\n",
            "flatten_4 (Flatten)          (None, 10000)             0         \n",
            "_________________________________________________________________\n",
            "dense_8 (Dense)              (None, 256)               2560256   \n",
            "_________________________________________________________________\n",
            "dropout_2 (Dropout)          (None, 256)               0         \n",
            "_________________________________________________________________\n",
            "dense_9 (Dense)              (None, 1)                 257       \n",
            "=================================================================\n",
            "Total params: 2,561,905\n",
            "Trainable params: 2,561,905\n",
            "Non-trainable params: 0\n",
            "_________________________________________________________________\n"
          ],
          "name": "stdout"
        }
      ]
    },
    {
      "cell_type": "code",
      "metadata": {
        "id": "WoExatvWujKK",
        "colab_type": "code",
        "colab": {}
      },
      "source": [
        "model_DO_04_Dense_256.compile(\n",
        "    loss = 'binary_crossentropy',\n",
        "    optimizer = Adam(),\n",
        "    metrics = ['acc']\n",
        ")"
      ],
      "execution_count": 0,
      "outputs": []
    },
    {
      "cell_type": "code",
      "metadata": {
        "id": "d9-isKV1ujH4",
        "colab_type": "code",
        "outputId": "5ec25c0b-ee10-4234-b1fa-d1f1ac19bd71",
        "colab": {
          "base_uri": "https://localhost:8080/",
          "height": 521
        }
      },
      "source": [
        "result_DO_04_Dense_256 = model_DO_04_Dense_256.fit(\n",
        "    train_generator,\n",
        "    steps_per_epoch = 160,\n",
        "    epochs = 15,\n",
        "    validation_data = validation_generator,\n",
        "    validation_steps = 20,\n",
        "    verbose = 2\n",
        ")"
      ],
      "execution_count": 0,
      "outputs": [
        {
          "output_type": "stream",
          "text": [
            "Epoch 1/15\n",
            "160/160 - 22s - loss: 0.5819 - acc: 0.7063 - val_loss: 0.4691 - val_acc: 0.7650\n",
            "Epoch 2/15\n",
            "160/160 - 22s - loss: 0.4553 - acc: 0.7951 - val_loss: 0.3642 - val_acc: 0.8500\n",
            "Epoch 3/15\n",
            "160/160 - 22s - loss: 0.4048 - acc: 0.8199 - val_loss: 0.3622 - val_acc: 0.8325\n",
            "Epoch 4/15\n",
            "160/160 - 23s - loss: 0.3556 - acc: 0.8459 - val_loss: 0.3088 - val_acc: 0.8825\n",
            "Epoch 5/15\n",
            "160/160 - 22s - loss: 0.3353 - acc: 0.8478 - val_loss: 0.3473 - val_acc: 0.8550\n",
            "Epoch 6/15\n",
            "160/160 - 22s - loss: 0.3113 - acc: 0.8679 - val_loss: 0.3528 - val_acc: 0.8675\n",
            "Epoch 7/15\n",
            "160/160 - 22s - loss: 0.2841 - acc: 0.8707 - val_loss: 0.3120 - val_acc: 0.8725\n",
            "Epoch 8/15\n",
            "160/160 - 22s - loss: 0.2725 - acc: 0.8820 - val_loss: 0.2880 - val_acc: 0.8825\n",
            "Epoch 9/15\n",
            "160/160 - 22s - loss: 0.2327 - acc: 0.8958 - val_loss: 0.3044 - val_acc: 0.8600\n",
            "Epoch 10/15\n",
            "160/160 - 22s - loss: 0.2189 - acc: 0.9040 - val_loss: 0.3101 - val_acc: 0.8775\n",
            "Epoch 11/15\n",
            "160/160 - 22s - loss: 0.2087 - acc: 0.9125 - val_loss: 0.2648 - val_acc: 0.8925\n",
            "Epoch 12/15\n",
            "160/160 - 22s - loss: 0.1890 - acc: 0.9259 - val_loss: 0.3372 - val_acc: 0.8675\n",
            "Epoch 13/15\n",
            "160/160 - 22s - loss: 0.1629 - acc: 0.9303 - val_loss: 0.3360 - val_acc: 0.8450\n",
            "Epoch 14/15\n",
            "160/160 - 22s - loss: 0.1502 - acc: 0.9385 - val_loss: 0.4973 - val_acc: 0.8275\n",
            "Epoch 15/15\n",
            "160/160 - 22s - loss: 0.1382 - acc: 0.9454 - val_loss: 0.3758 - val_acc: 0.8675\n"
          ],
          "name": "stdout"
        }
      ]
    },
    {
      "cell_type": "code",
      "metadata": {
        "id": "alEGcxBrujFe",
        "colab_type": "code",
        "outputId": "2fc65e4d-9aae-45fd-ace6-e4406d70eb51",
        "colab": {
          "base_uri": "https://localhost:8080/",
          "height": 573
        }
      },
      "source": [
        "# Accuracy of \"model_DO_04_Dense_256\"\n",
        "plt.plot(result_DO_04_Dense_256.history['acc'])\n",
        "plt.plot(result_DO_04_Dense_256.history['val_acc'])\n",
        "plt.title('model accuracy')\n",
        "plt.ylabel('accuracy')\n",
        "plt.xlabel('epoch')\n",
        "plt.legend(['train', 'validation'], loc='upper left')\n",
        "plt.show()\n",
        "\n",
        "# Loss of \"model_DO_04_Dense_256\"\n",
        "plt.plot(result_DO_04_Dense_256.history['loss'])\n",
        "plt.plot(result_DO_04_Dense_256.history['val_loss'])\n",
        "plt.title('model loss')\n",
        "plt.ylabel('loss')\n",
        "plt.xlabel('epoch')\n",
        "plt.legend(['train', 'validation'], loc='upper left')\n",
        "plt.show()"
      ],
      "execution_count": 0,
      "outputs": [
        {
          "output_type": "display_data",
          "data": {
            "image/png": "[encoded data removed]",
            "text/plain": [
              "<Figure size 432x288 with 1 Axes>"
            ]
          },
          "metadata": {
            "tags": [],
            "needs_background": "light"
          }
        },
        {
          "output_type": "display_data",
          "data": {
            "image/png": "[encoded data removed]",
            "text/plain": [
              "<Figure size 432x288 with 1 Axes>"
            ]
          },
          "metadata": {
            "tags": [],
            "needs_background": "light"
          }
        }
      ]
    },
    {
      "cell_type": "markdown",
      "metadata": {
        "id": "zRHJCn-9vMLf",
        "colab_type": "text"
      },
      "source": [
        "# **Evaluation of the models**"
      ]
    },
    {
      "cell_type": "markdown",
      "metadata": {
        "id": "RpH4lAiOvTUl",
        "colab_type": "text"
      },
      "source": [
        "model"
      ]
    },
    {
      "cell_type": "code",
      "metadata": {
        "id": "BdBqbydn_dCE",
        "colab_type": "code",
        "colab": {
          "base_uri": "https://localhost:8080/",
          "height": 34
        },
        "outputId": "c63cb259-9652-4baf-845f-279bee287c70"
      },
      "source": [
        "resEv_model = model.evaluate_generator(test_generator, 20)\n",
        "print('test loss, test acc:', resEv_model)"
      ],
      "execution_count": 16,
      "outputs": [
        {
          "output_type": "stream",
          "text": [
            "test loss, test acc: [0.41369178891181946, 0.8877284526824951]\n"
          ],
          "name": "stdout"
        }
      ]
    },
    {
      "cell_type": "markdown",
      "metadata": {
        "id": "6UJJFF3CvWqt",
        "colab_type": "text"
      },
      "source": [
        "model_DO"
      ]
    },
    {
      "cell_type": "code",
      "metadata": {
        "id": "IxEDbuqnuigj",
        "colab_type": "code",
        "colab": {}
      },
      "source": [
        "resEv_model_DO = model_DO.evaluate_generator(test_generator, 20)\n",
        "print('test loss, test acc:', resEv_model_DO)"
      ],
      "execution_count": 0,
      "outputs": []
    },
    {
      "cell_type": "markdown",
      "metadata": {
        "id": "X0SOJxidvaFM",
        "colab_type": "text"
      },
      "source": [
        "model_DO_04_Dense_256"
      ]
    },
    {
      "cell_type": "code",
      "metadata": {
        "id": "_XPGsunl_17h",
        "colab_type": "code",
        "colab": {}
      },
      "source": [
        "resEv_model_DO_04_Dense_256 = model_DO_04_Dense_256.evaluate_generator(test_generator, 20)\n",
        "print('test loss, test acc:', resEv_model_DO_04_Dense_256)"
      ],
      "execution_count": 0,
      "outputs": []
    },
    {
      "cell_type": "markdown",
      "metadata": {
        "id": "hRkEPzy_vdTF",
        "colab_type": "text"
      },
      "source": [
        "model_DO_06_Dense_128"
      ]
    },
    {
      "cell_type": "code",
      "metadata": {
        "id": "CRb1UyAMATNC",
        "colab_type": "code",
        "colab": {}
      },
      "source": [
        "resEv_model_DO_06_Dense_128 = model_DO_06_Dense_128.evaluate_generator(test_generator, 20)\n",
        "print('test loss, test acc:', resEv_model_DO_06_Dense_128)"
      ],
      "execution_count": 0,
      "outputs": []
    },
    {
      "cell_type": "markdown",
      "metadata": {
        "id": "B-k7cZHhvjP-",
        "colab_type": "text"
      },
      "source": [
        "model_DO_less"
      ]
    },
    {
      "cell_type": "code",
      "metadata": {
        "id": "fRT7u_gO-nDI",
        "colab_type": "code",
        "colab": {}
      },
      "source": [
        "resEv_model_DO_less = model_DO_less.evaluate_generator(test_generator, 20)\n",
        "print('test loss, test acc:', resEv_model_DO_less)"
      ],
      "execution_count": 0,
      "outputs": []
    },
    {
      "cell_type": "markdown",
      "metadata": {
        "id": "V4q6aPRdvmdB",
        "colab_type": "text"
      },
      "source": [
        "# **Predict***"
      ]
    },
    {
      "cell_type": "code",
      "metadata": {
        "id": "-PD7DgIE1DLD",
        "colab_type": "code",
        "outputId": "43e7ab12-b649-4f6c-f917-9cd430fb6600",
        "colab": {
          "base_uri": "https://localhost:8080/",
          "height": 34
        }
      },
      "source": [
        "# Predicting from some images from the test set\n",
        "\n",
        "img_width, img_height = 100, 100\n",
        "img = image.load_img(\n",
        "        workspace_test + '/benign/'+random.choice(os.listdir(workspace_test + '/benign/')), \n",
        "    target_size = (img_width, img_height)\n",
        "    )\n",
        "img = image.img_to_array(img)\n",
        "img = np.expand_dims(img, axis = 0)\n",
        "\n",
        "model_DO_less.predict(img)"
      ],
      "execution_count": 0,
      "outputs": [
        {
          "output_type": "execute_result",
          "data": {
            "text/plain": [
              "array([[1.]], dtype=float32)"
            ]
          },
          "metadata": {
            "tags": []
          },
          "execution_count": 135
        }
      ]
    },
    {
      "cell_type": "markdown",
      "metadata": {
        "id": "eJ6pR_7mv4M4",
        "colab_type": "text"
      },
      "source": [
        "# **Saving models**"
      ]
    },
    {
      "cell_type": "code",
      "metadata": {
        "id": "FCZoCnXT1DEa",
        "colab_type": "code",
        "outputId": "2eb80d55-b2b8-4857-c5e8-b75d20325362",
        "colab": {
          "base_uri": "https://localhost:8080/",
          "height": 104
        }
      },
      "source": [
        "model.save(workspace_models + '/Conv16_Max_Conv32_Max_Dense512')"
      ],
      "execution_count": 14,
      "outputs": [
        {
          "output_type": "stream",
          "text": [
            "WARNING:tensorflow:From /usr/local/lib/python3.6/dist-packages/tensorflow/python/ops/resource_variable_ops.py:1817: calling BaseResourceVariable.__init__ (from tensorflow.python.ops.resource_variable_ops) with constraint is deprecated and will be removed in a future version.\n",
            "Instructions for updating:\n",
            "If using Keras pass *_constraint arguments to layers.\n",
            "INFO:tensorflow:Assets written to: /gdrive/My Drive/Breast_Cancer_Detection/images_resized_2/Saved_Models/Conv16_Max_Conv32_Max_Dense512/assets\n"
          ],
          "name": "stdout"
        }
      ]
    },
    {
      "cell_type": "code",
      "metadata": {
        "id": "9XPWcgaI1DA3",
        "colab_type": "code",
        "outputId": "13b9b8fb-06d5-4b77-9f5a-816e139cab71",
        "colab": {
          "base_uri": "https://localhost:8080/",
          "height": 54
        }
      },
      "source": [
        "model_DO.save(workspace_models + '/Conv16_Max_Conv32_Max_Dense512_DO5')"
      ],
      "execution_count": 0,
      "outputs": [
        {
          "output_type": "stream",
          "text": [
            "INFO:tensorflow:Assets written to: /gdrive/My Drive/Breast_Cancer_Detection/images_resized_2/workspace/Saved_Models/Conv16_Max_Conv32_Max_Dense512_DO5/assets\n"
          ],
          "name": "stdout"
        }
      ]
    },
    {
      "cell_type": "code",
      "metadata": {
        "id": "LFfGcz8m6Ti5",
        "colab_type": "code",
        "outputId": "624fd3e8-9104-4a61-f456-4797103a362b",
        "colab": {
          "base_uri": "https://localhost:8080/",
          "height": 54
        }
      },
      "source": [
        "model_DO_less.save(workspace_models + '/Conv8_Max_Conv16_Max_Dense128_DO5')"
      ],
      "execution_count": 0,
      "outputs": [
        {
          "output_type": "stream",
          "text": [
            "INFO:tensorflow:Assets written to: /gdrive/My Drive/Breast_Cancer_Detection/images_resized_2/workspace/Saved_Models/Conv8_Max_Conv16_Max_Dense128_DO5/assets\n"
          ],
          "name": "stdout"
        }
      ]
    },
    {
      "cell_type": "code",
      "metadata": {
        "id": "lXxQurLl6p4D",
        "colab_type": "code",
        "outputId": "189aa888-5694-4af8-9aa2-d7f7e961baad",
        "colab": {
          "base_uri": "https://localhost:8080/",
          "height": 54
        }
      },
      "source": [
        "model_DO_04_Dense_256.save(workspace_models + '/Conv8_Max_Conv16_Max_Dense256_DO4')"
      ],
      "execution_count": 0,
      "outputs": [
        {
          "output_type": "stream",
          "text": [
            "INFO:tensorflow:Assets written to: /gdrive/My Drive/Breast_Cancer_Detection/images_resized_2/workspace/Saved_Models/Conv8_Max_Conv16_Max_Dense256_DO4/assets\n"
          ],
          "name": "stdout"
        }
      ]
    },
    {
      "cell_type": "code",
      "metadata": {
        "id": "r5ykOLIK7A7W",
        "colab_type": "code",
        "outputId": "3d6c4247-e5e5-4376-fa2c-2c5b4b36e190",
        "colab": {
          "base_uri": "https://localhost:8080/",
          "height": 54
        }
      },
      "source": [
        "model_DO_06_Dense_128.save(workspace_models + '/Conv8_Max_Conv16_Max_Dense128_DO6')"
      ],
      "execution_count": 0,
      "outputs": [
        {
          "output_type": "stream",
          "text": [
            "INFO:tensorflow:Assets written to: /gdrive/My Drive/Breast_Cancer_Detection/images_resized_2/workspace/Saved_Models/Conv8_Max_Conv16_Max_Dense128_DO6/assets\n"
          ],
          "name": "stdout"
        }
      ]
    },
    {
      "cell_type": "code",
      "metadata": {
        "id": "xa6sfnMu5s9w",
        "colab_type": "code",
        "colab": {}
      },
      "source": [
        ""
      ],
      "execution_count": 0,
      "outputs": []
    },
    {
      "cell_type": "code",
      "metadata": {
        "id": "B9D9Qxd45s6h",
        "colab_type": "code",
        "colab": {}
      },
      "source": [
        ""
      ],
      "execution_count": 0,
      "outputs": []
    },
    {
      "cell_type": "code",
      "metadata": {
        "id": "gDN3lzZJWxBd",
        "colab_type": "code",
        "colab": {}
      },
      "source": [
        ""
      ],
      "execution_count": 0,
      "outputs": []
    },
    {
      "cell_type": "code",
      "metadata": {
        "id": "JMMg1nXH5st1",
        "colab_type": "code",
        "colab": {}
      },
      "source": [
        ""
      ],
      "execution_count": 0,
      "outputs": []
    },
    {
      "cell_type": "code",
      "metadata": {
        "id": "Ga4Q7__z1C7m",
        "colab_type": "code",
        "colab": {}
      },
      "source": [
        ""
      ],
      "execution_count": 0,
      "outputs": []
    }
  ]
}