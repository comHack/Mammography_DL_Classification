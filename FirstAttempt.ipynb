{
  "nbformat": 4,
  "nbformat_minor": 0,
  "metadata": {
    "colab": {
      "name": "FirstAttempt.ipynb",
      "provenance": [],
      "toc_visible": true,
      "include_colab_link": true
    },
    "kernelspec": {
      "name": "python3",
      "display_name": "Python 3"
    },
    "accelerator": "GPU"
  },
  "cells": [
    {
      "cell_type": "markdown",
      "metadata": {
        "id": "view-in-github",
        "colab_type": "text"
      },
      "source": [
        "<a href=\"https://colab.research.google.com/github/comHack/Mammography_DL_Classification/blob/master/FirstAttempt.ipynb\" target=\"_parent\"><img src=\"https://colab.research.google.com/assets/colab-badge.svg\" alt=\"Open In Colab\"/></a>"
      ]
    },
    {
      "cell_type": "markdown",
      "metadata": {
        "id": "RrCa_j7t_ru7",
        "colab_type": "text"
      },
      "source": [
        "# **Importing Libraries**"
      ]
    },
    {
      "cell_type": "markdown",
      "metadata": {
        "id": "4o7-FL3P5J3A",
        "colab_type": "text"
      },
      "source": [
        "Don't forget to change runtime type to GPU/TPU:\n",
        "    - Go to Runtime -> Change runtime type "
      ]
    },
    {
      "cell_type": "code",
      "metadata": {
        "id": "U_9gWrb6-K4c",
        "colab_type": "code",
        "colab": {}
      },
      "source": [
        "import numpy as np\n",
        "\n",
        "import pandas as pd\n",
        "\n",
        "import cv2 as cv\n",
        "\n",
        "import matplotlib.pyplot as plt\n",
        "\n",
        "import tensorflow as tf\n",
        "from tensorflow.keras.models import Sequential\n",
        "from tensorflow.keras.layers import Dense, Flatten, Dropout, Activation, Conv2D, MaxPooling2D\n",
        "from tensorflow.keras.optimizers import RMSprop, Adam\n",
        "from tensorflow.keras.preprocessing.image import ImageDataGenerator\n",
        "from tensorflow.keras.preprocessing import image\n",
        "\n",
        "from tensorflow.keras.applications.vgg16 import VGG16\n",
        "from tensorflow.keras.layers import Input\n",
        "from tensorflow.keras.models import Model\n",
        "\n",
        "import random\n",
        "\n",
        "import pickle\n",
        "\n",
        "import shutil\n",
        "\n",
        "import os\n",
        "\n",
        "from google.colab import drive"
      ],
      "execution_count": 1,
      "outputs": []
    },
    {
      "cell_type": "markdown",
      "metadata": {
        "id": "2I-agdvH_0qh",
        "colab_type": "text"
      },
      "source": [
        "# **Mounting Drive**"
      ]
    },
    {
      "cell_type": "code",
      "metadata": {
        "id": "ezRGKnqp-osQ",
        "colab_type": "code",
        "colab": {
          "base_uri": "https://localhost:8080/",
          "height": 121
        },
        "outputId": "d08f8a03-7f36-4674-ed86-987011910afe"
      },
      "source": [
        "drive.mount('/gdrive')\n",
        "os.symlink('/gdrive/My Drive', '/content/gdrive')"
      ],
      "execution_count": 2,
      "outputs": [
        {
          "output_type": "stream",
          "text": [
            "Go to this URL in a browser: https://accounts.google.com/o/oauth2/auth?client_id=947318989803-6bn6qk8qdgf4n4g3pfee6491hc0brc4i.apps.googleusercontent.com&redirect_uri=urn%3aietf%3awg%3aoauth%3a2.0%3aoob&scope=email%20https%3a%2f%2fwww.googleapis.com%2fauth%2fdocs.test%20https%3a%2f%2fwww.googleapis.com%2fauth%2fdrive%20https%3a%2f%2fwww.googleapis.com%2fauth%2fdrive.photos.readonly%20https%3a%2f%2fwww.googleapis.com%2fauth%2fpeopleapi.readonly&response_type=code\n",
            "\n",
            "Enter your authorization code:\n",
            "··········\n",
            "Mounted at /gdrive\n"
          ],
          "name": "stdout"
        }
      ]
    },
    {
      "cell_type": "markdown",
      "metadata": {
        "id": "DxUivr5ImPMx",
        "colab_type": "text"
      },
      "source": [
        "# **Splitting the data**"
      ]
    },
    {
      "cell_type": "markdown",
      "metadata": {
        "id": "g6zBSdFkmW2g",
        "colab_type": "text"
      },
      "source": [
        "## Directories paths"
      ]
    },
    {
      "cell_type": "code",
      "metadata": {
        "id": "dIhG8H1SMXtk",
        "colab_type": "code",
        "colab": {}
      },
      "source": [
        "#data folder link to the images_resized_2 folder in your drive\n",
        "data_folder = '/gdrive/My Drive/Breast_Cancer_Detection/images_resized_2'\n"
      ],
      "execution_count": null,
      "outputs": []
    },
    {
      "cell_type": "code",
      "metadata": {
        "id": "qO6jzoG5MZKQ",
        "colab_type": "code",
        "colab": {}
      },
      "source": [
        "workspace_models = data_folder + '/Saved_Models'"
      ],
      "execution_count": null,
      "outputs": []
    },
    {
      "cell_type": "code",
      "metadata": {
        "id": "m5pMkpK8IHKA",
        "colab_type": "code",
        "colab": {}
      },
      "source": [
        "#Workspace is the folder that will contain a copy of the images\n",
        "#The workspace folder is arranged so ImageDataGenerator can be used\n",
        "workspace = data_folder + '/workspace'\n",
        "\n",
        "workspace_train = workspace + '/train'\n",
        "workspace_val = workspace + '/val'\n",
        "workspace_test = workspace + '/test'\n",
        "\n",
        "workspace_models = data_folder + '/Saved_Models'\n",
        "\n",
        "train_benign = workspace_train + '/benign'\n",
        "train_malign = workspace_train + '/malign'\n",
        "\n",
        "val_benign = workspace_val + '/benign'\n",
        "val_malign = workspace_val + '/malign'\n",
        "\n",
        "test_benign = workspace_test + '/benign'\n",
        "test_malign = workspace_test + '/malign'\n",
        "\n",
        "\n"
      ],
      "execution_count": null,
      "outputs": []
    },
    {
      "cell_type": "markdown",
      "metadata": {
        "id": "aTP6RLJOmqtZ",
        "colab_type": "text"
      },
      "source": [
        "## Creating directories"
      ]
    },
    {
      "cell_type": "code",
      "metadata": {
        "id": "HHqEXFdU-omA",
        "colab_type": "code",
        "colab": {}
      },
      "source": [
        "try:\n",
        "    os.mkdir(workspace)\n",
        "    os.mkdir(workspace_train)\n",
        "    os.mkdir(workspace_val)\n",
        "    os.mkdir(workspace_test)\n",
        "    os.mkdir(workspace_models)\n",
        "    os.mkdir(train_benign)\n",
        "    os.mkdir(train_malign)\n",
        "    os.mkdir(val_benign)\n",
        "    os.mkdir(val_malign)\n",
        "    os.mkdir(test_benign)\n",
        "    os.mkdir(test_malign)\n",
        "except OSError:\n",
        "    pass"
      ],
      "execution_count": null,
      "outputs": []
    },
    {
      "cell_type": "markdown",
      "metadata": {
        "id": "SpCjHiZMmzFP",
        "colab_type": "text"
      },
      "source": [
        "## Splitting data to respective directories"
      ]
    },
    {
      "cell_type": "code",
      "metadata": {
        "id": "p6xpG0dp-ogN",
        "colab_type": "code",
        "colab": {}
      },
      "source": [
        "def split(src, train, val, test, size=0.7):\n",
        "    '''\n",
        "\n",
        "    randomly split the data to train, validation and test set \n",
        "\n",
        "    the train set will take size*100% of the data\n",
        "\n",
        "    the rest split equally between the validation and test set\n",
        "\n",
        "    '''\n",
        "    global workspace_train, workspace_val, workspace_test\n",
        "\n",
        "    folders = ['/benign', '/malign']\n",
        "\n",
        "    for folder in folders:\n",
        "\n",
        "        data = os.listdir(src + folder)\n",
        "\n",
        "        random_set = random.sample(data, len(data))\n",
        "\n",
        "        train_size = int(len(data) * size)\n",
        "\n",
        "        val_size = int(len(data) * ((1 - size) / 2))\n",
        "\n",
        "        print('train_size = ' + str(train_size))\n",
        "        print('val_size = ' + str(val_size))\n",
        "\n",
        "        train_set = random_set[0: train_size]\n",
        "\n",
        "        val_set = random_set[train_size + 1: train_size + val_size]\n",
        "\n",
        "        test_set = random_set[train_size + val_size + 1:]\n",
        "\n",
        "        for file in train_set:\n",
        "            source = src + folder + '/' + file\n",
        "            destination = workspace_train + folder + '/' + file\n",
        "            try:\n",
        "                shutil.copyfile(source, destination)\n",
        "                print(\"------ Copied \" + source + \" to \" + destination)\n",
        "            except OSError:\n",
        "                print(\"------ |||| FAILED COPYING \" + file + \" |||| --\")\n",
        "\n",
        "        for file in val_set:\n",
        "            source = src + folder + '/' + file\n",
        "            destination = workspace_val + folder + '/' + file\n",
        "            try:\n",
        "                shutil.copyfile(source, destination)\n",
        "                print(\"------ Copied \" + source + \" to \" + destination)\n",
        "            except OSError:\n",
        "                print(\"------ |||| FAILED COPYING \" + file + \" |||| --\")\n",
        "\n",
        "        for file in test_set:\n",
        "            source = src + folder + '/' + file\n",
        "            destination = workspace_test + folder + '/' + file\n",
        "            try:\n",
        "                shutil.copyfile(source, destination)\n",
        "                print(\"------ Copied \" + source + \" to \" + destination)\n",
        "            except OSError:\n",
        "                print(\"------ |||| FAILED COPYING \" + file + \" |||| --\")\n"
      ],
      "execution_count": null,
      "outputs": []
    },
    {
      "cell_type": "code",
      "metadata": {
        "id": "oB7U19CU-odM",
        "colab_type": "code",
        "colab": {
          "base_uri": "https://localhost:8080/",
          "height": 296
        },
        "outputId": "eaa569b1-9ca8-484f-86cc-0f2defc5964c"
      },
      "source": [
        "#10 - 15 minutes\n",
        "split(data_folder, workspace_train, workspace_val, workspace_test, size=0.8)"
      ],
      "execution_count": null,
      "outputs": [
        {
          "output_type": "error",
          "ename": "FileNotFoundError",
          "evalue": "ignored",
          "traceback": [
            "\u001b[0;31m---------------------------------------------------------------------------\u001b[0m",
            "\u001b[0;31mFileNotFoundError\u001b[0m                         Traceback (most recent call last)",
            "\u001b[0;32m<ipython-input-21-77552997ac08>\u001b[0m in \u001b[0;36m<module>\u001b[0;34m()\u001b[0m\n\u001b[1;32m      1\u001b[0m \u001b[0;31m#10 - 15 minutes\u001b[0m\u001b[0;34m\u001b[0m\u001b[0;34m\u001b[0m\u001b[0;34m\u001b[0m\u001b[0m\n\u001b[0;32m----> 2\u001b[0;31m \u001b[0msplit\u001b[0m\u001b[0;34m(\u001b[0m\u001b[0mdata_folder\u001b[0m\u001b[0;34m,\u001b[0m \u001b[0mworkspace_train\u001b[0m\u001b[0;34m,\u001b[0m \u001b[0mworkspace_val\u001b[0m\u001b[0;34m,\u001b[0m \u001b[0mworkspace_test\u001b[0m\u001b[0;34m,\u001b[0m \u001b[0msize\u001b[0m\u001b[0;34m=\u001b[0m\u001b[0;36m0.8\u001b[0m\u001b[0;34m)\u001b[0m\u001b[0;34m\u001b[0m\u001b[0;34m\u001b[0m\u001b[0m\n\u001b[0m",
            "\u001b[0;32m<ipython-input-20-99f82a60ba5d>\u001b[0m in \u001b[0;36msplit\u001b[0;34m(src, train, val, test, size)\u001b[0m\n\u001b[1;32m     15\u001b[0m     \u001b[0;32mfor\u001b[0m \u001b[0mfolder\u001b[0m \u001b[0;32min\u001b[0m \u001b[0mfolders\u001b[0m\u001b[0;34m:\u001b[0m\u001b[0;34m\u001b[0m\u001b[0;34m\u001b[0m\u001b[0m\n\u001b[1;32m     16\u001b[0m \u001b[0;34m\u001b[0m\u001b[0m\n\u001b[0;32m---> 17\u001b[0;31m         \u001b[0mdata\u001b[0m \u001b[0;34m=\u001b[0m \u001b[0mos\u001b[0m\u001b[0;34m.\u001b[0m\u001b[0mlistdir\u001b[0m\u001b[0;34m(\u001b[0m\u001b[0msrc\u001b[0m \u001b[0;34m+\u001b[0m \u001b[0mfolder\u001b[0m\u001b[0;34m)\u001b[0m\u001b[0;34m\u001b[0m\u001b[0;34m\u001b[0m\u001b[0m\n\u001b[0m\u001b[1;32m     18\u001b[0m \u001b[0;34m\u001b[0m\u001b[0m\n\u001b[1;32m     19\u001b[0m         \u001b[0mrandom_set\u001b[0m \u001b[0;34m=\u001b[0m \u001b[0mrandom\u001b[0m\u001b[0;34m.\u001b[0m\u001b[0msample\u001b[0m\u001b[0;34m(\u001b[0m\u001b[0mdata\u001b[0m\u001b[0;34m,\u001b[0m \u001b[0mlen\u001b[0m\u001b[0;34m(\u001b[0m\u001b[0mdata\u001b[0m\u001b[0;34m)\u001b[0m\u001b[0;34m)\u001b[0m\u001b[0;34m\u001b[0m\u001b[0;34m\u001b[0m\u001b[0m\n",
            "\u001b[0;31mFileNotFoundError\u001b[0m: [Errno 2] No such file or directory: '/gdrive/My Drive/Breast_Cancer_Detection/images_resized_2/benign'"
          ]
        }
      ]
    },
    {
      "cell_type": "markdown",
      "metadata": {
        "id": "EYVQhFcLm8cX",
        "colab_type": "text"
      },
      "source": [
        "## Checking the split"
      ]
    },
    {
      "cell_type": "markdown",
      "metadata": {
        "id": "a6cnjeOUnGmO",
        "colab_type": "text"
      },
      "source": [
        "**All the data**"
      ]
    },
    {
      "cell_type": "code",
      "metadata": {
        "id": "X2LqkSzjiL5A",
        "colab_type": "code",
        "colab": {}
      },
      "source": [
        "len(os.listdir(data_folder + '/benign'))"
      ],
      "execution_count": null,
      "outputs": []
    },
    {
      "cell_type": "code",
      "metadata": {
        "id": "47KiWKTviLqV",
        "colab_type": "code",
        "colab": {}
      },
      "source": [
        "len(os.listdir(data_folder + '/malign'))"
      ],
      "execution_count": null,
      "outputs": []
    },
    {
      "cell_type": "markdown",
      "metadata": {
        "id": "FonolBQZnQio",
        "colab_type": "text"
      },
      "source": [
        "**Training data**"
      ]
    },
    {
      "cell_type": "code",
      "metadata": {
        "id": "oT3Nq-WX-oaP",
        "colab_type": "code",
        "colab": {}
      },
      "source": [
        "len(os.listdir(train_benign))"
      ],
      "execution_count": null,
      "outputs": []
    },
    {
      "cell_type": "code",
      "metadata": {
        "id": "s-pXb1to-oSO",
        "colab_type": "code",
        "colab": {}
      },
      "source": [
        "len(os.listdir(train_malign))"
      ],
      "execution_count": null,
      "outputs": []
    },
    {
      "cell_type": "code",
      "metadata": {
        "id": "X3qVocfIimUi",
        "colab_type": "code",
        "colab": {}
      },
      "source": [
        "len(os.listdir(train_benign)) + len(os.listdir(train_malign))"
      ],
      "execution_count": null,
      "outputs": []
    },
    {
      "cell_type": "markdown",
      "metadata": {
        "id": "3009h_yFnUyH",
        "colab_type": "text"
      },
      "source": [
        "**Validation data**"
      ]
    },
    {
      "cell_type": "code",
      "metadata": {
        "id": "ZJAvRpeH-oXu",
        "colab_type": "code",
        "colab": {}
      },
      "source": [
        "len(os.listdir(val_benign))"
      ],
      "execution_count": null,
      "outputs": []
    },
    {
      "cell_type": "code",
      "metadata": {
        "id": "e74PmdXA-oPY",
        "colab_type": "code",
        "colab": {}
      },
      "source": [
        "len(os.listdir(val_malign))"
      ],
      "execution_count": null,
      "outputs": []
    },
    {
      "cell_type": "code",
      "metadata": {
        "id": "MKSHrFI_iulI",
        "colab_type": "code",
        "colab": {}
      },
      "source": [
        "len(os.listdir(val_benign)) + len(os.listdir(val_malign))"
      ],
      "execution_count": null,
      "outputs": []
    },
    {
      "cell_type": "markdown",
      "metadata": {
        "id": "n3Xu54WWnWvn",
        "colab_type": "text"
      },
      "source": [
        "**Testing data**"
      ]
    },
    {
      "cell_type": "code",
      "metadata": {
        "id": "DXIV4UmS-oU3",
        "colab_type": "code",
        "colab": {}
      },
      "source": [
        "len(os.listdir(test_benign))"
      ],
      "execution_count": null,
      "outputs": []
    },
    {
      "cell_type": "code",
      "metadata": {
        "id": "IeUO20eP-oMw",
        "colab_type": "code",
        "colab": {}
      },
      "source": [
        "len(os.listdir(test_malign))"
      ],
      "execution_count": null,
      "outputs": []
    },
    {
      "cell_type": "code",
      "metadata": {
        "id": "1Ur8YkX0-oJ3",
        "colab_type": "code",
        "colab": {}
      },
      "source": [
        "len(os.listdir(test_benign)) + len(os.listdir(test_malign))"
      ],
      "execution_count": null,
      "outputs": []
    },
    {
      "cell_type": "markdown",
      "metadata": {
        "id": "_22Jwz_HPABJ",
        "colab_type": "text"
      },
      "source": [
        "Copy the dataset to the colab instance."
      ]
    },
    {
      "cell_type": "code",
      "metadata": {
        "id": "fg0lvCPe31UV",
        "colab_type": "code",
        "colab": {}
      },
      "source": [
        "workspace"
      ],
      "execution_count": null,
      "outputs": []
    },
    {
      "cell_type": "code",
      "metadata": {
        "id": "4q0N_ZJe3qiM",
        "colab_type": "code",
        "colab": {}
      },
      "source": [
        "!cp -r '/gdrive/My Drive/Breast_Cancer_Detection/images_resized_2/workspace' 'workspace'"
      ],
      "execution_count": null,
      "outputs": []
    },
    {
      "cell_type": "code",
      "metadata": {
        "id": "ZHECzxgy4341",
        "colab_type": "code",
        "colab": {}
      },
      "source": [
        "workspace = '/content' + '/workspace'\n",
        "\n",
        "workspace_train = workspace + '/train'\n",
        "workspace_val = workspace + '/val'\n",
        "workspace_test = workspace + '/test'\n",
        "\n",
        "#workspace_models = data_folder + '/Saved_Models'\n",
        "\n",
        "train_benign = workspace_train + '/benign'\n",
        "train_malign = workspace_train + '/malign'\n",
        "\n",
        "val_benign = workspace_val + '/benign'\n",
        "val_malign = workspace_val + '/malign'\n",
        "\n",
        "test_benign = workspace_test + '/benign'\n",
        "test_malign = workspace_test + '/malign'"
      ],
      "execution_count": null,
      "outputs": []
    },
    {
      "cell_type": "markdown",
      "metadata": {
        "id": "h24cw76Ec5j9",
        "colab_type": "text"
      },
      "source": [
        "# **Splitting the data 2**"
      ]
    },
    {
      "cell_type": "code",
      "metadata": {
        "id": "j5U9WaT-dE4N",
        "colab_type": "code",
        "colab": {}
      },
      "source": [
        "#data folder link to the images_resized_2 folder in your drive\n",
        "data_folder = '/gdrive/My Drive/Breast Cancer Detection/images_resized_2'\n",
        "\n",
        "classes = ['benign', 'malign']"
      ],
      "execution_count": null,
      "outputs": []
    },
    {
      "cell_type": "code",
      "metadata": {
        "id": "Hj-MSK3jdEzd",
        "colab_type": "code",
        "colab": {
          "base_uri": "https://localhost:8080/",
          "height": 268
        },
        "outputId": "72ef6356-b5f1-4f3c-85f2-a39cfecdec9c"
      },
      "source": [
        "for classe in classes:\n",
        "  path = os.path.join(data_folder, classe)\n",
        "  for image in os.listdir(path):\n",
        "    image_arr = cv.imread(os.path.join(path, image), cv.IMREAD_GRAYSCALE)\n",
        "    plt.imshow(image_arr, cmap='gray')\n",
        "    plt.show()\n",
        "    break\n",
        "  break"
      ],
      "execution_count": null,
      "outputs": [
        {
          "output_type": "display_data",
          "data": {
            "image/png": "[encoded data removed]",
            "text/plain": [
              "<Figure size 432x288 with 1 Axes>"
            ]
          },
          "metadata": {
            "tags": [],
            "needs_background": "light"
          }
        }
      ]
    },
    {
      "cell_type": "code",
      "metadata": {
        "id": "yRVAKU5ZdEvm",
        "colab_type": "code",
        "colab": {
          "base_uri": "https://localhost:8080/",
          "height": 34
        },
        "outputId": "9d2a4418-d2eb-4c81-89c7-521cea3cc858"
      },
      "source": [
        "print(image_arr.shape)"
      ],
      "execution_count": null,
      "outputs": [
        {
          "output_type": "stream",
          "text": [
            "(100, 100)\n"
          ],
          "name": "stdout"
        }
      ]
    },
    {
      "cell_type": "code",
      "metadata": {
        "id": "GMBwNFbohWL1",
        "colab_type": "code",
        "colab": {}
      },
      "source": [
        ""
      ],
      "execution_count": null,
      "outputs": []
    },
    {
      "cell_type": "code",
      "metadata": {
        "id": "qOUGFIX0dErs",
        "colab_type": "code",
        "colab": {}
      },
      "source": [
        "def create_data():\n",
        "  data = []\n",
        "  for classe in classes:\n",
        "    path = os.path.join(data_folder, classe)\n",
        "    classe_num = classes.index(classe)\n",
        "    for image in os.listdir(path):\n",
        "      image_arr = cv.imread(os.path.join(path, image), cv.IMREAD_GRAYSCALE)\n",
        "      data.append([image_arr, classe_num])\n",
        "    \n",
        "  return data"
      ],
      "execution_count": null,
      "outputs": []
    },
    {
      "cell_type": "code",
      "metadata": {
        "id": "o43pVDGG1Q63",
        "colab_type": "code",
        "colab": {}
      },
      "source": [
        "def create_data_3():\n",
        "  data = []\n",
        "  for classe in classes:\n",
        "    path = os.path.join(data_folder, classe)\n",
        "    classe_num = classes.index(classe)\n",
        "    for image in os.listdir(path):\n",
        "      image_arr = cv.imread(os.path.join(path, image))\n",
        "      data.append([image_arr, classe_num])\n",
        "    \n",
        "  return data"
      ],
      "execution_count": null,
      "outputs": []
    },
    {
      "cell_type": "code",
      "metadata": {
        "id": "YgscdTh8dEmg",
        "colab_type": "code",
        "colab": {}
      },
      "source": [
        "data = create_data()"
      ],
      "execution_count": null,
      "outputs": []
    },
    {
      "cell_type": "code",
      "metadata": {
        "id": "DJNlY3ST4oYV",
        "colab_type": "code",
        "colab": {}
      },
      "source": [
        "data_3 = create_data_3()"
      ],
      "execution_count": null,
      "outputs": []
    },
    {
      "cell_type": "code",
      "metadata": {
        "id": "riYVz-BkxzN-",
        "colab_type": "code",
        "colab": {}
      },
      "source": [
        "A = data.copy()"
      ],
      "execution_count": null,
      "outputs": []
    },
    {
      "cell_type": "code",
      "metadata": {
        "id": "Zf_mV11x5ErG",
        "colab_type": "code",
        "colab": {}
      },
      "source": [
        "A_3 = data_3.copy()"
      ],
      "execution_count": null,
      "outputs": []
    },
    {
      "cell_type": "code",
      "metadata": {
        "id": "KxABDf-o5Jtz",
        "colab_type": "code",
        "colab": {}
      },
      "source": [
        "print(A_3[2])\n",
        "print(len(A_3))"
      ],
      "execution_count": null,
      "outputs": []
    },
    {
      "cell_type": "code",
      "metadata": {
        "id": "9pcxw66gzWWz",
        "colab_type": "code",
        "colab": {}
      },
      "source": [
        "benign_data = A[:1988].copy()"
      ],
      "execution_count": null,
      "outputs": []
    },
    {
      "cell_type": "code",
      "metadata": {
        "id": "NigzlgRwzfka",
        "colab_type": "code",
        "colab": {}
      },
      "source": [
        "malign_data = A[1988:].copy()"
      ],
      "execution_count": null,
      "outputs": []
    },
    {
      "cell_type": "code",
      "metadata": {
        "id": "WCTueeLL5imY",
        "colab_type": "code",
        "colab": {}
      },
      "source": [
        "benign_data_3 = A_3[:1988].copy()\n",
        "malign_data_3 = A_3[1988:].copy()"
      ],
      "execution_count": null,
      "outputs": []
    },
    {
      "cell_type": "code",
      "metadata": {
        "id": "fmA2ez7SdEhO",
        "colab_type": "code",
        "colab": {}
      },
      "source": [
        "print(benign_data[1987])"
      ],
      "execution_count": null,
      "outputs": []
    },
    {
      "cell_type": "code",
      "metadata": {
        "id": "1o6Vroo3p5WL",
        "colab_type": "code",
        "colab": {
          "base_uri": "https://localhost:8080/",
          "height": 34
        },
        "outputId": "1dde790a-20ce-4586-e484-45f246747836"
      },
      "source": [
        "print(len(data))"
      ],
      "execution_count": null,
      "outputs": [
        {
          "output_type": "stream",
          "text": [
            "3988\n"
          ],
          "name": "stdout"
        }
      ]
    },
    {
      "cell_type": "code",
      "metadata": {
        "id": "OimlwSHlzNoQ",
        "colab_type": "code",
        "colab": {
          "base_uri": "https://localhost:8080/",
          "height": 34
        },
        "outputId": "2514353a-dbcd-4f59-b95c-b92b689dc5da"
      },
      "source": [
        "print(len(benign_data))"
      ],
      "execution_count": null,
      "outputs": [
        {
          "output_type": "stream",
          "text": [
            "1988\n"
          ],
          "name": "stdout"
        }
      ]
    },
    {
      "cell_type": "code",
      "metadata": {
        "id": "h8dB4Mr6zRiq",
        "colab_type": "code",
        "colab": {
          "base_uri": "https://localhost:8080/",
          "height": 34
        },
        "outputId": "ca4e21d4-f050-461a-99c7-5f9c6b606f45"
      },
      "source": [
        "print(len(malign_data))"
      ],
      "execution_count": null,
      "outputs": [
        {
          "output_type": "stream",
          "text": [
            "2000\n"
          ],
          "name": "stdout"
        }
      ]
    },
    {
      "cell_type": "code",
      "metadata": {
        "id": "QrT-MH7rxIR3",
        "colab_type": "code",
        "colab": {}
      },
      "source": [
        "random.shuffle(data)"
      ],
      "execution_count": null,
      "outputs": []
    },
    {
      "cell_type": "code",
      "metadata": {
        "id": "WP4zOc2_yS8W",
        "colab_type": "code",
        "colab": {}
      },
      "source": [
        "for x in data[:10]:\n",
        "  print(x[1])"
      ],
      "execution_count": null,
      "outputs": []
    },
    {
      "cell_type": "code",
      "metadata": {
        "id": "k5pOR8f8QIW8",
        "colab_type": "code",
        "colab": {}
      },
      "source": [
        "pickle_out = open(\"benign.pickle\", \"wb\")\n",
        "pickle.dump(benign_data, pickle_out)\n",
        "pickle_out.close()\n",
        "\n",
        "pickle_out = open(\"malign.pickle\", \"wb\")\n",
        "pickle.dump(malign_data, pickle_out)\n",
        "pickle_out.close()"
      ],
      "execution_count": null,
      "outputs": []
    },
    {
      "cell_type": "code",
      "metadata": {
        "id": "rErdMuSr57Qs",
        "colab_type": "code",
        "colab": {}
      },
      "source": [
        "pickle_out = open(\"benign_3.pickle\", \"wb\")\n",
        "pickle.dump(benign_data_3, pickle_out)\n",
        "pickle_out.close()\n",
        "\n",
        "pickle_out = open(\"malign_3.pickle\", \"wb\")\n",
        "pickle.dump(malign_data_3, pickle_out)\n",
        "pickle_out.close()"
      ],
      "execution_count": null,
      "outputs": []
    },
    {
      "cell_type": "code",
      "metadata": {
        "id": "QGL6gQOHmI5G",
        "colab_type": "code",
        "colab": {}
      },
      "source": [
        "benign_link = \"/content/gdrive/Copy of BCD/Breast Cancer Detection/Pickle files of images/GRAYSCALE IMAGES ARRAY/benign.pickle\"\n",
        "\n",
        "malign_link = \"/content/gdrive/Copy of BCD/Breast Cancer Detection/Pickle files of images/GRAYSCALE IMAGES ARRAY/malign.pickle\""
      ],
      "execution_count": null,
      "outputs": []
    },
    {
      "cell_type": "code",
      "metadata": {
        "id": "VjLxEcrSl3m9",
        "colab_type": "code",
        "colab": {}
      },
      "source": [
        "pickle_in = open(benign_link, \"rb\")\n",
        "benign_data = pickle.load(pickle_in)\n",
        "\n",
        "pickle_in = open(malign_link, \"rb\")\n",
        "malign_data = pickle.load(pickle_in)"
      ],
      "execution_count": null,
      "outputs": []
    },
    {
      "cell_type": "code",
      "metadata": {
        "colab_type": "code",
        "id": "J8qH3PrHAtei",
        "colab": {}
      },
      "source": [
        "benign_link_3 = \"/content/gdrive/Copy of BCD/Breast Cancer Detection/Pickle files of images/RGB IMAGES ARRAY/benign_3.pickle\"\n",
        "\n",
        "malign_link_3 = \"/content/gdrive/Copy of BCD/Breast Cancer Detection/Pickle files of images/RGB IMAGES ARRAY/malign_3.pickle\""
      ],
      "execution_count": 5,
      "outputs": []
    },
    {
      "cell_type": "code",
      "metadata": {
        "colab_type": "code",
        "id": "5n-QdlF5AtfL",
        "colab": {}
      },
      "source": [
        "pickle_in = open(benign_link_3, \"rb\")\n",
        "benign_data = pickle.load(pickle_in)\n",
        "\n",
        "pickle_in = open(malign_link_3, \"rb\")\n",
        "malign_data = pickle.load(pickle_in)"
      ],
      "execution_count": 6,
      "outputs": []
    },
    {
      "cell_type": "code",
      "metadata": {
        "id": "X4ACdWpegQ8Y",
        "colab_type": "code",
        "colab": {}
      },
      "source": [
        "random.shuffle(benign_data)\n",
        "random.shuffle(malign_data)\n",
        "\n",
        "train_per = 0.7\n",
        "\n",
        "train_data = benign_data[:int(len(benign_data) * train_per)].copy() + malign_data[:int(len(malign_data) * train_per)].copy()\n",
        "\n",
        "test_data = benign_data[int(len(benign_data) * train_per):].copy() + malign_data[int(len(malign_data) * train_per):].copy()\n",
        "\n",
        "\n"
      ],
      "execution_count": 7,
      "outputs": []
    },
    {
      "cell_type": "code",
      "metadata": {
        "id": "IImICxJTjSYb",
        "colab_type": "code",
        "colab": {}
      },
      "source": [
        "random.shuffle(train_data)\n",
        "random.shuffle(test_data)"
      ],
      "execution_count": 8,
      "outputs": []
    },
    {
      "cell_type": "code",
      "metadata": {
        "id": "etRLOt8RiKXD",
        "colab_type": "code",
        "colab": {}
      },
      "source": [
        "assert len(train_data + test_data) == len(benign_data + malign_data)"
      ],
      "execution_count": 9,
      "outputs": []
    },
    {
      "cell_type": "code",
      "metadata": {
        "id": "Rmst7DXKibRU",
        "colab_type": "code",
        "colab": {}
      },
      "source": [
        "X_train = []\n",
        "y_train = []\n",
        "\n",
        "X_test = []\n",
        "y_test = []\n",
        "\n",
        "for X, y in train_data:\n",
        "  X_train.append(X)\n",
        "  y_train.append(y)\n",
        "\n",
        "for X, y in test_data:\n",
        "  X_test.append(X)\n",
        "  y_test.append(y)\n",
        "\n"
      ],
      "execution_count": 10,
      "outputs": []
    },
    {
      "cell_type": "code",
      "metadata": {
        "id": "D_SwLZ_Mjkwr",
        "colab_type": "code",
        "colab": {}
      },
      "source": [
        "IMG_SIZE = len(X_train[0])\n",
        "\n",
        "X_train = np.array(X_train).reshape(-1, IMG_SIZE, IMG_SIZE, 3)\n",
        "\n",
        "IMG_SIZE = len(X_test[0])\n",
        "\n",
        "X_test = np.array(X_test).reshape(-1, IMG_SIZE, IMG_SIZE, 3)"
      ],
      "execution_count": 11,
      "outputs": []
    },
    {
      "cell_type": "code",
      "metadata": {
        "id": "9Mz_FDkvDPxr",
        "colab_type": "code",
        "colab": {}
      },
      "source": [
        "y_train = np.array(y_train).reshape(-1)\n",
        "y_test = np.array(y_test).reshape(-1)"
      ],
      "execution_count": 22,
      "outputs": []
    },
    {
      "cell_type": "code",
      "metadata": {
        "id": "H6VcUqG-lDYT",
        "colab_type": "code",
        "colab": {
          "base_uri": "https://localhost:8080/",
          "height": 50
        },
        "outputId": "b2c5a4f5-66b6-4eca-b40d-54045b0f74d9"
      },
      "source": [
        "print(X_train.shape)\n",
        "print(X_test.shape)"
      ],
      "execution_count": 12,
      "outputs": [
        {
          "output_type": "stream",
          "text": [
            "(2791, 100, 100, 3)\n",
            "(1197, 100, 100, 3)\n"
          ],
          "name": "stdout"
        }
      ]
    },
    {
      "cell_type": "markdown",
      "metadata": {
        "id": "zBAuG_1KtScz",
        "colab_type": "text"
      },
      "source": [
        "# **Configuring the ImageDataGenerator**"
      ]
    },
    {
      "cell_type": "markdown",
      "metadata": {
        "id": "VTmHpQ8mtkTI",
        "colab_type": "text"
      },
      "source": [
        "## Train set Generator"
      ]
    },
    {
      "cell_type": "code",
      "metadata": {
        "id": "zcBiTSvJ-oHA",
        "colab_type": "code",
        "colab": {
          "base_uri": "https://localhost:8080/",
          "height": 34
        },
        "outputId": "9e6c7d68-745f-444e-a041-c760cd5f0abc"
      },
      "source": [
        "train_datagen = ImageDataGenerator(rescale=1./255)\n",
        "\n",
        "train_generator = train_datagen.flow_from_directory(\n",
        "    workspace_train,\n",
        "    target_size = (100, 100),\n",
        "    batch_size = 20,\n",
        "    class_mode = 'binary'\n",
        ")"
      ],
      "execution_count": null,
      "outputs": [
        {
          "output_type": "stream",
          "text": [
            "Found 3207 images belonging to 2 classes.\n"
          ],
          "name": "stdout"
        }
      ]
    },
    {
      "cell_type": "markdown",
      "metadata": {
        "id": "bd22ukgEtqXU",
        "colab_type": "text"
      },
      "source": [
        "## Validation set Generator"
      ]
    },
    {
      "cell_type": "code",
      "metadata": {
        "id": "QqNF8ThZ-oEJ",
        "colab_type": "code",
        "colab": {
          "base_uri": "https://localhost:8080/",
          "height": 34
        },
        "outputId": "d7742353-4a5b-48f6-df9b-d04d94a63c03"
      },
      "source": [
        "validation_datagen = ImageDataGenerator(rescale=1./255)\n",
        "\n",
        "validation_generator = validation_datagen.flow_from_directory(\n",
        "    workspace_val,\n",
        "    target_size = (100, 100),\n",
        "    batch_size = 20,\n",
        "    class_mode = 'binary'\n",
        ")"
      ],
      "execution_count": null,
      "outputs": [
        {
          "output_type": "stream",
          "text": [
            "Found 400 images belonging to 2 classes.\n"
          ],
          "name": "stdout"
        }
      ]
    },
    {
      "cell_type": "markdown",
      "metadata": {
        "id": "akDpqox2ttu9",
        "colab_type": "text"
      },
      "source": [
        "## Test set Generator"
      ]
    },
    {
      "cell_type": "code",
      "metadata": {
        "id": "oRltd93H-nF4",
        "colab_type": "code",
        "colab": {
          "base_uri": "https://localhost:8080/",
          "height": 34
        },
        "outputId": "aca0c9e0-b0f9-4320-d12d-932e5f875825"
      },
      "source": [
        "test_datagen = ImageDataGenerator(rescale=1./255)\n",
        "\n",
        "test_generator = test_datagen.flow_from_directory(\n",
        "    workspace_test,\n",
        "    target_size = (100, 100),\n",
        "    batch_size = 20,\n",
        "    class_mode = 'binary'\n",
        ")"
      ],
      "execution_count": null,
      "outputs": [
        {
          "output_type": "stream",
          "text": [
            "Found 403 images belonging to 2 classes.\n"
          ],
          "name": "stdout"
        }
      ]
    },
    {
      "cell_type": "markdown",
      "metadata": {
        "id": "cIBc1D1Yt0pm",
        "colab_type": "text"
      },
      "source": [
        "# **Setting up the model**"
      ]
    },
    {
      "cell_type": "markdown",
      "metadata": {
        "id": "yhcbfimhuJwE",
        "colab_type": "text"
      },
      "source": [
        "### **model**"
      ]
    },
    {
      "cell_type": "code",
      "metadata": {
        "id": "jObIrtDK-n-H",
        "colab_type": "code",
        "colab": {}
      },
      "source": [
        "model = tf.keras.models.Sequential(\n",
        "    [\n",
        "     \n",
        "     Conv2D(16, (3,3), padding='same', activation='relu', input_shape=(100,100,3)),\n",
        "     MaxPooling2D(2,2),\n",
        "\n",
        "     Conv2D(32, (3,3), padding='same', activation='relu'),\n",
        "     MaxPooling2D(2,2),\n",
        "\n",
        "     Flatten(),\n",
        "\n",
        "     Dense(512, activation='relu'),\n",
        "\n",
        "     Dense(1, activation='sigmoid')\n",
        "     \n",
        "    ]\n",
        ")"
      ],
      "execution_count": null,
      "outputs": []
    },
    {
      "cell_type": "code",
      "metadata": {
        "id": "qqMZ_c-T-n7a",
        "colab_type": "code",
        "colab": {}
      },
      "source": [
        "model.summary()"
      ],
      "execution_count": null,
      "outputs": []
    },
    {
      "cell_type": "code",
      "metadata": {
        "id": "Xjb5XbD6-n4Y",
        "colab_type": "code",
        "colab": {}
      },
      "source": [
        "model.compile(\n",
        "    loss = 'binary_crossentropy',\n",
        "    optimizer = Adam(),\n",
        "    metrics = ['acc']\n",
        ")"
      ],
      "execution_count": null,
      "outputs": []
    },
    {
      "cell_type": "code",
      "metadata": {
        "id": "PpiaonjN-n1f",
        "colab_type": "code",
        "colab": {}
      },
      "source": [
        "result = model.fit(\n",
        "    train_generator,\n",
        "    steps_per_epoch = 160,\n",
        "    epochs = 15,\n",
        "    validation_data = validation_generator,\n",
        "    validation_steps = 20,\n",
        "    verbose = 2\n",
        ")"
      ],
      "execution_count": null,
      "outputs": []
    },
    {
      "cell_type": "code",
      "metadata": {
        "id": "ZIO6YiSN-nvf",
        "colab_type": "code",
        "colab": {}
      },
      "source": [
        "# Plotting the accuracy of \"model\"\n",
        "plt.plot(result.history['acc'])\n",
        "plt.plot(result.history['val_acc'])\n",
        "plt.title('model accuracy')\n",
        "plt.ylabel('accuracy')\n",
        "plt.xlabel('epoch')\n",
        "plt.legend(['train', 'validation'], loc='upper left')\n",
        "plt.show()\n",
        "\n",
        "# Loss of \"model\"\n",
        "plt.plot(result.history['loss'])\n",
        "plt.plot(result.history['val_loss'])\n",
        "plt.title('model loss')\n",
        "plt.ylabel('loss')\n",
        "plt.xlabel('epoch')\n",
        "plt.legend(['train', 'validation'], loc='upper left')\n",
        "plt.show()\n"
      ],
      "execution_count": null,
      "outputs": []
    },
    {
      "cell_type": "markdown",
      "metadata": {
        "id": "tAH3BbyeuYKe",
        "colab_type": "text"
      },
      "source": [
        "### **model_DO**"
      ]
    },
    {
      "cell_type": "code",
      "metadata": {
        "id": "esRrGBa6-np5",
        "colab_type": "code",
        "colab": {}
      },
      "source": [
        "model_DO = tf.keras.models.Sequential(\n",
        "    [\n",
        "     \n",
        "     Conv2D(16, (3,3), padding='same', activation='relu', input_shape=(100,100,3)),\n",
        "     MaxPooling2D(2,2),\n",
        "\n",
        "     Conv2D(32, (3,3), padding='same', activation='relu'),\n",
        "     MaxPooling2D(2,2),\n",
        "\n",
        "     Flatten(),\n",
        "\n",
        "     Dense(512, activation='relu'),\n",
        "\n",
        "     Dropout(0.5),\n",
        "\n",
        "     Dense(1, activation='sigmoid')\n",
        "     \n",
        "    ]\n",
        ")"
      ],
      "execution_count": null,
      "outputs": []
    },
    {
      "cell_type": "code",
      "metadata": {
        "id": "KVi5zTXY-nnQ",
        "colab_type": "code",
        "colab": {
          "base_uri": "https://localhost:8080/",
          "height": 420
        },
        "outputId": "057e94bc-74d0-4668-c64d-87a43524dcfc"
      },
      "source": [
        "model_DO.summary()"
      ],
      "execution_count": null,
      "outputs": [
        {
          "output_type": "stream",
          "text": [
            "Model: \"sequential_2\"\n",
            "_________________________________________________________________\n",
            "Layer (type)                 Output Shape              Param #   \n",
            "=================================================================\n",
            "conv2d_4 (Conv2D)            (None, 100, 100, 16)      448       \n",
            "_________________________________________________________________\n",
            "max_pooling2d_4 (MaxPooling2 (None, 50, 50, 16)        0         \n",
            "_________________________________________________________________\n",
            "conv2d_5 (Conv2D)            (None, 50, 50, 32)        4640      \n",
            "_________________________________________________________________\n",
            "max_pooling2d_5 (MaxPooling2 (None, 25, 25, 32)        0         \n",
            "_________________________________________________________________\n",
            "flatten_2 (Flatten)          (None, 20000)             0         \n",
            "_________________________________________________________________\n",
            "dense_4 (Dense)              (None, 512)               10240512  \n",
            "_________________________________________________________________\n",
            "dropout (Dropout)            (None, 512)               0         \n",
            "_________________________________________________________________\n",
            "dense_5 (Dense)              (None, 1)                 513       \n",
            "=================================================================\n",
            "Total params: 10,246,113\n",
            "Trainable params: 10,246,113\n",
            "Non-trainable params: 0\n",
            "_________________________________________________________________\n"
          ],
          "name": "stdout"
        }
      ]
    },
    {
      "cell_type": "code",
      "metadata": {
        "id": "9GVnF07q-nki",
        "colab_type": "code",
        "colab": {}
      },
      "source": [
        "model_DO.compile(\n",
        "    loss = 'binary_crossentropy',\n",
        "    optimizer = Adam(),\n",
        "    metrics = ['acc']\n",
        ")"
      ],
      "execution_count": null,
      "outputs": []
    },
    {
      "cell_type": "code",
      "metadata": {
        "id": "D_EfWYjW-nhu",
        "colab_type": "code",
        "colab": {
          "base_uri": "https://localhost:8080/",
          "height": 521
        },
        "outputId": "43d5ac52-014e-417b-8392-6992c3496c50"
      },
      "source": [
        "result_DO = model_DO.fit(\n",
        "    train_generator,\n",
        "    steps_per_epoch = 160,\n",
        "    epochs = 15,\n",
        "    validation_data = validation_generator,\n",
        "    validation_steps = 20,\n",
        "    verbose = 2\n",
        ")"
      ],
      "execution_count": null,
      "outputs": [
        {
          "output_type": "stream",
          "text": [
            "Epoch 1/15\n",
            "160/160 - 41s - loss: 0.5901 - acc: 0.7270 - val_loss: 0.4120 - val_acc: 0.8525\n",
            "Epoch 2/15\n",
            "160/160 - 37s - loss: 0.4430 - acc: 0.7948 - val_loss: 0.3533 - val_acc: 0.8500\n",
            "Epoch 3/15\n",
            "160/160 - 37s - loss: 0.3733 - acc: 0.8375 - val_loss: 0.3604 - val_acc: 0.8375\n",
            "Epoch 4/15\n",
            "160/160 - 37s - loss: 0.3500 - acc: 0.8409 - val_loss: 0.3479 - val_acc: 0.8400\n",
            "Epoch 5/15\n",
            "160/160 - 37s - loss: 0.3239 - acc: 0.8513 - val_loss: 0.3197 - val_acc: 0.8700\n",
            "Epoch 6/15\n",
            "160/160 - 37s - loss: 0.2817 - acc: 0.8776 - val_loss: 0.3266 - val_acc: 0.8575\n",
            "Epoch 7/15\n",
            "160/160 - 37s - loss: 0.2558 - acc: 0.8867 - val_loss: 0.3390 - val_acc: 0.8450\n",
            "Epoch 8/15\n",
            "160/160 - 37s - loss: 0.2476 - acc: 0.8952 - val_loss: 0.3168 - val_acc: 0.8775\n",
            "Epoch 9/15\n",
            "160/160 - 37s - loss: 0.2131 - acc: 0.9121 - val_loss: 0.3055 - val_acc: 0.8925\n",
            "Epoch 10/15\n",
            "160/160 - 37s - loss: 0.1927 - acc: 0.9238 - val_loss: 0.3520 - val_acc: 0.8500\n",
            "Epoch 11/15\n",
            "160/160 - 37s - loss: 0.1668 - acc: 0.9357 - val_loss: 0.3575 - val_acc: 0.8625\n",
            "Epoch 12/15\n",
            "160/160 - 37s - loss: 0.1549 - acc: 0.9338 - val_loss: 0.3465 - val_acc: 0.8450\n",
            "Epoch 13/15\n",
            "160/160 - 37s - loss: 0.1378 - acc: 0.9441 - val_loss: 0.3999 - val_acc: 0.8350\n",
            "Epoch 14/15\n",
            "160/160 - 37s - loss: 0.1236 - acc: 0.9504 - val_loss: 0.4011 - val_acc: 0.8750\n",
            "Epoch 15/15\n",
            "160/160 - 37s - loss: 0.1155 - acc: 0.9548 - val_loss: 0.3715 - val_acc: 0.8450\n"
          ],
          "name": "stdout"
        }
      ]
    },
    {
      "cell_type": "code",
      "metadata": {
        "id": "1j3Kddxo-neo",
        "colab_type": "code",
        "colab": {
          "base_uri": "https://localhost:8080/",
          "height": 573
        },
        "outputId": "58f74a57-8ad0-4e8a-8e56-f68d2ca3e0e1"
      },
      "source": [
        "# Accuracy of \"model_DO\"\n",
        "plt.plot(result_DO.history['acc'])\n",
        "plt.plot(result_DO.history['val_acc'])\n",
        "plt.title('model accuracy')\n",
        "plt.ylabel('accuracy')\n",
        "plt.xlabel('epoch')\n",
        "plt.legend(['train', 'validation'], loc='upper left')\n",
        "plt.show()\n",
        "\n",
        "# Loss of \"model_DO\"\n",
        "plt.plot(result_DO.history['loss'])\n",
        "plt.plot(result_DO.history['val_loss'])\n",
        "plt.title('model loss')\n",
        "plt.ylabel('loss')\n",
        "plt.xlabel('epoch')\n",
        "plt.legend(['train', 'validation'], loc='upper left')\n",
        "plt.show()\n"
      ],
      "execution_count": null,
      "outputs": [
        {
          "output_type": "display_data",
          "data": {
            "image/png": "[encoded data removed]",
            "text/plain": [
              "<Figure size 432x288 with 1 Axes>"
            ]
          },
          "metadata": {
            "tags": [],
            "needs_background": "light"
          }
        },
        {
          "output_type": "display_data",
          "data": {
            "image/png": "[encoded data removed]",
            "text/plain": [
              "<Figure size 432x288 with 1 Axes>"
            ]
          },
          "metadata": {
            "tags": [],
            "needs_background": "light"
          }
        }
      ]
    },
    {
      "cell_type": "markdown",
      "metadata": {
        "id": "u1MDvszRulre",
        "colab_type": "text"
      },
      "source": [
        "### **model_DO_less**"
      ]
    },
    {
      "cell_type": "code",
      "metadata": {
        "id": "DeMevjtQ-nZB",
        "colab_type": "code",
        "colab": {}
      },
      "source": [
        "model_DO_less = tf.keras.models.Sequential(\n",
        "    [\n",
        "     \n",
        "     Conv2D(8, (3,3), padding='same', activation='relu', input_shape=(100,100,3)),\n",
        "     MaxPooling2D(2,2),\n",
        "\n",
        "     Conv2D(16, (3,3), padding='same', activation='relu'),\n",
        "     MaxPooling2D(2,2),\n",
        "\n",
        "     Flatten(),\n",
        "\n",
        "     Dense(128, activation='relu'),\n",
        "\n",
        "     Dropout(0.5),\n",
        "\n",
        "     Dense(1, activation='sigmoid')\n",
        "     \n",
        "    ]\n",
        ")"
      ],
      "execution_count": null,
      "outputs": []
    },
    {
      "cell_type": "code",
      "metadata": {
        "id": "pZK6i3ht-nWQ",
        "colab_type": "code",
        "colab": {
          "base_uri": "https://localhost:8080/",
          "height": 420
        },
        "outputId": "cd16dd42-1abc-457d-f978-8c0ec0334e2d"
      },
      "source": [
        "model_DO_less.summary()"
      ],
      "execution_count": null,
      "outputs": [
        {
          "output_type": "stream",
          "text": [
            "Model: \"sequential_3\"\n",
            "_________________________________________________________________\n",
            "Layer (type)                 Output Shape              Param #   \n",
            "=================================================================\n",
            "conv2d_6 (Conv2D)            (None, 100, 100, 8)       224       \n",
            "_________________________________________________________________\n",
            "max_pooling2d_6 (MaxPooling2 (None, 50, 50, 8)         0         \n",
            "_________________________________________________________________\n",
            "conv2d_7 (Conv2D)            (None, 50, 50, 16)        1168      \n",
            "_________________________________________________________________\n",
            "max_pooling2d_7 (MaxPooling2 (None, 25, 25, 16)        0         \n",
            "_________________________________________________________________\n",
            "flatten_3 (Flatten)          (None, 10000)             0         \n",
            "_________________________________________________________________\n",
            "dense_6 (Dense)              (None, 128)               1280128   \n",
            "_________________________________________________________________\n",
            "dropout_1 (Dropout)          (None, 128)               0         \n",
            "_________________________________________________________________\n",
            "dense_7 (Dense)              (None, 1)                 129       \n",
            "=================================================================\n",
            "Total params: 1,281,649\n",
            "Trainable params: 1,281,649\n",
            "Non-trainable params: 0\n",
            "_________________________________________________________________\n"
          ],
          "name": "stdout"
        }
      ]
    },
    {
      "cell_type": "code",
      "metadata": {
        "id": "yqGpmFwh-nTg",
        "colab_type": "code",
        "colab": {}
      },
      "source": [
        "model_DO_less.compile(\n",
        "    loss = 'binary_crossentropy',\n",
        "    optimizer = Adam(),\n",
        "    metrics = ['acc']\n",
        ")"
      ],
      "execution_count": null,
      "outputs": []
    },
    {
      "cell_type": "code",
      "metadata": {
        "id": "zFHDNeAV-nQv",
        "colab_type": "code",
        "colab": {
          "base_uri": "https://localhost:8080/",
          "height": 521
        },
        "outputId": "50e00a72-789d-4d23-eec3-5de3f51d92ed"
      },
      "source": [
        "result_DO_less = model_DO_less.fit(\n",
        "    train_generator,\n",
        "    steps_per_epoch = 160,\n",
        "    epochs = 15,\n",
        "    validation_data = validation_generator,\n",
        "    validation_steps = 20,\n",
        "    verbose = 2\n",
        ")"
      ],
      "execution_count": null,
      "outputs": [
        {
          "output_type": "stream",
          "text": [
            "Epoch 1/15\n",
            "160/160 - 21s - loss: 0.5744 - acc: 0.7204 - val_loss: 0.4433 - val_acc: 0.8000\n",
            "Epoch 2/15\n",
            "160/160 - 21s - loss: 0.4461 - acc: 0.8045 - val_loss: 0.4062 - val_acc: 0.8125\n",
            "Epoch 3/15\n",
            "160/160 - 21s - loss: 0.4323 - acc: 0.8029 - val_loss: 0.3574 - val_acc: 0.8500\n",
            "Epoch 4/15\n",
            "160/160 - 21s - loss: 0.3859 - acc: 0.8302 - val_loss: 0.3298 - val_acc: 0.8650\n",
            "Epoch 5/15\n",
            "160/160 - 21s - loss: 0.3700 - acc: 0.8393 - val_loss: 0.3424 - val_acc: 0.8650\n",
            "Epoch 6/15\n",
            "160/160 - 21s - loss: 0.3524 - acc: 0.8481 - val_loss: 0.3430 - val_acc: 0.8425\n",
            "Epoch 7/15\n",
            "160/160 - 21s - loss: 0.3430 - acc: 0.8481 - val_loss: 0.3255 - val_acc: 0.8575\n",
            "Epoch 8/15\n",
            "160/160 - 21s - loss: 0.3247 - acc: 0.8634 - val_loss: 0.2996 - val_acc: 0.8750\n",
            "Epoch 9/15\n",
            "160/160 - 21s - loss: 0.3143 - acc: 0.8604 - val_loss: 0.3062 - val_acc: 0.8775\n",
            "Epoch 10/15\n",
            "160/160 - 21s - loss: 0.2858 - acc: 0.8801 - val_loss: 0.2981 - val_acc: 0.8825\n",
            "Epoch 11/15\n",
            "160/160 - 21s - loss: 0.2784 - acc: 0.8801 - val_loss: 0.2993 - val_acc: 0.8675\n",
            "Epoch 12/15\n",
            "160/160 - 21s - loss: 0.2825 - acc: 0.8739 - val_loss: 0.2986 - val_acc: 0.8875\n",
            "Epoch 13/15\n",
            "160/160 - 21s - loss: 0.2494 - acc: 0.8914 - val_loss: 0.3024 - val_acc: 0.8800\n",
            "Epoch 14/15\n",
            "160/160 - 21s - loss: 0.2528 - acc: 0.8911 - val_loss: 0.3119 - val_acc: 0.8775\n",
            "Epoch 15/15\n",
            "160/160 - 21s - loss: 0.2287 - acc: 0.8987 - val_loss: 0.2827 - val_acc: 0.8975\n"
          ],
          "name": "stdout"
        }
      ]
    },
    {
      "cell_type": "code",
      "metadata": {
        "id": "W00eO2Ie-nN_",
        "colab_type": "code",
        "colab": {
          "base_uri": "https://localhost:8080/",
          "height": 573
        },
        "outputId": "74630159-5435-4f72-c0b3-f17affa20862"
      },
      "source": [
        "# Accuracy of \"model_DO_less\"\n",
        "plt.plot(result_DO_less.history['acc'])\n",
        "plt.plot(result_DO_less.history['val_acc'])\n",
        "plt.title('model accuracy')\n",
        "plt.ylabel('accuracy')\n",
        "plt.xlabel('epoch')\n",
        "plt.legend(['train', 'validation'], loc='upper left')\n",
        "plt.show()\n",
        "\n",
        "# Loss of \"model_DO_less\"\n",
        "plt.plot(result_DO_less.history['loss'])\n",
        "plt.plot(result_DO_less.history['val_loss'])\n",
        "plt.title('model loss')\n",
        "plt.ylabel('loss')\n",
        "plt.xlabel('epoch')\n",
        "plt.legend(['train', 'validation'], loc='upper left')\n",
        "plt.show()\n"
      ],
      "execution_count": null,
      "outputs": [
        {
          "output_type": "display_data",
          "data": {
            "image/png": "[encoded data removed]",
            "text/plain": [
              "<Figure size 432x288 with 1 Axes>"
            ]
          },
          "metadata": {
            "tags": [],
            "needs_background": "light"
          }
        },
        {
          "output_type": "display_data",
          "data": {
            "image/png": "[encoded data removed]",
            "text/plain": [
              "<Figure size 432x288 with 1 Axes>"
            ]
          },
          "metadata": {
            "tags": [],
            "needs_background": "light"
          }
        }
      ]
    },
    {
      "cell_type": "markdown",
      "metadata": {
        "id": "ZJAbIU2fuw-2",
        "colab_type": "text"
      },
      "source": [
        "### **model_DO_06_Dense_128**"
      ]
    },
    {
      "cell_type": "code",
      "metadata": {
        "id": "Y6rSoUWJw7qC",
        "colab_type": "code",
        "colab": {}
      },
      "source": [
        "model_DO_06_Dense_128 = tf.keras.models.Sequential(\n",
        "    [\n",
        "     \n",
        "     Conv2D(8, (3,3), padding='same', activation='relu', input_shape=(100,100,3)),\n",
        "     MaxPooling2D(2,2),\n",
        "\n",
        "     Conv2D(16, (3,3), padding='same', activation='relu'),\n",
        "     MaxPooling2D(2,2),\n",
        "\n",
        "     Flatten(),\n",
        "\n",
        "     Dense(128, activation='relu'),\n",
        "\n",
        "     Dropout(0.6),\n",
        "\n",
        "     Dense(1, activation='sigmoid')\n",
        "     \n",
        "    ]\n",
        ")"
      ],
      "execution_count": null,
      "outputs": []
    },
    {
      "cell_type": "code",
      "metadata": {
        "id": "9IS6f3N4w7Yo",
        "colab_type": "code",
        "colab": {
          "base_uri": "https://localhost:8080/",
          "height": 420
        },
        "outputId": "854572f8-2903-45c8-dcef-f5643a101821"
      },
      "source": [
        "model_DO_06_Dense_128.summary()"
      ],
      "execution_count": null,
      "outputs": [
        {
          "output_type": "stream",
          "text": [
            "Model: \"sequential_5\"\n",
            "_________________________________________________________________\n",
            "Layer (type)                 Output Shape              Param #   \n",
            "=================================================================\n",
            "conv2d_10 (Conv2D)           (None, 100, 100, 8)       224       \n",
            "_________________________________________________________________\n",
            "max_pooling2d_10 (MaxPooling (None, 50, 50, 8)         0         \n",
            "_________________________________________________________________\n",
            "conv2d_11 (Conv2D)           (None, 50, 50, 16)        1168      \n",
            "_________________________________________________________________\n",
            "max_pooling2d_11 (MaxPooling (None, 25, 25, 16)        0         \n",
            "_________________________________________________________________\n",
            "flatten_5 (Flatten)          (None, 10000)             0         \n",
            "_________________________________________________________________\n",
            "dense_10 (Dense)             (None, 128)               1280128   \n",
            "_________________________________________________________________\n",
            "dropout_3 (Dropout)          (None, 128)               0         \n",
            "_________________________________________________________________\n",
            "dense_11 (Dense)             (None, 1)                 129       \n",
            "=================================================================\n",
            "Total params: 1,281,649\n",
            "Trainable params: 1,281,649\n",
            "Non-trainable params: 0\n",
            "_________________________________________________________________\n"
          ],
          "name": "stdout"
        }
      ]
    },
    {
      "cell_type": "code",
      "metadata": {
        "id": "AjPhnlX2w6fL",
        "colab_type": "code",
        "colab": {}
      },
      "source": [
        "model_DO_06_Dense_128.compile(\n",
        "    loss = 'binary_crossentropy',\n",
        "    optimizer = Adam(),\n",
        "    metrics = ['acc']\n",
        ")"
      ],
      "execution_count": null,
      "outputs": []
    },
    {
      "cell_type": "code",
      "metadata": {
        "id": "miAKqRHCw6VD",
        "colab_type": "code",
        "colab": {
          "base_uri": "https://localhost:8080/",
          "height": 521
        },
        "outputId": "c165c13a-cbbf-4857-8041-98ab9669edcc"
      },
      "source": [
        "result_DO_06_Dense_128 = model_DO_06_Dense_128.fit(\n",
        "    train_generator,\n",
        "    steps_per_epoch = 160,\n",
        "    epochs = 15,\n",
        "    validation_data = validation_generator,\n",
        "    validation_steps = 20,\n",
        "    verbose = 2\n",
        ")"
      ],
      "execution_count": null,
      "outputs": [
        {
          "output_type": "stream",
          "text": [
            "Epoch 1/15\n",
            "160/160 - 21s - loss: 0.6279 - acc: 0.6727 - val_loss: 0.4930 - val_acc: 0.7975\n",
            "Epoch 2/15\n",
            "160/160 - 25s - loss: 0.5039 - acc: 0.7719 - val_loss: 0.4717 - val_acc: 0.8175\n",
            "Epoch 3/15\n",
            "160/160 - 21s - loss: 0.4797 - acc: 0.7848 - val_loss: 0.3880 - val_acc: 0.8425\n",
            "Epoch 4/15\n",
            "160/160 - 21s - loss: 0.4194 - acc: 0.8227 - val_loss: 0.3676 - val_acc: 0.8425\n",
            "Epoch 5/15\n",
            "160/160 - 21s - loss: 0.4058 - acc: 0.8190 - val_loss: 0.3592 - val_acc: 0.8475\n",
            "Epoch 6/15\n",
            "160/160 - 21s - loss: 0.3907 - acc: 0.8293 - val_loss: 0.3361 - val_acc: 0.8575\n",
            "Epoch 7/15\n",
            "160/160 - 21s - loss: 0.3543 - acc: 0.8412 - val_loss: 0.3397 - val_acc: 0.8575\n",
            "Epoch 8/15\n",
            "160/160 - 21s - loss: 0.3391 - acc: 0.8522 - val_loss: 0.3661 - val_acc: 0.8350\n",
            "Epoch 9/15\n",
            "160/160 - 21s - loss: 0.3286 - acc: 0.8557 - val_loss: 0.3144 - val_acc: 0.8775\n",
            "Epoch 10/15\n",
            "160/160 - 21s - loss: 0.3081 - acc: 0.8717 - val_loss: 0.3132 - val_acc: 0.8575\n",
            "Epoch 11/15\n",
            "160/160 - 21s - loss: 0.2998 - acc: 0.8635 - val_loss: 0.2960 - val_acc: 0.8700\n",
            "Epoch 12/15\n",
            "160/160 - 21s - loss: 0.2835 - acc: 0.8808 - val_loss: 0.3098 - val_acc: 0.8525\n",
            "Epoch 13/15\n",
            "160/160 - 21s - loss: 0.2833 - acc: 0.8717 - val_loss: 0.2909 - val_acc: 0.8625\n",
            "Epoch 14/15\n",
            "160/160 - 21s - loss: 0.2641 - acc: 0.8833 - val_loss: 0.3044 - val_acc: 0.8650\n",
            "Epoch 15/15\n",
            "160/160 - 21s - loss: 0.2610 - acc: 0.8817 - val_loss: 0.3109 - val_acc: 0.8525\n"
          ],
          "name": "stdout"
        }
      ]
    },
    {
      "cell_type": "code",
      "metadata": {
        "id": "-Jkx2nrOxmAL",
        "colab_type": "code",
        "colab": {
          "base_uri": "https://localhost:8080/",
          "height": 573
        },
        "outputId": "6d6bd8e9-9eb1-4a80-90f8-2fb3ef46b41b"
      },
      "source": [
        "# Accuracy of \"model_DO_06_Dense_128\"\n",
        "plt.plot(result_DO_06_Dense_128.history['acc'])\n",
        "plt.plot(result_DO_06_Dense_128.history['val_acc'])\n",
        "plt.title('model accuracy')\n",
        "plt.ylabel('accuracy')\n",
        "plt.legend(['train', 'validation'], loc='upper left')\n",
        "plt.show()\n",
        "plt.xlabel('epoch')\n",
        "\n",
        "# Loss of \"model_DO_06_Dense_128\"\n",
        "plt.plot(result_DO_06_Dense_128.history['loss'])\n",
        "plt.plot(result_DO_06_Dense_128.history['val_loss'])\n",
        "plt.title('model loss')\n",
        "plt.ylabel('loss')\n",
        "plt.xlabel('epoch')\n",
        "plt.legend(['train', 'validation'], loc='upper left')\n",
        "plt.show()\n"
      ],
      "execution_count": null,
      "outputs": [
        {
          "output_type": "display_data",
          "data": {
            "image/png": "[encoded data removed]",
            "text/plain": [
              "<Figure size 432x288 with 1 Axes>"
            ]
          },
          "metadata": {
            "tags": [],
            "needs_background": "light"
          }
        },
        {
          "output_type": "display_data",
          "data": {
            "image/png": "[encoded data removed]",
            "text/plain": [
              "<Figure size 432x288 with 1 Axes>"
            ]
          },
          "metadata": {
            "tags": [],
            "needs_background": "light"
          }
        }
      ]
    },
    {
      "cell_type": "markdown",
      "metadata": {
        "id": "yA2V1oIJu8XM",
        "colab_type": "text"
      },
      "source": [
        "### **model_DO_04_Dense_256**"
      ]
    },
    {
      "cell_type": "markdown",
      "metadata": {
        "id": "wTSqmq8WSbk3",
        "colab_type": "text"
      },
      "source": [
        "vgg without dropout"
      ]
    },
    {
      "cell_type": "code",
      "metadata": {
        "id": "QayBfJ1WujPc",
        "colab_type": "code",
        "colab": {}
      },
      "source": [
        "model_DO_04_Dense_256 = tf.keras.models.Sequential(\n",
        "    [\n",
        "     \n",
        "     Conv2D(8, (3,3), padding='same', activation='relu', input_shape=(100,100,3)),\n",
        "     MaxPooling2D(2,2),\n",
        "\n",
        "     Conv2D(16, (3,3), padding='same', activation='relu'),\n",
        "     MaxPooling2D(2,2),\n",
        "\n",
        "     layers.Flatten(),\n",
        "\n",
        "     Dense(256, activation='relu'),\n",
        "\n",
        "     Dropout(0.4),\n",
        "\n",
        "     Dense(1, activation='sigmoid')\n",
        "     \n",
        "    ]\n",
        ")"
      ],
      "execution_count": null,
      "outputs": []
    },
    {
      "cell_type": "code",
      "metadata": {
        "id": "X-NDvD9iujNB",
        "colab_type": "code",
        "colab": {
          "base_uri": "https://localhost:8080/",
          "height": 420
        },
        "outputId": "d7ee79d6-3f02-4eeb-884f-e3a1bb2c2238"
      },
      "source": [
        "model_DO_04_Dense_256.summary()"
      ],
      "execution_count": null,
      "outputs": [
        {
          "output_type": "stream",
          "text": [
            "Model: \"sequential_4\"\n",
            "_________________________________________________________________\n",
            "Layer (type)                 Output Shape              Param #   \n",
            "=================================================================\n",
            "conv2d_8 (Conv2D)            (None, 100, 100, 8)       224       \n",
            "_________________________________________________________________\n",
            "max_pooling2d_8 (MaxPooling2 (None, 50, 50, 8)         0         \n",
            "_________________________________________________________________\n",
            "conv2d_9 (Conv2D)            (None, 50, 50, 16)        1168      \n",
            "_________________________________________________________________\n",
            "max_pooling2d_9 (MaxPooling2 (None, 25, 25, 16)        0         \n",
            "_________________________________________________________________\n",
            "flatten_4 (Flatten)          (None, 10000)             0         \n",
            "_________________________________________________________________\n",
            "dense_8 (Dense)              (None, 256)               2560256   \n",
            "_________________________________________________________________\n",
            "dropout_2 (Dropout)          (None, 256)               0         \n",
            "_________________________________________________________________\n",
            "dense_9 (Dense)              (None, 1)                 257       \n",
            "=================================================================\n",
            "Total params: 2,561,905\n",
            "Trainable params: 2,561,905\n",
            "Non-trainable params: 0\n",
            "_________________________________________________________________\n"
          ],
          "name": "stdout"
        }
      ]
    },
    {
      "cell_type": "code",
      "metadata": {
        "id": "WoExatvWujKK",
        "colab_type": "code",
        "colab": {}
      },
      "source": [
        "model_DO_04_Dense_256.compile(\n",
        "    loss = 'binary_crossentropy',\n",
        "    optimizer = Adam(),\n",
        "    metrics = ['acc']\n",
        ")"
      ],
      "execution_count": null,
      "outputs": []
    },
    {
      "cell_type": "code",
      "metadata": {
        "id": "d9-isKV1ujH4",
        "colab_type": "code",
        "colab": {
          "base_uri": "https://localhost:8080/",
          "height": 521
        },
        "outputId": "5ec25c0b-ee10-4234-b1fa-d1f1ac19bd71"
      },
      "source": [
        "result_DO_04_Dense_256 = model_DO_04_Dense_256.fit(\n",
        "    train_generator,\n",
        "    steps_per_epoch = 160,\n",
        "    epochs = 15,\n",
        "    validation_data = validation_generator,\n",
        "    validation_steps = 20,\n",
        "    verbose = 2\n",
        ")"
      ],
      "execution_count": null,
      "outputs": [
        {
          "output_type": "stream",
          "text": [
            "Epoch 1/15\n",
            "160/160 - 22s - loss: 0.5819 - acc: 0.7063 - val_loss: 0.4691 - val_acc: 0.7650\n",
            "Epoch 2/15\n",
            "160/160 - 22s - loss: 0.4553 - acc: 0.7951 - val_loss: 0.3642 - val_acc: 0.8500\n",
            "Epoch 3/15\n",
            "160/160 - 22s - loss: 0.4048 - acc: 0.8199 - val_loss: 0.3622 - val_acc: 0.8325\n",
            "Epoch 4/15\n",
            "160/160 - 23s - loss: 0.3556 - acc: 0.8459 - val_loss: 0.3088 - val_acc: 0.8825\n",
            "Epoch 5/15\n",
            "160/160 - 22s - loss: 0.3353 - acc: 0.8478 - val_loss: 0.3473 - val_acc: 0.8550\n",
            "Epoch 6/15\n",
            "160/160 - 22s - loss: 0.3113 - acc: 0.8679 - val_loss: 0.3528 - val_acc: 0.8675\n",
            "Epoch 7/15\n",
            "160/160 - 22s - loss: 0.2841 - acc: 0.8707 - val_loss: 0.3120 - val_acc: 0.8725\n",
            "Epoch 8/15\n",
            "160/160 - 22s - loss: 0.2725 - acc: 0.8820 - val_loss: 0.2880 - val_acc: 0.8825\n",
            "Epoch 9/15\n",
            "160/160 - 22s - loss: 0.2327 - acc: 0.8958 - val_loss: 0.3044 - val_acc: 0.8600\n",
            "Epoch 10/15\n",
            "160/160 - 22s - loss: 0.2189 - acc: 0.9040 - val_loss: 0.3101 - val_acc: 0.8775\n",
            "Epoch 11/15\n",
            "160/160 - 22s - loss: 0.2087 - acc: 0.9125 - val_loss: 0.2648 - val_acc: 0.8925\n",
            "Epoch 12/15\n",
            "160/160 - 22s - loss: 0.1890 - acc: 0.9259 - val_loss: 0.3372 - val_acc: 0.8675\n",
            "Epoch 13/15\n",
            "160/160 - 22s - loss: 0.1629 - acc: 0.9303 - val_loss: 0.3360 - val_acc: 0.8450\n",
            "Epoch 14/15\n",
            "160/160 - 22s - loss: 0.1502 - acc: 0.9385 - val_loss: 0.4973 - val_acc: 0.8275\n",
            "Epoch 15/15\n",
            "160/160 - 22s - loss: 0.1382 - acc: 0.9454 - val_loss: 0.3758 - val_acc: 0.8675\n"
          ],
          "name": "stdout"
        }
      ]
    },
    {
      "cell_type": "code",
      "metadata": {
        "id": "alEGcxBrujFe",
        "colab_type": "code",
        "colab": {
          "base_uri": "https://localhost:8080/",
          "height": 573
        },
        "outputId": "2fc65e4d-9aae-45fd-ace6-e4406d70eb51"
      },
      "source": [
        "# Accuracy of \"model_DO_04_Dense_256\"\n",
        "plt.plot(result_DO_04_Dense_256.history['acc'])\n",
        "plt.plot(result_DO_04_Dense_256.history['val_acc'])\n",
        "plt.title('model accuracy')\n",
        "plt.ylabel('accuracy')\n",
        "plt.xlabel('epoch')\n",
        "plt.legend(['train', 'validation'], loc='upper left')\n",
        "plt.show()\n",
        "\n",
        "# Loss of \"model_DO_04_Dense_256\"\n",
        "plt.plot(result_DO_04_Dense_256.history['loss'])\n",
        "plt.plot(result_DO_04_Dense_256.history['val_loss'])\n",
        "plt.title('model loss')\n",
        "plt.ylabel('loss')\n",
        "plt.xlabel('epoch')\n",
        "plt.legend(['train', 'validation'], loc='upper left')\n",
        "plt.show()"
      ],
      "execution_count": null,
      "outputs": [
        {
          "output_type": "display_data",
          "data": {
            "image/png": "[encoded data removed]",
            "text/plain": [
              "<Figure size 432x288 with 1 Axes>"
            ]
          },
          "metadata": {
            "tags": [],
            "needs_background": "light"
          }
        },
        {
          "output_type": "display_data",
          "data": {
            "image/png": "[encoded data removed]",
            "text/plain": [
              "<Figure size 432x288 with 1 Axes>"
            ]
          },
          "metadata": {
            "tags": [],
            "needs_background": "light"
          }
        }
      ]
    },
    {
      "cell_type": "markdown",
      "metadata": {
        "id": "0hSfKKfWjQbt",
        "colab_type": "text"
      },
      "source": [
        "### **model_vgg**"
      ]
    },
    {
      "cell_type": "markdown",
      "metadata": {
        "id": "9Ho2GojJSx7F",
        "colab_type": "text"
      },
      "source": [
        "#### **vgg without dropout**"
      ]
    },
    {
      "cell_type": "code",
      "metadata": {
        "id": "qxWWNTayjQFl",
        "colab_type": "code",
        "colab": {}
      },
      "source": [
        "vgg = VGG16(\n",
        "    include_top=False, \n",
        "    weights='imagenet', \n",
        "    input_shape=(100, 100, 3)\n",
        "    )\n",
        "# vgg.trainable = False\n",
        "\n",
        "for layer in vgg.layers:\n",
        "  layer.trainable = False"
      ],
      "execution_count": null,
      "outputs": []
    },
    {
      "cell_type": "code",
      "metadata": {
        "id": "vLoQB6uvqBNP",
        "colab_type": "code",
        "colab": {
          "base_uri": "https://localhost:8080/",
          "height": 790
        },
        "outputId": "af1bafa5-c020-4cf9-cc81-1b81deab9b8c"
      },
      "source": [
        "vgg.summary()"
      ],
      "execution_count": null,
      "outputs": [
        {
          "output_type": "stream",
          "text": [
            "Model: \"vgg16\"\n",
            "_________________________________________________________________\n",
            "Layer (type)                 Output Shape              Param #   \n",
            "=================================================================\n",
            "input_1 (InputLayer)         [(None, 100, 100, 3)]     0         \n",
            "_________________________________________________________________\n",
            "block1_conv1 (Conv2D)        (None, 100, 100, 64)      1792      \n",
            "_________________________________________________________________\n",
            "block1_conv2 (Conv2D)        (None, 100, 100, 64)      36928     \n",
            "_________________________________________________________________\n",
            "block1_pool (MaxPooling2D)   (None, 50, 50, 64)        0         \n",
            "_________________________________________________________________\n",
            "block2_conv1 (Conv2D)        (None, 50, 50, 128)       73856     \n",
            "_________________________________________________________________\n",
            "block2_conv2 (Conv2D)        (None, 50, 50, 128)       147584    \n",
            "_________________________________________________________________\n",
            "block2_pool (MaxPooling2D)   (None, 25, 25, 128)       0         \n",
            "_________________________________________________________________\n",
            "block3_conv1 (Conv2D)        (None, 25, 25, 256)       295168    \n",
            "_________________________________________________________________\n",
            "block3_conv2 (Conv2D)        (None, 25, 25, 256)       590080    \n",
            "_________________________________________________________________\n",
            "block3_conv3 (Conv2D)        (None, 25, 25, 256)       590080    \n",
            "_________________________________________________________________\n",
            "block3_pool (MaxPooling2D)   (None, 12, 12, 256)       0         \n",
            "_________________________________________________________________\n",
            "block4_conv1 (Conv2D)        (None, 12, 12, 512)       1180160   \n",
            "_________________________________________________________________\n",
            "block4_conv2 (Conv2D)        (None, 12, 12, 512)       2359808   \n",
            "_________________________________________________________________\n",
            "block4_conv3 (Conv2D)        (None, 12, 12, 512)       2359808   \n",
            "_________________________________________________________________\n",
            "block4_pool (MaxPooling2D)   (None, 6, 6, 512)         0         \n",
            "_________________________________________________________________\n",
            "block5_conv1 (Conv2D)        (None, 6, 6, 512)         2359808   \n",
            "_________________________________________________________________\n",
            "block5_conv2 (Conv2D)        (None, 6, 6, 512)         2359808   \n",
            "_________________________________________________________________\n",
            "block5_conv3 (Conv2D)        (None, 6, 6, 512)         2359808   \n",
            "_________________________________________________________________\n",
            "block5_pool (MaxPooling2D)   (None, 3, 3, 512)         0         \n",
            "=================================================================\n",
            "Total params: 14,714,688\n",
            "Trainable params: 0\n",
            "Non-trainable params: 14,714,688\n",
            "_________________________________________________________________\n"
          ],
          "name": "stdout"
        }
      ]
    },
    {
      "cell_type": "code",
      "metadata": {
        "id": "LPWkTX9iLLXK",
        "colab_type": "code",
        "colab": {
          "base_uri": "https://localhost:8080/",
          "height": 34
        },
        "outputId": "622d72e8-c032-4c9f-e373-1d31a7934143"
      },
      "source": [
        "last_layer = vgg.get_layer('block4_pool')\n",
        "print('last layer output shape: ', last_layer.output_shape)\n",
        "last_output = last_layer.output"
      ],
      "execution_count": null,
      "outputs": [
        {
          "output_type": "stream",
          "text": [
            "last layer output shape:  (None, 6, 6, 512)\n"
          ],
          "name": "stdout"
        }
      ]
    },
    {
      "cell_type": "code",
      "metadata": {
        "id": "C9OFLfidqANB",
        "colab_type": "code",
        "colab": {}
      },
      "source": [
        "x = Flatten()(last_output)\n",
        "\n",
        "x = Dense(256, activation='relu')(x)\n",
        "#x = Dense(256, activation='relu')(x)\n",
        "\n",
        "x = Dense(1, activation='sigmoid')(x)\n",
        "\n",
        "model_vgg = Model(vgg.input, outputs=x)\n"
      ],
      "execution_count": null,
      "outputs": []
    },
    {
      "cell_type": "code",
      "metadata": {
        "id": "mNBRik-26VzU",
        "colab_type": "code",
        "colab": {
          "base_uri": "https://localhost:8080/",
          "height": 756
        },
        "outputId": "df429efb-c0a3-4d83-8b04-0caf94255643"
      },
      "source": [
        "model_vgg.summary()"
      ],
      "execution_count": null,
      "outputs": [
        {
          "output_type": "stream",
          "text": [
            "Model: \"model\"\n",
            "_________________________________________________________________\n",
            "Layer (type)                 Output Shape              Param #   \n",
            "=================================================================\n",
            "input_1 (InputLayer)         [(None, 100, 100, 3)]     0         \n",
            "_________________________________________________________________\n",
            "block1_conv1 (Conv2D)        (None, 100, 100, 64)      1792      \n",
            "_________________________________________________________________\n",
            "block1_conv2 (Conv2D)        (None, 100, 100, 64)      36928     \n",
            "_________________________________________________________________\n",
            "block1_pool (MaxPooling2D)   (None, 50, 50, 64)        0         \n",
            "_________________________________________________________________\n",
            "block2_conv1 (Conv2D)        (None, 50, 50, 128)       73856     \n",
            "_________________________________________________________________\n",
            "block2_conv2 (Conv2D)        (None, 50, 50, 128)       147584    \n",
            "_________________________________________________________________\n",
            "block2_pool (MaxPooling2D)   (None, 25, 25, 128)       0         \n",
            "_________________________________________________________________\n",
            "block3_conv1 (Conv2D)        (None, 25, 25, 256)       295168    \n",
            "_________________________________________________________________\n",
            "block3_conv2 (Conv2D)        (None, 25, 25, 256)       590080    \n",
            "_________________________________________________________________\n",
            "block3_conv3 (Conv2D)        (None, 25, 25, 256)       590080    \n",
            "_________________________________________________________________\n",
            "block3_pool (MaxPooling2D)   (None, 12, 12, 256)       0         \n",
            "_________________________________________________________________\n",
            "block4_conv1 (Conv2D)        (None, 12, 12, 512)       1180160   \n",
            "_________________________________________________________________\n",
            "block4_conv2 (Conv2D)        (None, 12, 12, 512)       2359808   \n",
            "_________________________________________________________________\n",
            "block4_conv3 (Conv2D)        (None, 12, 12, 512)       2359808   \n",
            "_________________________________________________________________\n",
            "block4_pool (MaxPooling2D)   (None, 6, 6, 512)         0         \n",
            "_________________________________________________________________\n",
            "flatten (Flatten)            (None, 18432)             0         \n",
            "_________________________________________________________________\n",
            "dense (Dense)                (None, 256)               4718848   \n",
            "_________________________________________________________________\n",
            "dense_1 (Dense)              (None, 1)                 257       \n",
            "=================================================================\n",
            "Total params: 12,354,369\n",
            "Trainable params: 4,719,105\n",
            "Non-trainable params: 7,635,264\n",
            "_________________________________________________________________\n"
          ],
          "name": "stdout"
        }
      ]
    },
    {
      "cell_type": "code",
      "metadata": {
        "id": "oSX3G7ekrLiX",
        "colab_type": "code",
        "colab": {}
      },
      "source": [
        "model_vgg.compile(\n",
        "    loss = 'binary_crossentropy',\n",
        "    optimizer = Adam(),\n",
        "    metrics = ['acc']\n",
        ")"
      ],
      "execution_count": null,
      "outputs": []
    },
    {
      "cell_type": "code",
      "metadata": {
        "id": "wjv-3VKi3IpY",
        "colab_type": "code",
        "colab": {
          "base_uri": "https://localhost:8080/",
          "height": 34
        },
        "outputId": "216a77a3-9619-4aaf-b737-a6d22d16f185"
      },
      "source": [
        "tf.test.gpu_device_name()"
      ],
      "execution_count": null,
      "outputs": [
        {
          "output_type": "execute_result",
          "data": {
            "text/plain": [
              "'/device:GPU:0'"
            ]
          },
          "metadata": {
            "tags": []
          },
          "execution_count": 13
        }
      ]
    },
    {
      "cell_type": "code",
      "metadata": {
        "id": "PhkffWXUqwFX",
        "colab_type": "code",
        "colab": {
          "base_uri": "https://localhost:8080/",
          "height": 521
        },
        "outputId": "43e9e38a-a6e5-4dba-f2b8-a5ba7a114c0c"
      },
      "source": [
        "result_model_vgg = model_vgg.fit(\n",
        "    train_generator,\n",
        "    steps_per_epoch = 160,\n",
        "    epochs = 15,\n",
        "    validation_data = validation_generator,\n",
        "    validation_steps = 20,\n",
        "    verbose = 2\n",
        ")"
      ],
      "execution_count": null,
      "outputs": [
        {
          "output_type": "stream",
          "text": [
            "Epoch 1/15\n",
            "160/160 - 11s - loss: 1.1457 - acc: 0.7434 - val_loss: 0.3586 - val_acc: 0.8675\n",
            "Epoch 2/15\n",
            "160/160 - 11s - loss: 0.3316 - acc: 0.8607 - val_loss: 0.3004 - val_acc: 0.8650\n",
            "Epoch 3/15\n",
            "160/160 - 11s - loss: 0.2462 - acc: 0.9002 - val_loss: 0.3886 - val_acc: 0.8200\n",
            "Epoch 4/15\n",
            "160/160 - 11s - loss: 0.1683 - acc: 0.9363 - val_loss: 0.2653 - val_acc: 0.8725\n",
            "Epoch 5/15\n",
            "160/160 - 11s - loss: 0.1263 - acc: 0.9523 - val_loss: 0.2446 - val_acc: 0.8950\n",
            "Epoch 6/15\n",
            "160/160 - 11s - loss: 0.0875 - acc: 0.9736 - val_loss: 0.2334 - val_acc: 0.8975\n",
            "Epoch 7/15\n",
            "160/160 - 11s - loss: 0.0698 - acc: 0.9777 - val_loss: 0.1860 - val_acc: 0.9300\n",
            "Epoch 8/15\n",
            "160/160 - 11s - loss: 0.0479 - acc: 0.9893 - val_loss: 0.2045 - val_acc: 0.9200\n",
            "Epoch 9/15\n",
            "160/160 - 11s - loss: 0.0497 - acc: 0.9849 - val_loss: 0.2119 - val_acc: 0.9275\n",
            "Epoch 10/15\n",
            "160/160 - 11s - loss: 0.0271 - acc: 0.9944 - val_loss: 0.2495 - val_acc: 0.8975\n",
            "Epoch 11/15\n",
            "160/160 - 11s - loss: 0.0220 - acc: 0.9965 - val_loss: 0.2213 - val_acc: 0.9350\n",
            "Epoch 12/15\n",
            "160/160 - 11s - loss: 0.0111 - acc: 0.9994 - val_loss: 0.2064 - val_acc: 0.9375\n",
            "Epoch 13/15\n",
            "160/160 - 11s - loss: 0.0065 - acc: 1.0000 - val_loss: 0.1719 - val_acc: 0.9450\n",
            "Epoch 14/15\n",
            "160/160 - 11s - loss: 0.0044 - acc: 0.9997 - val_loss: 0.1897 - val_acc: 0.9400\n",
            "Epoch 15/15\n",
            "160/160 - 11s - loss: 0.0032 - acc: 1.0000 - val_loss: 0.2026 - val_acc: 0.9275\n"
          ],
          "name": "stdout"
        }
      ]
    },
    {
      "cell_type": "code",
      "metadata": {
        "id": "zM8kzHgesBV9",
        "colab_type": "code",
        "colab": {
          "base_uri": "https://localhost:8080/",
          "height": 573
        },
        "outputId": "469279ce-2365-4877-f410-92d5d5d901af"
      },
      "source": [
        "# Accuracy of \"result_model_vgg\"\n",
        "plt.plot(result_model_vgg.history['acc'])\n",
        "plt.plot(result_model_vgg.history['val_acc'])\n",
        "plt.title('result_model_vgg accuracy')\n",
        "plt.ylabel('accuracy')\n",
        "plt.xlabel('epoch')\n",
        "plt.legend(['train', 'validation'], loc='upper left')\n",
        "plt.show()\n",
        "\n",
        "# Loss of \"result_model_vgg\"\n",
        "plt.plot(result_model_vgg.history['loss'])\n",
        "plt.plot(result_model_vgg.history['val_loss'])\n",
        "plt.title('result_model_vgg loss')\n",
        "plt.ylabel('loss')\n",
        "plt.xlabel('epoch')\n",
        "plt.legend(['train', 'validation'], loc='upper left')\n",
        "plt.show()"
      ],
      "execution_count": null,
      "outputs": [
        {
          "output_type": "display_data",
          "data": {
            "image/png": "[encoded data removed]",
            "text/plain": [
              "<Figure size 432x288 with 1 Axes>"
            ]
          },
          "metadata": {
            "tags": [],
            "needs_background": "light"
          }
        },
        {
          "output_type": "display_data",
          "data": {
            "image/png": "[encoded data removed]",
            "text/plain": [
              "<Figure size 432x288 with 1 Axes>"
            ]
          },
          "metadata": {
            "tags": [],
            "needs_background": "light"
          }
        }
      ]
    },
    {
      "cell_type": "markdown",
      "metadata": {
        "id": "HFT3bkATSiBk",
        "colab_type": "text"
      },
      "source": [
        "#### **vgg with dropout**"
      ]
    },
    {
      "cell_type": "code",
      "metadata": {
        "id": "Ua0vglPPQZHf",
        "colab_type": "code",
        "colab": {
          "base_uri": "https://localhost:8080/",
          "height": 50
        },
        "outputId": "da1b0801-b0f9-4650-e968-c78cabe99a5c"
      },
      "source": [
        "vgg_do = VGG16(\n",
        "    include_top=False, \n",
        "    weights='imagenet', \n",
        "    input_shape=(100, 100, 3)\n",
        "    )\n",
        "# vgg.trainable = False\n",
        "\n",
        "for layer in vgg_do.layers:\n",
        "  layer.trainable = False"
      ],
      "execution_count": 13,
      "outputs": [
        {
          "output_type": "stream",
          "text": [
            "Downloading data from https://storage.googleapis.com/tensorflow/keras-applications/vgg16/vgg16_weights_tf_dim_ordering_tf_kernels_notop.h5\n",
            "58892288/58889256 [==============================] - 2s 0us/step\n"
          ],
          "name": "stdout"
        }
      ]
    },
    {
      "cell_type": "code",
      "metadata": {
        "id": "48LHOn_iQk6t",
        "colab_type": "code",
        "colab": {
          "base_uri": "https://localhost:8080/",
          "height": 790
        },
        "outputId": "66079a18-eb7b-4dca-c417-d4d78ae323d5"
      },
      "source": [
        "vgg_do.summary()"
      ],
      "execution_count": 14,
      "outputs": [
        {
          "output_type": "stream",
          "text": [
            "Model: \"vgg16\"\n",
            "_________________________________________________________________\n",
            "Layer (type)                 Output Shape              Param #   \n",
            "=================================================================\n",
            "input_1 (InputLayer)         [(None, 100, 100, 3)]     0         \n",
            "_________________________________________________________________\n",
            "block1_conv1 (Conv2D)        (None, 100, 100, 64)      1792      \n",
            "_________________________________________________________________\n",
            "block1_conv2 (Conv2D)        (None, 100, 100, 64)      36928     \n",
            "_________________________________________________________________\n",
            "block1_pool (MaxPooling2D)   (None, 50, 50, 64)        0         \n",
            "_________________________________________________________________\n",
            "block2_conv1 (Conv2D)        (None, 50, 50, 128)       73856     \n",
            "_________________________________________________________________\n",
            "block2_conv2 (Conv2D)        (None, 50, 50, 128)       147584    \n",
            "_________________________________________________________________\n",
            "block2_pool (MaxPooling2D)   (None, 25, 25, 128)       0         \n",
            "_________________________________________________________________\n",
            "block3_conv1 (Conv2D)        (None, 25, 25, 256)       295168    \n",
            "_________________________________________________________________\n",
            "block3_conv2 (Conv2D)        (None, 25, 25, 256)       590080    \n",
            "_________________________________________________________________\n",
            "block3_conv3 (Conv2D)        (None, 25, 25, 256)       590080    \n",
            "_________________________________________________________________\n",
            "block3_pool (MaxPooling2D)   (None, 12, 12, 256)       0         \n",
            "_________________________________________________________________\n",
            "block4_conv1 (Conv2D)        (None, 12, 12, 512)       1180160   \n",
            "_________________________________________________________________\n",
            "block4_conv2 (Conv2D)        (None, 12, 12, 512)       2359808   \n",
            "_________________________________________________________________\n",
            "block4_conv3 (Conv2D)        (None, 12, 12, 512)       2359808   \n",
            "_________________________________________________________________\n",
            "block4_pool (MaxPooling2D)   (None, 6, 6, 512)         0         \n",
            "_________________________________________________________________\n",
            "block5_conv1 (Conv2D)        (None, 6, 6, 512)         2359808   \n",
            "_________________________________________________________________\n",
            "block5_conv2 (Conv2D)        (None, 6, 6, 512)         2359808   \n",
            "_________________________________________________________________\n",
            "block5_conv3 (Conv2D)        (None, 6, 6, 512)         2359808   \n",
            "_________________________________________________________________\n",
            "block5_pool (MaxPooling2D)   (None, 3, 3, 512)         0         \n",
            "=================================================================\n",
            "Total params: 14,714,688\n",
            "Trainable params: 0\n",
            "Non-trainable params: 14,714,688\n",
            "_________________________________________________________________\n"
          ],
          "name": "stdout"
        }
      ]
    },
    {
      "cell_type": "code",
      "metadata": {
        "id": "mBG_S6AfQv3P",
        "colab_type": "code",
        "colab": {
          "base_uri": "https://localhost:8080/",
          "height": 34
        },
        "outputId": "4f74e932-3b3d-4bd6-d233-5e2bf25be2ac"
      },
      "source": [
        "last_layer = vgg_do.get_layer('block4_pool')\n",
        "print('last layer output shape: ', last_layer.output_shape)\n",
        "last_output = last_layer.output"
      ],
      "execution_count": 15,
      "outputs": [
        {
          "output_type": "stream",
          "text": [
            "last layer output shape:  (None, 6, 6, 512)\n"
          ],
          "name": "stdout"
        }
      ]
    },
    {
      "cell_type": "code",
      "metadata": {
        "id": "Ucv-MbnsQvw9",
        "colab_type": "code",
        "colab": {}
      },
      "source": [
        "x = Flatten()(last_output)\n",
        "\n",
        "x = Dense(256, activation='relu')(x)\n",
        "#x = Dense(256, activation='relu')(x)\n",
        "\n",
        "x = Dropout(0.3)(x)\n",
        "\n",
        "x = Dense(1, activation='sigmoid')(x)\n",
        "\n",
        "model_vgg_do = Model(vgg_do.input, outputs=x)"
      ],
      "execution_count": 16,
      "outputs": []
    },
    {
      "cell_type": "code",
      "metadata": {
        "id": "XhKq9CPoQvo4",
        "colab_type": "code",
        "colab": {
          "base_uri": "https://localhost:8080/",
          "height": 790
        },
        "outputId": "3fe688aa-ad55-4f28-8562-ccea27d8522a"
      },
      "source": [
        "model_vgg_do.summary()"
      ],
      "execution_count": 17,
      "outputs": [
        {
          "output_type": "stream",
          "text": [
            "Model: \"functional_1\"\n",
            "_________________________________________________________________\n",
            "Layer (type)                 Output Shape              Param #   \n",
            "=================================================================\n",
            "input_1 (InputLayer)         [(None, 100, 100, 3)]     0         \n",
            "_________________________________________________________________\n",
            "block1_conv1 (Conv2D)        (None, 100, 100, 64)      1792      \n",
            "_________________________________________________________________\n",
            "block1_conv2 (Conv2D)        (None, 100, 100, 64)      36928     \n",
            "_________________________________________________________________\n",
            "block1_pool (MaxPooling2D)   (None, 50, 50, 64)        0         \n",
            "_________________________________________________________________\n",
            "block2_conv1 (Conv2D)        (None, 50, 50, 128)       73856     \n",
            "_________________________________________________________________\n",
            "block2_conv2 (Conv2D)        (None, 50, 50, 128)       147584    \n",
            "_________________________________________________________________\n",
            "block2_pool (MaxPooling2D)   (None, 25, 25, 128)       0         \n",
            "_________________________________________________________________\n",
            "block3_conv1 (Conv2D)        (None, 25, 25, 256)       295168    \n",
            "_________________________________________________________________\n",
            "block3_conv2 (Conv2D)        (None, 25, 25, 256)       590080    \n",
            "_________________________________________________________________\n",
            "block3_conv3 (Conv2D)        (None, 25, 25, 256)       590080    \n",
            "_________________________________________________________________\n",
            "block3_pool (MaxPooling2D)   (None, 12, 12, 256)       0         \n",
            "_________________________________________________________________\n",
            "block4_conv1 (Conv2D)        (None, 12, 12, 512)       1180160   \n",
            "_________________________________________________________________\n",
            "block4_conv2 (Conv2D)        (None, 12, 12, 512)       2359808   \n",
            "_________________________________________________________________\n",
            "block4_conv3 (Conv2D)        (None, 12, 12, 512)       2359808   \n",
            "_________________________________________________________________\n",
            "block4_pool (MaxPooling2D)   (None, 6, 6, 512)         0         \n",
            "_________________________________________________________________\n",
            "flatten (Flatten)            (None, 18432)             0         \n",
            "_________________________________________________________________\n",
            "dense (Dense)                (None, 256)               4718848   \n",
            "_________________________________________________________________\n",
            "dropout (Dropout)            (None, 256)               0         \n",
            "_________________________________________________________________\n",
            "dense_1 (Dense)              (None, 1)                 257       \n",
            "=================================================================\n",
            "Total params: 12,354,369\n",
            "Trainable params: 4,719,105\n",
            "Non-trainable params: 7,635,264\n",
            "_________________________________________________________________\n"
          ],
          "name": "stdout"
        }
      ]
    },
    {
      "cell_type": "code",
      "metadata": {
        "id": "8Mq2Y-4FRPfI",
        "colab_type": "code",
        "colab": {}
      },
      "source": [
        "model_vgg_do.compile(\n",
        "    loss = 'binary_crossentropy',\n",
        "    optimizer = Adam(),\n",
        "    metrics = ['acc']\n",
        ")"
      ],
      "execution_count": 18,
      "outputs": []
    },
    {
      "cell_type": "code",
      "metadata": {
        "id": "qLbH4muoRPan",
        "colab_type": "code",
        "colab": {
          "base_uri": "https://localhost:8080/",
          "height": 521
        },
        "outputId": "0718153c-469a-4608-f00f-fbc51046c2c9"
      },
      "source": [
        "\"\"\"\n",
        "result_model_vgg_do = model_vgg_do.fit(\n",
        "    train_generator,\n",
        "    steps_per_epoch = 160,\n",
        "    epochs = 15,\n",
        "    validation_data = validation_generator,\n",
        "    validation_steps = 20,\n",
        "    verbose = 2\n",
        ")\n",
        "\"\"\"\n",
        "\n",
        "result_model_vgg_do = model_vgg_do.fit(\n",
        "    x = X_train,\n",
        "    y = y_train,\n",
        "    batch_size = 32,\n",
        "    epochs = 15,\n",
        "    validation_split = 0.1,\n",
        "    verbose = 2\n",
        ")\n"
      ],
      "execution_count": 24,
      "outputs": [
        {
          "output_type": "stream",
          "text": [
            "Epoch 1/15\n",
            "79/79 - 3s - loss: 0.1206 - acc: 0.9482 - val_loss: 0.4871 - val_acc: 0.8857\n",
            "Epoch 2/15\n",
            "79/79 - 3s - loss: 0.1250 - acc: 0.9490 - val_loss: 0.3248 - val_acc: 0.8929\n",
            "Epoch 3/15\n",
            "79/79 - 3s - loss: 0.1108 - acc: 0.9574 - val_loss: 0.5421 - val_acc: 0.9000\n",
            "Epoch 4/15\n",
            "79/79 - 3s - loss: 0.1782 - acc: 0.9251 - val_loss: 0.3605 - val_acc: 0.9107\n",
            "Epoch 5/15\n",
            "79/79 - 3s - loss: 0.1247 - acc: 0.9458 - val_loss: 0.3461 - val_acc: 0.9071\n",
            "Epoch 6/15\n",
            "79/79 - 3s - loss: 0.1399 - acc: 0.9307 - val_loss: 0.3113 - val_acc: 0.9179\n",
            "Epoch 7/15\n",
            "79/79 - 3s - loss: 0.1674 - acc: 0.9044 - val_loss: 0.4146 - val_acc: 0.8786\n",
            "Epoch 8/15\n",
            "79/79 - 3s - loss: 0.1500 - acc: 0.9176 - val_loss: 0.3948 - val_acc: 0.9214\n",
            "Epoch 9/15\n",
            "79/79 - 3s - loss: 0.2098 - acc: 0.8690 - val_loss: 0.3795 - val_acc: 0.8750\n",
            "Epoch 10/15\n",
            "79/79 - 3s - loss: 0.1682 - acc: 0.9084 - val_loss: 0.3534 - val_acc: 0.9036\n",
            "Epoch 11/15\n",
            "79/79 - 3s - loss: 0.1451 - acc: 0.9188 - val_loss: 0.3602 - val_acc: 0.9036\n",
            "Epoch 12/15\n",
            "79/79 - 3s - loss: 0.1511 - acc: 0.9116 - val_loss: 0.3373 - val_acc: 0.8964\n",
            "Epoch 13/15\n",
            "79/79 - 3s - loss: 0.1341 - acc: 0.9275 - val_loss: 0.4975 - val_acc: 0.8929\n",
            "Epoch 14/15\n",
            "79/79 - 3s - loss: 0.1382 - acc: 0.9291 - val_loss: 0.4499 - val_acc: 0.9107\n",
            "Epoch 15/15\n",
            "79/79 - 3s - loss: 0.1387 - acc: 0.9399 - val_loss: 0.4752 - val_acc: 0.9000\n"
          ],
          "name": "stdout"
        }
      ]
    },
    {
      "cell_type": "code",
      "metadata": {
        "id": "3GYPtNYIRPWL",
        "colab_type": "code",
        "colab": {
          "base_uri": "https://localhost:8080/",
          "height": 573
        },
        "outputId": "12996923-02ff-4b89-fae6-ca4f63d53e62"
      },
      "source": [
        "# Accuracy of \"result_model_vgg_do\"\n",
        "plt.plot(result_model_vgg_do.history['acc'])\n",
        "plt.plot(result_model_vgg_do.history['val_acc'])\n",
        "plt.title('result_model_vgg_do accuracy')\n",
        "plt.ylabel('accuracy')\n",
        "plt.xlabel('epoch')\n",
        "plt.legend(['train', 'validation'], loc='upper left')\n",
        "plt.show()\n",
        "\n",
        "# Loss of \"result_model_vgg_do\"\n",
        "plt.plot(result_model_vgg_do.history['loss'])\n",
        "plt.plot(result_model_vgg_do.history['val_loss'])\n",
        "plt.title('result_model_vgg_do loss')\n",
        "plt.ylabel('loss')\n",
        "plt.xlabel('epoch')\n",
        "plt.legend(['train', 'validation'], loc='upper left')\n",
        "plt.show()"
      ],
      "execution_count": 25,
      "outputs": [
        {
          "output_type": "display_data",
          "data": {
            "image/png": "[encoded data removed]",
            "text/plain": [
              "<Figure size 432x288 with 1 Axes>"
            ]
          },
          "metadata": {
            "tags": [],
            "needs_background": "light"
          }
        },
        {
          "output_type": "display_data",
          "data": {
            "image/png": "[encoded data removed]",
            "text/plain": [
              "<Figure size 432x288 with 1 Axes>"
            ]
          },
          "metadata": {
            "tags": [],
            "needs_background": "light"
          }
        }
      ]
    },
    {
      "cell_type": "code",
      "metadata": {
        "id": "b7aXrFl5RPSy",
        "colab_type": "code",
        "colab": {}
      },
      "source": [
        ""
      ],
      "execution_count": null,
      "outputs": []
    },
    {
      "cell_type": "code",
      "metadata": {
        "colab_type": "code",
        "id": "YkdY9QKkTMLt",
        "colab": {}
      },
      "source": [
        "vgg_do_block5 = VGG16(\n",
        "    include_top=False, \n",
        "    weights='imagenet', \n",
        "    input_shape=(100, 100, 3)\n",
        "    )\n",
        "# vgg.trainable = False\n",
        "\n",
        "for layer in vgg_do_block5.layers:\n",
        "  layer.trainable = False"
      ],
      "execution_count": null,
      "outputs": []
    },
    {
      "cell_type": "code",
      "metadata": {
        "colab_type": "code",
        "id": "AHeJUXRLTML2",
        "colab": {
          "base_uri": "https://localhost:8080/",
          "height": 790
        },
        "outputId": "52794d1b-3c4c-4b9e-fb37-eee6ad90d8dc"
      },
      "source": [
        "vgg_do_block5.summary()"
      ],
      "execution_count": null,
      "outputs": [
        {
          "output_type": "stream",
          "text": [
            "Model: \"vgg16\"\n",
            "_________________________________________________________________\n",
            "Layer (type)                 Output Shape              Param #   \n",
            "=================================================================\n",
            "input_4 (InputLayer)         [(None, 100, 100, 3)]     0         \n",
            "_________________________________________________________________\n",
            "block1_conv1 (Conv2D)        (None, 100, 100, 64)      1792      \n",
            "_________________________________________________________________\n",
            "block1_conv2 (Conv2D)        (None, 100, 100, 64)      36928     \n",
            "_________________________________________________________________\n",
            "block1_pool (MaxPooling2D)   (None, 50, 50, 64)        0         \n",
            "_________________________________________________________________\n",
            "block2_conv1 (Conv2D)        (None, 50, 50, 128)       73856     \n",
            "_________________________________________________________________\n",
            "block2_conv2 (Conv2D)        (None, 50, 50, 128)       147584    \n",
            "_________________________________________________________________\n",
            "block2_pool (MaxPooling2D)   (None, 25, 25, 128)       0         \n",
            "_________________________________________________________________\n",
            "block3_conv1 (Conv2D)        (None, 25, 25, 256)       295168    \n",
            "_________________________________________________________________\n",
            "block3_conv2 (Conv2D)        (None, 25, 25, 256)       590080    \n",
            "_________________________________________________________________\n",
            "block3_conv3 (Conv2D)        (None, 25, 25, 256)       590080    \n",
            "_________________________________________________________________\n",
            "block3_pool (MaxPooling2D)   (None, 12, 12, 256)       0         \n",
            "_________________________________________________________________\n",
            "block4_conv1 (Conv2D)        (None, 12, 12, 512)       1180160   \n",
            "_________________________________________________________________\n",
            "block4_conv2 (Conv2D)        (None, 12, 12, 512)       2359808   \n",
            "_________________________________________________________________\n",
            "block4_conv3 (Conv2D)        (None, 12, 12, 512)       2359808   \n",
            "_________________________________________________________________\n",
            "block4_pool (MaxPooling2D)   (None, 6, 6, 512)         0         \n",
            "_________________________________________________________________\n",
            "block5_conv1 (Conv2D)        (None, 6, 6, 512)         2359808   \n",
            "_________________________________________________________________\n",
            "block5_conv2 (Conv2D)        (None, 6, 6, 512)         2359808   \n",
            "_________________________________________________________________\n",
            "block5_conv3 (Conv2D)        (None, 6, 6, 512)         2359808   \n",
            "_________________________________________________________________\n",
            "block5_pool (MaxPooling2D)   (None, 3, 3, 512)         0         \n",
            "=================================================================\n",
            "Total params: 14,714,688\n",
            "Trainable params: 0\n",
            "Non-trainable params: 14,714,688\n",
            "_________________________________________________________________\n"
          ],
          "name": "stdout"
        }
      ]
    },
    {
      "cell_type": "code",
      "metadata": {
        "colab_type": "code",
        "id": "yDb1w47fTML5",
        "colab": {
          "base_uri": "https://localhost:8080/",
          "height": 34
        },
        "outputId": "b8addd18-0b89-422a-e84b-deaf9f8d4612"
      },
      "source": [
        "last_layer = vgg_do_block5.get_layer('block5_pool')\n",
        "print('last layer output shape: ', last_layer.output_shape)\n",
        "last_output = last_layer.output"
      ],
      "execution_count": null,
      "outputs": [
        {
          "output_type": "stream",
          "text": [
            "last layer output shape:  (None, 3, 3, 512)\n"
          ],
          "name": "stdout"
        }
      ]
    },
    {
      "cell_type": "code",
      "metadata": {
        "colab_type": "code",
        "id": "ORr-uFh3TML9",
        "colab": {}
      },
      "source": [
        "x = Flatten()(last_output)\n",
        "\n",
        "x = Dense(512, activation='relu')(x)\n",
        "x = Dropout(0.3)(x)\n",
        "\n",
        "x = Dense(256, activation='relu')(x)\n",
        "x = Dropout(0.3)(x)\n",
        "\n",
        "x = Dense(1, activation='sigmoid')(x)\n",
        "\n",
        "model_vgg_do_block5 = Model(vgg_do_block5.input, outputs=x)"
      ],
      "execution_count": null,
      "outputs": []
    },
    {
      "cell_type": "code",
      "metadata": {
        "colab_type": "code",
        "id": "iYuFyYf6TML_",
        "colab": {
          "base_uri": "https://localhost:8080/",
          "height": 991
        },
        "outputId": "8e2c1967-70c5-4132-d243-5fd248f1373c"
      },
      "source": [
        "model_vgg_do_block5.summary()"
      ],
      "execution_count": null,
      "outputs": [
        {
          "output_type": "stream",
          "text": [
            "Model: \"model_4\"\n",
            "_________________________________________________________________\n",
            "Layer (type)                 Output Shape              Param #   \n",
            "=================================================================\n",
            "input_4 (InputLayer)         [(None, 100, 100, 3)]     0         \n",
            "_________________________________________________________________\n",
            "block1_conv1 (Conv2D)        (None, 100, 100, 64)      1792      \n",
            "_________________________________________________________________\n",
            "block1_conv2 (Conv2D)        (None, 100, 100, 64)      36928     \n",
            "_________________________________________________________________\n",
            "block1_pool (MaxPooling2D)   (None, 50, 50, 64)        0         \n",
            "_________________________________________________________________\n",
            "block2_conv1 (Conv2D)        (None, 50, 50, 128)       73856     \n",
            "_________________________________________________________________\n",
            "block2_conv2 (Conv2D)        (None, 50, 50, 128)       147584    \n",
            "_________________________________________________________________\n",
            "block2_pool (MaxPooling2D)   (None, 25, 25, 128)       0         \n",
            "_________________________________________________________________\n",
            "block3_conv1 (Conv2D)        (None, 25, 25, 256)       295168    \n",
            "_________________________________________________________________\n",
            "block3_conv2 (Conv2D)        (None, 25, 25, 256)       590080    \n",
            "_________________________________________________________________\n",
            "block3_conv3 (Conv2D)        (None, 25, 25, 256)       590080    \n",
            "_________________________________________________________________\n",
            "block3_pool (MaxPooling2D)   (None, 12, 12, 256)       0         \n",
            "_________________________________________________________________\n",
            "block4_conv1 (Conv2D)        (None, 12, 12, 512)       1180160   \n",
            "_________________________________________________________________\n",
            "block4_conv2 (Conv2D)        (None, 12, 12, 512)       2359808   \n",
            "_________________________________________________________________\n",
            "block4_conv3 (Conv2D)        (None, 12, 12, 512)       2359808   \n",
            "_________________________________________________________________\n",
            "block4_pool (MaxPooling2D)   (None, 6, 6, 512)         0         \n",
            "_________________________________________________________________\n",
            "block5_conv1 (Conv2D)        (None, 6, 6, 512)         2359808   \n",
            "_________________________________________________________________\n",
            "block5_conv2 (Conv2D)        (None, 6, 6, 512)         2359808   \n",
            "_________________________________________________________________\n",
            "block5_conv3 (Conv2D)        (None, 6, 6, 512)         2359808   \n",
            "_________________________________________________________________\n",
            "block5_pool (MaxPooling2D)   (None, 3, 3, 512)         0         \n",
            "_________________________________________________________________\n",
            "flatten_4 (Flatten)          (None, 4608)              0         \n",
            "_________________________________________________________________\n",
            "dense_8 (Dense)              (None, 512)               2359808   \n",
            "_________________________________________________________________\n",
            "dropout_3 (Dropout)          (None, 512)               0         \n",
            "_________________________________________________________________\n",
            "dense_9 (Dense)              (None, 256)               131328    \n",
            "_________________________________________________________________\n",
            "dropout_4 (Dropout)          (None, 256)               0         \n",
            "_________________________________________________________________\n",
            "dense_10 (Dense)             (None, 1)                 257       \n",
            "=================================================================\n",
            "Total params: 17,206,081\n",
            "Trainable params: 2,491,393\n",
            "Non-trainable params: 14,714,688\n",
            "_________________________________________________________________\n"
          ],
          "name": "stdout"
        }
      ]
    },
    {
      "cell_type": "code",
      "metadata": {
        "colab_type": "code",
        "id": "AaVGOpJ0TMMB",
        "colab": {}
      },
      "source": [
        "model_vgg_do_block5.compile(\n",
        "    loss = 'binary_crossentropy',\n",
        "    optimizer = Adam(),\n",
        "    metrics = ['acc']\n",
        ")"
      ],
      "execution_count": null,
      "outputs": []
    },
    {
      "cell_type": "code",
      "metadata": {
        "colab_type": "code",
        "id": "7h51477RTMMD",
        "colab": {
          "base_uri": "https://localhost:8080/",
          "height": 521
        },
        "outputId": "8e04ef8a-de6d-4491-86cb-983c0c282dbc"
      },
      "source": [
        "result_model_vgg_do_block5 = model_vgg_do_block5.fit(\n",
        "    train_generator,\n",
        "    steps_per_epoch = 160,\n",
        "    epochs = 15,\n",
        "    validation_data = validation_generator,\n",
        "    validation_steps = 20,\n",
        "    verbose = 2\n",
        ")"
      ],
      "execution_count": null,
      "outputs": [
        {
          "output_type": "stream",
          "text": [
            "Epoch 1/15\n",
            "160/160 - 13s - loss: 0.6822 - acc: 0.6178 - val_loss: 0.5503 - val_acc: 0.7425\n",
            "Epoch 2/15\n",
            "160/160 - 12s - loss: 0.5099 - acc: 0.7578 - val_loss: 0.4347 - val_acc: 0.8200\n",
            "Epoch 3/15\n",
            "160/160 - 12s - loss: 0.4962 - acc: 0.7612 - val_loss: 0.4519 - val_acc: 0.7950\n",
            "Epoch 4/15\n",
            "160/160 - 12s - loss: 0.4213 - acc: 0.8070 - val_loss: 0.4105 - val_acc: 0.8025\n",
            "Epoch 5/15\n",
            "160/160 - 12s - loss: 0.4084 - acc: 0.8152 - val_loss: 0.4628 - val_acc: 0.7875\n",
            "Epoch 6/15\n",
            "160/160 - 12s - loss: 0.3868 - acc: 0.8290 - val_loss: 0.3959 - val_acc: 0.8175\n",
            "Epoch 7/15\n",
            "160/160 - 12s - loss: 0.3827 - acc: 0.8362 - val_loss: 0.4051 - val_acc: 0.8150\n",
            "Epoch 8/15\n",
            "160/160 - 12s - loss: 0.3410 - acc: 0.8519 - val_loss: 0.3305 - val_acc: 0.8550\n",
            "Epoch 9/15\n",
            "160/160 - 12s - loss: 0.3319 - acc: 0.8510 - val_loss: 0.3743 - val_acc: 0.8575\n",
            "Epoch 10/15\n",
            "160/160 - 12s - loss: 0.3514 - acc: 0.8359 - val_loss: 0.3731 - val_acc: 0.8300\n",
            "Epoch 11/15\n",
            "160/160 - 12s - loss: 0.3181 - acc: 0.8635 - val_loss: 0.4014 - val_acc: 0.8250\n",
            "Epoch 12/15\n",
            "160/160 - 12s - loss: 0.3299 - acc: 0.8591 - val_loss: 0.3800 - val_acc: 0.8300\n",
            "Epoch 13/15\n",
            "160/160 - 12s - loss: 0.3337 - acc: 0.8488 - val_loss: 0.3711 - val_acc: 0.8600\n",
            "Epoch 14/15\n",
            "160/160 - 12s - loss: 0.3421 - acc: 0.8309 - val_loss: 0.3610 - val_acc: 0.8400\n",
            "Epoch 15/15\n",
            "160/160 - 12s - loss: 0.3343 - acc: 0.8503 - val_loss: 0.4331 - val_acc: 0.8075\n"
          ],
          "name": "stdout"
        }
      ]
    },
    {
      "cell_type": "code",
      "metadata": {
        "colab_type": "code",
        "id": "QmNCziROTMMF",
        "colab": {
          "base_uri": "https://localhost:8080/",
          "height": 573
        },
        "outputId": "bddd6d80-9e5e-422c-b9c1-7732e5a2ca25"
      },
      "source": [
        "# Accuracy of \"result_model_vgg_do_block5\"\n",
        "plt.plot(result_model_vgg_do_block5.history['acc'])\n",
        "plt.plot(result_model_vgg_do_block5.history['val_acc'])\n",
        "plt.title('result_model_vgg_do_block5 accuracy')\n",
        "plt.ylabel('accuracy')\n",
        "plt.xlabel('epoch')\n",
        "plt.legend(['train', 'validation'], loc='upper left')\n",
        "plt.show()\n",
        "\n",
        "# Loss of \"result_model_vgg_do_block5\"\n",
        "plt.plot(result_model_vgg_do_block5.history['loss'])\n",
        "plt.plot(result_model_vgg_do_block5.history['val_loss'])\n",
        "plt.title('result_model_vgg_do_block5 loss')\n",
        "plt.ylabel('loss')\n",
        "plt.xlabel('epoch')\n",
        "plt.legend(['train', 'validation'], loc='upper left')\n",
        "plt.show()"
      ],
      "execution_count": null,
      "outputs": [
        {
          "output_type": "display_data",
          "data": {
            "image/png": "[encoded data removed]",
            "text/plain": [
              "<Figure size 432x288 with 1 Axes>"
            ]
          },
          "metadata": {
            "tags": [],
            "needs_background": "light"
          }
        },
        {
          "output_type": "display_data",
          "data": {
            "image/png": "[encoded data removed]",
            "text/plain": [
              "<Figure size 432x288 with 1 Axes>"
            ]
          },
          "metadata": {
            "tags": [],
            "needs_background": "light"
          }
        }
      ]
    },
    {
      "cell_type": "markdown",
      "metadata": {
        "id": "2CS604EtNpqn",
        "colab_type": "text"
      },
      "source": [
        "### **model_resnet**"
      ]
    },
    {
      "cell_type": "code",
      "metadata": {
        "id": "SsYxo0pFNpfn",
        "colab_type": "code",
        "colab": {}
      },
      "source": [
        ""
      ],
      "execution_count": null,
      "outputs": []
    },
    {
      "cell_type": "markdown",
      "metadata": {
        "id": "7w3W3VGUOaCQ",
        "colab_type": "text"
      },
      "source": [
        "### **model_inception**"
      ]
    },
    {
      "cell_type": "code",
      "metadata": {
        "id": "BqzsYh3KOZ13",
        "colab_type": "code",
        "colab": {}
      },
      "source": [
        ""
      ],
      "execution_count": null,
      "outputs": []
    },
    {
      "cell_type": "markdown",
      "metadata": {
        "id": "zRHJCn-9vMLf",
        "colab_type": "text"
      },
      "source": [
        "# **Evaluation of the models**"
      ]
    },
    {
      "cell_type": "markdown",
      "metadata": {
        "id": "RpH4lAiOvTUl",
        "colab_type": "text"
      },
      "source": [
        "### **model**"
      ]
    },
    {
      "cell_type": "code",
      "metadata": {
        "id": "BdBqbydn_dCE",
        "colab_type": "code",
        "colab": {
          "base_uri": "https://localhost:8080/",
          "height": 34
        },
        "outputId": "c63cb259-9652-4baf-845f-279bee287c70"
      },
      "source": [
        "resEv_model = model.evaluate_generator(test_generator, 20)\n",
        "print('test loss, test acc:', resEv_model)"
      ],
      "execution_count": null,
      "outputs": [
        {
          "output_type": "stream",
          "text": [
            "test loss, test acc: [0.41369178891181946, 0.8877284526824951]\n"
          ],
          "name": "stdout"
        }
      ]
    },
    {
      "cell_type": "markdown",
      "metadata": {
        "id": "6UJJFF3CvWqt",
        "colab_type": "text"
      },
      "source": [
        "### **model_DO**"
      ]
    },
    {
      "cell_type": "code",
      "metadata": {
        "id": "IxEDbuqnuigj",
        "colab_type": "code",
        "colab": {}
      },
      "source": [
        "resEv_model_DO = model_DO.evaluate_generator(test_generator, 20)\n",
        "print('test loss, test acc:', resEv_model_DO)"
      ],
      "execution_count": null,
      "outputs": []
    },
    {
      "cell_type": "markdown",
      "metadata": {
        "id": "X0SOJxidvaFM",
        "colab_type": "text"
      },
      "source": [
        "### **model_DO_04_Dense_256**"
      ]
    },
    {
      "cell_type": "code",
      "metadata": {
        "id": "_XPGsunl_17h",
        "colab_type": "code",
        "colab": {}
      },
      "source": [
        "resEv_model_DO_04_Dense_256 = model_DO_04_Dense_256.evaluate_generator(test_generator, 20)\n",
        "print('test loss, test acc:', resEv_model_DO_04_Dense_256)"
      ],
      "execution_count": null,
      "outputs": []
    },
    {
      "cell_type": "markdown",
      "metadata": {
        "id": "hRkEPzy_vdTF",
        "colab_type": "text"
      },
      "source": [
        "### **model_DO_06_Dense_128**"
      ]
    },
    {
      "cell_type": "code",
      "metadata": {
        "id": "CRb1UyAMATNC",
        "colab_type": "code",
        "colab": {}
      },
      "source": [
        "resEv_model_DO_06_Dense_128 = model_DO_06_Dense_128.evaluate_generator(test_generator, 20)\n",
        "print('test loss, test acc:', resEv_model_DO_06_Dense_128)"
      ],
      "execution_count": null,
      "outputs": []
    },
    {
      "cell_type": "markdown",
      "metadata": {
        "id": "B-k7cZHhvjP-",
        "colab_type": "text"
      },
      "source": [
        "### **model_DO_less**"
      ]
    },
    {
      "cell_type": "code",
      "metadata": {
        "id": "fRT7u_gO-nDI",
        "colab_type": "code",
        "colab": {}
      },
      "source": [
        "resEv_model_DO_less = model_DO_less.evaluate_generator(test_generator, 20)\n",
        "print('test loss, test acc:', resEv_model_DO_less)"
      ],
      "execution_count": null,
      "outputs": []
    },
    {
      "cell_type": "markdown",
      "metadata": {
        "id": "Jsb-yXmzMgnR",
        "colab_type": "text"
      },
      "source": [
        "### **model_vgg**"
      ]
    },
    {
      "cell_type": "code",
      "metadata": {
        "id": "P_qPLZ8FMgK-",
        "colab_type": "code",
        "colab": {
          "base_uri": "https://localhost:8080/",
          "height": 104
        },
        "outputId": "3754476f-0d67-4765-af9c-83632b5d2447"
      },
      "source": [
        "resEv_model_vgg = model_vgg.evaluate_generator(test_generator, 20)\n",
        "print('test loss, test acc:', resEv_model_vgg)"
      ],
      "execution_count": null,
      "outputs": [
        {
          "output_type": "stream",
          "text": [
            "WARNING:tensorflow:From <ipython-input-20-fdbf8e2415f5>:1: Model.evaluate_generator (from tensorflow.python.keras.engine.training) is deprecated and will be removed in a future version.\n",
            "Instructions for updating:\n",
            "Please use Model.evaluate, which supports generators.\n",
            "test loss, test acc: [0.16915468871593475, 0.9449999928474426]\n"
          ],
          "name": "stdout"
        }
      ]
    },
    {
      "cell_type": "code",
      "metadata": {
        "id": "q3wdjS9vUrmO",
        "colab_type": "code",
        "colab": {
          "base_uri": "https://localhost:8080/",
          "height": 34
        },
        "outputId": "cad179f7-7107-4fca-ddd5-ee18d5af2311"
      },
      "source": [
        "resEv_model_vgg_do_block5 = model_vgg_do_block5.evaluate_generator(test_generator, 20)\n",
        "print('test loss, test acc:', resEv_model_vgg_do_block5)"
      ],
      "execution_count": null,
      "outputs": [
        {
          "output_type": "stream",
          "text": [
            "test loss, test acc: [0.4503497779369354, 0.7850000262260437]\n"
          ],
          "name": "stdout"
        }
      ]
    },
    {
      "cell_type": "markdown",
      "metadata": {
        "id": "V4q6aPRdvmdB",
        "colab_type": "text"
      },
      "source": [
        "# **Predict***"
      ]
    },
    {
      "cell_type": "code",
      "metadata": {
        "id": "-PD7DgIE1DLD",
        "colab_type": "code",
        "colab": {
          "base_uri": "https://localhost:8080/",
          "height": 34
        },
        "outputId": "8b062f42-c582-4855-b325-4181eb7b850d"
      },
      "source": [
        "# Predicting from some images from the test set\n",
        "\n",
        "img_width, img_height = 100, 100\n",
        "img = image.load_img(\n",
        "        workspace_test + '/benign/'+random.choice(os.listdir(workspace_test + '/benign/')), \n",
        "    target_size = (img_width, img_height)\n",
        "    )\n",
        "img = image.img_to_array(img)\n",
        "img = np.expand_dims(img, axis = 0)\n",
        "\n",
        "model_vgg.predict(img)"
      ],
      "execution_count": null,
      "outputs": [
        {
          "output_type": "execute_result",
          "data": {
            "text/plain": [
              "array([[1.]], dtype=float32)"
            ]
          },
          "metadata": {
            "tags": []
          },
          "execution_count": 33
        }
      ]
    },
    {
      "cell_type": "code",
      "metadata": {
        "id": "RovhQWJaNK-r",
        "colab_type": "code",
        "colab": {}
      },
      "source": [
        "# Predicting from some images from the test set\n",
        "\n",
        "img_width, img_height = 100, 100\n",
        "img = image.load_img(\n",
        "        workspace_test + '/benign/'+random.choice(os.listdir(workspace_test + '/benign/')), \n",
        "    target_size = (img_width, img_height)\n",
        "    )\n",
        "img = image.img_to_array(img)\n",
        "img = np.expand_dims(img, axis = 0)\n",
        "\n",
        "model_DO_less.predict(img)"
      ],
      "execution_count": null,
      "outputs": []
    },
    {
      "cell_type": "markdown",
      "metadata": {
        "id": "eJ6pR_7mv4M4",
        "colab_type": "text"
      },
      "source": [
        "# **Saving models**"
      ]
    },
    {
      "cell_type": "code",
      "metadata": {
        "id": "FCZoCnXT1DEa",
        "colab_type": "code",
        "colab": {
          "base_uri": "https://localhost:8080/",
          "height": 104
        },
        "outputId": "2eb80d55-b2b8-4857-c5e8-b75d20325362"
      },
      "source": [
        "model.save(workspace_models + '/Conv16_Max_Conv32_Max_Dense512')"
      ],
      "execution_count": null,
      "outputs": [
        {
          "output_type": "stream",
          "text": [
            "WARNING:tensorflow:From /usr/local/lib/python3.6/dist-packages/tensorflow/python/ops/resource_variable_ops.py:1817: calling BaseResourceVariable.__init__ (from tensorflow.python.ops.resource_variable_ops) with constraint is deprecated and will be removed in a future version.\n",
            "Instructions for updating:\n",
            "If using Keras pass *_constraint arguments to layers.\n",
            "INFO:tensorflow:Assets written to: /gdrive/My Drive/Breast_Cancer_Detection/images_resized_2/Saved_Models/Conv16_Max_Conv32_Max_Dense512/assets\n"
          ],
          "name": "stdout"
        }
      ]
    },
    {
      "cell_type": "code",
      "metadata": {
        "id": "9XPWcgaI1DA3",
        "colab_type": "code",
        "colab": {
          "base_uri": "https://localhost:8080/",
          "height": 54
        },
        "outputId": "13b9b8fb-06d5-4b77-9f5a-816e139cab71"
      },
      "source": [
        "model_DO.save(workspace_models + '/Conv16_Max_Conv32_Max_Dense512_DO5')"
      ],
      "execution_count": null,
      "outputs": [
        {
          "output_type": "stream",
          "text": [
            "INFO:tensorflow:Assets written to: /gdrive/My Drive/Breast_Cancer_Detection/images_resized_2/workspace/Saved_Models/Conv16_Max_Conv32_Max_Dense512_DO5/assets\n"
          ],
          "name": "stdout"
        }
      ]
    },
    {
      "cell_type": "code",
      "metadata": {
        "id": "LFfGcz8m6Ti5",
        "colab_type": "code",
        "colab": {
          "base_uri": "https://localhost:8080/",
          "height": 54
        },
        "outputId": "624fd3e8-9104-4a61-f456-4797103a362b"
      },
      "source": [
        "model_DO_less.save(workspace_models + '/Conv8_Max_Conv16_Max_Dense128_DO5')"
      ],
      "execution_count": null,
      "outputs": [
        {
          "output_type": "stream",
          "text": [
            "INFO:tensorflow:Assets written to: /gdrive/My Drive/Breast_Cancer_Detection/images_resized_2/workspace/Saved_Models/Conv8_Max_Conv16_Max_Dense128_DO5/assets\n"
          ],
          "name": "stdout"
        }
      ]
    },
    {
      "cell_type": "code",
      "metadata": {
        "id": "lXxQurLl6p4D",
        "colab_type": "code",
        "colab": {
          "base_uri": "https://localhost:8080/",
          "height": 54
        },
        "outputId": "189aa888-5694-4af8-9aa2-d7f7e961baad"
      },
      "source": [
        "model_DO_04_Dense_256.save(workspace_models + '/Conv8_Max_Conv16_Max_Dense256_DO4')"
      ],
      "execution_count": null,
      "outputs": [
        {
          "output_type": "stream",
          "text": [
            "INFO:tensorflow:Assets written to: /gdrive/My Drive/Breast_Cancer_Detection/images_resized_2/workspace/Saved_Models/Conv8_Max_Conv16_Max_Dense256_DO4/assets\n"
          ],
          "name": "stdout"
        }
      ]
    },
    {
      "cell_type": "code",
      "metadata": {
        "id": "r5ykOLIK7A7W",
        "colab_type": "code",
        "colab": {
          "base_uri": "https://localhost:8080/",
          "height": 54
        },
        "outputId": "3d6c4247-e5e5-4376-fa2c-2c5b4b36e190"
      },
      "source": [
        "model_DO_06_Dense_128.save(workspace_models + '/Conv8_Max_Conv16_Max_Dense128_DO6')"
      ],
      "execution_count": null,
      "outputs": [
        {
          "output_type": "stream",
          "text": [
            "INFO:tensorflow:Assets written to: /gdrive/My Drive/Breast_Cancer_Detection/images_resized_2/workspace/Saved_Models/Conv8_Max_Conv16_Max_Dense128_DO6/assets\n"
          ],
          "name": "stdout"
        }
      ]
    },
    {
      "cell_type": "code",
      "metadata": {
        "id": "xa6sfnMu5s9w",
        "colab_type": "code",
        "colab": {
          "base_uri": "https://localhost:8080/",
          "height": 104
        },
        "outputId": "32733579-fb4e-4bde-a55d-ca62c8865939"
      },
      "source": [
        "model_vgg.save(workspace_models + '/model_vgg')"
      ],
      "execution_count": null,
      "outputs": [
        {
          "output_type": "stream",
          "text": [
            "WARNING:tensorflow:From /usr/local/lib/python3.6/dist-packages/tensorflow/python/ops/resource_variable_ops.py:1817: calling BaseResourceVariable.__init__ (from tensorflow.python.ops.resource_variable_ops) with constraint is deprecated and will be removed in a future version.\n",
            "Instructions for updating:\n",
            "If using Keras pass *_constraint arguments to layers.\n",
            "INFO:tensorflow:Assets written to: /gdrive/My Drive/Breast_Cancer_Detection/images_resized_2/Saved_Models/model_vgg/assets\n"
          ],
          "name": "stdout"
        }
      ]
    },
    {
      "cell_type": "code",
      "metadata": {
        "id": "B9D9Qxd45s6h",
        "colab_type": "code",
        "colab": {}
      },
      "source": [
        ""
      ],
      "execution_count": null,
      "outputs": []
    },
    {
      "cell_type": "code",
      "metadata": {
        "id": "gDN3lzZJWxBd",
        "colab_type": "code",
        "colab": {}
      },
      "source": [
        ""
      ],
      "execution_count": null,
      "outputs": []
    },
    {
      "cell_type": "code",
      "metadata": {
        "id": "JMMg1nXH5st1",
        "colab_type": "code",
        "colab": {}
      },
      "source": [
        ""
      ],
      "execution_count": null,
      "outputs": []
    },
    {
      "cell_type": "code",
      "metadata": {
        "id": "Ga4Q7__z1C7m",
        "colab_type": "code",
        "colab": {}
      },
      "source": [
        ""
      ],
      "execution_count": null,
      "outputs": []
    }
  ]
}