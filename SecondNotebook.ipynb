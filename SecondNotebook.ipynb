{
  "nbformat": 4,
  "nbformat_minor": 0,
  "metadata": {
    "colab": {
      "name": "SecondNotebook.ipynb",
      "provenance": [],
      "authorship_tag": "ABX9TyOR1V/3DeJ1raP6tiCfkahT",
      "include_colab_link": true
    },
    "kernelspec": {
      "name": "python3",
      "display_name": "Python 3"
    }
  },
  "cells": [
    {
      "cell_type": "markdown",
      "metadata": {
        "id": "view-in-github",
        "colab_type": "text"
      },
      "source": [
        "<a href=\"https://colab.research.google.com/github/comHack/Mammography_DL_Classification/blob/master/SecondNotebook.ipynb\" target=\"_parent\"><img src=\"https://colab.research.google.com/assets/colab-badge.svg\" alt=\"Open In Colab\"/></a>"
      ]
    },
    {
      "cell_type": "markdown",
      "metadata": {
        "id": "jIhO9p39zsxj",
        "colab_type": "text"
      },
      "source": [
        "# **Import libraries**"
      ]
    },
    {
      "cell_type": "code",
      "metadata": {
        "id": "xfJ0aOsUzqNf",
        "colab_type": "code",
        "colab": {}
      },
      "source": [
        "import numpy as np\n",
        "\n",
        "import pandas as pd\n",
        "\n",
        "import cv2 as cv\n",
        "\n",
        "import matplotlib.pyplot as plt\n",
        "\n",
        "import tensorflow as tf\n",
        "from tensorflow.keras.models import Sequential\n",
        "from tensorflow.keras.layers import Dense, Flatten, Dropout, Activation, Conv2D, MaxPooling2D\n",
        "from tensorflow.keras.optimizers import RMSprop, Adam\n",
        "from tensorflow.keras.preprocessing.image import ImageDataGenerator\n",
        "from tensorflow.keras.preprocessing import image\n",
        "\n",
        "from tensorflow.keras.applications.vgg16 import VGG16\n",
        "from tensorflow.keras.layers import Input\n",
        "from tensorflow.keras.models import Model\n",
        "\n",
        "import random\n",
        "\n",
        "import pickle\n",
        "\n",
        "import shutil\n",
        "\n",
        "import os\n",
        "\n",
        "from google.colab import drive"
      ],
      "execution_count": 10,
      "outputs": []
    },
    {
      "cell_type": "markdown",
      "metadata": {
        "id": "X3mN2aWW1y0_",
        "colab_type": "text"
      },
      "source": [
        "# **Mounting Drive**"
      ]
    },
    {
      "cell_type": "code",
      "metadata": {
        "id": "3_PmrezFz95b",
        "colab_type": "code",
        "colab": {
          "base_uri": "https://localhost:8080/",
          "height": 195
        },
        "outputId": "ffdbec86-aa90-47a1-fe8e-eec01fdc700d"
      },
      "source": [
        "drive.mount('/gdrive')\n",
        "os.symlink('/gdrive/My Drive', '/content/gdrive')"
      ],
      "execution_count": 11,
      "outputs": [
        {
          "output_type": "stream",
          "text": [
            "Drive already mounted at /gdrive; to attempt to forcibly remount, call drive.mount(\"/gdrive\", force_remount=True).\n"
          ],
          "name": "stdout"
        },
        {
          "output_type": "error",
          "ename": "FileExistsError",
          "evalue": "ignored",
          "traceback": [
            "\u001b[0;31m---------------------------------------------------------------------------\u001b[0m",
            "\u001b[0;31mFileExistsError\u001b[0m                           Traceback (most recent call last)",
            "\u001b[0;32m<ipython-input-11-695624a09ca7>\u001b[0m in \u001b[0;36m<module>\u001b[0;34m()\u001b[0m\n\u001b[1;32m      1\u001b[0m \u001b[0mdrive\u001b[0m\u001b[0;34m.\u001b[0m\u001b[0mmount\u001b[0m\u001b[0;34m(\u001b[0m\u001b[0;34m'/gdrive'\u001b[0m\u001b[0;34m)\u001b[0m\u001b[0;34m\u001b[0m\u001b[0;34m\u001b[0m\u001b[0m\n\u001b[0;32m----> 2\u001b[0;31m \u001b[0mos\u001b[0m\u001b[0;34m.\u001b[0m\u001b[0msymlink\u001b[0m\u001b[0;34m(\u001b[0m\u001b[0;34m'/gdrive/My Drive'\u001b[0m\u001b[0;34m,\u001b[0m \u001b[0;34m'/content/gdrive'\u001b[0m\u001b[0;34m)\u001b[0m\u001b[0;34m\u001b[0m\u001b[0;34m\u001b[0m\u001b[0m\n\u001b[0m",
            "\u001b[0;31mFileExistsError\u001b[0m: [Errno 17] File exists: '/gdrive/My Drive' -> '/content/gdrive'"
          ]
        }
      ]
    },
    {
      "cell_type": "markdown",
      "metadata": {
        "id": "h24cw76Ec5j9",
        "colab_type": "text"
      },
      "source": [
        "# **Data**\n"
      ]
    },
    {
      "cell_type": "code",
      "metadata": {
        "id": "j5U9WaT-dE4N",
        "colab_type": "code",
        "colab": {}
      },
      "source": [
        "# data folder link to the images_resized_2 folder in your drive\n",
        "data_folder = '/gdrive/My Drive/Breast Cancer Detection/images_resized_2'\n",
        "\n",
        "# classes\n",
        "classes = ['benign', 'malign']"
      ],
      "execution_count": 3,
      "outputs": []
    },
    {
      "cell_type": "code",
      "metadata": {
        "id": "anzji_XJ2xIG",
        "colab_type": "code",
        "colab": {
          "base_uri": "https://localhost:8080/",
          "height": 54
        },
        "outputId": "4d85166c-5960-4f77-ae1d-ddd5d7786ff8"
      },
      "source": [
        "print(os.listdir(os.path.join(data_folder, classes[0])))"
      ],
      "execution_count": 4,
      "outputs": [
        {
          "output_type": "stream",
          "text": [
            "['aug_989.png', 'aug_990.png', 'aug_991.png', 'aug_992.png', 'aug_993.png', 'aug_994.png', 'aug_995.png', 'aug_996.png', 'aug_997.png', 'aug_998.png', 'aug_999.png', 'aug_1000.png', 'aug_1001.png', 'aug_1002.png', 'aug_1003.png', 'aug_1004.png', 'aug_1005.png', 'aug_1006.png', 'aug_1007.png', 'aug_1008.png', 'aug_1009.png', 'aug_1010.png', 'aug_1011.png', 'aug_1012.png', 'aug_1013.png', 'aug_1014.png', 'aug_1015.png', 'aug_1016.png', 'aug_1017.png', 'aug_1018.png', 'aug_1019.png', 'aug_1020.png', 'aug_1021.png', 'aug_1022.png', 'aug_1023.png', 'aug_1024.png', 'aug_1025.png', 'aug_1026.png', 'aug_1027.png', 'aug_1028.png', 'aug_1029.png', 'aug_1030.png', 'aug_1031.png', 'aug_1032.png', 'aug_1033.png', 'aug_1034.png', 'aug_1035.png', 'aug_1036.png', 'aug_1037.png', 'aug_1038.png', 'aug_1039.png', 'aug_1040.png', 'aug_1041.png', 'aug_1042.png', 'aug_1043.png', 'aug_1044.png', 'aug_1045.png', 'aug_1046.png', 'aug_1047.png', 'aug_1048.png', 'aug_1049.png', 'aug_1050.png', 'aug_1051.png', 'aug_1052.png', 'aug_1053.png', 'aug_1054.png', 'aug_1055.png', 'aug_1056.png', 'aug_1057.png', 'aug_1058.png', 'aug_1059.png', 'aug_1060.png', 'aug_1061.png', 'aug_1062.png', 'aug_1063.png', 'aug_1064.png', 'aug_1065.png', 'aug_1066.png', 'aug_1067.png', 'aug_1068.png', 'aug_1069.png', 'aug_1070.png', 'aug_1071.png', 'aug_1072.png', 'aug_1073.png', 'aug_1074.png', 'aug_1075.png', 'aug_1076.png', 'aug_1077.png', 'aug_1078.png', 'aug_1079.png', 'aug_1080.png', 'aug_1081.png', 'aug_1082.png', 'aug_1083.png', 'aug_1084.png', 'aug_1085.png', 'aug_1086.png', 'aug_1087.png', 'aug_1088.png', 'aug_1089.png', 'aug_1090.png', 'aug_1091.png', 'aug_1092.png', 'aug_1093.png', 'aug_1094.png', 'aug_1095.png', 'aug_1096.png', 'aug_1097.png', 'aug_1098.png', 'aug_1099.png', 'aug_1100.png', 'aug_1101.png', 'aug_1102.png', 'aug_1103.png', 'aug_1104.png', 'aug_1105.png', 'aug_1106.png', 'aug_1107.png', 'aug_1108.png', 'aug_1109.png', 'aug_1110.png', 'aug_1111.png', 'aug_1112.png', 'aug_1113.png', 'aug_1114.png', 'aug_1115.png', 'aug_1116.png', 'aug_1117.png', 'aug_1118.png', 'aug_1119.png', 'aug_1120.png', 'aug_1121.png', 'aug_1122.png', 'aug_1123.png', 'aug_1124.png', 'aug_1125.png', 'aug_1126.png', 'aug_1127.png', 'aug_1128.png', 'aug_1129.png', 'aug_1130.png', 'aug_1131.png', 'aug_1132.png', 'aug_1133.png', 'aug_1134.png', 'aug_1135.png', 'aug_1136.png', 'aug_1137.png', 'aug_1138.png', 'aug_1139.png', 'aug_1140.png', 'aug_1141.png', 'aug_1142.png', 'aug_1143.png', 'aug_1144.png', 'aug_1145.png', 'aug_1146.png', 'aug_1147.png', 'aug_1148.png', 'aug_1149.png', 'aug_1150.png', 'aug_1151.png', 'aug_1152.png', 'aug_1153.png', 'aug_1154.png', 'aug_1155.png', 'aug_1156.png', 'aug_1157.png', 'aug_1158.png', 'aug_1159.png', 'aug_1160.png', 'aug_1161.png', 'aug_1162.png', 'aug_1163.png', 'aug_1164.png', 'aug_1165.png', 'aug_1166.png', 'aug_1167.png', 'aug_1168.png', 'aug_1169.png', 'aug_1170.png', 'aug_1171.png', 'aug_1172.png', 'aug_1173.png', 'aug_1174.png', 'aug_1175.png', 'aug_1176.png', 'aug_1177.png', 'aug_1178.png', 'aug_1179.png', 'aug_1180.png', 'aug_1181.png', 'aug_1182.png', 'aug_1183.png', 'aug_1184.png', 'aug_1185.png', 'aug_1186.png', 'aug_1187.png', 'aug_1188.png', 'aug_1189.png', 'aug_1190.png', 'aug_1191.png', 'aug_1192.png', 'aug_1193.png', 'aug_1194.png', 'aug_1195.png', 'aug_1196.png', 'aug_1197.png', 'aug_1198.png', 'aug_1199.png', 'aug_1200.png', 'aug_1201.png', 'aug_1202.png', 'aug_1203.png', 'aug_1204.png', 'aug_1205.png', 'aug_1206.png', 'aug_1207.png', 'aug_1208.png', 'aug_1209.png', 'aug_1210.png', 'aug_1211.png', 'aug_1212.png', 'aug_1213.png', 'aug_1214.png', 'aug_1215.png', 'aug_1216.png', 'aug_1217.png', 'aug_1218.png', 'aug_1219.png', 'aug_1220.png', 'aug_1221.png', 'aug_1222.png', 'aug_1223.png', 'aug_1224.png', 'aug_1225.png', 'aug_1226.png', 'aug_1227.png', 'aug_1228.png', 'aug_1229.png', 'aug_1230.png', 'aug_1231.png', 'aug_1232.png', 'aug_1233.png', 'aug_1234.png', 'aug_1235.png', 'aug_1236.png', 'aug_1237.png', 'aug_1238.png', 'aug_1239.png', 'aug_1240.png', 'aug_1241.png', 'aug_1242.png', 'aug_1243.png', 'aug_1244.png', 'aug_1245.png', 'aug_1246.png', 'aug_1247.png', 'aug_1248.png', 'aug_1249.png', 'aug_1250.png', 'aug_1251.png', 'aug_1252.png', 'aug_1253.png', 'aug_1254.png', 'aug_1255.png', 'aug_1256.png', 'aug_1257.png', 'aug_1258.png', 'aug_1259.png', 'aug_1260.png', 'aug_1261.png', 'aug_1262.png', 'aug_1263.png', 'aug_1264.png', 'aug_1265.png', 'aug_1266.png', 'aug_1267.png', 'aug_1268.png', 'aug_1269.png', 'aug_1270.png', 'aug_1271.png', 'aug_1272.png', 'aug_1273.png', 'aug_1274.png', 'aug_1275.png', 'aug_1276.png', 'aug_1277.png', 'aug_1278.png', 'aug_1279.png', 'aug_1280.png', 'aug_1281.png', 'aug_1282.png', 'aug_1283.png', 'aug_1284.png', 'aug_1285.png', 'aug_1286.png', 'aug_1287.png', 'aug_1288.png', 'aug_1289.png', 'aug_1290.png', 'aug_1291.png', 'aug_1292.png', 'aug_1293.png', 'aug_1294.png', 'aug_1295.png', 'aug_1296.png', 'aug_1297.png', 'aug_1298.png', 'aug_1299.png', 'aug_1300.png', 'aug_1301.png', 'aug_1302.png', 'aug_1303.png', 'aug_1304.png', 'aug_1305.png', 'aug_1306.png', 'aug_1307.png', 'aug_1308.png', 'aug_1309.png', 'aug_1310.png', 'aug_1311.png', 'aug_1312.png', 'aug_1313.png', 'aug_1314.png', 'aug_1315.png', 'aug_1316.png', 'aug_1317.png', 'aug_1318.png', 'aug_1319.png', 'aug_1320.png', 'aug_1321.png', 'aug_1322.png', 'aug_1323.png', 'aug_1324.png', 'aug_1325.png', 'aug_1326.png', 'aug_1327.png', 'aug_1328.png', 'aug_1329.png', 'aug_1330.png', 'aug_1331.png', 'aug_1332.png', 'aug_1333.png', 'aug_1334.png', 'aug_1335.png', 'aug_1336.png', 'aug_1337.png', 'aug_1338.png', 'aug_1339.png', 'aug_1340.png', 'aug_1341.png', 'aug_1342.png', 'aug_1343.png', 'aug_1344.png', 'aug_1345.png', 'aug_1346.png', 'aug_1347.png', 'aug_1348.png', 'aug_1349.png', 'aug_1350.png', 'aug_1351.png', 'aug_1352.png', 'aug_1353.png', 'aug_1354.png', 'aug_1355.png', 'aug_1356.png', 'aug_1357.png', 'aug_1358.png', 'aug_1359.png', 'aug_1360.png', 'aug_1361.png', 'aug_1362.png', 'aug_1363.png', 'aug_1364.png', 'aug_1365.png', 'aug_1366.png', 'aug_1367.png', 'aug_1368.png', 'aug_1369.png', 'aug_1370.png', 'aug_1371.png', 'aug_1372.png', 'aug_1373.png', 'aug_1374.png', 'aug_1375.png', 'aug_1376.png', 'aug_1377.png', 'aug_1378.png', 'aug_1379.png', 'aug_1380.png', 'aug_1381.png', 'aug_1382.png', 'aug_1383.png', 'aug_1384.png', 'aug_1385.png', 'aug_1386.png', 'aug_1387.png', 'aug_1388.png', 'aug_1389.png', 'aug_1390.png', 'aug_1391.png', 'aug_1392.png', 'aug_1393.png', 'aug_1394.png', 'aug_1395.png', 'aug_1396.png', 'aug_1397.png', 'aug_1398.png', 'aug_1399.png', 'aug_1400.png', 'aug_1401.png', 'aug_1402.png', 'aug_1403.png', 'aug_1404.png', 'aug_1405.png', 'aug_1406.png', 'aug_1407.png', 'aug_1408.png', 'aug_1409.png', 'aug_1410.png', 'aug_1411.png', 'aug_1412.png', 'aug_1413.png', 'aug_1414.png', 'aug_1415.png', 'aug_1416.png', 'aug_1417.png', 'aug_1418.png', 'aug_1419.png', 'aug_1420.png', 'aug_1421.png', 'aug_1422.png', 'aug_1423.png', 'aug_1424.png', 'aug_1425.png', 'aug_1426.png', 'aug_1427.png', 'aug_1428.png', 'aug_1429.png', 'aug_1430.png', 'aug_1431.png', 'aug_1432.png', 'aug_1433.png', 'aug_1434.png', 'aug_1435.png', 'aug_1436.png', 'aug_1437.png', 'aug_1438.png', 'aug_1439.png', 'aug_1440.png', 'aug_1441.png', 'aug_1442.png', 'aug_1443.png', 'aug_1444.png', 'aug_1445.png', 'aug_1446.png', 'aug_1447.png', 'aug_1448.png', 'aug_1449.png', 'aug_1450.png', 'aug_1451.png', 'aug_1452.png', 'aug_1453.png', 'aug_1454.png', 'aug_1455.png', 'aug_1456.png', 'aug_1457.png', 'aug_1458.png', 'aug_1459.png', 'aug_1460.png', 'aug_1461.png', 'aug_1462.png', 'aug_1463.png', 'aug_1464.png', 'aug_1465.png', 'aug_1466.png', 'aug_1467.png', 'aug_1468.png', 'aug_1469.png', 'aug_1470.png', 'aug_1471.png', 'aug_1472.png', 'aug_1473.png', 'aug_1474.png', 'aug_1475.png', 'aug_1476.png', 'aug_1477.png', 'aug_1478.png', 'aug_1479.png', 'aug_1480.png', 'aug_1481.png', 'aug_1482.png', 'aug_1483.png', 'aug_1484.png', 'aug_1485.png', 'aug_1486.png', 'aug_1487.png', 'aug_1488.png', 'aug_1489.png', 'aug_1490.png', 'aug_1491.png', 'aug_1492.png', 'aug_1493.png', 'aug_1494.png', 'aug_1495.png', 'aug_1496.png', 'aug_1497.png', 'aug_1498.png', 'aug_1499.png', 'aug_1500.png', 'aug_1501.png', 'aug_1502.png', 'aug_1503.png', 'aug_1504.png', 'aug_1505.png', 'aug_1506.png', 'aug_1507.png', 'aug_1508.png', 'aug_1509.png', 'aug_1510.png', 'aug_1511.png', 'aug_1512.png', 'aug_1513.png', 'aug_1514.png', 'aug_1515.png', 'aug_1516.png', 'aug_1517.png', 'aug_1518.png', 'aug_1519.png', 'aug_1520.png', 'aug_1521.png', 'aug_1522.png', 'aug_1523.png', 'aug_1524.png', 'aug_1525.png', 'aug_1526.png', 'aug_1527.png', 'aug_1528.png', 'aug_1529.png', 'aug_1530.png', 'aug_1531.png', 'aug_1532.png', 'aug_1533.png', 'aug_1534.png', 'aug_1535.png', 'aug_1536.png', 'aug_1537.png', 'aug_1538.png', 'aug_1539.png', 'aug_1540.png', 'aug_1541.png', 'aug_1542.png', 'aug_1543.png', 'aug_1544.png', 'aug_1545.png', 'aug_1546.png', 'aug_1547.png', 'aug_1548.png', 'aug_1549.png', 'aug_1550.png', 'aug_1551.png', 'aug_1552.png', 'aug_1553.png', 'aug_1554.png', 'aug_1555.png', 'aug_1556.png', 'aug_1557.png', 'aug_1558.png', 'aug_1559.png', 'aug_1560.png', 'aug_1561.png', 'aug_1562.png', 'aug_1563.png', 'aug_1564.png', 'aug_1565.png', 'aug_1566.png', 'aug_1567.png', 'aug_1568.png', 'aug_1569.png', 'aug_1570.png', 'aug_1571.png', 'aug_1572.png', 'aug_1573.png', 'aug_1574.png', 'aug_1575.png', 'aug_1576.png', 'aug_1577.png', 'aug_1578.png', 'aug_1579.png', 'aug_1580.png', 'aug_1581.png', 'aug_1582.png', 'aug_1583.png', 'aug_1584.png', 'aug_1585.png', 'aug_1586.png', 'aug_1587.png', 'aug_1588.png', 'aug_1589.png', 'aug_1590.png', 'aug_1591.png', 'aug_1592.png', 'aug_1593.png', 'aug_1594.png', 'aug_1595.png', 'aug_1596.png', 'aug_1597.png', 'aug_1598.png', 'aug_1599.png', 'aug_1600.png', 'aug_1601.png', 'aug_1602.png', 'aug_1603.png', 'aug_1604.png', 'aug_1605.png', 'aug_1606.png', 'aug_1607.png', 'aug_1608.png', 'aug_1609.png', 'aug_1610.png', 'aug_1611.png', 'aug_1612.png', 'aug_1613.png', 'aug_1614.png', 'aug_1615.png', 'aug_1616.png', 'aug_1617.png', 'aug_1618.png', 'aug_1619.png', 'aug_1620.png', 'aug_1621.png', 'aug_1622.png', 'aug_1623.png', 'aug_1624.png', 'aug_1625.png', 'aug_1626.png', 'aug_1627.png', 'aug_1628.png', 'aug_1629.png', 'aug_1630.png', 'aug_1631.png', 'aug_1632.png', 'aug_1633.png', 'aug_1634.png', 'aug_1635.png', 'aug_1636.png', 'aug_1637.png', 'aug_1638.png', 'aug_1639.png', 'aug_1640.png', 'aug_1641.png', 'aug_1642.png', 'aug_1643.png', 'aug_1644.png', 'aug_1645.png', 'aug_1646.png', 'aug_1647.png', 'aug_1648.png', 'aug_1649.png', 'aug_1650.png', 'aug_1651.png', 'aug_1652.png', 'aug_1653.png', 'aug_1654.png', 'aug_1655.png', 'aug_1656.png', 'aug_1657.png', 'aug_1658.png', 'aug_1659.png', 'aug_1660.png', 'aug_1661.png', 'aug_1662.png', 'aug_1663.png', 'aug_1664.png', 'aug_1665.png', 'aug_1666.png', 'aug_1667.png', 'aug_1668.png', 'aug_1669.png', 'aug_1670.png', 'aug_1671.png', 'aug_1672.png', 'aug_1673.png', 'aug_1674.png', 'aug_1675.png', 'aug_1676.png', 'aug_1677.png', 'aug_1678.png', 'aug_1679.png', 'aug_1680.png', 'aug_1681.png', 'aug_1682.png', 'aug_1683.png', 'aug_1684.png', 'aug_1685.png', 'aug_1686.png', 'aug_1687.png', 'aug_1688.png', 'aug_1689.png', 'aug_1690.png', 'aug_1691.png', 'aug_1692.png', 'aug_1693.png', 'aug_1694.png', 'aug_1695.png', 'aug_1696.png', 'aug_1697.png', 'aug_1698.png', 'aug_1699.png', 'aug_1700.png', 'aug_1701.png', 'aug_1702.png', 'aug_1703.png', 'aug_1704.png', 'aug_1705.png', 'aug_1706.png', 'aug_1707.png', 'aug_1708.png', 'aug_1709.png', 'aug_1710.png', 'aug_1711.png', 'aug_1712.png', 'aug_1713.png', 'aug_1714.png', 'aug_1715.png', 'aug_1716.png', 'aug_1717.png', 'aug_1718.png', 'aug_1719.png', 'aug_1720.png', 'aug_1721.png', 'aug_1722.png', 'aug_1723.png', 'aug_1724.png', 'aug_1725.png', 'aug_1726.png', 'aug_1727.png', 'aug_1728.png', 'aug_1729.png', 'aug_1730.png', 'aug_1731.png', 'aug_1732.png', 'aug_1733.png', 'aug_1734.png', 'aug_1735.png', 'aug_1736.png', 'aug_1737.png', 'aug_1738.png', 'aug_1739.png', 'aug_1740.png', 'aug_1741.png', 'aug_1742.png', 'aug_1743.png', 'aug_1744.png', 'aug_1745.png', 'aug_1746.png', 'aug_1747.png', 'aug_1748.png', 'aug_1749.png', 'aug_1750.png', 'aug_1751.png', 'aug_1752.png', 'aug_1753.png', 'aug_1754.png', 'aug_1755.png', 'aug_1756.png', 'aug_1757.png', 'aug_1758.png', 'aug_1759.png', 'aug_1760.png', 'aug_1761.png', 'aug_1762.png', 'aug_1763.png', 'aug_1764.png', 'aug_1765.png', 'aug_1766.png', 'aug_1767.png', 'aug_1768.png', 'aug_1769.png', 'aug_1770.png', 'aug_1771.png', 'aug_1772.png', 'aug_1773.png', 'aug_1774.png', 'aug_1775.png', 'aug_1776.png', 'aug_1777.png', 'aug_1778.png', 'aug_1779.png', 'aug_1780.png', 'aug_1781.png', 'aug_1782.png', 'aug_1783.png', 'aug_1784.png', 'aug_1785.png', 'aug_1786.png', 'aug_1787.png', 'aug_1788.png', 'aug_1789.png', 'aug_1790.png', 'aug_1791.png', 'aug_1792.png', 'aug_1793.png', 'aug_1794.png', 'aug_1795.png', 'aug_1796.png', 'aug_1797.png', 'aug_1798.png', 'aug_1799.png', 'aug_1800.png', 'aug_1801.png', 'aug_1802.png', 'aug_1803.png', 'aug_1804.png', 'aug_1805.png', 'aug_1806.png', 'aug_1807.png', 'aug_1808.png', 'aug_1809.png', 'aug_1810.png', 'aug_1811.png', 'aug_1812.png', 'aug_1813.png', 'aug_1814.png', 'aug_1815.png', 'aug_1816.png', 'aug_1817.png', 'aug_1818.png', 'aug_1819.png', 'aug_1820.png', 'aug_1821.png', 'aug_1822.png', 'aug_1823.png', 'aug_1824.png', 'aug_1825.png', 'aug_1826.png', 'aug_1827.png', 'aug_1828.png', 'aug_1829.png', 'aug_1830.png', 'aug_1831.png', 'aug_1832.png', 'aug_1833.png', 'aug_1834.png', 'aug_1835.png', 'aug_1836.png', 'aug_1837.png', 'aug_1838.png', 'aug_1839.png', 'aug_1840.png', 'aug_1841.png', 'aug_1842.png', 'aug_1843.png', 'aug_1844.png', 'aug_1845.png', 'aug_1846.png', 'aug_1847.png', 'aug_1848.png', 'aug_1849.png', 'aug_1850.png', 'aug_1851.png', 'aug_1852.png', 'aug_1853.png', 'aug_1854.png', 'aug_1855.png', 'aug_1856.png', 'aug_1857.png', 'aug_1858.png', 'aug_1859.png', 'aug_1860.png', 'aug_1861.png', 'aug_1862.png', 'aug_1863.png', 'aug_1864.png', 'aug_1865.png', 'aug_1866.png', 'aug_1867.png', 'aug_1868.png', 'aug_1869.png', 'aug_1870.png', 'aug_1871.png', 'aug_1872.png', 'aug_1873.png', 'aug_1874.png', 'aug_1875.png', 'aug_1876.png', 'aug_1877.png', 'aug_1878.png', 'aug_1879.png', 'aug_1880.png', 'aug_1881.png', 'aug_1882.png', 'aug_1883.png', 'aug_1884.png', 'aug_1885.png', 'aug_1886.png', 'aug_1887.png', 'aug_1888.png', 'aug_1889.png', 'aug_1890.png', 'aug_1891.png', 'aug_1892.png', 'aug_1893.png', 'aug_1894.png', 'aug_1895.png', 'aug_1896.png', 'aug_1897.png', 'aug_1898.png', 'aug_1899.png', 'aug_1900.png', 'aug_1901.png', 'aug_1902.png', 'aug_1903.png', 'aug_1904.png', 'aug_1905.png', 'aug_1906.png', 'aug_1907.png', 'aug_1908.png', 'aug_1909.png', 'aug_1910.png', 'aug_1911.png', 'aug_1912.png', 'aug_1913.png', 'aug_1914.png', 'aug_1915.png', 'aug_1916.png', 'aug_1917.png', 'aug_1918.png', 'aug_1919.png', 'aug_1920.png', 'aug_1921.png', 'aug_1922.png', 'aug_1923.png', 'aug_1924.png', 'aug_1925.png', 'aug_1926.png', 'aug_1927.png', 'aug_1928.png', 'aug_1929.png', 'aug_1930.png', 'aug_1931.png', 'aug_1932.png', 'aug_1933.png', 'aug_1934.png', 'aug_1935.png', 'aug_1936.png', 'aug_1937.png', 'aug_1938.png', 'aug_1939.png', 'aug_1940.png', 'aug_1941.png', 'aug_1942.png', 'aug_1943.png', 'aug_1944.png', 'aug_1945.png', 'aug_1946.png', 'aug_1947.png', 'aug_1948.png', 'aug_1949.png', 'aug_1951.png', 'aug_1952.png', 'aug_1953.png', 'aug_1956.png', 'aug_1959.png', 'aug_1960.png', 'aug_1963.png', 'aug_1964.png', 'aug_1965.png', 'aug_1966.png', 'aug_1967.png', 'aug_1968.png', 'aug_1969.png', 'aug_1970.png', 'aug_1971.png', 'aug_1972.png', 'aug_1973.png', 'aug_1974.png', 'aug_1975.png', 'aug_1976.png', 'aug_1977.png', 'aug_1978.png', 'aug_1979.png', 'aug_1980.png', 'aug_1981.png', 'aug_1982.png', 'aug_1983.png', 'aug_1984.png', 'aug_1985.png', 'aug_1986.png', 'aug_1988.png', 'aug_1990.png', 'aug_1991.png', 'aug_1992.png', 'aug_1993.png', 'aug_1995.png', 'aug_1996.png', 'aug_1998.png', 'aug_2000.png', 'aug_1.png', 'aug_2.png', 'aug_3.png', 'aug_4.png', 'aug_5.png', 'aug_6.png', 'aug_7.png', 'aug_8.png', 'aug_9.png', 'aug_10.png', 'aug_11.png', 'aug_12.png', 'aug_13.png', 'aug_14.png', 'aug_15.png', 'aug_16.png', 'aug_17.png', 'aug_18.png', 'aug_19.png', 'aug_20.png', 'aug_21.png', 'aug_22.png', 'aug_23.png', 'aug_24.png', 'aug_25.png', 'aug_26.png', 'aug_27.png', 'aug_28.png', 'aug_29.png', 'aug_30.png', 'aug_31.png', 'aug_32.png', 'aug_33.png', 'aug_34.png', 'aug_35.png', 'aug_36.png', 'aug_37.png', 'aug_38.png', 'aug_39.png', 'aug_40.png', 'aug_41.png', 'aug_42.png', 'aug_43.png', 'aug_44.png', 'aug_45.png', 'aug_46.png', 'aug_47.png', 'aug_48.png', 'aug_49.png', 'aug_50.png', 'aug_51.png', 'aug_52.png', 'aug_53.png', 'aug_54.png', 'aug_55.png', 'aug_56.png', 'aug_57.png', 'aug_58.png', 'aug_59.png', 'aug_60.png', 'aug_61.png', 'aug_62.png', 'aug_63.png', 'aug_64.png', 'aug_65.png', 'aug_66.png', 'aug_67.png', 'aug_68.png', 'aug_69.png', 'aug_70.png', 'aug_71.png', 'aug_72.png', 'aug_73.png', 'aug_74.png', 'aug_75.png', 'aug_76.png', 'aug_77.png', 'aug_78.png', 'aug_79.png', 'aug_80.png', 'aug_81.png', 'aug_82.png', 'aug_83.png', 'aug_84.png', 'aug_85.png', 'aug_86.png', 'aug_87.png', 'aug_88.png', 'aug_89.png', 'aug_90.png', 'aug_91.png', 'aug_92.png', 'aug_93.png', 'aug_94.png', 'aug_95.png', 'aug_96.png', 'aug_97.png', 'aug_98.png', 'aug_99.png', 'aug_100.png', 'aug_101.png', 'aug_102.png', 'aug_103.png', 'aug_104.png', 'aug_105.png', 'aug_106.png', 'aug_107.png', 'aug_108.png', 'aug_109.png', 'aug_110.png', 'aug_111.png', 'aug_112.png', 'aug_113.png', 'aug_114.png', 'aug_115.png', 'aug_116.png', 'aug_117.png', 'aug_118.png', 'aug_119.png', 'aug_120.png', 'aug_121.png', 'aug_122.png', 'aug_123.png', 'aug_124.png', 'aug_125.png', 'aug_126.png', 'aug_127.png', 'aug_128.png', 'aug_129.png', 'aug_130.png', 'aug_131.png', 'aug_132.png', 'aug_133.png', 'aug_134.png', 'aug_135.png', 'aug_136.png', 'aug_137.png', 'aug_138.png', 'aug_139.png', 'aug_140.png', 'aug_141.png', 'aug_142.png', 'aug_143.png', 'aug_144.png', 'aug_145.png', 'aug_146.png', 'aug_147.png', 'aug_148.png', 'aug_149.png', 'aug_150.png', 'aug_151.png', 'aug_152.png', 'aug_153.png', 'aug_154.png', 'aug_155.png', 'aug_156.png', 'aug_157.png', 'aug_158.png', 'aug_159.png', 'aug_160.png', 'aug_161.png', 'aug_162.png', 'aug_163.png', 'aug_164.png', 'aug_165.png', 'aug_166.png', 'aug_167.png', 'aug_168.png', 'aug_169.png', 'aug_170.png', 'aug_171.png', 'aug_172.png', 'aug_173.png', 'aug_174.png', 'aug_175.png', 'aug_176.png', 'aug_177.png', 'aug_178.png', 'aug_179.png', 'aug_180.png', 'aug_181.png', 'aug_182.png', 'aug_183.png', 'aug_184.png', 'aug_185.png', 'aug_186.png', 'aug_187.png', 'aug_188.png', 'aug_189.png', 'aug_190.png', 'aug_191.png', 'aug_192.png', 'aug_193.png', 'aug_194.png', 'aug_195.png', 'aug_196.png', 'aug_197.png', 'aug_198.png', 'aug_199.png', 'aug_200.png', 'aug_201.png', 'aug_202.png', 'aug_203.png', 'aug_204.png', 'aug_205.png', 'aug_206.png', 'aug_207.png', 'aug_208.png', 'aug_209.png', 'aug_210.png', 'aug_211.png', 'aug_212.png', 'aug_213.png', 'aug_214.png', 'aug_215.png', 'aug_216.png', 'aug_217.png', 'aug_218.png', 'aug_219.png', 'aug_220.png', 'aug_221.png', 'aug_222.png', 'aug_223.png', 'aug_224.png', 'aug_225.png', 'aug_226.png', 'aug_227.png', 'aug_228.png', 'aug_229.png', 'aug_230.png', 'aug_231.png', 'aug_232.png', 'aug_233.png', 'aug_234.png', 'aug_235.png', 'aug_236.png', 'aug_237.png', 'aug_238.png', 'aug_239.png', 'aug_240.png', 'aug_241.png', 'aug_242.png', 'aug_243.png', 'aug_244.png', 'aug_245.png', 'aug_246.png', 'aug_247.png', 'aug_248.png', 'aug_249.png', 'aug_250.png', 'aug_251.png', 'aug_252.png', 'aug_253.png', 'aug_254.png', 'aug_255.png', 'aug_256.png', 'aug_257.png', 'aug_258.png', 'aug_259.png', 'aug_260.png', 'aug_261.png', 'aug_262.png', 'aug_263.png', 'aug_264.png', 'aug_265.png', 'aug_266.png', 'aug_267.png', 'aug_268.png', 'aug_269.png', 'aug_270.png', 'aug_271.png', 'aug_272.png', 'aug_273.png', 'aug_274.png', 'aug_275.png', 'aug_276.png', 'aug_277.png', 'aug_278.png', 'aug_279.png', 'aug_280.png', 'aug_281.png', 'aug_282.png', 'aug_283.png', 'aug_284.png', 'aug_285.png', 'aug_286.png', 'aug_287.png', 'aug_288.png', 'aug_289.png', 'aug_290.png', 'aug_291.png', 'aug_292.png', 'aug_293.png', 'aug_294.png', 'aug_295.png', 'aug_296.png', 'aug_297.png', 'aug_298.png', 'aug_299.png', 'aug_300.png', 'aug_301.png', 'aug_302.png', 'aug_303.png', 'aug_304.png', 'aug_305.png', 'aug_306.png', 'aug_307.png', 'aug_308.png', 'aug_309.png', 'aug_310.png', 'aug_311.png', 'aug_312.png', 'aug_313.png', 'aug_314.png', 'aug_315.png', 'aug_316.png', 'aug_317.png', 'aug_318.png', 'aug_319.png', 'aug_320.png', 'aug_321.png', 'aug_322.png', 'aug_323.png', 'aug_324.png', 'aug_325.png', 'aug_326.png', 'aug_327.png', 'aug_328.png', 'aug_329.png', 'aug_330.png', 'aug_331.png', 'aug_332.png', 'aug_333.png', 'aug_334.png', 'aug_335.png', 'aug_336.png', 'aug_337.png', 'aug_338.png', 'aug_339.png', 'aug_340.png', 'aug_341.png', 'aug_342.png', 'aug_343.png', 'aug_344.png', 'aug_345.png', 'aug_346.png', 'aug_347.png', 'aug_348.png', 'aug_349.png', 'aug_350.png', 'aug_351.png', 'aug_352.png', 'aug_353.png', 'aug_354.png', 'aug_355.png', 'aug_356.png', 'aug_357.png', 'aug_358.png', 'aug_359.png', 'aug_360.png', 'aug_361.png', 'aug_362.png', 'aug_363.png', 'aug_364.png', 'aug_365.png', 'aug_366.png', 'aug_367.png', 'aug_368.png', 'aug_369.png', 'aug_370.png', 'aug_371.png', 'aug_372.png', 'aug_373.png', 'aug_374.png', 'aug_375.png', 'aug_376.png', 'aug_377.png', 'aug_378.png', 'aug_379.png', 'aug_380.png', 'aug_381.png', 'aug_382.png', 'aug_383.png', 'aug_384.png', 'aug_385.png', 'aug_386.png', 'aug_387.png', 'aug_388.png', 'aug_389.png', 'aug_390.png', 'aug_391.png', 'aug_392.png', 'aug_393.png', 'aug_394.png', 'aug_395.png', 'aug_396.png', 'aug_397.png', 'aug_398.png', 'aug_399.png', 'aug_400.png', 'aug_401.png', 'aug_402.png', 'aug_403.png', 'aug_404.png', 'aug_405.png', 'aug_406.png', 'aug_407.png', 'aug_408.png', 'aug_409.png', 'aug_410.png', 'aug_411.png', 'aug_412.png', 'aug_413.png', 'aug_414.png', 'aug_415.png', 'aug_416.png', 'aug_417.png', 'aug_418.png', 'aug_419.png', 'aug_420.png', 'aug_421.png', 'aug_422.png', 'aug_423.png', 'aug_424.png', 'aug_425.png', 'aug_426.png', 'aug_427.png', 'aug_428.png', 'aug_429.png', 'aug_430.png', 'aug_431.png', 'aug_432.png', 'aug_433.png', 'aug_434.png', 'aug_435.png', 'aug_436.png', 'aug_437.png', 'aug_438.png', 'aug_439.png', 'aug_440.png', 'aug_441.png', 'aug_442.png', 'aug_443.png', 'aug_444.png', 'aug_445.png', 'aug_446.png', 'aug_447.png', 'aug_448.png', 'aug_449.png', 'aug_450.png', 'aug_451.png', 'aug_452.png', 'aug_453.png', 'aug_454.png', 'aug_455.png', 'aug_456.png', 'aug_457.png', 'aug_458.png', 'aug_459.png', 'aug_460.png', 'aug_461.png', 'aug_462.png', 'aug_463.png', 'aug_464.png', 'aug_465.png', 'aug_466.png', 'aug_467.png', 'aug_468.png', 'aug_469.png', 'aug_470.png', 'aug_471.png', 'aug_472.png', 'aug_473.png', 'aug_474.png', 'aug_475.png', 'aug_476.png', 'aug_477.png', 'aug_478.png', 'aug_479.png', 'aug_480.png', 'aug_481.png', 'aug_482.png', 'aug_483.png', 'aug_484.png', 'aug_485.png', 'aug_486.png', 'aug_487.png', 'aug_488.png', 'aug_489.png', 'aug_490.png', 'aug_491.png', 'aug_492.png', 'aug_493.png', 'aug_494.png', 'aug_495.png', 'aug_496.png', 'aug_497.png', 'aug_498.png', 'aug_499.png', 'aug_500.png', 'aug_501.png', 'aug_502.png', 'aug_503.png', 'aug_504.png', 'aug_505.png', 'aug_506.png', 'aug_507.png', 'aug_508.png', 'aug_509.png', 'aug_510.png', 'aug_511.png', 'aug_512.png', 'aug_513.png', 'aug_514.png', 'aug_515.png', 'aug_516.png', 'aug_517.png', 'aug_518.png', 'aug_519.png', 'aug_520.png', 'aug_521.png', 'aug_522.png', 'aug_523.png', 'aug_524.png', 'aug_525.png', 'aug_526.png', 'aug_527.png', 'aug_528.png', 'aug_529.png', 'aug_530.png', 'aug_531.png', 'aug_532.png', 'aug_533.png', 'aug_534.png', 'aug_535.png', 'aug_536.png', 'aug_537.png', 'aug_538.png', 'aug_539.png', 'aug_540.png', 'aug_541.png', 'aug_542.png', 'aug_543.png', 'aug_544.png', 'aug_545.png', 'aug_546.png', 'aug_547.png', 'aug_548.png', 'aug_549.png', 'aug_550.png', 'aug_551.png', 'aug_552.png', 'aug_553.png', 'aug_554.png', 'aug_555.png', 'aug_556.png', 'aug_557.png', 'aug_558.png', 'aug_559.png', 'aug_560.png', 'aug_561.png', 'aug_562.png', 'aug_563.png', 'aug_564.png', 'aug_565.png', 'aug_566.png', 'aug_567.png', 'aug_568.png', 'aug_569.png', 'aug_570.png', 'aug_571.png', 'aug_572.png', 'aug_573.png', 'aug_574.png', 'aug_575.png', 'aug_576.png', 'aug_577.png', 'aug_578.png', 'aug_579.png', 'aug_580.png', 'aug_581.png', 'aug_582.png', 'aug_583.png', 'aug_584.png', 'aug_585.png', 'aug_586.png', 'aug_587.png', 'aug_588.png', 'aug_589.png', 'aug_590.png', 'aug_591.png', 'aug_592.png', 'aug_593.png', 'aug_594.png', 'aug_595.png', 'aug_596.png', 'aug_597.png', 'aug_598.png', 'aug_599.png', 'aug_600.png', 'aug_601.png', 'aug_602.png', 'aug_603.png', 'aug_604.png', 'aug_605.png', 'aug_606.png', 'aug_607.png', 'aug_608.png', 'aug_609.png', 'aug_610.png', 'aug_611.png', 'aug_612.png', 'aug_613.png', 'aug_614.png', 'aug_615.png', 'aug_616.png', 'aug_617.png', 'aug_618.png', 'aug_619.png', 'aug_620.png', 'aug_621.png', 'aug_622.png', 'aug_623.png', 'aug_624.png', 'aug_625.png', 'aug_626.png', 'aug_627.png', 'aug_628.png', 'aug_629.png', 'aug_630.png', 'aug_631.png', 'aug_632.png', 'aug_633.png', 'aug_634.png', 'aug_635.png', 'aug_636.png', 'aug_637.png', 'aug_638.png', 'aug_639.png', 'aug_640.png', 'aug_641.png', 'aug_642.png', 'aug_643.png', 'aug_644.png', 'aug_645.png', 'aug_646.png', 'aug_647.png', 'aug_648.png', 'aug_649.png', 'aug_650.png', 'aug_651.png', 'aug_652.png', 'aug_653.png', 'aug_654.png', 'aug_655.png', 'aug_656.png', 'aug_657.png', 'aug_658.png', 'aug_659.png', 'aug_660.png', 'aug_661.png', 'aug_662.png', 'aug_663.png', 'aug_664.png', 'aug_665.png', 'aug_666.png', 'aug_667.png', 'aug_668.png', 'aug_669.png', 'aug_670.png', 'aug_671.png', 'aug_672.png', 'aug_673.png', 'aug_674.png', 'aug_675.png', 'aug_676.png', 'aug_677.png', 'aug_678.png', 'aug_679.png', 'aug_680.png', 'aug_681.png', 'aug_682.png', 'aug_683.png', 'aug_684.png', 'aug_685.png', 'aug_686.png', 'aug_687.png', 'aug_688.png', 'aug_689.png', 'aug_690.png', 'aug_691.png', 'aug_692.png', 'aug_693.png', 'aug_694.png', 'aug_695.png', 'aug_696.png', 'aug_697.png', 'aug_698.png', 'aug_699.png', 'aug_700.png', 'aug_701.png', 'aug_702.png', 'aug_703.png', 'aug_704.png', 'aug_705.png', 'aug_706.png', 'aug_707.png', 'aug_708.png', 'aug_709.png', 'aug_710.png', 'aug_711.png', 'aug_712.png', 'aug_713.png', 'aug_714.png', 'aug_715.png', 'aug_716.png', 'aug_717.png', 'aug_718.png', 'aug_719.png', 'aug_720.png', 'aug_721.png', 'aug_722.png', 'aug_723.png', 'aug_724.png', 'aug_725.png', 'aug_726.png', 'aug_727.png', 'aug_728.png', 'aug_729.png', 'aug_730.png', 'aug_731.png', 'aug_732.png', 'aug_733.png', 'aug_734.png', 'aug_735.png', 'aug_736.png', 'aug_737.png', 'aug_738.png', 'aug_739.png', 'aug_740.png', 'aug_741.png', 'aug_742.png', 'aug_743.png', 'aug_744.png', 'aug_745.png', 'aug_746.png', 'aug_747.png', 'aug_748.png', 'aug_749.png', 'aug_750.png', 'aug_751.png', 'aug_752.png', 'aug_753.png', 'aug_754.png', 'aug_755.png', 'aug_756.png', 'aug_757.png', 'aug_758.png', 'aug_759.png', 'aug_760.png', 'aug_761.png', 'aug_762.png', 'aug_763.png', 'aug_764.png', 'aug_765.png', 'aug_766.png', 'aug_767.png', 'aug_768.png', 'aug_769.png', 'aug_770.png', 'aug_771.png', 'aug_772.png', 'aug_773.png', 'aug_774.png', 'aug_775.png', 'aug_776.png', 'aug_777.png', 'aug_778.png', 'aug_779.png', 'aug_780.png', 'aug_781.png', 'aug_782.png', 'aug_783.png', 'aug_784.png', 'aug_785.png', 'aug_786.png', 'aug_787.png', 'aug_788.png', 'aug_789.png', 'aug_790.png', 'aug_791.png', 'aug_792.png', 'aug_793.png', 'aug_794.png', 'aug_795.png', 'aug_796.png', 'aug_797.png', 'aug_798.png', 'aug_799.png', 'aug_800.png', 'aug_801.png', 'aug_802.png', 'aug_803.png', 'aug_804.png', 'aug_805.png', 'aug_806.png', 'aug_807.png', 'aug_808.png', 'aug_809.png', 'aug_810.png', 'aug_811.png', 'aug_812.png', 'aug_813.png', 'aug_814.png', 'aug_815.png', 'aug_816.png', 'aug_817.png', 'aug_818.png', 'aug_819.png', 'aug_820.png', 'aug_821.png', 'aug_822.png', 'aug_823.png', 'aug_824.png', 'aug_825.png', 'aug_826.png', 'aug_827.png', 'aug_828.png', 'aug_829.png', 'aug_830.png', 'aug_831.png', 'aug_832.png', 'aug_833.png', 'aug_834.png', 'aug_835.png', 'aug_836.png', 'aug_837.png', 'aug_838.png', 'aug_839.png', 'aug_840.png', 'aug_841.png', 'aug_842.png', 'aug_843.png', 'aug_844.png', 'aug_845.png', 'aug_846.png', 'aug_847.png', 'aug_848.png', 'aug_849.png', 'aug_850.png', 'aug_851.png', 'aug_852.png', 'aug_853.png', 'aug_854.png', 'aug_855.png', 'aug_856.png', 'aug_857.png', 'aug_858.png', 'aug_859.png', 'aug_860.png', 'aug_861.png', 'aug_862.png', 'aug_863.png', 'aug_864.png', 'aug_865.png', 'aug_866.png', 'aug_867.png', 'aug_868.png', 'aug_869.png', 'aug_870.png', 'aug_871.png', 'aug_872.png', 'aug_873.png', 'aug_874.png', 'aug_875.png', 'aug_876.png', 'aug_877.png', 'aug_878.png', 'aug_879.png', 'aug_880.png', 'aug_881.png', 'aug_882.png', 'aug_883.png', 'aug_884.png', 'aug_885.png', 'aug_886.png', 'aug_887.png', 'aug_888.png', 'aug_889.png', 'aug_890.png', 'aug_891.png', 'aug_892.png', 'aug_893.png', 'aug_894.png', 'aug_895.png', 'aug_896.png', 'aug_897.png', 'aug_898.png', 'aug_899.png', 'aug_900.png', 'aug_901.png', 'aug_902.png', 'aug_903.png', 'aug_904.png', 'aug_905.png', 'aug_906.png', 'aug_907.png', 'aug_908.png', 'aug_909.png', 'aug_910.png', 'aug_911.png', 'aug_912.png', 'aug_913.png', 'aug_914.png', 'aug_915.png', 'aug_916.png', 'aug_917.png', 'aug_918.png', 'aug_919.png', 'aug_920.png', 'aug_921.png', 'aug_922.png', 'aug_923.png', 'aug_924.png', 'aug_925.png', 'aug_926.png', 'aug_927.png', 'aug_928.png', 'aug_929.png', 'aug_930.png', 'aug_931.png', 'aug_932.png', 'aug_933.png', 'aug_934.png', 'aug_935.png', 'aug_936.png', 'aug_937.png', 'aug_938.png', 'aug_939.png', 'aug_940.png', 'aug_941.png', 'aug_942.png', 'aug_943.png', 'aug_944.png', 'aug_945.png', 'aug_946.png', 'aug_947.png', 'aug_948.png', 'aug_949.png', 'aug_950.png', 'aug_951.png', 'aug_952.png', 'aug_953.png', 'aug_954.png', 'aug_955.png', 'aug_956.png', 'aug_957.png', 'aug_958.png', 'aug_959.png', 'aug_960.png', 'aug_961.png', 'aug_962.png', 'aug_963.png', 'aug_964.png', 'aug_965.png', 'aug_966.png', 'aug_967.png', 'aug_968.png', 'aug_969.png', 'aug_970.png', 'aug_971.png', 'aug_972.png', 'aug_973.png', 'aug_974.png', 'aug_975.png', 'aug_976.png', 'aug_977.png', 'aug_978.png', 'aug_979.png', 'aug_980.png', 'aug_981.png', 'aug_982.png', 'aug_983.png', 'aug_984.png', 'aug_985.png', 'aug_986.png', 'aug_987.png', 'aug_988.png']\n"
          ],
          "name": "stdout"
        }
      ]
    },
    {
      "cell_type": "code",
      "metadata": {
        "id": "Hj-MSK3jdEzd",
        "colab_type": "code",
        "colab": {
          "base_uri": "https://localhost:8080/",
          "height": 268
        },
        "outputId": "4713b62d-fb38-4ef3-9e6c-aaba0952cdf4"
      },
      "source": [
        "num_image = 153\n",
        "classe = 1\n",
        "path = os.path.join(data_folder, classes[classe])\n",
        "images = os.listdir(path)\n",
        "image = os.path.join(path, images[num_image])\n",
        "image_arr = cv.imread(image, cv.IMREAD_GRAYSCALE)\n",
        "plt.imshow(image_arr, cmap='gray')\n",
        "plt.show()"
      ],
      "execution_count": 8,
      "outputs": [
        {
          "output_type": "display_data",
          "data": {
            "image/png": "[encoded data removed]",
            "text/plain": [
              "<Figure size 432x288 with 1 Axes>"
            ]
          },
          "metadata": {
            "tags": [],
            "needs_background": "light"
          }
        }
      ]
    },
    {
      "cell_type": "code",
      "metadata": {
        "id": "yRVAKU5ZdEvm",
        "colab_type": "code",
        "colab": {
          "base_uri": "https://localhost:8080/",
          "height": 34
        },
        "outputId": "1553e235-56e7-4c13-f670-8231d44d193f"
      },
      "source": [
        "print(image_arr.shape)"
      ],
      "execution_count": 9,
      "outputs": [
        {
          "output_type": "stream",
          "text": [
            "(100, 100)\n"
          ],
          "name": "stdout"
        }
      ]
    },
    {
      "cell_type": "code",
      "metadata": {
        "id": "qOUGFIX0dErs",
        "colab_type": "code",
        "colab": {}
      },
      "source": [
        "def create_data():\n",
        "  '''\n",
        "    create the data as grayscale images (1 channel (cv.IMREAD_GRAYSCALE))\n",
        "    \n",
        "    returns a list of pairs containing the image matrix and it's label\n",
        "  '''\n",
        "  data = []\n",
        "  for classe in classes:\n",
        "    path = os.path.join(data_folder, classe)\n",
        "    classe_num = classes.index(classe)\n",
        "    for image in os.listdir(path):\n",
        "      image_arr = cv.imread(os.path.join(path, image), cv.IMREAD_GRAYSCALE)\n",
        "      data.append([image_arr, classe_num])\n",
        "    \n",
        "  return data"
      ],
      "execution_count": 12,
      "outputs": []
    },
    {
      "cell_type": "code",
      "metadata": {
        "id": "o43pVDGG1Q63",
        "colab_type": "code",
        "colab": {}
      },
      "source": [
        "def create_data_3():\n",
        "  '''\n",
        "    create the data as rgb images (3 channels)\n",
        "\n",
        "    returns a list of pairs containing the image matrix and it's label \n",
        "  '''\n",
        "  data = []\n",
        "  for classe in classes:\n",
        "    path = os.path.join(data_folder, classe)\n",
        "    classe_num = classes.index(classe)\n",
        "    for image in os.listdir(path):\n",
        "      image_arr = cv.imread(os.path.join(path, image))\n",
        "      data.append([image_arr, classe_num])\n",
        "    \n",
        "  return data"
      ],
      "execution_count": 13,
      "outputs": []
    },
    {
      "cell_type": "code",
      "metadata": {
        "id": "YgscdTh8dEmg",
        "colab_type": "code",
        "colab": {}
      },
      "source": [
        "# creating the data (grayscale images)\n",
        "data = create_data()"
      ],
      "execution_count": null,
      "outputs": []
    },
    {
      "cell_type": "code",
      "metadata": {
        "id": "DJNlY3ST4oYV",
        "colab_type": "code",
        "colab": {}
      },
      "source": [
        "# creating the data (rgb images)\n",
        "data_3 = create_data_3()"
      ],
      "execution_count": null,
      "outputs": []
    },
    {
      "cell_type": "code",
      "metadata": {
        "id": "riYVz-BkxzN-",
        "colab_type": "code",
        "colab": {}
      },
      "source": [
        "A = data.copy()"
      ],
      "execution_count": null,
      "outputs": []
    },
    {
      "cell_type": "code",
      "metadata": {
        "id": "Zf_mV11x5ErG",
        "colab_type": "code",
        "colab": {}
      },
      "source": [
        "A_3 = data_3.copy()"
      ],
      "execution_count": null,
      "outputs": []
    },
    {
      "cell_type": "code",
      "metadata": {
        "id": "KxABDf-o5Jtz",
        "colab_type": "code",
        "colab": {}
      },
      "source": [
        "print(A_3[2])\n",
        "print(len(A_3))"
      ],
      "execution_count": null,
      "outputs": []
    },
    {
      "cell_type": "code",
      "metadata": {
        "id": "9pcxw66gzWWz",
        "colab_type": "code",
        "colab": {}
      },
      "source": [
        "# seperating the benign and the malign (grayscale images)\n",
        "benign_data = A[:1988].copy()\n",
        "malign_data = A[1988:].copy()"
      ],
      "execution_count": null,
      "outputs": []
    },
    {
      "cell_type": "code",
      "metadata": {
        "id": "WCTueeLL5imY",
        "colab_type": "code",
        "colab": {}
      },
      "source": [
        "# seperating the benign and the malign (rgb images)\n",
        "benign_data_3 = A_3[:1988].copy()\n",
        "malign_data_3 = A_3[1988:].copy()"
      ],
      "execution_count": null,
      "outputs": []
    },
    {
      "cell_type": "code",
      "metadata": {
        "id": "72r9RHmLHICf",
        "colab_type": "code",
        "colab": {}
      },
      "source": [
        "print(benign_data[1987][1])"
      ],
      "execution_count": null,
      "outputs": []
    },
    {
      "cell_type": "code",
      "metadata": {
        "id": "1o6Vroo3p5WL",
        "colab_type": "code",
        "colab": {
          "base_uri": "https://localhost:8080/",
          "height": 34
        },
        "outputId": "1dde790a-20ce-4586-e484-45f246747836"
      },
      "source": [
        "print(len(data))"
      ],
      "execution_count": null,
      "outputs": [
        {
          "output_type": "stream",
          "text": [
            "3988\n"
          ],
          "name": "stdout"
        }
      ]
    },
    {
      "cell_type": "code",
      "metadata": {
        "id": "OimlwSHlzNoQ",
        "colab_type": "code",
        "colab": {
          "base_uri": "https://localhost:8080/",
          "height": 34
        },
        "outputId": "2514353a-dbcd-4f59-b95c-b92b689dc5da"
      },
      "source": [
        "print(len(benign_data))"
      ],
      "execution_count": null,
      "outputs": [
        {
          "output_type": "stream",
          "text": [
            "1988\n"
          ],
          "name": "stdout"
        }
      ]
    },
    {
      "cell_type": "code",
      "metadata": {
        "id": "h8dB4Mr6zRiq",
        "colab_type": "code",
        "colab": {
          "base_uri": "https://localhost:8080/",
          "height": 34
        },
        "outputId": "ca4e21d4-f050-461a-99c7-5f9c6b606f45"
      },
      "source": [
        "print(len(malign_data))"
      ],
      "execution_count": null,
      "outputs": [
        {
          "output_type": "stream",
          "text": [
            "2000\n"
          ],
          "name": "stdout"
        }
      ]
    },
    {
      "cell_type": "code",
      "metadata": {
        "id": "QrT-MH7rxIR3",
        "colab_type": "code",
        "colab": {}
      },
      "source": [
        "#random.shuffle(data)"
      ],
      "execution_count": null,
      "outputs": []
    },
    {
      "cell_type": "code",
      "metadata": {
        "id": "WP4zOc2_yS8W",
        "colab_type": "code",
        "colab": {}
      },
      "source": [
        "# for x in data[:10]:\n",
        "#   print(x[1])"
      ],
      "execution_count": null,
      "outputs": []
    },
    {
      "cell_type": "code",
      "metadata": {
        "id": "k5pOR8f8QIW8",
        "colab_type": "code",
        "colab": {}
      },
      "source": [
        "# saving the arrays as pickle files for later usage (grayscale images)\n",
        "pickle_out = open(\"benign.pickle\", \"wb\")\n",
        "pickle.dump(benign_data, pickle_out)\n",
        "pickle_out.close()\n",
        "\n",
        "pickle_out = open(\"malign.pickle\", \"wb\")\n",
        "pickle.dump(malign_data, pickle_out)\n",
        "pickle_out.close()"
      ],
      "execution_count": null,
      "outputs": []
    },
    {
      "cell_type": "code",
      "metadata": {
        "id": "rErdMuSr57Qs",
        "colab_type": "code",
        "colab": {}
      },
      "source": [
        "# saving the arrays as pickle files for later usage (rgb images)\n",
        "pickle_out = open(\"benign_3.pickle\", \"wb\")\n",
        "pickle.dump(benign_data_3, pickle_out)\n",
        "pickle_out.close()\n",
        "\n",
        "pickle_out = open(\"malign_3.pickle\", \"wb\")\n",
        "pickle.dump(malign_data_3, pickle_out)\n",
        "pickle_out.close()"
      ],
      "execution_count": null,
      "outputs": []
    },
    {
      "cell_type": "markdown",
      "metadata": {
        "id": "DktLNMJ_dI8b",
        "colab_type": "text"
      },
      "source": [
        "### **GRAYSCALE IMAGES**"
      ]
    },
    {
      "cell_type": "code",
      "metadata": {
        "id": "QGL6gQOHmI5G",
        "colab_type": "code",
        "colab": {}
      },
      "source": [
        "# setting the path to the pickle files saved  (grayscale images)\n",
        "benign_link = \"/content/gdrive/Copy of BCD/Breast Cancer Detection/Pickle files of images/GRAYSCALE IMAGES ARRAY/benign.pickle\"\n",
        "\n",
        "malign_link = \"/content/gdrive/Copy of BCD/Breast Cancer Detection/Pickle files of images/GRAYSCALE IMAGES ARRAY/malign.pickle\""
      ],
      "execution_count": 15,
      "outputs": []
    },
    {
      "cell_type": "code",
      "metadata": {
        "id": "VjLxEcrSl3m9",
        "colab_type": "code",
        "colab": {}
      },
      "source": [
        "# opening pickle files (grayscale images)\n",
        "pickle_in = open(benign_link, \"rb\")\n",
        "benign_data = pickle.load(pickle_in)\n",
        "\n",
        "pickle_in = open(malign_link, \"rb\")\n",
        "malign_data = pickle.load(pickle_in)"
      ],
      "execution_count": 16,
      "outputs": []
    },
    {
      "cell_type": "code",
      "metadata": {
        "id": "cmlbv-nKJcAD",
        "colab_type": "code",
        "colab": {}
      },
      "source": [
        "# shuffle the data\n",
        "random.shuffle(benign_data)\n",
        "random.shuffle(malign_data)"
      ],
      "execution_count": 18,
      "outputs": []
    },
    {
      "cell_type": "code",
      "metadata": {
        "id": "X4ACdWpegQ8Y",
        "colab_type": "code",
        "colab": {}
      },
      "source": [
        "# splitting and merging the data from benign and malign arrays\n",
        "\n",
        "# split eg. train_per = 0.7 --> 70% train data, 30% test data\n",
        "train_per = 0.7\n",
        "\n",
        "trn_b = int(len(benign_data) * train_per)\n",
        "\n",
        "trn_m = int(len(malign_data) * train_per)\n",
        "\n",
        "train_data = benign_data[: trn_b].copy() + malign_data[: trn_m].copy()\n",
        "\n",
        "test_data = benign_data[trn_b :].copy() + malign_data[trn_m :].copy()"
      ],
      "execution_count": 19,
      "outputs": []
    },
    {
      "cell_type": "code",
      "metadata": {
        "id": "IImICxJTjSYb",
        "colab_type": "code",
        "colab": {}
      },
      "source": [
        "# shuffle train and test data\n",
        "random.shuffle(train_data)\n",
        "random.shuffle(test_data)"
      ],
      "execution_count": 20,
      "outputs": []
    },
    {
      "cell_type": "code",
      "metadata": {
        "id": "etRLOt8RiKXD",
        "colab_type": "code",
        "colab": {}
      },
      "source": [
        "assert len(train_data + test_data) == len(benign_data + malign_data)"
      ],
      "execution_count": 21,
      "outputs": []
    },
    {
      "cell_type": "code",
      "metadata": {
        "id": "Rmst7DXKibRU",
        "colab_type": "code",
        "colab": {}
      },
      "source": [
        "# separating the features and labels\n",
        "\n",
        "X_train = []\n",
        "y_train = []\n",
        "\n",
        "X_test = []\n",
        "y_test = []\n",
        "\n",
        "for X, y in train_data:\n",
        "  X_train.append(X)\n",
        "  y_train.append(y)\n",
        "\n",
        "for X, y in test_data:\n",
        "  X_test.append(X)\n",
        "  y_test.append(y)\n"
      ],
      "execution_count": 22,
      "outputs": []
    },
    {
      "cell_type": "code",
      "metadata": {
        "id": "D_SwLZ_Mjkwr",
        "colab_type": "code",
        "colab": {}
      },
      "source": [
        "# reshaping \n",
        "\n",
        "num_channels = 1 # depend whether you're using rgb or grayscale images\n",
        "\n",
        "IMG_SIZE = len(X_train[0])\n",
        "\n",
        "X_train = np.array(X_train).reshape(-1, IMG_SIZE, IMG_SIZE, num_channels)\n",
        "\n",
        "y_train = np.array(y_train).reshape(-1)\n",
        "\n",
        "IMG_SIZE = len(X_test[0])\n",
        "\n",
        "X_test = np.array(X_test).reshape(-1, IMG_SIZE, IMG_SIZE, num_channels)\n",
        "\n",
        "y_test = np.array(y_test).reshape(-1)"
      ],
      "execution_count": 23,
      "outputs": []
    },
    {
      "cell_type": "code",
      "metadata": {
        "id": "H6VcUqG-lDYT",
        "colab_type": "code",
        "colab": {
          "base_uri": "https://localhost:8080/",
          "height": 50
        },
        "outputId": "1c09957a-8d83-44ce-fbf7-e4db52628bdf"
      },
      "source": [
        "print(X_train.shape)\n",
        "print(X_test.shape)"
      ],
      "execution_count": 24,
      "outputs": [
        {
          "output_type": "stream",
          "text": [
            "(2791, 100, 100, 1)\n",
            "(1197, 100, 100, 1)\n"
          ],
          "name": "stdout"
        }
      ]
    },
    {
      "cell_type": "code",
      "metadata": {
        "id": "kGGxNQ-Lz-jB",
        "colab_type": "code",
        "colab": {}
      },
      "source": [
        ""
      ],
      "execution_count": null,
      "outputs": []
    },
    {
      "cell_type": "markdown",
      "metadata": {
        "id": "8NHYEy7_dYrt",
        "colab_type": "text"
      },
      "source": [
        "### **RGB IMAGES**"
      ]
    },
    {
      "cell_type": "code",
      "metadata": {
        "colab_type": "code",
        "id": "zh2cj2yhdB2A",
        "colab": {}
      },
      "source": [
        "# setting the path to the pickle files saved (rgb images)\n",
        "benign_link_3 = \"/content/gdrive/Copy of BCD/Breast Cancer Detection/Pickle files of images/RGB IMAGES ARRAY/benign_3.pickle\"\n",
        "\n",
        "malign_link_3 = \"/content/gdrive/Copy of BCD/Breast Cancer Detection/Pickle files of images/RGB IMAGES ARRAY/malign_3.pickle\""
      ],
      "execution_count": null,
      "outputs": []
    },
    {
      "cell_type": "code",
      "metadata": {
        "colab_type": "code",
        "id": "_YWVcCW2dB2E",
        "colab": {}
      },
      "source": [
        "# opening saved data pickle files (rgb images)\n",
        "pickle_in = open(benign_link_3, \"rb\")\n",
        "benign_data_3 = pickle.load(pickle_in)\n",
        "\n",
        "pickle_in = open(malign_link_3, \"rb\")\n",
        "malign_data_3 = pickle.load(pickle_in)"
      ],
      "execution_count": null,
      "outputs": []
    },
    {
      "cell_type": "code",
      "metadata": {
        "colab_type": "code",
        "id": "HByF2zc-dB2G",
        "colab": {}
      },
      "source": [
        "# shuffle the data\n",
        "random.shuffle(benign_data_3)\n",
        "random.shuffle(malign_data_3)"
      ],
      "execution_count": null,
      "outputs": []
    },
    {
      "cell_type": "code",
      "metadata": {
        "colab_type": "code",
        "id": "oZzQrPlqdB2I",
        "colab": {}
      },
      "source": [
        "# splitting and merging the data from benign and malign arrays\n",
        "\n",
        "# split eg. train_per = 0.7 --> 70% train data, 30% test data\n",
        "train_per = 0.7\n",
        "\n",
        "trn_b_3 = int(len(benign_data_3) * train_per)\n",
        "\n",
        "trn_m_3 = int(len(malign_data_3) * train_per)\n",
        "\n",
        "train_data_3 = benign_data_3[: trn_b_3].copy() + malign_data_3[: trn_m_3].copy()\n",
        "\n",
        "test_data_3 = benign_data_3[trn_b_3 :].copy() + malign_data_3[trn_m_3 :].copy()"
      ],
      "execution_count": null,
      "outputs": []
    },
    {
      "cell_type": "code",
      "metadata": {
        "colab_type": "code",
        "id": "AEKnhM7CdB2M",
        "colab": {}
      },
      "source": [
        "# shuffle train and test data\n",
        "random.shuffle(train_data_3)\n",
        "random.shuffle(test_data_3)"
      ],
      "execution_count": null,
      "outputs": []
    },
    {
      "cell_type": "code",
      "metadata": {
        "colab_type": "code",
        "id": "y2jsPLVDdB2O",
        "colab": {}
      },
      "source": [
        "assert len(train_data_3 + test_data_3) == len(benign_data_3 + malign_data_3)"
      ],
      "execution_count": null,
      "outputs": []
    },
    {
      "cell_type": "code",
      "metadata": {
        "colab_type": "code",
        "id": "TWTnaH7AdB2P",
        "colab": {}
      },
      "source": [
        "# separating the features and labels\n",
        "\n",
        "X_train_3 = []\n",
        "y_train_3 = []\n",
        "\n",
        "X_test_3 = []\n",
        "y_test_3 = []\n",
        "\n",
        "for X, y in train_data_3:\n",
        "  X_train_3.append(X)\n",
        "  y_train_3.append(y)\n",
        "\n",
        "for X, y in test_data_3:\n",
        "  X_test_3.append(X)\n",
        "  y_test_3.append(y)\n"
      ],
      "execution_count": null,
      "outputs": []
    },
    {
      "cell_type": "code",
      "metadata": {
        "colab_type": "code",
        "id": "ZjPrhhiTdB2S",
        "colab": {}
      },
      "source": [
        "# reshaping \n",
        "\n",
        "num_channels = 3 # depend whether you're using rgb or grayscale images\n",
        "\n",
        "IMG_SIZE = len(X_train_3[0])\n",
        "\n",
        "X_train_3 = np.array(X_train_3).reshape(-1, IMG_SIZE, IMG_SIZE, num_channels)\n",
        "\n",
        "y_train_3 = np.array(y_train_3).reshape(-1)\n",
        "\n",
        "IMG_SIZE = len(X_test_3[0])\n",
        "\n",
        "X_test_3 = np.array(X_test_3).reshape(-1, IMG_SIZE, IMG_SIZE, num_channels)\n",
        "\n",
        "y_test_3 = np.array(y_test_3).reshape(-1)"
      ],
      "execution_count": null,
      "outputs": []
    },
    {
      "cell_type": "code",
      "metadata": {
        "colab_type": "code",
        "id": "gH1kPJFpdB2U",
        "colab": {
          "base_uri": "https://localhost:8080/",
          "height": 50
        },
        "outputId": "1c09957a-8d83-44ce-fbf7-e4db52628bdf"
      },
      "source": [
        "print(X_train_3.shape)\n",
        "print(X_test_3.shape)"
      ],
      "execution_count": null,
      "outputs": [
        {
          "output_type": "stream",
          "text": [
            "(2791, 100, 100, 1)\n",
            "(1197, 100, 100, 1)\n"
          ],
          "name": "stdout"
        }
      ]
    },
    {
      "cell_type": "code",
      "metadata": {
        "colab_type": "code",
        "id": "47QLwoeTdB2X",
        "colab": {}
      },
      "source": [
        ""
      ],
      "execution_count": null,
      "outputs": []
    },
    {
      "cell_type": "markdown",
      "metadata": {
        "id": "cIBc1D1Yt0pm",
        "colab_type": "text"
      },
      "source": [
        "# **Setting up the model**"
      ]
    },
    {
      "cell_type": "markdown",
      "metadata": {
        "id": "yhcbfimhuJwE",
        "colab_type": "text"
      },
      "source": [
        "### **model**"
      ]
    },
    {
      "cell_type": "code",
      "metadata": {
        "id": "jObIrtDK-n-H",
        "colab_type": "code",
        "colab": {}
      },
      "source": [
        "model = tf.keras.models.Sequential(\n",
        "    [\n",
        "     \n",
        "     Conv2D(16, (3,3), padding='same', activation='relu', input_shape=(100,100,num_channels)),\n",
        "     MaxPooling2D(2,2),\n",
        "\n",
        "     Conv2D(32, (3,3), padding='same', activation='relu'),\n",
        "     MaxPooling2D(2,2),\n",
        "\n",
        "     Flatten(),\n",
        "\n",
        "     Dense(512, activation='relu'),\n",
        "\n",
        "     Dense(1, activation='sigmoid')\n",
        "     \n",
        "    ]\n",
        ")"
      ],
      "execution_count": 25,
      "outputs": []
    },
    {
      "cell_type": "code",
      "metadata": {
        "id": "qqMZ_c-T-n7a",
        "colab_type": "code",
        "colab": {
          "base_uri": "https://localhost:8080/",
          "height": 386
        },
        "outputId": "3fb87ef8-10ba-40fa-b83d-19721f4a79b7"
      },
      "source": [
        "model.summary()"
      ],
      "execution_count": 26,
      "outputs": [
        {
          "output_type": "stream",
          "text": [
            "Model: \"sequential\"\n",
            "_________________________________________________________________\n",
            "Layer (type)                 Output Shape              Param #   \n",
            "=================================================================\n",
            "conv2d (Conv2D)              (None, 100, 100, 16)      160       \n",
            "_________________________________________________________________\n",
            "max_pooling2d (MaxPooling2D) (None, 50, 50, 16)        0         \n",
            "_________________________________________________________________\n",
            "conv2d_1 (Conv2D)            (None, 50, 50, 32)        4640      \n",
            "_________________________________________________________________\n",
            "max_pooling2d_1 (MaxPooling2 (None, 25, 25, 32)        0         \n",
            "_________________________________________________________________\n",
            "flatten (Flatten)            (None, 20000)             0         \n",
            "_________________________________________________________________\n",
            "dense (Dense)                (None, 512)               10240512  \n",
            "_________________________________________________________________\n",
            "dense_1 (Dense)              (None, 1)                 513       \n",
            "=================================================================\n",
            "Total params: 10,245,825\n",
            "Trainable params: 10,245,825\n",
            "Non-trainable params: 0\n",
            "_________________________________________________________________\n"
          ],
          "name": "stdout"
        }
      ]
    },
    {
      "cell_type": "code",
      "metadata": {
        "id": "Xjb5XbD6-n4Y",
        "colab_type": "code",
        "colab": {}
      },
      "source": [
        "model.compile(\n",
        "    loss = 'binary_crossentropy',\n",
        "    optimizer = Adam(),\n",
        "    metrics = ['acc']\n",
        ")"
      ],
      "execution_count": 27,
      "outputs": []
    },
    {
      "cell_type": "code",
      "metadata": {
        "id": "PpiaonjN-n1f",
        "colab_type": "code",
        "colab": {
          "base_uri": "https://localhost:8080/",
          "height": 521
        },
        "outputId": "2ecdba33-75f5-45ad-cbe0-f50aa5726892"
      },
      "source": [
        "result = model.fit(\n",
        "    x = X_train,\n",
        "    y = y_train,\n",
        "    batch_size = 32,\n",
        "    epochs = 15,\n",
        "    validation_split = 0.1,\n",
        "    verbose = 2\n",
        ")"
      ],
      "execution_count": 28,
      "outputs": [
        {
          "output_type": "stream",
          "text": [
            "Epoch 1/15\n",
            "79/79 - 23s - loss: 33.9643 - acc: 0.6169 - val_loss: 0.8031 - val_acc: 0.5821\n",
            "Epoch 2/15\n",
            "79/79 - 22s - loss: 0.5007 - acc: 0.7702 - val_loss: 0.5346 - val_acc: 0.7321\n",
            "Epoch 3/15\n",
            "79/79 - 22s - loss: 0.3671 - acc: 0.8307 - val_loss: 0.5388 - val_acc: 0.7607\n",
            "Epoch 4/15\n",
            "79/79 - 22s - loss: 0.3042 - acc: 0.8622 - val_loss: 0.7996 - val_acc: 0.6464\n",
            "Epoch 5/15\n",
            "79/79 - 22s - loss: 0.2682 - acc: 0.8773 - val_loss: 0.6238 - val_acc: 0.7643\n",
            "Epoch 6/15\n",
            "79/79 - 22s - loss: 0.2278 - acc: 0.8988 - val_loss: 0.6076 - val_acc: 0.7964\n",
            "Epoch 7/15\n",
            "79/79 - 22s - loss: 0.1946 - acc: 0.9196 - val_loss: 0.6612 - val_acc: 0.7893\n",
            "Epoch 8/15\n",
            "79/79 - 22s - loss: 0.1717 - acc: 0.9259 - val_loss: 0.6012 - val_acc: 0.8143\n",
            "Epoch 9/15\n",
            "79/79 - 22s - loss: 0.1536 - acc: 0.9335 - val_loss: 0.6567 - val_acc: 0.7857\n",
            "Epoch 10/15\n",
            "79/79 - 22s - loss: 0.1297 - acc: 0.9419 - val_loss: 0.6506 - val_acc: 0.8000\n",
            "Epoch 11/15\n",
            "79/79 - 23s - loss: 0.1473 - acc: 0.9355 - val_loss: 0.7276 - val_acc: 0.7929\n",
            "Epoch 12/15\n",
            "79/79 - 22s - loss: 0.1955 - acc: 0.9200 - val_loss: 0.6355 - val_acc: 0.7929\n",
            "Epoch 13/15\n",
            "79/79 - 23s - loss: 0.1161 - acc: 0.9546 - val_loss: 0.6276 - val_acc: 0.8107\n",
            "Epoch 14/15\n",
            "79/79 - 23s - loss: 0.1100 - acc: 0.9566 - val_loss: 0.7327 - val_acc: 0.7857\n",
            "Epoch 15/15\n",
            "79/79 - 22s - loss: 0.0837 - acc: 0.9697 - val_loss: 0.7422 - val_acc: 0.8179\n"
          ],
          "name": "stdout"
        }
      ]
    },
    {
      "cell_type": "code",
      "metadata": {
        "id": "ZIO6YiSN-nvf",
        "colab_type": "code",
        "colab": {
          "base_uri": "https://localhost:8080/",
          "height": 573
        },
        "outputId": "8e23bcea-f334-4140-9a45-5b8eae64ba3e"
      },
      "source": [
        "# Plotting the accuracy of \"model\"\n",
        "plt.plot(result.history['acc'])\n",
        "plt.plot(result.history['val_acc'])\n",
        "plt.title('model accuracy')\n",
        "plt.ylabel('accuracy')\n",
        "plt.xlabel('epoch')\n",
        "plt.legend(['train', 'validation'], loc='upper left')\n",
        "plt.show()\n",
        "\n",
        "# Loss of \"model\"\n",
        "plt.plot(result.history['loss'])\n",
        "plt.plot(result.history['val_loss'])\n",
        "plt.title('model loss')\n",
        "plt.ylabel('loss')\n",
        "plt.xlabel('epoch')\n",
        "plt.legend(['train', 'validation'], loc='upper left')\n",
        "plt.show()\n"
      ],
      "execution_count": 29,
      "outputs": [
        {
          "output_type": "display_data",
          "data": {
            "image/png": "[encoded data removed]",
            "text/plain": [
              "<Figure size 432x288 with 1 Axes>"
            ]
          },
          "metadata": {
            "tags": [],
            "needs_background": "light"
          }
        },
        {
          "output_type": "display_data",
          "data": {
            "image/png": "[encoded data removed]",
            "text/plain": [
              "<Figure size 432x288 with 1 Axes>"
            ]
          },
          "metadata": {
            "tags": [],
            "needs_background": "light"
          }
        }
      ]
    },
    {
      "cell_type": "markdown",
      "metadata": {
        "id": "tAH3BbyeuYKe",
        "colab_type": "text"
      },
      "source": [
        "### **model_DO**"
      ]
    },
    {
      "cell_type": "code",
      "metadata": {
        "id": "esRrGBa6-np5",
        "colab_type": "code",
        "colab": {}
      },
      "source": [
        "model_DO = tf.keras.models.Sequential(\n",
        "    [\n",
        "     \n",
        "     Conv2D(16, (3,3), padding='same', activation='relu', input_shape=(100,100,num_channels)),\n",
        "     MaxPooling2D(2,2),\n",
        "\n",
        "     Conv2D(32, (3,3), padding='same', activation='relu'),\n",
        "     MaxPooling2D(2,2),\n",
        "\n",
        "     Flatten(),\n",
        "\n",
        "     Dense(512, activation='relu'),\n",
        "\n",
        "     Dropout(0.5),\n",
        "\n",
        "     Dense(1, activation='sigmoid')\n",
        "     \n",
        "    ]\n",
        ")"
      ],
      "execution_count": 30,
      "outputs": []
    },
    {
      "cell_type": "code",
      "metadata": {
        "id": "KVi5zTXY-nnQ",
        "colab_type": "code",
        "colab": {
          "base_uri": "https://localhost:8080/",
          "height": 420
        },
        "outputId": "820035f1-ded2-492a-a067-28baaaa29be2"
      },
      "source": [
        "model_DO.summary()"
      ],
      "execution_count": 31,
      "outputs": [
        {
          "output_type": "stream",
          "text": [
            "Model: \"sequential_1\"\n",
            "_________________________________________________________________\n",
            "Layer (type)                 Output Shape              Param #   \n",
            "=================================================================\n",
            "conv2d_2 (Conv2D)            (None, 100, 100, 16)      160       \n",
            "_________________________________________________________________\n",
            "max_pooling2d_2 (MaxPooling2 (None, 50, 50, 16)        0         \n",
            "_________________________________________________________________\n",
            "conv2d_3 (Conv2D)            (None, 50, 50, 32)        4640      \n",
            "_________________________________________________________________\n",
            "max_pooling2d_3 (MaxPooling2 (None, 25, 25, 32)        0         \n",
            "_________________________________________________________________\n",
            "flatten_1 (Flatten)          (None, 20000)             0         \n",
            "_________________________________________________________________\n",
            "dense_2 (Dense)              (None, 512)               10240512  \n",
            "_________________________________________________________________\n",
            "dropout (Dropout)            (None, 512)               0         \n",
            "_________________________________________________________________\n",
            "dense_3 (Dense)              (None, 1)                 513       \n",
            "=================================================================\n",
            "Total params: 10,245,825\n",
            "Trainable params: 10,245,825\n",
            "Non-trainable params: 0\n",
            "_________________________________________________________________\n"
          ],
          "name": "stdout"
        }
      ]
    },
    {
      "cell_type": "code",
      "metadata": {
        "id": "9GVnF07q-nki",
        "colab_type": "code",
        "colab": {}
      },
      "source": [
        "model_DO.compile(\n",
        "    loss = 'binary_crossentropy',\n",
        "    optimizer = Adam(),\n",
        "    metrics = ['acc']\n",
        ")"
      ],
      "execution_count": 32,
      "outputs": []
    },
    {
      "cell_type": "code",
      "metadata": {
        "id": "D_EfWYjW-nhu",
        "colab_type": "code",
        "colab": {
          "base_uri": "https://localhost:8080/",
          "height": 521
        },
        "outputId": "019f7088-55f3-427a-90af-428ba9586bf7"
      },
      "source": [
        "result_DO = model_DO.fit(\n",
        "    x = X_train,\n",
        "    y = y_train,\n",
        "    batch_size = 32,\n",
        "    epochs = 15,\n",
        "    validation_split = 0.1,\n",
        "    verbose = 2\n",
        ")"
      ],
      "execution_count": 34,
      "outputs": [
        {
          "output_type": "stream",
          "text": [
            "Epoch 1/15\n",
            "79/79 - 22s - loss: 14.1095 - acc: 0.6424 - val_loss: 0.6080 - val_acc: 0.7143\n",
            "Epoch 2/15\n",
            "79/79 - 22s - loss: 0.5133 - acc: 0.7686 - val_loss: 0.5083 - val_acc: 0.7929\n",
            "Epoch 3/15\n",
            "79/79 - 22s - loss: 0.3929 - acc: 0.8331 - val_loss: 0.4674 - val_acc: 0.8036\n",
            "Epoch 4/15\n",
            "79/79 - 22s - loss: 0.3471 - acc: 0.8515 - val_loss: 0.4690 - val_acc: 0.8286\n",
            "Epoch 5/15\n",
            "79/79 - 22s - loss: 0.3121 - acc: 0.8662 - val_loss: 0.4891 - val_acc: 0.8107\n",
            "Epoch 6/15\n",
            "79/79 - 22s - loss: 0.2760 - acc: 0.8801 - val_loss: 0.5269 - val_acc: 0.8214\n",
            "Epoch 7/15\n",
            "79/79 - 23s - loss: 0.2460 - acc: 0.8945 - val_loss: 0.5528 - val_acc: 0.8107\n",
            "Epoch 8/15\n",
            "79/79 - 23s - loss: 0.2368 - acc: 0.9024 - val_loss: 0.5260 - val_acc: 0.8000\n",
            "Epoch 9/15\n",
            "79/79 - 22s - loss: 0.2105 - acc: 0.9116 - val_loss: 0.6183 - val_acc: 0.8321\n",
            "Epoch 10/15\n",
            "79/79 - 23s - loss: 0.2047 - acc: 0.9164 - val_loss: 0.6177 - val_acc: 0.8000\n",
            "Epoch 11/15\n",
            "79/79 - 22s - loss: 0.1852 - acc: 0.9188 - val_loss: 0.6203 - val_acc: 0.8357\n",
            "Epoch 12/15\n",
            "79/79 - 22s - loss: 0.1693 - acc: 0.9259 - val_loss: 0.6219 - val_acc: 0.8429\n",
            "Epoch 13/15\n",
            "79/79 - 22s - loss: 0.1727 - acc: 0.9267 - val_loss: 0.6268 - val_acc: 0.8321\n",
            "Epoch 14/15\n",
            "79/79 - 22s - loss: 0.1520 - acc: 0.9335 - val_loss: 0.6230 - val_acc: 0.8250\n",
            "Epoch 15/15\n",
            "79/79 - 22s - loss: 0.1511 - acc: 0.9391 - val_loss: 0.6204 - val_acc: 0.8250\n"
          ],
          "name": "stdout"
        }
      ]
    },
    {
      "cell_type": "code",
      "metadata": {
        "id": "1j3Kddxo-neo",
        "colab_type": "code",
        "colab": {
          "base_uri": "https://localhost:8080/",
          "height": 573
        },
        "outputId": "560fc933-630c-4899-f137-c785aed589a9"
      },
      "source": [
        "# Accuracy of \"model_DO\"\n",
        "plt.plot(result_DO.history['acc'])\n",
        "plt.plot(result_DO.history['val_acc'])\n",
        "plt.title('model accuracy')\n",
        "plt.ylabel('accuracy')\n",
        "plt.xlabel('epoch')\n",
        "plt.legend(['train', 'validation'], loc='upper left')\n",
        "plt.show()\n",
        "\n",
        "# Loss of \"model_DO\"\n",
        "plt.plot(result_DO.history['loss'])\n",
        "plt.plot(result_DO.history['val_loss'])\n",
        "plt.title('model loss')\n",
        "plt.ylabel('loss')\n",
        "plt.xlabel('epoch')\n",
        "plt.legend(['train', 'validation'], loc='upper left')\n",
        "plt.show()\n"
      ],
      "execution_count": 35,
      "outputs": [
        {
          "output_type": "display_data",
          "data": {
            "image/png": "[encoded data removed]",
            "text/plain": [
              "<Figure size 432x288 with 1 Axes>"
            ]
          },
          "metadata": {
            "tags": [],
            "needs_background": "light"
          }
        },
        {
          "output_type": "display_data",
          "data": {
            "image/png": "[encoded data removed]",
            "text/plain": [
              "<Figure size 432x288 with 1 Axes>"
            ]
          },
          "metadata": {
            "tags": [],
            "needs_background": "light"
          }
        }
      ]
    },
    {
      "cell_type": "markdown",
      "metadata": {
        "id": "u1MDvszRulre",
        "colab_type": "text"
      },
      "source": [
        "### **model_DO_less**"
      ]
    },
    {
      "cell_type": "code",
      "metadata": {
        "id": "DeMevjtQ-nZB",
        "colab_type": "code",
        "colab": {}
      },
      "source": [
        "model_DO_less = tf.keras.models.Sequential(\n",
        "    [\n",
        "     \n",
        "     Conv2D(8, (3,3), padding='same', activation='relu', input_shape=(100,100,num_channels)),\n",
        "     MaxPooling2D(2,2),\n",
        "\n",
        "     Conv2D(16, (3,3), padding='same', activation='relu'),\n",
        "     MaxPooling2D(2,2),\n",
        "\n",
        "     Flatten(),\n",
        "\n",
        "     Dense(128, activation='relu'),\n",
        "\n",
        "     Dropout(0.5),\n",
        "\n",
        "     Dense(1, activation='sigmoid')\n",
        "     \n",
        "    ]\n",
        ")"
      ],
      "execution_count": 36,
      "outputs": []
    },
    {
      "cell_type": "code",
      "metadata": {
        "id": "pZK6i3ht-nWQ",
        "colab_type": "code",
        "colab": {
          "base_uri": "https://localhost:8080/",
          "height": 420
        },
        "outputId": "21ed5010-ba33-47db-a477-3fcebdaaf12a"
      },
      "source": [
        "model_DO_less.summary()"
      ],
      "execution_count": 37,
      "outputs": [
        {
          "output_type": "stream",
          "text": [
            "Model: \"sequential_2\"\n",
            "_________________________________________________________________\n",
            "Layer (type)                 Output Shape              Param #   \n",
            "=================================================================\n",
            "conv2d_4 (Conv2D)            (None, 100, 100, 8)       80        \n",
            "_________________________________________________________________\n",
            "max_pooling2d_4 (MaxPooling2 (None, 50, 50, 8)         0         \n",
            "_________________________________________________________________\n",
            "conv2d_5 (Conv2D)            (None, 50, 50, 16)        1168      \n",
            "_________________________________________________________________\n",
            "max_pooling2d_5 (MaxPooling2 (None, 25, 25, 16)        0         \n",
            "_________________________________________________________________\n",
            "flatten_2 (Flatten)          (None, 10000)             0         \n",
            "_________________________________________________________________\n",
            "dense_4 (Dense)              (None, 128)               1280128   \n",
            "_________________________________________________________________\n",
            "dropout_1 (Dropout)          (None, 128)               0         \n",
            "_________________________________________________________________\n",
            "dense_5 (Dense)              (None, 1)                 129       \n",
            "=================================================================\n",
            "Total params: 1,281,505\n",
            "Trainable params: 1,281,505\n",
            "Non-trainable params: 0\n",
            "_________________________________________________________________\n"
          ],
          "name": "stdout"
        }
      ]
    },
    {
      "cell_type": "code",
      "metadata": {
        "id": "yqGpmFwh-nTg",
        "colab_type": "code",
        "colab": {}
      },
      "source": [
        "model_DO_less.compile(\n",
        "    loss = 'binary_crossentropy',\n",
        "    optimizer = Adam(),\n",
        "    metrics = ['acc']\n",
        ")"
      ],
      "execution_count": 38,
      "outputs": []
    },
    {
      "cell_type": "code",
      "metadata": {
        "id": "zFHDNeAV-nQv",
        "colab_type": "code",
        "colab": {
          "base_uri": "https://localhost:8080/",
          "height": 521
        },
        "outputId": "53b6f128-2669-471d-961b-e3fdd0718ec3"
      },
      "source": [
        "result_DO_less = model_DO_less.fit(\n",
        "    x = X_train,\n",
        "    y = y_train,\n",
        "    batch_size = 32,\n",
        "    epochs = 15,\n",
        "    validation_split = 0.1,\n",
        "    verbose = 2\n",
        ")"
      ],
      "execution_count": 39,
      "outputs": [
        {
          "output_type": "stream",
          "text": [
            "Epoch 1/15\n",
            "79/79 - 12s - loss: 9.9687 - acc: 0.6328 - val_loss: 0.5439 - val_acc: 0.7643\n",
            "Epoch 2/15\n",
            "79/79 - 11s - loss: 0.4986 - acc: 0.7818 - val_loss: 0.4784 - val_acc: 0.7964\n",
            "Epoch 3/15\n",
            "79/79 - 11s - loss: 0.4311 - acc: 0.8065 - val_loss: 0.4526 - val_acc: 0.8036\n",
            "Epoch 4/15\n",
            "79/79 - 12s - loss: 0.4010 - acc: 0.8228 - val_loss: 0.4634 - val_acc: 0.8036\n",
            "Epoch 5/15\n",
            "79/79 - 12s - loss: 0.3469 - acc: 0.8455 - val_loss: 0.4685 - val_acc: 0.7821\n",
            "Epoch 6/15\n",
            "79/79 - 11s - loss: 0.3287 - acc: 0.8523 - val_loss: 0.4555 - val_acc: 0.8107\n",
            "Epoch 7/15\n",
            "79/79 - 11s - loss: 0.2970 - acc: 0.8686 - val_loss: 0.4268 - val_acc: 0.8214\n",
            "Epoch 8/15\n",
            "79/79 - 11s - loss: 0.2931 - acc: 0.8730 - val_loss: 0.4608 - val_acc: 0.8250\n",
            "Epoch 9/15\n",
            "79/79 - 11s - loss: 0.2666 - acc: 0.8797 - val_loss: 0.4766 - val_acc: 0.8179\n",
            "Epoch 10/15\n",
            "79/79 - 11s - loss: 0.2548 - acc: 0.8865 - val_loss: 0.4603 - val_acc: 0.8214\n",
            "Epoch 11/15\n",
            "79/79 - 11s - loss: 0.2314 - acc: 0.8992 - val_loss: 0.4644 - val_acc: 0.8214\n",
            "Epoch 12/15\n",
            "79/79 - 11s - loss: 0.2403 - acc: 0.8957 - val_loss: 0.4425 - val_acc: 0.8286\n",
            "Epoch 13/15\n",
            "79/79 - 12s - loss: 0.2224 - acc: 0.9020 - val_loss: 0.4742 - val_acc: 0.8071\n",
            "Epoch 14/15\n",
            "79/79 - 11s - loss: 0.2083 - acc: 0.9040 - val_loss: 0.4707 - val_acc: 0.8321\n",
            "Epoch 15/15\n",
            "79/79 - 11s - loss: 0.1907 - acc: 0.9144 - val_loss: 0.4900 - val_acc: 0.8321\n"
          ],
          "name": "stdout"
        }
      ]
    },
    {
      "cell_type": "code",
      "metadata": {
        "id": "W00eO2Ie-nN_",
        "colab_type": "code",
        "colab": {
          "base_uri": "https://localhost:8080/",
          "height": 573
        },
        "outputId": "bd21771a-53ae-43c1-96b5-d706fbcf68cb"
      },
      "source": [
        "# Accuracy of \"model_DO_less\"\n",
        "plt.plot(result_DO_less.history['acc'])\n",
        "plt.plot(result_DO_less.history['val_acc'])\n",
        "plt.title('model accuracy')\n",
        "plt.ylabel('accuracy')\n",
        "plt.xlabel('epoch')\n",
        "plt.legend(['train', 'validation'], loc='upper left')\n",
        "plt.show()\n",
        "\n",
        "# Loss of \"model_DO_less\"\n",
        "plt.plot(result_DO_less.history['loss'])\n",
        "plt.plot(result_DO_less.history['val_loss'])\n",
        "plt.title('model loss')\n",
        "plt.ylabel('loss')\n",
        "plt.xlabel('epoch')\n",
        "plt.legend(['train', 'validation'], loc='upper left')\n",
        "plt.show()\n"
      ],
      "execution_count": 40,
      "outputs": [
        {
          "output_type": "display_data",
          "data": {
            "image/png": "[encoded data removed]",
            "text/plain": [
              "<Figure size 432x288 with 1 Axes>"
            ]
          },
          "metadata": {
            "tags": [],
            "needs_background": "light"
          }
        },
        {
          "output_type": "display_data",
          "data": {
            "image/png": "[encoded data removed]",
            "text/plain": [
              "<Figure size 432x288 with 1 Axes>"
            ]
          },
          "metadata": {
            "tags": [],
            "needs_background": "light"
          }
        }
      ]
    },
    {
      "cell_type": "markdown",
      "metadata": {
        "id": "ZJAbIU2fuw-2",
        "colab_type": "text"
      },
      "source": [
        "### **model_DO_06_Dense_128**"
      ]
    },
    {
      "cell_type": "code",
      "metadata": {
        "id": "Y6rSoUWJw7qC",
        "colab_type": "code",
        "colab": {}
      },
      "source": [
        "model_DO_06_Dense_128 = tf.keras.models.Sequential(\n",
        "    [\n",
        "     \n",
        "     Conv2D(8, (3,3), padding='same', activation='relu', input_shape=(100,100,num_channels)),\n",
        "     MaxPooling2D(2,2),\n",
        "\n",
        "     Conv2D(16, (3,3), padding='same', activation='relu'),\n",
        "     MaxPooling2D(2,2),\n",
        "\n",
        "     Flatten(),\n",
        "\n",
        "     Dense(128, activation='relu'),\n",
        "\n",
        "     Dropout(0.6),\n",
        "\n",
        "     Dense(1, activation='sigmoid')\n",
        "     \n",
        "    ]\n",
        ")"
      ],
      "execution_count": 46,
      "outputs": []
    },
    {
      "cell_type": "code",
      "metadata": {
        "id": "9IS6f3N4w7Yo",
        "colab_type": "code",
        "colab": {
          "base_uri": "https://localhost:8080/",
          "height": 420
        },
        "outputId": "7ad9d8e7-1995-4127-937c-5cb7e15ee040"
      },
      "source": [
        "model_DO_06_Dense_128.summary()"
      ],
      "execution_count": 47,
      "outputs": [
        {
          "output_type": "stream",
          "text": [
            "Model: \"sequential_4\"\n",
            "_________________________________________________________________\n",
            "Layer (type)                 Output Shape              Param #   \n",
            "=================================================================\n",
            "conv2d_8 (Conv2D)            (None, 100, 100, 8)       80        \n",
            "_________________________________________________________________\n",
            "max_pooling2d_8 (MaxPooling2 (None, 50, 50, 8)         0         \n",
            "_________________________________________________________________\n",
            "conv2d_9 (Conv2D)            (None, 50, 50, 16)        1168      \n",
            "_________________________________________________________________\n",
            "max_pooling2d_9 (MaxPooling2 (None, 25, 25, 16)        0         \n",
            "_________________________________________________________________\n",
            "flatten_4 (Flatten)          (None, 10000)             0         \n",
            "_________________________________________________________________\n",
            "dense_8 (Dense)              (None, 128)               1280128   \n",
            "_________________________________________________________________\n",
            "dropout_3 (Dropout)          (None, 128)               0         \n",
            "_________________________________________________________________\n",
            "dense_9 (Dense)              (None, 1)                 129       \n",
            "=================================================================\n",
            "Total params: 1,281,505\n",
            "Trainable params: 1,281,505\n",
            "Non-trainable params: 0\n",
            "_________________________________________________________________\n"
          ],
          "name": "stdout"
        }
      ]
    },
    {
      "cell_type": "code",
      "metadata": {
        "id": "AjPhnlX2w6fL",
        "colab_type": "code",
        "colab": {}
      },
      "source": [
        "model_DO_06_Dense_128.compile(\n",
        "    loss = 'binary_crossentropy',\n",
        "    optimizer = Adam(),\n",
        "    metrics = ['acc']\n",
        ")"
      ],
      "execution_count": 48,
      "outputs": []
    },
    {
      "cell_type": "code",
      "metadata": {
        "id": "miAKqRHCw6VD",
        "colab_type": "code",
        "colab": {
          "base_uri": "https://localhost:8080/",
          "height": 521
        },
        "outputId": "a260ca45-335c-4d53-dbd7-05ad0ea6b558"
      },
      "source": [
        "result_DO_06_Dense_128 = model_DO_06_Dense_128.fit(\n",
        "    x = X_train,\n",
        "    y = y_train,\n",
        "    batch_size = 32,\n",
        "    epochs = 15,\n",
        "    validation_split = 0.1,\n",
        "    verbose = 2\n",
        ")"
      ],
      "execution_count": 45,
      "outputs": [
        {
          "output_type": "stream",
          "text": [
            "Epoch 1/15\n",
            "79/79 - 12s - loss: 5.2806 - acc: 0.5297 - val_loss: 0.6475 - val_acc: 0.6393\n",
            "Epoch 2/15\n",
            "79/79 - 11s - loss: 0.6532 - acc: 0.6069 - val_loss: 0.5913 - val_acc: 0.7321\n",
            "Epoch 3/15\n",
            "79/79 - 11s - loss: 0.6236 - acc: 0.6145 - val_loss: 0.5754 - val_acc: 0.7107\n",
            "Epoch 4/15\n",
            "79/79 - 12s - loss: 0.5928 - acc: 0.6643 - val_loss: 0.5442 - val_acc: 0.7536\n",
            "Epoch 5/15\n",
            "79/79 - 12s - loss: 0.5876 - acc: 0.6456 - val_loss: 0.5450 - val_acc: 0.7464\n",
            "Epoch 6/15\n",
            "79/79 - 11s - loss: 0.5757 - acc: 0.6818 - val_loss: 0.5099 - val_acc: 0.7821\n",
            "Epoch 7/15\n",
            "79/79 - 12s - loss: 0.5395 - acc: 0.7196 - val_loss: 0.5238 - val_acc: 0.7679\n",
            "Epoch 8/15\n",
            "79/79 - 12s - loss: 0.5174 - acc: 0.7364 - val_loss: 0.4668 - val_acc: 0.7857\n",
            "Epoch 9/15\n",
            "79/79 - 11s - loss: 0.5058 - acc: 0.7459 - val_loss: 0.4600 - val_acc: 0.8036\n",
            "Epoch 10/15\n",
            "79/79 - 11s - loss: 0.4913 - acc: 0.7483 - val_loss: 0.4781 - val_acc: 0.8000\n",
            "Epoch 11/15\n",
            "79/79 - 11s - loss: 0.4829 - acc: 0.7555 - val_loss: 0.4368 - val_acc: 0.8000\n",
            "Epoch 12/15\n",
            "79/79 - 11s - loss: 0.4424 - acc: 0.7658 - val_loss: 0.4383 - val_acc: 0.7857\n",
            "Epoch 13/15\n",
            "79/79 - 11s - loss: 0.4316 - acc: 0.7806 - val_loss: 0.4271 - val_acc: 0.8107\n",
            "Epoch 14/15\n",
            "79/79 - 11s - loss: 0.4478 - acc: 0.7686 - val_loss: 0.4263 - val_acc: 0.8107\n",
            "Epoch 15/15\n",
            "79/79 - 11s - loss: 0.4168 - acc: 0.7949 - val_loss: 0.4161 - val_acc: 0.8179\n"
          ],
          "name": "stdout"
        }
      ]
    },
    {
      "cell_type": "code",
      "metadata": {
        "id": "-Jkx2nrOxmAL",
        "colab_type": "code",
        "colab": {
          "base_uri": "https://localhost:8080/",
          "height": 559
        },
        "outputId": "a074344e-32cd-493c-9f54-87999c3319db"
      },
      "source": [
        "# Accuracy of \"model_DO_06_Dense_128\"\n",
        "plt.plot(result_DO_06_Dense_128.history['acc'])\n",
        "plt.plot(result_DO_06_Dense_128.history['val_acc'])\n",
        "plt.title('model accuracy')\n",
        "plt.ylabel('accuracy')\n",
        "plt.legend(['train', 'validation'], loc='upper left')\n",
        "plt.show()\n",
        "plt.xlabel('epoch')\n",
        "\n",
        "# Loss of \"model_DO_06_Dense_128\"\n",
        "plt.plot(result_DO_06_Dense_128.history['loss'])\n",
        "plt.plot(result_DO_06_Dense_128.history['val_loss'])\n",
        "plt.title('model loss')\n",
        "plt.ylabel('loss')\n",
        "plt.xlabel('epoch')\n",
        "plt.legend(['train', 'validation'], loc='upper left')\n",
        "plt.show()\n"
      ],
      "execution_count": 49,
      "outputs": [
        {
          "output_type": "display_data",
          "data": {
            "image/png": "[encoded data removed]",
            "text/plain": [
              "<Figure size 432x288 with 1 Axes>"
            ]
          },
          "metadata": {
            "tags": [],
            "needs_background": "light"
          }
        },
        {
          "output_type": "display_data",
          "data": {
            "image/png": "[encoded data removed]",
            "text/plain": [
              "<Figure size 432x288 with 1 Axes>"
            ]
          },
          "metadata": {
            "tags": [],
            "needs_background": "light"
          }
        }
      ]
    },
    {
      "cell_type": "markdown",
      "metadata": {
        "id": "yA2V1oIJu8XM",
        "colab_type": "text"
      },
      "source": [
        "### **model_DO_04_Dense_256**"
      ]
    },
    {
      "cell_type": "markdown",
      "metadata": {
        "id": "wTSqmq8WSbk3",
        "colab_type": "text"
      },
      "source": [
        "vgg without dropout"
      ]
    },
    {
      "cell_type": "code",
      "metadata": {
        "id": "QayBfJ1WujPc",
        "colab_type": "code",
        "colab": {}
      },
      "source": [
        "model_DO_04_Dense_256 = tf.keras.models.Sequential(\n",
        "    [\n",
        "     \n",
        "     Conv2D(8, (3,3), padding='same', activation='relu', input_shape=(100,100,num_channels)),\n",
        "     MaxPooling2D(2,2),\n",
        "\n",
        "     Conv2D(16, (3,3), padding='same', activation='relu'),\n",
        "     MaxPooling2D(2,2),\n",
        "\n",
        "     Flatten(),\n",
        "\n",
        "     Dense(256, activation='relu'),\n",
        "\n",
        "     Dropout(0.4),\n",
        "\n",
        "     Dense(1, activation='sigmoid')\n",
        "     \n",
        "    ]\n",
        ")"
      ],
      "execution_count": 51,
      "outputs": []
    },
    {
      "cell_type": "code",
      "metadata": {
        "id": "X-NDvD9iujNB",
        "colab_type": "code",
        "colab": {
          "base_uri": "https://localhost:8080/",
          "height": 420
        },
        "outputId": "a1f7fdb5-1676-49ae-aaeb-83abff1ee4d4"
      },
      "source": [
        "model_DO_04_Dense_256.summary()"
      ],
      "execution_count": 53,
      "outputs": [
        {
          "output_type": "stream",
          "text": [
            "Model: \"sequential_5\"\n",
            "_________________________________________________________________\n",
            "Layer (type)                 Output Shape              Param #   \n",
            "=================================================================\n",
            "conv2d_12 (Conv2D)           (None, 100, 100, 8)       80        \n",
            "_________________________________________________________________\n",
            "max_pooling2d_12 (MaxPooling (None, 50, 50, 8)         0         \n",
            "_________________________________________________________________\n",
            "conv2d_13 (Conv2D)           (None, 50, 50, 16)        1168      \n",
            "_________________________________________________________________\n",
            "max_pooling2d_13 (MaxPooling (None, 25, 25, 16)        0         \n",
            "_________________________________________________________________\n",
            "flatten_5 (Flatten)          (None, 10000)             0         \n",
            "_________________________________________________________________\n",
            "dense_10 (Dense)             (None, 256)               2560256   \n",
            "_________________________________________________________________\n",
            "dropout_4 (Dropout)          (None, 256)               0         \n",
            "_________________________________________________________________\n",
            "dense_11 (Dense)             (None, 1)                 257       \n",
            "=================================================================\n",
            "Total params: 2,561,761\n",
            "Trainable params: 2,561,761\n",
            "Non-trainable params: 0\n",
            "_________________________________________________________________\n"
          ],
          "name": "stdout"
        }
      ]
    },
    {
      "cell_type": "code",
      "metadata": {
        "id": "WoExatvWujKK",
        "colab_type": "code",
        "colab": {}
      },
      "source": [
        "model_DO_04_Dense_256.compile(\n",
        "    loss = 'binary_crossentropy',\n",
        "    optimizer = Adam(),\n",
        "    metrics = ['acc']\n",
        ")"
      ],
      "execution_count": 54,
      "outputs": []
    },
    {
      "cell_type": "code",
      "metadata": {
        "id": "d9-isKV1ujH4",
        "colab_type": "code",
        "colab": {
          "base_uri": "https://localhost:8080/",
          "height": 521
        },
        "outputId": "f8789da9-c82b-49e0-c4d6-7e235b15dbad"
      },
      "source": [
        "result_DO_04_Dense_256 = model_DO_04_Dense_256.fit(\n",
        "    x = X_train,\n",
        "    y = y_train,\n",
        "    batch_size = 32,\n",
        "    epochs = 15,\n",
        "    validation_split = 0.1,\n",
        "    verbose = 2\n",
        ")"
      ],
      "execution_count": 55,
      "outputs": [
        {
          "output_type": "stream",
          "text": [
            "Epoch 1/15\n",
            "79/79 - 12s - loss: 16.5051 - acc: 0.5974 - val_loss: 0.6162 - val_acc: 0.7036\n",
            "Epoch 2/15\n",
            "79/79 - 12s - loss: 0.5570 - acc: 0.7328 - val_loss: 0.5388 - val_acc: 0.7571\n",
            "Epoch 3/15\n",
            "79/79 - 12s - loss: 0.4905 - acc: 0.7670 - val_loss: 0.5149 - val_acc: 0.7679\n",
            "Epoch 4/15\n",
            "79/79 - 12s - loss: 0.4448 - acc: 0.8045 - val_loss: 0.5462 - val_acc: 0.7643\n",
            "Epoch 5/15\n",
            "79/79 - 12s - loss: 0.3976 - acc: 0.8116 - val_loss: 0.4863 - val_acc: 0.7893\n",
            "Epoch 6/15\n",
            "79/79 - 12s - loss: 0.3719 - acc: 0.8268 - val_loss: 0.5030 - val_acc: 0.7679\n",
            "Epoch 7/15\n",
            "79/79 - 12s - loss: 0.3492 - acc: 0.8499 - val_loss: 0.4973 - val_acc: 0.7964\n",
            "Epoch 8/15\n",
            "79/79 - 12s - loss: 0.3268 - acc: 0.8463 - val_loss: 0.4877 - val_acc: 0.8036\n",
            "Epoch 9/15\n",
            "79/79 - 12s - loss: 0.2976 - acc: 0.8702 - val_loss: 0.4822 - val_acc: 0.8000\n",
            "Epoch 10/15\n",
            "79/79 - 12s - loss: 0.2829 - acc: 0.8706 - val_loss: 0.4712 - val_acc: 0.8143\n",
            "Epoch 11/15\n",
            "79/79 - 12s - loss: 0.2657 - acc: 0.8797 - val_loss: 0.5004 - val_acc: 0.8214\n",
            "Epoch 12/15\n",
            "79/79 - 12s - loss: 0.2481 - acc: 0.8869 - val_loss: 0.4732 - val_acc: 0.8036\n",
            "Epoch 13/15\n",
            "79/79 - 12s - loss: 0.2370 - acc: 0.8933 - val_loss: 0.4943 - val_acc: 0.8000\n",
            "Epoch 14/15\n",
            "79/79 - 12s - loss: 0.2226 - acc: 0.8933 - val_loss: 0.4929 - val_acc: 0.8071\n",
            "Epoch 15/15\n",
            "79/79 - 12s - loss: 0.2297 - acc: 0.8977 - val_loss: 0.4791 - val_acc: 0.8321\n"
          ],
          "name": "stdout"
        }
      ]
    },
    {
      "cell_type": "code",
      "metadata": {
        "id": "alEGcxBrujFe",
        "colab_type": "code",
        "colab": {
          "base_uri": "https://localhost:8080/",
          "height": 573
        },
        "outputId": "9211b1b8-46d3-4e90-8961-18a819f5e12e"
      },
      "source": [
        "# Accuracy of \"model_DO_04_Dense_256\"\n",
        "plt.plot(result_DO_04_Dense_256.history['acc'])\n",
        "plt.plot(result_DO_04_Dense_256.history['val_acc'])\n",
        "plt.title('model accuracy')\n",
        "plt.ylabel('accuracy')\n",
        "plt.xlabel('epoch')\n",
        "plt.legend(['train', 'validation'], loc='upper left')\n",
        "plt.show()\n",
        "\n",
        "# Loss of \"model_DO_04_Dense_256\"\n",
        "plt.plot(result_DO_04_Dense_256.history['loss'])\n",
        "plt.plot(result_DO_04_Dense_256.history['val_loss'])\n",
        "plt.title('model loss')\n",
        "plt.ylabel('loss')\n",
        "plt.xlabel('epoch')\n",
        "plt.legend(['train', 'validation'], loc='upper left')\n",
        "plt.show()"
      ],
      "execution_count": 56,
      "outputs": [
        {
          "output_type": "display_data",
          "data": {
            "image/png": "[encoded data removed]",
            "text/plain": [
              "<Figure size 432x288 with 1 Axes>"
            ]
          },
          "metadata": {
            "tags": [],
            "needs_background": "light"
          }
        },
        {
          "output_type": "display_data",
          "data": {
            "image/png": "[encoded data removed]",
            "text/plain": [
              "<Figure size 432x288 with 1 Axes>"
            ]
          },
          "metadata": {
            "tags": [],
            "needs_background": "light"
          }
        }
      ]
    },
    {
      "cell_type": "markdown",
      "metadata": {
        "id": "0hSfKKfWjQbt",
        "colab_type": "text"
      },
      "source": [
        "### **model_vgg**"
      ]
    },
    {
      "cell_type": "markdown",
      "metadata": {
        "id": "9Ho2GojJSx7F",
        "colab_type": "text"
      },
      "source": [
        "#### **vgg without dropout**"
      ]
    },
    {
      "cell_type": "code",
      "metadata": {
        "id": "qxWWNTayjQFl",
        "colab_type": "code",
        "colab": {}
      },
      "source": [
        "vgg = VGG16(\n",
        "    include_top=False, \n",
        "    weights='imagenet', \n",
        "    input_shape=(100, 100, 3)\n",
        "    )\n",
        "# vgg.trainable = False\n",
        "\n",
        "for layer in vgg.layers:\n",
        "  layer.trainable = False"
      ],
      "execution_count": null,
      "outputs": []
    },
    {
      "cell_type": "code",
      "metadata": {
        "id": "vLoQB6uvqBNP",
        "colab_type": "code",
        "colab": {
          "base_uri": "https://localhost:8080/",
          "height": 790
        },
        "outputId": "af1bafa5-c020-4cf9-cc81-1b81deab9b8c"
      },
      "source": [
        "vgg.summary()"
      ],
      "execution_count": null,
      "outputs": [
        {
          "output_type": "stream",
          "text": [
            "Model: \"vgg16\"\n",
            "_________________________________________________________________\n",
            "Layer (type)                 Output Shape              Param #   \n",
            "=================================================================\n",
            "input_1 (InputLayer)         [(None, 100, 100, 3)]     0         \n",
            "_________________________________________________________________\n",
            "block1_conv1 (Conv2D)        (None, 100, 100, 64)      1792      \n",
            "_________________________________________________________________\n",
            "block1_conv2 (Conv2D)        (None, 100, 100, 64)      36928     \n",
            "_________________________________________________________________\n",
            "block1_pool (MaxPooling2D)   (None, 50, 50, 64)        0         \n",
            "_________________________________________________________________\n",
            "block2_conv1 (Conv2D)        (None, 50, 50, 128)       73856     \n",
            "_________________________________________________________________\n",
            "block2_conv2 (Conv2D)        (None, 50, 50, 128)       147584    \n",
            "_________________________________________________________________\n",
            "block2_pool (MaxPooling2D)   (None, 25, 25, 128)       0         \n",
            "_________________________________________________________________\n",
            "block3_conv1 (Conv2D)        (None, 25, 25, 256)       295168    \n",
            "_________________________________________________________________\n",
            "block3_conv2 (Conv2D)        (None, 25, 25, 256)       590080    \n",
            "_________________________________________________________________\n",
            "block3_conv3 (Conv2D)        (None, 25, 25, 256)       590080    \n",
            "_________________________________________________________________\n",
            "block3_pool (MaxPooling2D)   (None, 12, 12, 256)       0         \n",
            "_________________________________________________________________\n",
            "block4_conv1 (Conv2D)        (None, 12, 12, 512)       1180160   \n",
            "_________________________________________________________________\n",
            "block4_conv2 (Conv2D)        (None, 12, 12, 512)       2359808   \n",
            "_________________________________________________________________\n",
            "block4_conv3 (Conv2D)        (None, 12, 12, 512)       2359808   \n",
            "_________________________________________________________________\n",
            "block4_pool (MaxPooling2D)   (None, 6, 6, 512)         0         \n",
            "_________________________________________________________________\n",
            "block5_conv1 (Conv2D)        (None, 6, 6, 512)         2359808   \n",
            "_________________________________________________________________\n",
            "block5_conv2 (Conv2D)        (None, 6, 6, 512)         2359808   \n",
            "_________________________________________________________________\n",
            "block5_conv3 (Conv2D)        (None, 6, 6, 512)         2359808   \n",
            "_________________________________________________________________\n",
            "block5_pool (MaxPooling2D)   (None, 3, 3, 512)         0         \n",
            "=================================================================\n",
            "Total params: 14,714,688\n",
            "Trainable params: 0\n",
            "Non-trainable params: 14,714,688\n",
            "_________________________________________________________________\n"
          ],
          "name": "stdout"
        }
      ]
    },
    {
      "cell_type": "code",
      "metadata": {
        "id": "LPWkTX9iLLXK",
        "colab_type": "code",
        "colab": {
          "base_uri": "https://localhost:8080/",
          "height": 34
        },
        "outputId": "622d72e8-c032-4c9f-e373-1d31a7934143"
      },
      "source": [
        "last_layer = vgg.get_layer('block4_pool')\n",
        "print('last layer output shape: ', last_layer.output_shape)\n",
        "last_output = last_layer.output"
      ],
      "execution_count": null,
      "outputs": [
        {
          "output_type": "stream",
          "text": [
            "last layer output shape:  (None, 6, 6, 512)\n"
          ],
          "name": "stdout"
        }
      ]
    },
    {
      "cell_type": "code",
      "metadata": {
        "id": "C9OFLfidqANB",
        "colab_type": "code",
        "colab": {}
      },
      "source": [
        "x = Flatten()(last_output)\n",
        "\n",
        "x = Dense(256, activation='relu')(x)\n",
        "#x = Dense(256, activation='relu')(x)\n",
        "\n",
        "x = Dense(1, activation='sigmoid')(x)\n",
        "\n",
        "model_vgg = Model(vgg.input, outputs=x)\n"
      ],
      "execution_count": null,
      "outputs": []
    },
    {
      "cell_type": "code",
      "metadata": {
        "id": "mNBRik-26VzU",
        "colab_type": "code",
        "colab": {
          "base_uri": "https://localhost:8080/",
          "height": 756
        },
        "outputId": "df429efb-c0a3-4d83-8b04-0caf94255643"
      },
      "source": [
        "model_vgg.summary()"
      ],
      "execution_count": null,
      "outputs": [
        {
          "output_type": "stream",
          "text": [
            "Model: \"model\"\n",
            "_________________________________________________________________\n",
            "Layer (type)                 Output Shape              Param #   \n",
            "=================================================================\n",
            "input_1 (InputLayer)         [(None, 100, 100, 3)]     0         \n",
            "_________________________________________________________________\n",
            "block1_conv1 (Conv2D)        (None, 100, 100, 64)      1792      \n",
            "_________________________________________________________________\n",
            "block1_conv2 (Conv2D)        (None, 100, 100, 64)      36928     \n",
            "_________________________________________________________________\n",
            "block1_pool (MaxPooling2D)   (None, 50, 50, 64)        0         \n",
            "_________________________________________________________________\n",
            "block2_conv1 (Conv2D)        (None, 50, 50, 128)       73856     \n",
            "_________________________________________________________________\n",
            "block2_conv2 (Conv2D)        (None, 50, 50, 128)       147584    \n",
            "_________________________________________________________________\n",
            "block2_pool (MaxPooling2D)   (None, 25, 25, 128)       0         \n",
            "_________________________________________________________________\n",
            "block3_conv1 (Conv2D)        (None, 25, 25, 256)       295168    \n",
            "_________________________________________________________________\n",
            "block3_conv2 (Conv2D)        (None, 25, 25, 256)       590080    \n",
            "_________________________________________________________________\n",
            "block3_conv3 (Conv2D)        (None, 25, 25, 256)       590080    \n",
            "_________________________________________________________________\n",
            "block3_pool (MaxPooling2D)   (None, 12, 12, 256)       0         \n",
            "_________________________________________________________________\n",
            "block4_conv1 (Conv2D)        (None, 12, 12, 512)       1180160   \n",
            "_________________________________________________________________\n",
            "block4_conv2 (Conv2D)        (None, 12, 12, 512)       2359808   \n",
            "_________________________________________________________________\n",
            "block4_conv3 (Conv2D)        (None, 12, 12, 512)       2359808   \n",
            "_________________________________________________________________\n",
            "block4_pool (MaxPooling2D)   (None, 6, 6, 512)         0         \n",
            "_________________________________________________________________\n",
            "flatten (Flatten)            (None, 18432)             0         \n",
            "_________________________________________________________________\n",
            "dense (Dense)                (None, 256)               4718848   \n",
            "_________________________________________________________________\n",
            "dense_1 (Dense)              (None, 1)                 257       \n",
            "=================================================================\n",
            "Total params: 12,354,369\n",
            "Trainable params: 4,719,105\n",
            "Non-trainable params: 7,635,264\n",
            "_________________________________________________________________\n"
          ],
          "name": "stdout"
        }
      ]
    },
    {
      "cell_type": "code",
      "metadata": {
        "id": "oSX3G7ekrLiX",
        "colab_type": "code",
        "colab": {}
      },
      "source": [
        "model_vgg.compile(\n",
        "    loss = 'binary_crossentropy',\n",
        "    optimizer = Adam(),\n",
        "    metrics = ['acc']\n",
        ")"
      ],
      "execution_count": null,
      "outputs": []
    },
    {
      "cell_type": "code",
      "metadata": {
        "id": "wjv-3VKi3IpY",
        "colab_type": "code",
        "colab": {
          "base_uri": "https://localhost:8080/",
          "height": 34
        },
        "outputId": "216a77a3-9619-4aaf-b737-a6d22d16f185"
      },
      "source": [
        "tf.test.gpu_device_name()"
      ],
      "execution_count": null,
      "outputs": [
        {
          "output_type": "execute_result",
          "data": {
            "text/plain": [
              "'/device:GPU:0'"
            ]
          },
          "metadata": {
            "tags": []
          },
          "execution_count": 13
        }
      ]
    },
    {
      "cell_type": "code",
      "metadata": {
        "id": "PhkffWXUqwFX",
        "colab_type": "code",
        "colab": {
          "base_uri": "https://localhost:8080/",
          "height": 521
        },
        "outputId": "43e9e38a-a6e5-4dba-f2b8-a5ba7a114c0c"
      },
      "source": [
        "result_model_vgg = model_vgg.fit(\n",
        "    train_generator,\n",
        "    steps_per_epoch = 160,\n",
        "    epochs = 15,\n",
        "    validation_data = validation_generator,\n",
        "    validation_steps = 20,\n",
        "    verbose = 2\n",
        ")"
      ],
      "execution_count": null,
      "outputs": [
        {
          "output_type": "stream",
          "text": [
            "Epoch 1/15\n",
            "160/160 - 11s - loss: 1.1457 - acc: 0.7434 - val_loss: 0.3586 - val_acc: 0.8675\n",
            "Epoch 2/15\n",
            "160/160 - 11s - loss: 0.3316 - acc: 0.8607 - val_loss: 0.3004 - val_acc: 0.8650\n",
            "Epoch 3/15\n",
            "160/160 - 11s - loss: 0.2462 - acc: 0.9002 - val_loss: 0.3886 - val_acc: 0.8200\n",
            "Epoch 4/15\n",
            "160/160 - 11s - loss: 0.1683 - acc: 0.9363 - val_loss: 0.2653 - val_acc: 0.8725\n",
            "Epoch 5/15\n",
            "160/160 - 11s - loss: 0.1263 - acc: 0.9523 - val_loss: 0.2446 - val_acc: 0.8950\n",
            "Epoch 6/15\n",
            "160/160 - 11s - loss: 0.0875 - acc: 0.9736 - val_loss: 0.2334 - val_acc: 0.8975\n",
            "Epoch 7/15\n",
            "160/160 - 11s - loss: 0.0698 - acc: 0.9777 - val_loss: 0.1860 - val_acc: 0.9300\n",
            "Epoch 8/15\n",
            "160/160 - 11s - loss: 0.0479 - acc: 0.9893 - val_loss: 0.2045 - val_acc: 0.9200\n",
            "Epoch 9/15\n",
            "160/160 - 11s - loss: 0.0497 - acc: 0.9849 - val_loss: 0.2119 - val_acc: 0.9275\n",
            "Epoch 10/15\n",
            "160/160 - 11s - loss: 0.0271 - acc: 0.9944 - val_loss: 0.2495 - val_acc: 0.8975\n",
            "Epoch 11/15\n",
            "160/160 - 11s - loss: 0.0220 - acc: 0.9965 - val_loss: 0.2213 - val_acc: 0.9350\n",
            "Epoch 12/15\n",
            "160/160 - 11s - loss: 0.0111 - acc: 0.9994 - val_loss: 0.2064 - val_acc: 0.9375\n",
            "Epoch 13/15\n",
            "160/160 - 11s - loss: 0.0065 - acc: 1.0000 - val_loss: 0.1719 - val_acc: 0.9450\n",
            "Epoch 14/15\n",
            "160/160 - 11s - loss: 0.0044 - acc: 0.9997 - val_loss: 0.1897 - val_acc: 0.9400\n",
            "Epoch 15/15\n",
            "160/160 - 11s - loss: 0.0032 - acc: 1.0000 - val_loss: 0.2026 - val_acc: 0.9275\n"
          ],
          "name": "stdout"
        }
      ]
    },
    {
      "cell_type": "code",
      "metadata": {
        "id": "zM8kzHgesBV9",
        "colab_type": "code",
        "colab": {
          "base_uri": "https://localhost:8080/",
          "height": 573
        },
        "outputId": "469279ce-2365-4877-f410-92d5d5d901af"
      },
      "source": [
        "# Accuracy of \"result_model_vgg\"\n",
        "plt.plot(result_model_vgg.history['acc'])\n",
        "plt.plot(result_model_vgg.history['val_acc'])\n",
        "plt.title('result_model_vgg accuracy')\n",
        "plt.ylabel('accuracy')\n",
        "plt.xlabel('epoch')\n",
        "plt.legend(['train', 'validation'], loc='upper left')\n",
        "plt.show()\n",
        "\n",
        "# Loss of \"result_model_vgg\"\n",
        "plt.plot(result_model_vgg.history['loss'])\n",
        "plt.plot(result_model_vgg.history['val_loss'])\n",
        "plt.title('result_model_vgg loss')\n",
        "plt.ylabel('loss')\n",
        "plt.xlabel('epoch')\n",
        "plt.legend(['train', 'validation'], loc='upper left')\n",
        "plt.show()"
      ],
      "execution_count": null,
      "outputs": [
        {
          "output_type": "display_data",
          "data": {
            "image/png": "[encoded data removed]",
            "text/plain": [
              "<Figure size 432x288 with 1 Axes>"
            ]
          },
          "metadata": {
            "tags": [],
            "needs_background": "light"
          }
        },
        {
          "output_type": "display_data",
          "data": {
            "image/png": "[encoded data removed]",
            "text/plain": [
              "<Figure size 432x288 with 1 Axes>"
            ]
          },
          "metadata": {
            "tags": [],
            "needs_background": "light"
          }
        }
      ]
    },
    {
      "cell_type": "markdown",
      "metadata": {
        "id": "HFT3bkATSiBk",
        "colab_type": "text"
      },
      "source": [
        "#### **vgg with dropout**"
      ]
    },
    {
      "cell_type": "code",
      "metadata": {
        "id": "Ua0vglPPQZHf",
        "colab_type": "code",
        "colab": {
          "base_uri": "https://localhost:8080/",
          "height": 50
        },
        "outputId": "da1b0801-b0f9-4650-e968-c78cabe99a5c"
      },
      "source": [
        "vgg_do = VGG16(\n",
        "    include_top=False, \n",
        "    weights='imagenet', \n",
        "    input_shape=(100, 100, 3)\n",
        "    )\n",
        "# vgg.trainable = False\n",
        "\n",
        "for layer in vgg_do.layers:\n",
        "  layer.trainable = False"
      ],
      "execution_count": null,
      "outputs": [
        {
          "output_type": "stream",
          "text": [
            "Downloading data from https://storage.googleapis.com/tensorflow/keras-applications/vgg16/vgg16_weights_tf_dim_ordering_tf_kernels_notop.h5\n",
            "58892288/58889256 [==============================] - 2s 0us/step\n"
          ],
          "name": "stdout"
        }
      ]
    },
    {
      "cell_type": "code",
      "metadata": {
        "id": "48LHOn_iQk6t",
        "colab_type": "code",
        "colab": {
          "base_uri": "https://localhost:8080/",
          "height": 790
        },
        "outputId": "66079a18-eb7b-4dca-c417-d4d78ae323d5"
      },
      "source": [
        "vgg_do.summary()"
      ],
      "execution_count": null,
      "outputs": [
        {
          "output_type": "stream",
          "text": [
            "Model: \"vgg16\"\n",
            "_________________________________________________________________\n",
            "Layer (type)                 Output Shape              Param #   \n",
            "=================================================================\n",
            "input_1 (InputLayer)         [(None, 100, 100, 3)]     0         \n",
            "_________________________________________________________________\n",
            "block1_conv1 (Conv2D)        (None, 100, 100, 64)      1792      \n",
            "_________________________________________________________________\n",
            "block1_conv2 (Conv2D)        (None, 100, 100, 64)      36928     \n",
            "_________________________________________________________________\n",
            "block1_pool (MaxPooling2D)   (None, 50, 50, 64)        0         \n",
            "_________________________________________________________________\n",
            "block2_conv1 (Conv2D)        (None, 50, 50, 128)       73856     \n",
            "_________________________________________________________________\n",
            "block2_conv2 (Conv2D)        (None, 50, 50, 128)       147584    \n",
            "_________________________________________________________________\n",
            "block2_pool (MaxPooling2D)   (None, 25, 25, 128)       0         \n",
            "_________________________________________________________________\n",
            "block3_conv1 (Conv2D)        (None, 25, 25, 256)       295168    \n",
            "_________________________________________________________________\n",
            "block3_conv2 (Conv2D)        (None, 25, 25, 256)       590080    \n",
            "_________________________________________________________________\n",
            "block3_conv3 (Conv2D)        (None, 25, 25, 256)       590080    \n",
            "_________________________________________________________________\n",
            "block3_pool (MaxPooling2D)   (None, 12, 12, 256)       0         \n",
            "_________________________________________________________________\n",
            "block4_conv1 (Conv2D)        (None, 12, 12, 512)       1180160   \n",
            "_________________________________________________________________\n",
            "block4_conv2 (Conv2D)        (None, 12, 12, 512)       2359808   \n",
            "_________________________________________________________________\n",
            "block4_conv3 (Conv2D)        (None, 12, 12, 512)       2359808   \n",
            "_________________________________________________________________\n",
            "block4_pool (MaxPooling2D)   (None, 6, 6, 512)         0         \n",
            "_________________________________________________________________\n",
            "block5_conv1 (Conv2D)        (None, 6, 6, 512)         2359808   \n",
            "_________________________________________________________________\n",
            "block5_conv2 (Conv2D)        (None, 6, 6, 512)         2359808   \n",
            "_________________________________________________________________\n",
            "block5_conv3 (Conv2D)        (None, 6, 6, 512)         2359808   \n",
            "_________________________________________________________________\n",
            "block5_pool (MaxPooling2D)   (None, 3, 3, 512)         0         \n",
            "=================================================================\n",
            "Total params: 14,714,688\n",
            "Trainable params: 0\n",
            "Non-trainable params: 14,714,688\n",
            "_________________________________________________________________\n"
          ],
          "name": "stdout"
        }
      ]
    },
    {
      "cell_type": "code",
      "metadata": {
        "id": "mBG_S6AfQv3P",
        "colab_type": "code",
        "colab": {
          "base_uri": "https://localhost:8080/",
          "height": 34
        },
        "outputId": "4f74e932-3b3d-4bd6-d233-5e2bf25be2ac"
      },
      "source": [
        "last_layer = vgg_do.get_layer('block4_pool')\n",
        "print('last layer output shape: ', last_layer.output_shape)\n",
        "last_output = last_layer.output"
      ],
      "execution_count": null,
      "outputs": [
        {
          "output_type": "stream",
          "text": [
            "last layer output shape:  (None, 6, 6, 512)\n"
          ],
          "name": "stdout"
        }
      ]
    },
    {
      "cell_type": "code",
      "metadata": {
        "id": "Ucv-MbnsQvw9",
        "colab_type": "code",
        "colab": {}
      },
      "source": [
        "x = Flatten()(last_output)\n",
        "\n",
        "x = Dense(256, activation='relu')(x)\n",
        "#x = Dense(256, activation='relu')(x)\n",
        "\n",
        "x = Dropout(0.3)(x)\n",
        "\n",
        "x = Dense(1, activation='sigmoid')(x)\n",
        "\n",
        "model_vgg_do = Model(vgg_do.input, outputs=x)"
      ],
      "execution_count": null,
      "outputs": []
    },
    {
      "cell_type": "code",
      "metadata": {
        "id": "XhKq9CPoQvo4",
        "colab_type": "code",
        "colab": {
          "base_uri": "https://localhost:8080/",
          "height": 790
        },
        "outputId": "3fe688aa-ad55-4f28-8562-ccea27d8522a"
      },
      "source": [
        "model_vgg_do.summary()"
      ],
      "execution_count": null,
      "outputs": [
        {
          "output_type": "stream",
          "text": [
            "Model: \"functional_1\"\n",
            "_________________________________________________________________\n",
            "Layer (type)                 Output Shape              Param #   \n",
            "=================================================================\n",
            "input_1 (InputLayer)         [(None, 100, 100, 3)]     0         \n",
            "_________________________________________________________________\n",
            "block1_conv1 (Conv2D)        (None, 100, 100, 64)      1792      \n",
            "_________________________________________________________________\n",
            "block1_conv2 (Conv2D)        (None, 100, 100, 64)      36928     \n",
            "_________________________________________________________________\n",
            "block1_pool (MaxPooling2D)   (None, 50, 50, 64)        0         \n",
            "_________________________________________________________________\n",
            "block2_conv1 (Conv2D)        (None, 50, 50, 128)       73856     \n",
            "_________________________________________________________________\n",
            "block2_conv2 (Conv2D)        (None, 50, 50, 128)       147584    \n",
            "_________________________________________________________________\n",
            "block2_pool (MaxPooling2D)   (None, 25, 25, 128)       0         \n",
            "_________________________________________________________________\n",
            "block3_conv1 (Conv2D)        (None, 25, 25, 256)       295168    \n",
            "_________________________________________________________________\n",
            "block3_conv2 (Conv2D)        (None, 25, 25, 256)       590080    \n",
            "_________________________________________________________________\n",
            "block3_conv3 (Conv2D)        (None, 25, 25, 256)       590080    \n",
            "_________________________________________________________________\n",
            "block3_pool (MaxPooling2D)   (None, 12, 12, 256)       0         \n",
            "_________________________________________________________________\n",
            "block4_conv1 (Conv2D)        (None, 12, 12, 512)       1180160   \n",
            "_________________________________________________________________\n",
            "block4_conv2 (Conv2D)        (None, 12, 12, 512)       2359808   \n",
            "_________________________________________________________________\n",
            "block4_conv3 (Conv2D)        (None, 12, 12, 512)       2359808   \n",
            "_________________________________________________________________\n",
            "block4_pool (MaxPooling2D)   (None, 6, 6, 512)         0         \n",
            "_________________________________________________________________\n",
            "flatten (Flatten)            (None, 18432)             0         \n",
            "_________________________________________________________________\n",
            "dense (Dense)                (None, 256)               4718848   \n",
            "_________________________________________________________________\n",
            "dropout (Dropout)            (None, 256)               0         \n",
            "_________________________________________________________________\n",
            "dense_1 (Dense)              (None, 1)                 257       \n",
            "=================================================================\n",
            "Total params: 12,354,369\n",
            "Trainable params: 4,719,105\n",
            "Non-trainable params: 7,635,264\n",
            "_________________________________________________________________\n"
          ],
          "name": "stdout"
        }
      ]
    },
    {
      "cell_type": "code",
      "metadata": {
        "id": "8Mq2Y-4FRPfI",
        "colab_type": "code",
        "colab": {}
      },
      "source": [
        "model_vgg_do.compile(\n",
        "    loss = 'binary_crossentropy',\n",
        "    optimizer = Adam(),\n",
        "    metrics = ['acc']\n",
        ")"
      ],
      "execution_count": null,
      "outputs": []
    },
    {
      "cell_type": "code",
      "metadata": {
        "id": "qLbH4muoRPan",
        "colab_type": "code",
        "colab": {
          "base_uri": "https://localhost:8080/",
          "height": 521
        },
        "outputId": "0718153c-469a-4608-f00f-fbc51046c2c9"
      },
      "source": [
        "\"\"\"\n",
        "result_model_vgg_do = model_vgg_do.fit(\n",
        "    train_generator,\n",
        "    steps_per_epoch = 160,\n",
        "    epochs = 15,\n",
        "    validation_data = validation_generator,\n",
        "    validation_steps = 20,\n",
        "    verbose = 2\n",
        ")\n",
        "\"\"\"\n",
        "\n",
        "result_model_vgg_do = model_vgg_do.fit(\n",
        "    x = X_train,\n",
        "    y = y_train,\n",
        "    batch_size = 32,\n",
        "    epochs = 15,\n",
        "    validation_split = 0.1,\n",
        "    verbose = 2\n",
        ")\n"
      ],
      "execution_count": null,
      "outputs": [
        {
          "output_type": "stream",
          "text": [
            "Epoch 1/15\n",
            "79/79 - 3s - loss: 0.1206 - acc: 0.9482 - val_loss: 0.4871 - val_acc: 0.8857\n",
            "Epoch 2/15\n",
            "79/79 - 3s - loss: 0.1250 - acc: 0.9490 - val_loss: 0.3248 - val_acc: 0.8929\n",
            "Epoch 3/15\n",
            "79/79 - 3s - loss: 0.1108 - acc: 0.9574 - val_loss: 0.5421 - val_acc: 0.9000\n",
            "Epoch 4/15\n",
            "79/79 - 3s - loss: 0.1782 - acc: 0.9251 - val_loss: 0.3605 - val_acc: 0.9107\n",
            "Epoch 5/15\n",
            "79/79 - 3s - loss: 0.1247 - acc: 0.9458 - val_loss: 0.3461 - val_acc: 0.9071\n",
            "Epoch 6/15\n",
            "79/79 - 3s - loss: 0.1399 - acc: 0.9307 - val_loss: 0.3113 - val_acc: 0.9179\n",
            "Epoch 7/15\n",
            "79/79 - 3s - loss: 0.1674 - acc: 0.9044 - val_loss: 0.4146 - val_acc: 0.8786\n",
            "Epoch 8/15\n",
            "79/79 - 3s - loss: 0.1500 - acc: 0.9176 - val_loss: 0.3948 - val_acc: 0.9214\n",
            "Epoch 9/15\n",
            "79/79 - 3s - loss: 0.2098 - acc: 0.8690 - val_loss: 0.3795 - val_acc: 0.8750\n",
            "Epoch 10/15\n",
            "79/79 - 3s - loss: 0.1682 - acc: 0.9084 - val_loss: 0.3534 - val_acc: 0.9036\n",
            "Epoch 11/15\n",
            "79/79 - 3s - loss: 0.1451 - acc: 0.9188 - val_loss: 0.3602 - val_acc: 0.9036\n",
            "Epoch 12/15\n",
            "79/79 - 3s - loss: 0.1511 - acc: 0.9116 - val_loss: 0.3373 - val_acc: 0.8964\n",
            "Epoch 13/15\n",
            "79/79 - 3s - loss: 0.1341 - acc: 0.9275 - val_loss: 0.4975 - val_acc: 0.8929\n",
            "Epoch 14/15\n",
            "79/79 - 3s - loss: 0.1382 - acc: 0.9291 - val_loss: 0.4499 - val_acc: 0.9107\n",
            "Epoch 15/15\n",
            "79/79 - 3s - loss: 0.1387 - acc: 0.9399 - val_loss: 0.4752 - val_acc: 0.9000\n"
          ],
          "name": "stdout"
        }
      ]
    },
    {
      "cell_type": "code",
      "metadata": {
        "id": "3GYPtNYIRPWL",
        "colab_type": "code",
        "colab": {
          "base_uri": "https://localhost:8080/",
          "height": 573
        },
        "outputId": "12996923-02ff-4b89-fae6-ca4f63d53e62"
      },
      "source": [
        "# Accuracy of \"result_model_vgg_do\"\n",
        "plt.plot(result_model_vgg_do.history['acc'])\n",
        "plt.plot(result_model_vgg_do.history['val_acc'])\n",
        "plt.title('result_model_vgg_do accuracy')\n",
        "plt.ylabel('accuracy')\n",
        "plt.xlabel('epoch')\n",
        "plt.legend(['train', 'validation'], loc='upper left')\n",
        "plt.show()\n",
        "\n",
        "# Loss of \"result_model_vgg_do\"\n",
        "plt.plot(result_model_vgg_do.history['loss'])\n",
        "plt.plot(result_model_vgg_do.history['val_loss'])\n",
        "plt.title('result_model_vgg_do loss')\n",
        "plt.ylabel('loss')\n",
        "plt.xlabel('epoch')\n",
        "plt.legend(['train', 'validation'], loc='upper left')\n",
        "plt.show()"
      ],
      "execution_count": null,
      "outputs": [
        {
          "output_type": "display_data",
          "data": {
            "image/png": "[encoded data removed]",
            "text/plain": [
              "<Figure size 432x288 with 1 Axes>"
            ]
          },
          "metadata": {
            "tags": [],
            "needs_background": "light"
          }
        },
        {
          "output_type": "display_data",
          "data": {
            "image/png": "[encoded data removed]",
            "text/plain": [
              "<Figure size 432x288 with 1 Axes>"
            ]
          },
          "metadata": {
            "tags": [],
            "needs_background": "light"
          }
        }
      ]
    },
    {
      "cell_type": "code",
      "metadata": {
        "id": "b7aXrFl5RPSy",
        "colab_type": "code",
        "colab": {}
      },
      "source": [
        ""
      ],
      "execution_count": null,
      "outputs": []
    },
    {
      "cell_type": "code",
      "metadata": {
        "colab_type": "code",
        "id": "YkdY9QKkTMLt",
        "colab": {}
      },
      "source": [
        "vgg_do_block5 = VGG16(\n",
        "    include_top=False, \n",
        "    weights='imagenet', \n",
        "    input_shape=(100, 100, 3)\n",
        "    )\n",
        "# vgg.trainable = False\n",
        "\n",
        "for layer in vgg_do_block5.layers:\n",
        "  layer.trainable = False"
      ],
      "execution_count": null,
      "outputs": []
    },
    {
      "cell_type": "code",
      "metadata": {
        "colab_type": "code",
        "id": "AHeJUXRLTML2",
        "colab": {
          "base_uri": "https://localhost:8080/",
          "height": 790
        },
        "outputId": "52794d1b-3c4c-4b9e-fb37-eee6ad90d8dc"
      },
      "source": [
        "vgg_do_block5.summary()"
      ],
      "execution_count": null,
      "outputs": [
        {
          "output_type": "stream",
          "text": [
            "Model: \"vgg16\"\n",
            "_________________________________________________________________\n",
            "Layer (type)                 Output Shape              Param #   \n",
            "=================================================================\n",
            "input_4 (InputLayer)         [(None, 100, 100, 3)]     0         \n",
            "_________________________________________________________________\n",
            "block1_conv1 (Conv2D)        (None, 100, 100, 64)      1792      \n",
            "_________________________________________________________________\n",
            "block1_conv2 (Conv2D)        (None, 100, 100, 64)      36928     \n",
            "_________________________________________________________________\n",
            "block1_pool (MaxPooling2D)   (None, 50, 50, 64)        0         \n",
            "_________________________________________________________________\n",
            "block2_conv1 (Conv2D)        (None, 50, 50, 128)       73856     \n",
            "_________________________________________________________________\n",
            "block2_conv2 (Conv2D)        (None, 50, 50, 128)       147584    \n",
            "_________________________________________________________________\n",
            "block2_pool (MaxPooling2D)   (None, 25, 25, 128)       0         \n",
            "_________________________________________________________________\n",
            "block3_conv1 (Conv2D)        (None, 25, 25, 256)       295168    \n",
            "_________________________________________________________________\n",
            "block3_conv2 (Conv2D)        (None, 25, 25, 256)       590080    \n",
            "_________________________________________________________________\n",
            "block3_conv3 (Conv2D)        (None, 25, 25, 256)       590080    \n",
            "_________________________________________________________________\n",
            "block3_pool (MaxPooling2D)   (None, 12, 12, 256)       0         \n",
            "_________________________________________________________________\n",
            "block4_conv1 (Conv2D)        (None, 12, 12, 512)       1180160   \n",
            "_________________________________________________________________\n",
            "block4_conv2 (Conv2D)        (None, 12, 12, 512)       2359808   \n",
            "_________________________________________________________________\n",
            "block4_conv3 (Conv2D)        (None, 12, 12, 512)       2359808   \n",
            "_________________________________________________________________\n",
            "block4_pool (MaxPooling2D)   (None, 6, 6, 512)         0         \n",
            "_________________________________________________________________\n",
            "block5_conv1 (Conv2D)        (None, 6, 6, 512)         2359808   \n",
            "_________________________________________________________________\n",
            "block5_conv2 (Conv2D)        (None, 6, 6, 512)         2359808   \n",
            "_________________________________________________________________\n",
            "block5_conv3 (Conv2D)        (None, 6, 6, 512)         2359808   \n",
            "_________________________________________________________________\n",
            "block5_pool (MaxPooling2D)   (None, 3, 3, 512)         0         \n",
            "=================================================================\n",
            "Total params: 14,714,688\n",
            "Trainable params: 0\n",
            "Non-trainable params: 14,714,688\n",
            "_________________________________________________________________\n"
          ],
          "name": "stdout"
        }
      ]
    },
    {
      "cell_type": "code",
      "metadata": {
        "colab_type": "code",
        "id": "yDb1w47fTML5",
        "colab": {
          "base_uri": "https://localhost:8080/",
          "height": 34
        },
        "outputId": "b8addd18-0b89-422a-e84b-deaf9f8d4612"
      },
      "source": [
        "last_layer = vgg_do_block5.get_layer('block5_pool')\n",
        "print('last layer output shape: ', last_layer.output_shape)\n",
        "last_output = last_layer.output"
      ],
      "execution_count": null,
      "outputs": [
        {
          "output_type": "stream",
          "text": [
            "last layer output shape:  (None, 3, 3, 512)\n"
          ],
          "name": "stdout"
        }
      ]
    },
    {
      "cell_type": "code",
      "metadata": {
        "colab_type": "code",
        "id": "ORr-uFh3TML9",
        "colab": {}
      },
      "source": [
        "x = Flatten()(last_output)\n",
        "\n",
        "x = Dense(512, activation='relu')(x)\n",
        "x = Dropout(0.3)(x)\n",
        "\n",
        "x = Dense(256, activation='relu')(x)\n",
        "x = Dropout(0.3)(x)\n",
        "\n",
        "x = Dense(1, activation='sigmoid')(x)\n",
        "\n",
        "model_vgg_do_block5 = Model(vgg_do_block5.input, outputs=x)"
      ],
      "execution_count": null,
      "outputs": []
    },
    {
      "cell_type": "code",
      "metadata": {
        "colab_type": "code",
        "id": "iYuFyYf6TML_",
        "colab": {
          "base_uri": "https://localhost:8080/",
          "height": 991
        },
        "outputId": "8e2c1967-70c5-4132-d243-5fd248f1373c"
      },
      "source": [
        "model_vgg_do_block5.summary()"
      ],
      "execution_count": null,
      "outputs": [
        {
          "output_type": "stream",
          "text": [
            "Model: \"model_4\"\n",
            "_________________________________________________________________\n",
            "Layer (type)                 Output Shape              Param #   \n",
            "=================================================================\n",
            "input_4 (InputLayer)         [(None, 100, 100, 3)]     0         \n",
            "_________________________________________________________________\n",
            "block1_conv1 (Conv2D)        (None, 100, 100, 64)      1792      \n",
            "_________________________________________________________________\n",
            "block1_conv2 (Conv2D)        (None, 100, 100, 64)      36928     \n",
            "_________________________________________________________________\n",
            "block1_pool (MaxPooling2D)   (None, 50, 50, 64)        0         \n",
            "_________________________________________________________________\n",
            "block2_conv1 (Conv2D)        (None, 50, 50, 128)       73856     \n",
            "_________________________________________________________________\n",
            "block2_conv2 (Conv2D)        (None, 50, 50, 128)       147584    \n",
            "_________________________________________________________________\n",
            "block2_pool (MaxPooling2D)   (None, 25, 25, 128)       0         \n",
            "_________________________________________________________________\n",
            "block3_conv1 (Conv2D)        (None, 25, 25, 256)       295168    \n",
            "_________________________________________________________________\n",
            "block3_conv2 (Conv2D)        (None, 25, 25, 256)       590080    \n",
            "_________________________________________________________________\n",
            "block3_conv3 (Conv2D)        (None, 25, 25, 256)       590080    \n",
            "_________________________________________________________________\n",
            "block3_pool (MaxPooling2D)   (None, 12, 12, 256)       0         \n",
            "_________________________________________________________________\n",
            "block4_conv1 (Conv2D)        (None, 12, 12, 512)       1180160   \n",
            "_________________________________________________________________\n",
            "block4_conv2 (Conv2D)        (None, 12, 12, 512)       2359808   \n",
            "_________________________________________________________________\n",
            "block4_conv3 (Conv2D)        (None, 12, 12, 512)       2359808   \n",
            "_________________________________________________________________\n",
            "block4_pool (MaxPooling2D)   (None, 6, 6, 512)         0         \n",
            "_________________________________________________________________\n",
            "block5_conv1 (Conv2D)        (None, 6, 6, 512)         2359808   \n",
            "_________________________________________________________________\n",
            "block5_conv2 (Conv2D)        (None, 6, 6, 512)         2359808   \n",
            "_________________________________________________________________\n",
            "block5_conv3 (Conv2D)        (None, 6, 6, 512)         2359808   \n",
            "_________________________________________________________________\n",
            "block5_pool (MaxPooling2D)   (None, 3, 3, 512)         0         \n",
            "_________________________________________________________________\n",
            "flatten_4 (Flatten)          (None, 4608)              0         \n",
            "_________________________________________________________________\n",
            "dense_8 (Dense)              (None, 512)               2359808   \n",
            "_________________________________________________________________\n",
            "dropout_3 (Dropout)          (None, 512)               0         \n",
            "_________________________________________________________________\n",
            "dense_9 (Dense)              (None, 256)               131328    \n",
            "_________________________________________________________________\n",
            "dropout_4 (Dropout)          (None, 256)               0         \n",
            "_________________________________________________________________\n",
            "dense_10 (Dense)             (None, 1)                 257       \n",
            "=================================================================\n",
            "Total params: 17,206,081\n",
            "Trainable params: 2,491,393\n",
            "Non-trainable params: 14,714,688\n",
            "_________________________________________________________________\n"
          ],
          "name": "stdout"
        }
      ]
    },
    {
      "cell_type": "code",
      "metadata": {
        "colab_type": "code",
        "id": "AaVGOpJ0TMMB",
        "colab": {}
      },
      "source": [
        "model_vgg_do_block5.compile(\n",
        "    loss = 'binary_crossentropy',\n",
        "    optimizer = Adam(),\n",
        "    metrics = ['acc']\n",
        ")"
      ],
      "execution_count": null,
      "outputs": []
    },
    {
      "cell_type": "code",
      "metadata": {
        "colab_type": "code",
        "id": "7h51477RTMMD",
        "colab": {
          "base_uri": "https://localhost:8080/",
          "height": 521
        },
        "outputId": "8e04ef8a-de6d-4491-86cb-983c0c282dbc"
      },
      "source": [
        "result_model_vgg_do_block5 = model_vgg_do_block5.fit(\n",
        "    train_generator,\n",
        "    steps_per_epoch = 160,\n",
        "    epochs = 15,\n",
        "    validation_data = validation_generator,\n",
        "    validation_steps = 20,\n",
        "    verbose = 2\n",
        ")"
      ],
      "execution_count": null,
      "outputs": [
        {
          "output_type": "stream",
          "text": [
            "Epoch 1/15\n",
            "160/160 - 13s - loss: 0.6822 - acc: 0.6178 - val_loss: 0.5503 - val_acc: 0.7425\n",
            "Epoch 2/15\n",
            "160/160 - 12s - loss: 0.5099 - acc: 0.7578 - val_loss: 0.4347 - val_acc: 0.8200\n",
            "Epoch 3/15\n",
            "160/160 - 12s - loss: 0.4962 - acc: 0.7612 - val_loss: 0.4519 - val_acc: 0.7950\n",
            "Epoch 4/15\n",
            "160/160 - 12s - loss: 0.4213 - acc: 0.8070 - val_loss: 0.4105 - val_acc: 0.8025\n",
            "Epoch 5/15\n",
            "160/160 - 12s - loss: 0.4084 - acc: 0.8152 - val_loss: 0.4628 - val_acc: 0.7875\n",
            "Epoch 6/15\n",
            "160/160 - 12s - loss: 0.3868 - acc: 0.8290 - val_loss: 0.3959 - val_acc: 0.8175\n",
            "Epoch 7/15\n",
            "160/160 - 12s - loss: 0.3827 - acc: 0.8362 - val_loss: 0.4051 - val_acc: 0.8150\n",
            "Epoch 8/15\n",
            "160/160 - 12s - loss: 0.3410 - acc: 0.8519 - val_loss: 0.3305 - val_acc: 0.8550\n",
            "Epoch 9/15\n",
            "160/160 - 12s - loss: 0.3319 - acc: 0.8510 - val_loss: 0.3743 - val_acc: 0.8575\n",
            "Epoch 10/15\n",
            "160/160 - 12s - loss: 0.3514 - acc: 0.8359 - val_loss: 0.3731 - val_acc: 0.8300\n",
            "Epoch 11/15\n",
            "160/160 - 12s - loss: 0.3181 - acc: 0.8635 - val_loss: 0.4014 - val_acc: 0.8250\n",
            "Epoch 12/15\n",
            "160/160 - 12s - loss: 0.3299 - acc: 0.8591 - val_loss: 0.3800 - val_acc: 0.8300\n",
            "Epoch 13/15\n",
            "160/160 - 12s - loss: 0.3337 - acc: 0.8488 - val_loss: 0.3711 - val_acc: 0.8600\n",
            "Epoch 14/15\n",
            "160/160 - 12s - loss: 0.3421 - acc: 0.8309 - val_loss: 0.3610 - val_acc: 0.8400\n",
            "Epoch 15/15\n",
            "160/160 - 12s - loss: 0.3343 - acc: 0.8503 - val_loss: 0.4331 - val_acc: 0.8075\n"
          ],
          "name": "stdout"
        }
      ]
    },
    {
      "cell_type": "code",
      "metadata": {
        "colab_type": "code",
        "id": "QmNCziROTMMF",
        "colab": {
          "base_uri": "https://localhost:8080/",
          "height": 573
        },
        "outputId": "bddd6d80-9e5e-422c-b9c1-7732e5a2ca25"
      },
      "source": [
        "# Accuracy of \"result_model_vgg_do_block5\"\n",
        "plt.plot(result_model_vgg_do_block5.history['acc'])\n",
        "plt.plot(result_model_vgg_do_block5.history['val_acc'])\n",
        "plt.title('result_model_vgg_do_block5 accuracy')\n",
        "plt.ylabel('accuracy')\n",
        "plt.xlabel('epoch')\n",
        "plt.legend(['train', 'validation'], loc='upper left')\n",
        "plt.show()\n",
        "\n",
        "# Loss of \"result_model_vgg_do_block5\"\n",
        "plt.plot(result_model_vgg_do_block5.history['loss'])\n",
        "plt.plot(result_model_vgg_do_block5.history['val_loss'])\n",
        "plt.title('result_model_vgg_do_block5 loss')\n",
        "plt.ylabel('loss')\n",
        "plt.xlabel('epoch')\n",
        "plt.legend(['train', 'validation'], loc='upper left')\n",
        "plt.show()"
      ],
      "execution_count": null,
      "outputs": [
        {
          "output_type": "display_data",
          "data": {
            "image/png": "[encoded data removed]",
            "text/plain": [
              "<Figure size 432x288 with 1 Axes>"
            ]
          },
          "metadata": {
            "tags": [],
            "needs_background": "light"
          }
        },
        {
          "output_type": "display_data",
          "data": {
            "image/png": "[encoded data removed]",
            "text/plain": [
              "<Figure size 432x288 with 1 Axes>"
            ]
          },
          "metadata": {
            "tags": [],
            "needs_background": "light"
          }
        }
      ]
    },
    {
      "cell_type": "markdown",
      "metadata": {
        "id": "2CS604EtNpqn",
        "colab_type": "text"
      },
      "source": [
        "### **model_resnet**"
      ]
    },
    {
      "cell_type": "code",
      "metadata": {
        "id": "SsYxo0pFNpfn",
        "colab_type": "code",
        "colab": {}
      },
      "source": [
        ""
      ],
      "execution_count": null,
      "outputs": []
    },
    {
      "cell_type": "markdown",
      "metadata": {
        "id": "7w3W3VGUOaCQ",
        "colab_type": "text"
      },
      "source": [
        "### **model_inception**"
      ]
    },
    {
      "cell_type": "code",
      "metadata": {
        "id": "BqzsYh3KOZ13",
        "colab_type": "code",
        "colab": {}
      },
      "source": [
        ""
      ],
      "execution_count": null,
      "outputs": []
    },
    {
      "cell_type": "code",
      "metadata": {
        "id": "ouEr9Ms0Lm3I",
        "colab_type": "code",
        "colab": {}
      },
      "source": [
        ""
      ],
      "execution_count": null,
      "outputs": []
    },
    {
      "cell_type": "code",
      "metadata": {
        "id": "CfCdBEaNLnBC",
        "colab_type": "code",
        "colab": {}
      },
      "source": [
        ""
      ],
      "execution_count": null,
      "outputs": []
    },
    {
      "cell_type": "code",
      "metadata": {
        "id": "FCE4lDXVLm97",
        "colab_type": "code",
        "colab": {}
      },
      "source": [
        ""
      ],
      "execution_count": null,
      "outputs": []
    },
    {
      "cell_type": "code",
      "metadata": {
        "id": "gxJP-uUtLmmr",
        "colab_type": "code",
        "colab": {}
      },
      "source": [
        ""
      ],
      "execution_count": null,
      "outputs": []
    }
  ]
}