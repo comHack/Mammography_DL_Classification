{
  "nbformat": 4,
  "nbformat_minor": 0,
  "metadata": {
    "colab": {
      "name": "SecondNotebook.ipynb",
      "provenance": [],
      "authorship_tag": "ABX9TyNghRwaGpDiPN0KG3FttPEt",
      "include_colab_link": true
    },
    "kernelspec": {
      "name": "python3",
      "display_name": "Python 3"
    },
    "accelerator": "GPU"
  },
  "cells": [
    {
      "cell_type": "markdown",
      "metadata": {
        "id": "view-in-github",
        "colab_type": "text"
      },
      "source": [
        "<a href=\"https://colab.research.google.com/github/comHack/Mammography_DL_Classification/blob/master/SecondNotebook.ipynb\" target=\"_parent\"><img src=\"https://colab.research.google.com/assets/colab-badge.svg\" alt=\"Open In Colab\"/></a>"
      ]
    },
    {
      "cell_type": "markdown",
      "metadata": {
        "id": "jIhO9p39zsxj",
        "colab_type": "text"
      },
      "source": [
        "# **Import libraries**"
      ]
    },
    {
      "cell_type": "code",
      "metadata": {
        "id": "xfJ0aOsUzqNf",
        "colab_type": "code",
        "colab": {}
      },
      "source": [
        "import numpy as np\n",
        "\n",
        "import pandas as pd\n",
        "\n",
        "import cv2 as cv\n",
        "\n",
        "import matplotlib.pyplot as plt\n",
        "\n",
        "import tensorflow as tf\n",
        "from tensorflow.keras.models import Sequential\n",
        "from tensorflow.keras.layers import Dense, Flatten, Dropout, Activation, Conv2D, MaxPooling2D\n",
        "from tensorflow.keras.optimizers import RMSprop, Adam\n",
        "from tensorflow.keras.preprocessing.image import ImageDataGenerator\n",
        "from tensorflow.keras.preprocessing import image\n",
        "\n",
        "from tensorflow.keras.applications.vgg16 import VGG16\n",
        "from tensorflow.keras.layers import Input\n",
        "from tensorflow.keras.models import Model\n",
        "\n",
        "import random\n",
        "\n",
        "import pickle\n",
        "\n",
        "import shutil\n",
        "\n",
        "import os\n",
        "\n",
        "from google.colab import drive"
      ],
      "execution_count": 2,
      "outputs": []
    },
    {
      "cell_type": "markdown",
      "metadata": {
        "id": "X3mN2aWW1y0_",
        "colab_type": "text"
      },
      "source": [
        "# **Mounting Drive**"
      ]
    },
    {
      "cell_type": "code",
      "metadata": {
        "id": "3_PmrezFz95b",
        "colab_type": "code",
        "colab": {
          "base_uri": "https://localhost:8080/",
          "height": 121
        },
        "outputId": "3d2ac9d1-0c01-42f7-b33e-0896f28345ba"
      },
      "source": [
        "drive.mount('/gdrive')\n",
        "os.symlink('/gdrive/My Drive', '/content/gdrive')"
      ],
      "execution_count": 3,
      "outputs": [
        {
          "output_type": "stream",
          "text": [
            "Go to this URL in a browser: https://accounts.google.com/o/oauth2/auth?client_id=947318989803-6bn6qk8qdgf4n4g3pfee6491hc0brc4i.apps.googleusercontent.com&redirect_uri=urn%3aietf%3awg%3aoauth%3a2.0%3aoob&scope=email%20https%3a%2f%2fwww.googleapis.com%2fauth%2fdocs.test%20https%3a%2f%2fwww.googleapis.com%2fauth%2fdrive%20https%3a%2f%2fwww.googleapis.com%2fauth%2fdrive.photos.readonly%20https%3a%2f%2fwww.googleapis.com%2fauth%2fpeopleapi.readonly&response_type=code\n",
            "\n",
            "Enter your authorization code:\n",
            "··········\n",
            "Mounted at /gdrive\n"
          ],
          "name": "stdout"
        }
      ]
    },
    {
      "cell_type": "markdown",
      "metadata": {
        "id": "h24cw76Ec5j9",
        "colab_type": "text"
      },
      "source": [
        "# **Data**\n"
      ]
    },
    {
      "cell_type": "markdown",
      "metadata": {
        "id": "Ae5Zhp2lJ9Px",
        "colab_type": "text"
      },
      "source": [
        "### **Setup the data**"
      ]
    },
    {
      "cell_type": "code",
      "metadata": {
        "id": "j5U9WaT-dE4N",
        "colab_type": "code",
        "colab": {}
      },
      "source": [
        "# data folder link to the images_resized_2 folder in your drive\n",
        "data_folder = '/gdrive/My Drive/Breast Cancer Detection/images_resized_2'\n",
        "\n",
        "# classes\n",
        "classes = ['benign', 'malign']"
      ],
      "execution_count": 3,
      "outputs": []
    },
    {
      "cell_type": "code",
      "metadata": {
        "id": "anzji_XJ2xIG",
        "colab_type": "code",
        "colab": {
          "base_uri": "https://localhost:8080/",
          "height": 54
        },
        "outputId": "f4bade58-8279-4a77-b2ea-f13ed1e6516d"
      },
      "source": [
        "print(os.listdir(os.path.join(data_folder, classes[0])))"
      ],
      "execution_count": 4,
      "outputs": [
        {
          "output_type": "stream",
          "text": [
            "['aug_989.png', 'aug_990.png', 'aug_991.png', 'aug_992.png', 'aug_993.png', 'aug_994.png', 'aug_995.png', 'aug_996.png', 'aug_997.png', 'aug_998.png', 'aug_999.png', 'aug_1000.png', 'aug_1001.png', 'aug_1002.png', 'aug_1003.png', 'aug_1004.png', 'aug_1005.png', 'aug_1006.png', 'aug_1007.png', 'aug_1008.png', 'aug_1009.png', 'aug_1010.png', 'aug_1011.png', 'aug_1012.png', 'aug_1013.png', 'aug_1014.png', 'aug_1015.png', 'aug_1016.png', 'aug_1017.png', 'aug_1018.png', 'aug_1019.png', 'aug_1020.png', 'aug_1021.png', 'aug_1022.png', 'aug_1023.png', 'aug_1024.png', 'aug_1025.png', 'aug_1026.png', 'aug_1027.png', 'aug_1028.png', 'aug_1029.png', 'aug_1030.png', 'aug_1031.png', 'aug_1032.png', 'aug_1033.png', 'aug_1034.png', 'aug_1035.png', 'aug_1036.png', 'aug_1037.png', 'aug_1038.png', 'aug_1039.png', 'aug_1040.png', 'aug_1041.png', 'aug_1042.png', 'aug_1043.png', 'aug_1044.png', 'aug_1045.png', 'aug_1046.png', 'aug_1047.png', 'aug_1048.png', 'aug_1049.png', 'aug_1050.png', 'aug_1051.png', 'aug_1052.png', 'aug_1053.png', 'aug_1054.png', 'aug_1055.png', 'aug_1056.png', 'aug_1057.png', 'aug_1058.png', 'aug_1059.png', 'aug_1060.png', 'aug_1061.png', 'aug_1062.png', 'aug_1063.png', 'aug_1064.png', 'aug_1065.png', 'aug_1066.png', 'aug_1067.png', 'aug_1068.png', 'aug_1069.png', 'aug_1070.png', 'aug_1071.png', 'aug_1072.png', 'aug_1073.png', 'aug_1074.png', 'aug_1075.png', 'aug_1076.png', 'aug_1077.png', 'aug_1078.png', 'aug_1079.png', 'aug_1080.png', 'aug_1081.png', 'aug_1082.png', 'aug_1083.png', 'aug_1084.png', 'aug_1085.png', 'aug_1086.png', 'aug_1087.png', 'aug_1088.png', 'aug_1089.png', 'aug_1090.png', 'aug_1091.png', 'aug_1092.png', 'aug_1093.png', 'aug_1094.png', 'aug_1095.png', 'aug_1096.png', 'aug_1097.png', 'aug_1098.png', 'aug_1099.png', 'aug_1100.png', 'aug_1101.png', 'aug_1102.png', 'aug_1103.png', 'aug_1104.png', 'aug_1105.png', 'aug_1106.png', 'aug_1107.png', 'aug_1108.png', 'aug_1109.png', 'aug_1110.png', 'aug_1111.png', 'aug_1112.png', 'aug_1113.png', 'aug_1114.png', 'aug_1115.png', 'aug_1116.png', 'aug_1117.png', 'aug_1118.png', 'aug_1119.png', 'aug_1120.png', 'aug_1121.png', 'aug_1122.png', 'aug_1123.png', 'aug_1124.png', 'aug_1125.png', 'aug_1126.png', 'aug_1127.png', 'aug_1128.png', 'aug_1129.png', 'aug_1130.png', 'aug_1131.png', 'aug_1132.png', 'aug_1133.png', 'aug_1134.png', 'aug_1135.png', 'aug_1136.png', 'aug_1137.png', 'aug_1138.png', 'aug_1139.png', 'aug_1140.png', 'aug_1141.png', 'aug_1142.png', 'aug_1143.png', 'aug_1144.png', 'aug_1145.png', 'aug_1146.png', 'aug_1147.png', 'aug_1148.png', 'aug_1149.png', 'aug_1150.png', 'aug_1151.png', 'aug_1152.png', 'aug_1153.png', 'aug_1154.png', 'aug_1155.png', 'aug_1156.png', 'aug_1157.png', 'aug_1158.png', 'aug_1159.png', 'aug_1160.png', 'aug_1161.png', 'aug_1162.png', 'aug_1163.png', 'aug_1164.png', 'aug_1165.png', 'aug_1166.png', 'aug_1167.png', 'aug_1168.png', 'aug_1169.png', 'aug_1170.png', 'aug_1171.png', 'aug_1172.png', 'aug_1173.png', 'aug_1174.png', 'aug_1175.png', 'aug_1176.png', 'aug_1177.png', 'aug_1178.png', 'aug_1179.png', 'aug_1180.png', 'aug_1181.png', 'aug_1182.png', 'aug_1183.png', 'aug_1184.png', 'aug_1185.png', 'aug_1186.png', 'aug_1187.png', 'aug_1188.png', 'aug_1189.png', 'aug_1190.png', 'aug_1191.png', 'aug_1192.png', 'aug_1193.png', 'aug_1194.png', 'aug_1195.png', 'aug_1196.png', 'aug_1197.png', 'aug_1198.png', 'aug_1199.png', 'aug_1200.png', 'aug_1201.png', 'aug_1202.png', 'aug_1203.png', 'aug_1204.png', 'aug_1205.png', 'aug_1206.png', 'aug_1207.png', 'aug_1208.png', 'aug_1209.png', 'aug_1210.png', 'aug_1211.png', 'aug_1212.png', 'aug_1213.png', 'aug_1214.png', 'aug_1215.png', 'aug_1216.png', 'aug_1217.png', 'aug_1218.png', 'aug_1219.png', 'aug_1220.png', 'aug_1221.png', 'aug_1222.png', 'aug_1223.png', 'aug_1224.png', 'aug_1225.png', 'aug_1226.png', 'aug_1227.png', 'aug_1228.png', 'aug_1229.png', 'aug_1230.png', 'aug_1231.png', 'aug_1232.png', 'aug_1233.png', 'aug_1234.png', 'aug_1235.png', 'aug_1236.png', 'aug_1237.png', 'aug_1238.png', 'aug_1239.png', 'aug_1240.png', 'aug_1241.png', 'aug_1242.png', 'aug_1243.png', 'aug_1244.png', 'aug_1245.png', 'aug_1246.png', 'aug_1247.png', 'aug_1248.png', 'aug_1249.png', 'aug_1250.png', 'aug_1251.png', 'aug_1252.png', 'aug_1253.png', 'aug_1254.png', 'aug_1255.png', 'aug_1256.png', 'aug_1257.png', 'aug_1258.png', 'aug_1259.png', 'aug_1260.png', 'aug_1261.png', 'aug_1262.png', 'aug_1263.png', 'aug_1264.png', 'aug_1265.png', 'aug_1266.png', 'aug_1267.png', 'aug_1268.png', 'aug_1269.png', 'aug_1270.png', 'aug_1271.png', 'aug_1272.png', 'aug_1273.png', 'aug_1274.png', 'aug_1275.png', 'aug_1276.png', 'aug_1277.png', 'aug_1278.png', 'aug_1279.png', 'aug_1280.png', 'aug_1281.png', 'aug_1282.png', 'aug_1283.png', 'aug_1284.png', 'aug_1285.png', 'aug_1286.png', 'aug_1287.png', 'aug_1288.png', 'aug_1289.png', 'aug_1290.png', 'aug_1291.png', 'aug_1292.png', 'aug_1293.png', 'aug_1294.png', 'aug_1295.png', 'aug_1296.png', 'aug_1297.png', 'aug_1298.png', 'aug_1299.png', 'aug_1300.png', 'aug_1301.png', 'aug_1302.png', 'aug_1303.png', 'aug_1304.png', 'aug_1305.png', 'aug_1306.png', 'aug_1307.png', 'aug_1308.png', 'aug_1309.png', 'aug_1310.png', 'aug_1311.png', 'aug_1312.png', 'aug_1313.png', 'aug_1314.png', 'aug_1315.png', 'aug_1316.png', 'aug_1317.png', 'aug_1318.png', 'aug_1319.png', 'aug_1320.png', 'aug_1321.png', 'aug_1322.png', 'aug_1323.png', 'aug_1324.png', 'aug_1325.png', 'aug_1326.png', 'aug_1327.png', 'aug_1328.png', 'aug_1329.png', 'aug_1330.png', 'aug_1331.png', 'aug_1332.png', 'aug_1333.png', 'aug_1334.png', 'aug_1335.png', 'aug_1336.png', 'aug_1337.png', 'aug_1338.png', 'aug_1339.png', 'aug_1340.png', 'aug_1341.png', 'aug_1342.png', 'aug_1343.png', 'aug_1344.png', 'aug_1345.png', 'aug_1346.png', 'aug_1347.png', 'aug_1348.png', 'aug_1349.png', 'aug_1350.png', 'aug_1351.png', 'aug_1352.png', 'aug_1353.png', 'aug_1354.png', 'aug_1355.png', 'aug_1356.png', 'aug_1357.png', 'aug_1358.png', 'aug_1359.png', 'aug_1360.png', 'aug_1361.png', 'aug_1362.png', 'aug_1363.png', 'aug_1364.png', 'aug_1365.png', 'aug_1366.png', 'aug_1367.png', 'aug_1368.png', 'aug_1369.png', 'aug_1370.png', 'aug_1371.png', 'aug_1372.png', 'aug_1373.png', 'aug_1374.png', 'aug_1375.png', 'aug_1376.png', 'aug_1377.png', 'aug_1378.png', 'aug_1379.png', 'aug_1380.png', 'aug_1381.png', 'aug_1382.png', 'aug_1383.png', 'aug_1384.png', 'aug_1385.png', 'aug_1386.png', 'aug_1387.png', 'aug_1388.png', 'aug_1389.png', 'aug_1390.png', 'aug_1391.png', 'aug_1392.png', 'aug_1393.png', 'aug_1394.png', 'aug_1395.png', 'aug_1396.png', 'aug_1397.png', 'aug_1398.png', 'aug_1399.png', 'aug_1400.png', 'aug_1401.png', 'aug_1402.png', 'aug_1403.png', 'aug_1404.png', 'aug_1405.png', 'aug_1406.png', 'aug_1407.png', 'aug_1408.png', 'aug_1409.png', 'aug_1410.png', 'aug_1411.png', 'aug_1412.png', 'aug_1413.png', 'aug_1414.png', 'aug_1415.png', 'aug_1416.png', 'aug_1417.png', 'aug_1418.png', 'aug_1419.png', 'aug_1420.png', 'aug_1421.png', 'aug_1422.png', 'aug_1423.png', 'aug_1424.png', 'aug_1425.png', 'aug_1426.png', 'aug_1427.png', 'aug_1428.png', 'aug_1429.png', 'aug_1430.png', 'aug_1431.png', 'aug_1432.png', 'aug_1433.png', 'aug_1434.png', 'aug_1435.png', 'aug_1436.png', 'aug_1437.png', 'aug_1438.png', 'aug_1439.png', 'aug_1440.png', 'aug_1441.png', 'aug_1442.png', 'aug_1443.png', 'aug_1444.png', 'aug_1445.png', 'aug_1446.png', 'aug_1447.png', 'aug_1448.png', 'aug_1449.png', 'aug_1450.png', 'aug_1451.png', 'aug_1452.png', 'aug_1453.png', 'aug_1454.png', 'aug_1455.png', 'aug_1456.png', 'aug_1457.png', 'aug_1458.png', 'aug_1459.png', 'aug_1460.png', 'aug_1461.png', 'aug_1462.png', 'aug_1463.png', 'aug_1464.png', 'aug_1465.png', 'aug_1466.png', 'aug_1467.png', 'aug_1468.png', 'aug_1469.png', 'aug_1470.png', 'aug_1471.png', 'aug_1472.png', 'aug_1473.png', 'aug_1474.png', 'aug_1475.png', 'aug_1476.png', 'aug_1477.png', 'aug_1478.png', 'aug_1479.png', 'aug_1480.png', 'aug_1481.png', 'aug_1482.png', 'aug_1483.png', 'aug_1484.png', 'aug_1485.png', 'aug_1486.png', 'aug_1487.png', 'aug_1488.png', 'aug_1489.png', 'aug_1490.png', 'aug_1491.png', 'aug_1492.png', 'aug_1493.png', 'aug_1494.png', 'aug_1495.png', 'aug_1496.png', 'aug_1497.png', 'aug_1498.png', 'aug_1499.png', 'aug_1500.png', 'aug_1501.png', 'aug_1502.png', 'aug_1503.png', 'aug_1504.png', 'aug_1505.png', 'aug_1506.png', 'aug_1507.png', 'aug_1508.png', 'aug_1509.png', 'aug_1510.png', 'aug_1511.png', 'aug_1512.png', 'aug_1513.png', 'aug_1514.png', 'aug_1515.png', 'aug_1516.png', 'aug_1517.png', 'aug_1518.png', 'aug_1519.png', 'aug_1520.png', 'aug_1521.png', 'aug_1522.png', 'aug_1523.png', 'aug_1524.png', 'aug_1525.png', 'aug_1526.png', 'aug_1527.png', 'aug_1528.png', 'aug_1529.png', 'aug_1530.png', 'aug_1531.png', 'aug_1532.png', 'aug_1533.png', 'aug_1534.png', 'aug_1535.png', 'aug_1536.png', 'aug_1537.png', 'aug_1538.png', 'aug_1539.png', 'aug_1540.png', 'aug_1541.png', 'aug_1542.png', 'aug_1543.png', 'aug_1544.png', 'aug_1545.png', 'aug_1546.png', 'aug_1547.png', 'aug_1548.png', 'aug_1549.png', 'aug_1550.png', 'aug_1551.png', 'aug_1552.png', 'aug_1553.png', 'aug_1554.png', 'aug_1555.png', 'aug_1556.png', 'aug_1557.png', 'aug_1558.png', 'aug_1559.png', 'aug_1560.png', 'aug_1561.png', 'aug_1562.png', 'aug_1563.png', 'aug_1564.png', 'aug_1565.png', 'aug_1566.png', 'aug_1567.png', 'aug_1568.png', 'aug_1569.png', 'aug_1570.png', 'aug_1571.png', 'aug_1572.png', 'aug_1573.png', 'aug_1574.png', 'aug_1575.png', 'aug_1576.png', 'aug_1577.png', 'aug_1578.png', 'aug_1579.png', 'aug_1580.png', 'aug_1581.png', 'aug_1582.png', 'aug_1583.png', 'aug_1584.png', 'aug_1585.png', 'aug_1586.png', 'aug_1587.png', 'aug_1588.png', 'aug_1589.png', 'aug_1590.png', 'aug_1591.png', 'aug_1592.png', 'aug_1593.png', 'aug_1594.png', 'aug_1595.png', 'aug_1596.png', 'aug_1597.png', 'aug_1598.png', 'aug_1599.png', 'aug_1600.png', 'aug_1601.png', 'aug_1602.png', 'aug_1603.png', 'aug_1604.png', 'aug_1605.png', 'aug_1606.png', 'aug_1607.png', 'aug_1608.png', 'aug_1609.png', 'aug_1610.png', 'aug_1611.png', 'aug_1612.png', 'aug_1613.png', 'aug_1614.png', 'aug_1615.png', 'aug_1616.png', 'aug_1617.png', 'aug_1618.png', 'aug_1619.png', 'aug_1620.png', 'aug_1621.png', 'aug_1622.png', 'aug_1623.png', 'aug_1624.png', 'aug_1625.png', 'aug_1626.png', 'aug_1627.png', 'aug_1628.png', 'aug_1629.png', 'aug_1630.png', 'aug_1631.png', 'aug_1632.png', 'aug_1633.png', 'aug_1634.png', 'aug_1635.png', 'aug_1636.png', 'aug_1637.png', 'aug_1638.png', 'aug_1639.png', 'aug_1640.png', 'aug_1641.png', 'aug_1642.png', 'aug_1643.png', 'aug_1644.png', 'aug_1645.png', 'aug_1646.png', 'aug_1647.png', 'aug_1648.png', 'aug_1649.png', 'aug_1650.png', 'aug_1651.png', 'aug_1652.png', 'aug_1653.png', 'aug_1654.png', 'aug_1655.png', 'aug_1656.png', 'aug_1657.png', 'aug_1658.png', 'aug_1659.png', 'aug_1660.png', 'aug_1661.png', 'aug_1662.png', 'aug_1663.png', 'aug_1664.png', 'aug_1665.png', 'aug_1666.png', 'aug_1667.png', 'aug_1668.png', 'aug_1669.png', 'aug_1670.png', 'aug_1671.png', 'aug_1672.png', 'aug_1673.png', 'aug_1674.png', 'aug_1675.png', 'aug_1676.png', 'aug_1677.png', 'aug_1678.png', 'aug_1679.png', 'aug_1680.png', 'aug_1681.png', 'aug_1682.png', 'aug_1683.png', 'aug_1684.png', 'aug_1685.png', 'aug_1686.png', 'aug_1687.png', 'aug_1688.png', 'aug_1689.png', 'aug_1690.png', 'aug_1691.png', 'aug_1692.png', 'aug_1693.png', 'aug_1694.png', 'aug_1695.png', 'aug_1696.png', 'aug_1697.png', 'aug_1698.png', 'aug_1699.png', 'aug_1700.png', 'aug_1701.png', 'aug_1702.png', 'aug_1703.png', 'aug_1704.png', 'aug_1705.png', 'aug_1706.png', 'aug_1707.png', 'aug_1708.png', 'aug_1709.png', 'aug_1710.png', 'aug_1711.png', 'aug_1712.png', 'aug_1713.png', 'aug_1714.png', 'aug_1715.png', 'aug_1716.png', 'aug_1717.png', 'aug_1718.png', 'aug_1719.png', 'aug_1720.png', 'aug_1721.png', 'aug_1722.png', 'aug_1723.png', 'aug_1724.png', 'aug_1725.png', 'aug_1726.png', 'aug_1727.png', 'aug_1728.png', 'aug_1729.png', 'aug_1730.png', 'aug_1731.png', 'aug_1732.png', 'aug_1733.png', 'aug_1734.png', 'aug_1735.png', 'aug_1736.png', 'aug_1737.png', 'aug_1738.png', 'aug_1739.png', 'aug_1740.png', 'aug_1741.png', 'aug_1742.png', 'aug_1743.png', 'aug_1744.png', 'aug_1745.png', 'aug_1746.png', 'aug_1747.png', 'aug_1748.png', 'aug_1749.png', 'aug_1750.png', 'aug_1751.png', 'aug_1752.png', 'aug_1753.png', 'aug_1754.png', 'aug_1755.png', 'aug_1756.png', 'aug_1757.png', 'aug_1758.png', 'aug_1759.png', 'aug_1760.png', 'aug_1761.png', 'aug_1762.png', 'aug_1763.png', 'aug_1764.png', 'aug_1765.png', 'aug_1766.png', 'aug_1767.png', 'aug_1768.png', 'aug_1769.png', 'aug_1770.png', 'aug_1771.png', 'aug_1772.png', 'aug_1773.png', 'aug_1774.png', 'aug_1775.png', 'aug_1776.png', 'aug_1777.png', 'aug_1778.png', 'aug_1779.png', 'aug_1780.png', 'aug_1781.png', 'aug_1782.png', 'aug_1783.png', 'aug_1784.png', 'aug_1785.png', 'aug_1786.png', 'aug_1787.png', 'aug_1788.png', 'aug_1789.png', 'aug_1790.png', 'aug_1791.png', 'aug_1792.png', 'aug_1793.png', 'aug_1794.png', 'aug_1795.png', 'aug_1796.png', 'aug_1797.png', 'aug_1798.png', 'aug_1799.png', 'aug_1800.png', 'aug_1801.png', 'aug_1802.png', 'aug_1803.png', 'aug_1804.png', 'aug_1805.png', 'aug_1806.png', 'aug_1807.png', 'aug_1808.png', 'aug_1809.png', 'aug_1810.png', 'aug_1811.png', 'aug_1812.png', 'aug_1813.png', 'aug_1814.png', 'aug_1815.png', 'aug_1816.png', 'aug_1817.png', 'aug_1818.png', 'aug_1819.png', 'aug_1820.png', 'aug_1821.png', 'aug_1822.png', 'aug_1823.png', 'aug_1824.png', 'aug_1825.png', 'aug_1826.png', 'aug_1827.png', 'aug_1828.png', 'aug_1829.png', 'aug_1830.png', 'aug_1831.png', 'aug_1832.png', 'aug_1833.png', 'aug_1834.png', 'aug_1835.png', 'aug_1836.png', 'aug_1837.png', 'aug_1838.png', 'aug_1839.png', 'aug_1840.png', 'aug_1841.png', 'aug_1842.png', 'aug_1843.png', 'aug_1844.png', 'aug_1845.png', 'aug_1846.png', 'aug_1847.png', 'aug_1848.png', 'aug_1849.png', 'aug_1850.png', 'aug_1851.png', 'aug_1852.png', 'aug_1853.png', 'aug_1854.png', 'aug_1855.png', 'aug_1856.png', 'aug_1857.png', 'aug_1858.png', 'aug_1859.png', 'aug_1860.png', 'aug_1861.png', 'aug_1862.png', 'aug_1863.png', 'aug_1864.png', 'aug_1865.png', 'aug_1866.png', 'aug_1867.png', 'aug_1868.png', 'aug_1869.png', 'aug_1870.png', 'aug_1871.png', 'aug_1872.png', 'aug_1873.png', 'aug_1874.png', 'aug_1875.png', 'aug_1876.png', 'aug_1877.png', 'aug_1878.png', 'aug_1879.png', 'aug_1880.png', 'aug_1881.png', 'aug_1882.png', 'aug_1883.png', 'aug_1884.png', 'aug_1885.png', 'aug_1886.png', 'aug_1887.png', 'aug_1888.png', 'aug_1889.png', 'aug_1890.png', 'aug_1891.png', 'aug_1892.png', 'aug_1893.png', 'aug_1894.png', 'aug_1895.png', 'aug_1896.png', 'aug_1897.png', 'aug_1898.png', 'aug_1899.png', 'aug_1900.png', 'aug_1901.png', 'aug_1902.png', 'aug_1903.png', 'aug_1904.png', 'aug_1905.png', 'aug_1906.png', 'aug_1907.png', 'aug_1908.png', 'aug_1909.png', 'aug_1910.png', 'aug_1911.png', 'aug_1912.png', 'aug_1913.png', 'aug_1914.png', 'aug_1915.png', 'aug_1916.png', 'aug_1917.png', 'aug_1918.png', 'aug_1919.png', 'aug_1920.png', 'aug_1921.png', 'aug_1922.png', 'aug_1923.png', 'aug_1924.png', 'aug_1925.png', 'aug_1926.png', 'aug_1927.png', 'aug_1928.png', 'aug_1929.png', 'aug_1930.png', 'aug_1931.png', 'aug_1932.png', 'aug_1933.png', 'aug_1934.png', 'aug_1935.png', 'aug_1936.png', 'aug_1937.png', 'aug_1938.png', 'aug_1939.png', 'aug_1940.png', 'aug_1941.png', 'aug_1942.png', 'aug_1943.png', 'aug_1944.png', 'aug_1945.png', 'aug_1946.png', 'aug_1947.png', 'aug_1948.png', 'aug_1949.png', 'aug_1951.png', 'aug_1952.png', 'aug_1953.png', 'aug_1956.png', 'aug_1959.png', 'aug_1960.png', 'aug_1963.png', 'aug_1964.png', 'aug_1965.png', 'aug_1966.png', 'aug_1967.png', 'aug_1968.png', 'aug_1969.png', 'aug_1970.png', 'aug_1971.png', 'aug_1972.png', 'aug_1973.png', 'aug_1974.png', 'aug_1975.png', 'aug_1976.png', 'aug_1977.png', 'aug_1978.png', 'aug_1979.png', 'aug_1980.png', 'aug_1981.png', 'aug_1982.png', 'aug_1983.png', 'aug_1984.png', 'aug_1985.png', 'aug_1986.png', 'aug_1988.png', 'aug_1990.png', 'aug_1991.png', 'aug_1992.png', 'aug_1993.png', 'aug_1995.png', 'aug_1996.png', 'aug_1998.png', 'aug_2000.png', 'aug_1.png', 'aug_2.png', 'aug_3.png', 'aug_4.png', 'aug_5.png', 'aug_6.png', 'aug_7.png', 'aug_8.png', 'aug_9.png', 'aug_10.png', 'aug_11.png', 'aug_12.png', 'aug_13.png', 'aug_14.png', 'aug_15.png', 'aug_16.png', 'aug_17.png', 'aug_18.png', 'aug_19.png', 'aug_20.png', 'aug_21.png', 'aug_22.png', 'aug_23.png', 'aug_24.png', 'aug_25.png', 'aug_26.png', 'aug_27.png', 'aug_28.png', 'aug_29.png', 'aug_30.png', 'aug_31.png', 'aug_32.png', 'aug_33.png', 'aug_34.png', 'aug_35.png', 'aug_36.png', 'aug_37.png', 'aug_38.png', 'aug_39.png', 'aug_40.png', 'aug_41.png', 'aug_42.png', 'aug_43.png', 'aug_44.png', 'aug_45.png', 'aug_46.png', 'aug_47.png', 'aug_48.png', 'aug_49.png', 'aug_50.png', 'aug_51.png', 'aug_52.png', 'aug_53.png', 'aug_54.png', 'aug_55.png', 'aug_56.png', 'aug_57.png', 'aug_58.png', 'aug_59.png', 'aug_60.png', 'aug_61.png', 'aug_62.png', 'aug_63.png', 'aug_64.png', 'aug_65.png', 'aug_66.png', 'aug_67.png', 'aug_68.png', 'aug_69.png', 'aug_70.png', 'aug_71.png', 'aug_72.png', 'aug_73.png', 'aug_74.png', 'aug_75.png', 'aug_76.png', 'aug_77.png', 'aug_78.png', 'aug_79.png', 'aug_80.png', 'aug_81.png', 'aug_82.png', 'aug_83.png', 'aug_84.png', 'aug_85.png', 'aug_86.png', 'aug_87.png', 'aug_88.png', 'aug_89.png', 'aug_90.png', 'aug_91.png', 'aug_92.png', 'aug_93.png', 'aug_94.png', 'aug_95.png', 'aug_96.png', 'aug_97.png', 'aug_98.png', 'aug_99.png', 'aug_100.png', 'aug_101.png', 'aug_102.png', 'aug_103.png', 'aug_104.png', 'aug_105.png', 'aug_106.png', 'aug_107.png', 'aug_108.png', 'aug_109.png', 'aug_110.png', 'aug_111.png', 'aug_112.png', 'aug_113.png', 'aug_114.png', 'aug_115.png', 'aug_116.png', 'aug_117.png', 'aug_118.png', 'aug_119.png', 'aug_120.png', 'aug_121.png', 'aug_122.png', 'aug_123.png', 'aug_124.png', 'aug_125.png', 'aug_126.png', 'aug_127.png', 'aug_128.png', 'aug_129.png', 'aug_130.png', 'aug_131.png', 'aug_132.png', 'aug_133.png', 'aug_134.png', 'aug_135.png', 'aug_136.png', 'aug_137.png', 'aug_138.png', 'aug_139.png', 'aug_140.png', 'aug_141.png', 'aug_142.png', 'aug_143.png', 'aug_144.png', 'aug_145.png', 'aug_146.png', 'aug_147.png', 'aug_148.png', 'aug_149.png', 'aug_150.png', 'aug_151.png', 'aug_152.png', 'aug_153.png', 'aug_154.png', 'aug_155.png', 'aug_156.png', 'aug_157.png', 'aug_158.png', 'aug_159.png', 'aug_160.png', 'aug_161.png', 'aug_162.png', 'aug_163.png', 'aug_164.png', 'aug_165.png', 'aug_166.png', 'aug_167.png', 'aug_168.png', 'aug_169.png', 'aug_170.png', 'aug_171.png', 'aug_172.png', 'aug_173.png', 'aug_174.png', 'aug_175.png', 'aug_176.png', 'aug_177.png', 'aug_178.png', 'aug_179.png', 'aug_180.png', 'aug_181.png', 'aug_182.png', 'aug_183.png', 'aug_184.png', 'aug_185.png', 'aug_186.png', 'aug_187.png', 'aug_188.png', 'aug_189.png', 'aug_190.png', 'aug_191.png', 'aug_192.png', 'aug_193.png', 'aug_194.png', 'aug_195.png', 'aug_196.png', 'aug_197.png', 'aug_198.png', 'aug_199.png', 'aug_200.png', 'aug_201.png', 'aug_202.png', 'aug_203.png', 'aug_204.png', 'aug_205.png', 'aug_206.png', 'aug_207.png', 'aug_208.png', 'aug_209.png', 'aug_210.png', 'aug_211.png', 'aug_212.png', 'aug_213.png', 'aug_214.png', 'aug_215.png', 'aug_216.png', 'aug_217.png', 'aug_218.png', 'aug_219.png', 'aug_220.png', 'aug_221.png', 'aug_222.png', 'aug_223.png', 'aug_224.png', 'aug_225.png', 'aug_226.png', 'aug_227.png', 'aug_228.png', 'aug_229.png', 'aug_230.png', 'aug_231.png', 'aug_232.png', 'aug_233.png', 'aug_234.png', 'aug_235.png', 'aug_236.png', 'aug_237.png', 'aug_238.png', 'aug_239.png', 'aug_240.png', 'aug_241.png', 'aug_242.png', 'aug_243.png', 'aug_244.png', 'aug_245.png', 'aug_246.png', 'aug_247.png', 'aug_248.png', 'aug_249.png', 'aug_250.png', 'aug_251.png', 'aug_252.png', 'aug_253.png', 'aug_254.png', 'aug_255.png', 'aug_256.png', 'aug_257.png', 'aug_258.png', 'aug_259.png', 'aug_260.png', 'aug_261.png', 'aug_262.png', 'aug_263.png', 'aug_264.png', 'aug_265.png', 'aug_266.png', 'aug_267.png', 'aug_268.png', 'aug_269.png', 'aug_270.png', 'aug_271.png', 'aug_272.png', 'aug_273.png', 'aug_274.png', 'aug_275.png', 'aug_276.png', 'aug_277.png', 'aug_278.png', 'aug_279.png', 'aug_280.png', 'aug_281.png', 'aug_282.png', 'aug_283.png', 'aug_284.png', 'aug_285.png', 'aug_286.png', 'aug_287.png', 'aug_288.png', 'aug_289.png', 'aug_290.png', 'aug_291.png', 'aug_292.png', 'aug_293.png', 'aug_294.png', 'aug_295.png', 'aug_296.png', 'aug_297.png', 'aug_298.png', 'aug_299.png', 'aug_300.png', 'aug_301.png', 'aug_302.png', 'aug_303.png', 'aug_304.png', 'aug_305.png', 'aug_306.png', 'aug_307.png', 'aug_308.png', 'aug_309.png', 'aug_310.png', 'aug_311.png', 'aug_312.png', 'aug_313.png', 'aug_314.png', 'aug_315.png', 'aug_316.png', 'aug_317.png', 'aug_318.png', 'aug_319.png', 'aug_320.png', 'aug_321.png', 'aug_322.png', 'aug_323.png', 'aug_324.png', 'aug_325.png', 'aug_326.png', 'aug_327.png', 'aug_328.png', 'aug_329.png', 'aug_330.png', 'aug_331.png', 'aug_332.png', 'aug_333.png', 'aug_334.png', 'aug_335.png', 'aug_336.png', 'aug_337.png', 'aug_338.png', 'aug_339.png', 'aug_340.png', 'aug_341.png', 'aug_342.png', 'aug_343.png', 'aug_344.png', 'aug_345.png', 'aug_346.png', 'aug_347.png', 'aug_348.png', 'aug_349.png', 'aug_350.png', 'aug_351.png', 'aug_352.png', 'aug_353.png', 'aug_354.png', 'aug_355.png', 'aug_356.png', 'aug_357.png', 'aug_358.png', 'aug_359.png', 'aug_360.png', 'aug_361.png', 'aug_362.png', 'aug_363.png', 'aug_364.png', 'aug_365.png', 'aug_366.png', 'aug_367.png', 'aug_368.png', 'aug_369.png', 'aug_370.png', 'aug_371.png', 'aug_372.png', 'aug_373.png', 'aug_374.png', 'aug_375.png', 'aug_376.png', 'aug_377.png', 'aug_378.png', 'aug_379.png', 'aug_380.png', 'aug_381.png', 'aug_382.png', 'aug_383.png', 'aug_384.png', 'aug_385.png', 'aug_386.png', 'aug_387.png', 'aug_388.png', 'aug_389.png', 'aug_390.png', 'aug_391.png', 'aug_392.png', 'aug_393.png', 'aug_394.png', 'aug_395.png', 'aug_396.png', 'aug_397.png', 'aug_398.png', 'aug_399.png', 'aug_400.png', 'aug_401.png', 'aug_402.png', 'aug_403.png', 'aug_404.png', 'aug_405.png', 'aug_406.png', 'aug_407.png', 'aug_408.png', 'aug_409.png', 'aug_410.png', 'aug_411.png', 'aug_412.png', 'aug_413.png', 'aug_414.png', 'aug_415.png', 'aug_416.png', 'aug_417.png', 'aug_418.png', 'aug_419.png', 'aug_420.png', 'aug_421.png', 'aug_422.png', 'aug_423.png', 'aug_424.png', 'aug_425.png', 'aug_426.png', 'aug_427.png', 'aug_428.png', 'aug_429.png', 'aug_430.png', 'aug_431.png', 'aug_432.png', 'aug_433.png', 'aug_434.png', 'aug_435.png', 'aug_436.png', 'aug_437.png', 'aug_438.png', 'aug_439.png', 'aug_440.png', 'aug_441.png', 'aug_442.png', 'aug_443.png', 'aug_444.png', 'aug_445.png', 'aug_446.png', 'aug_447.png', 'aug_448.png', 'aug_449.png', 'aug_450.png', 'aug_451.png', 'aug_452.png', 'aug_453.png', 'aug_454.png', 'aug_455.png', 'aug_456.png', 'aug_457.png', 'aug_458.png', 'aug_459.png', 'aug_460.png', 'aug_461.png', 'aug_462.png', 'aug_463.png', 'aug_464.png', 'aug_465.png', 'aug_466.png', 'aug_467.png', 'aug_468.png', 'aug_469.png', 'aug_470.png', 'aug_471.png', 'aug_472.png', 'aug_473.png', 'aug_474.png', 'aug_475.png', 'aug_476.png', 'aug_477.png', 'aug_478.png', 'aug_479.png', 'aug_480.png', 'aug_481.png', 'aug_482.png', 'aug_483.png', 'aug_484.png', 'aug_485.png', 'aug_486.png', 'aug_487.png', 'aug_488.png', 'aug_489.png', 'aug_490.png', 'aug_491.png', 'aug_492.png', 'aug_493.png', 'aug_494.png', 'aug_495.png', 'aug_496.png', 'aug_497.png', 'aug_498.png', 'aug_499.png', 'aug_500.png', 'aug_501.png', 'aug_502.png', 'aug_503.png', 'aug_504.png', 'aug_505.png', 'aug_506.png', 'aug_507.png', 'aug_508.png', 'aug_509.png', 'aug_510.png', 'aug_511.png', 'aug_512.png', 'aug_513.png', 'aug_514.png', 'aug_515.png', 'aug_516.png', 'aug_517.png', 'aug_518.png', 'aug_519.png', 'aug_520.png', 'aug_521.png', 'aug_522.png', 'aug_523.png', 'aug_524.png', 'aug_525.png', 'aug_526.png', 'aug_527.png', 'aug_528.png', 'aug_529.png', 'aug_530.png', 'aug_531.png', 'aug_532.png', 'aug_533.png', 'aug_534.png', 'aug_535.png', 'aug_536.png', 'aug_537.png', 'aug_538.png', 'aug_539.png', 'aug_540.png', 'aug_541.png', 'aug_542.png', 'aug_543.png', 'aug_544.png', 'aug_545.png', 'aug_546.png', 'aug_547.png', 'aug_548.png', 'aug_549.png', 'aug_550.png', 'aug_551.png', 'aug_552.png', 'aug_553.png', 'aug_554.png', 'aug_555.png', 'aug_556.png', 'aug_557.png', 'aug_558.png', 'aug_559.png', 'aug_560.png', 'aug_561.png', 'aug_562.png', 'aug_563.png', 'aug_564.png', 'aug_565.png', 'aug_566.png', 'aug_567.png', 'aug_568.png', 'aug_569.png', 'aug_570.png', 'aug_571.png', 'aug_572.png', 'aug_573.png', 'aug_574.png', 'aug_575.png', 'aug_576.png', 'aug_577.png', 'aug_578.png', 'aug_579.png', 'aug_580.png', 'aug_581.png', 'aug_582.png', 'aug_583.png', 'aug_584.png', 'aug_585.png', 'aug_586.png', 'aug_587.png', 'aug_588.png', 'aug_589.png', 'aug_590.png', 'aug_591.png', 'aug_592.png', 'aug_593.png', 'aug_594.png', 'aug_595.png', 'aug_596.png', 'aug_597.png', 'aug_598.png', 'aug_599.png', 'aug_600.png', 'aug_601.png', 'aug_602.png', 'aug_603.png', 'aug_604.png', 'aug_605.png', 'aug_606.png', 'aug_607.png', 'aug_608.png', 'aug_609.png', 'aug_610.png', 'aug_611.png', 'aug_612.png', 'aug_613.png', 'aug_614.png', 'aug_615.png', 'aug_616.png', 'aug_617.png', 'aug_618.png', 'aug_619.png', 'aug_620.png', 'aug_621.png', 'aug_622.png', 'aug_623.png', 'aug_624.png', 'aug_625.png', 'aug_626.png', 'aug_627.png', 'aug_628.png', 'aug_629.png', 'aug_630.png', 'aug_631.png', 'aug_632.png', 'aug_633.png', 'aug_634.png', 'aug_635.png', 'aug_636.png', 'aug_637.png', 'aug_638.png', 'aug_639.png', 'aug_640.png', 'aug_641.png', 'aug_642.png', 'aug_643.png', 'aug_644.png', 'aug_645.png', 'aug_646.png', 'aug_647.png', 'aug_648.png', 'aug_649.png', 'aug_650.png', 'aug_651.png', 'aug_652.png', 'aug_653.png', 'aug_654.png', 'aug_655.png', 'aug_656.png', 'aug_657.png', 'aug_658.png', 'aug_659.png', 'aug_660.png', 'aug_661.png', 'aug_662.png', 'aug_663.png', 'aug_664.png', 'aug_665.png', 'aug_666.png', 'aug_667.png', 'aug_668.png', 'aug_669.png', 'aug_670.png', 'aug_671.png', 'aug_672.png', 'aug_673.png', 'aug_674.png', 'aug_675.png', 'aug_676.png', 'aug_677.png', 'aug_678.png', 'aug_679.png', 'aug_680.png', 'aug_681.png', 'aug_682.png', 'aug_683.png', 'aug_684.png', 'aug_685.png', 'aug_686.png', 'aug_687.png', 'aug_688.png', 'aug_689.png', 'aug_690.png', 'aug_691.png', 'aug_692.png', 'aug_693.png', 'aug_694.png', 'aug_695.png', 'aug_696.png', 'aug_697.png', 'aug_698.png', 'aug_699.png', 'aug_700.png', 'aug_701.png', 'aug_702.png', 'aug_703.png', 'aug_704.png', 'aug_705.png', 'aug_706.png', 'aug_707.png', 'aug_708.png', 'aug_709.png', 'aug_710.png', 'aug_711.png', 'aug_712.png', 'aug_713.png', 'aug_714.png', 'aug_715.png', 'aug_716.png', 'aug_717.png', 'aug_718.png', 'aug_719.png', 'aug_720.png', 'aug_721.png', 'aug_722.png', 'aug_723.png', 'aug_724.png', 'aug_725.png', 'aug_726.png', 'aug_727.png', 'aug_728.png', 'aug_729.png', 'aug_730.png', 'aug_731.png', 'aug_732.png', 'aug_733.png', 'aug_734.png', 'aug_735.png', 'aug_736.png', 'aug_737.png', 'aug_738.png', 'aug_739.png', 'aug_740.png', 'aug_741.png', 'aug_742.png', 'aug_743.png', 'aug_744.png', 'aug_745.png', 'aug_746.png', 'aug_747.png', 'aug_748.png', 'aug_749.png', 'aug_750.png', 'aug_751.png', 'aug_752.png', 'aug_753.png', 'aug_754.png', 'aug_755.png', 'aug_756.png', 'aug_757.png', 'aug_758.png', 'aug_759.png', 'aug_760.png', 'aug_761.png', 'aug_762.png', 'aug_763.png', 'aug_764.png', 'aug_765.png', 'aug_766.png', 'aug_767.png', 'aug_768.png', 'aug_769.png', 'aug_770.png', 'aug_771.png', 'aug_772.png', 'aug_773.png', 'aug_774.png', 'aug_775.png', 'aug_776.png', 'aug_777.png', 'aug_778.png', 'aug_779.png', 'aug_780.png', 'aug_781.png', 'aug_782.png', 'aug_783.png', 'aug_784.png', 'aug_785.png', 'aug_786.png', 'aug_787.png', 'aug_788.png', 'aug_789.png', 'aug_790.png', 'aug_791.png', 'aug_792.png', 'aug_793.png', 'aug_794.png', 'aug_795.png', 'aug_796.png', 'aug_797.png', 'aug_798.png', 'aug_799.png', 'aug_800.png', 'aug_801.png', 'aug_802.png', 'aug_803.png', 'aug_804.png', 'aug_805.png', 'aug_806.png', 'aug_807.png', 'aug_808.png', 'aug_809.png', 'aug_810.png', 'aug_811.png', 'aug_812.png', 'aug_813.png', 'aug_814.png', 'aug_815.png', 'aug_816.png', 'aug_817.png', 'aug_818.png', 'aug_819.png', 'aug_820.png', 'aug_821.png', 'aug_822.png', 'aug_823.png', 'aug_824.png', 'aug_825.png', 'aug_826.png', 'aug_827.png', 'aug_828.png', 'aug_829.png', 'aug_830.png', 'aug_831.png', 'aug_832.png', 'aug_833.png', 'aug_834.png', 'aug_835.png', 'aug_836.png', 'aug_837.png', 'aug_838.png', 'aug_839.png', 'aug_840.png', 'aug_841.png', 'aug_842.png', 'aug_843.png', 'aug_844.png', 'aug_845.png', 'aug_846.png', 'aug_847.png', 'aug_848.png', 'aug_849.png', 'aug_850.png', 'aug_851.png', 'aug_852.png', 'aug_853.png', 'aug_854.png', 'aug_855.png', 'aug_856.png', 'aug_857.png', 'aug_858.png', 'aug_859.png', 'aug_860.png', 'aug_861.png', 'aug_862.png', 'aug_863.png', 'aug_864.png', 'aug_865.png', 'aug_866.png', 'aug_867.png', 'aug_868.png', 'aug_869.png', 'aug_870.png', 'aug_871.png', 'aug_872.png', 'aug_873.png', 'aug_874.png', 'aug_875.png', 'aug_876.png', 'aug_877.png', 'aug_878.png', 'aug_879.png', 'aug_880.png', 'aug_881.png', 'aug_882.png', 'aug_883.png', 'aug_884.png', 'aug_885.png', 'aug_886.png', 'aug_887.png', 'aug_888.png', 'aug_889.png', 'aug_890.png', 'aug_891.png', 'aug_892.png', 'aug_893.png', 'aug_894.png', 'aug_895.png', 'aug_896.png', 'aug_897.png', 'aug_898.png', 'aug_899.png', 'aug_900.png', 'aug_901.png', 'aug_902.png', 'aug_903.png', 'aug_904.png', 'aug_905.png', 'aug_906.png', 'aug_907.png', 'aug_908.png', 'aug_909.png', 'aug_910.png', 'aug_911.png', 'aug_912.png', 'aug_913.png', 'aug_914.png', 'aug_915.png', 'aug_916.png', 'aug_917.png', 'aug_918.png', 'aug_919.png', 'aug_920.png', 'aug_921.png', 'aug_922.png', 'aug_923.png', 'aug_924.png', 'aug_925.png', 'aug_926.png', 'aug_927.png', 'aug_928.png', 'aug_929.png', 'aug_930.png', 'aug_931.png', 'aug_932.png', 'aug_933.png', 'aug_934.png', 'aug_935.png', 'aug_936.png', 'aug_937.png', 'aug_938.png', 'aug_939.png', 'aug_940.png', 'aug_941.png', 'aug_942.png', 'aug_943.png', 'aug_944.png', 'aug_945.png', 'aug_946.png', 'aug_947.png', 'aug_948.png', 'aug_949.png', 'aug_950.png', 'aug_951.png', 'aug_952.png', 'aug_953.png', 'aug_954.png', 'aug_955.png', 'aug_956.png', 'aug_957.png', 'aug_958.png', 'aug_959.png', 'aug_960.png', 'aug_961.png', 'aug_962.png', 'aug_963.png', 'aug_964.png', 'aug_965.png', 'aug_966.png', 'aug_967.png', 'aug_968.png', 'aug_969.png', 'aug_970.png', 'aug_971.png', 'aug_972.png', 'aug_973.png', 'aug_974.png', 'aug_975.png', 'aug_976.png', 'aug_977.png', 'aug_978.png', 'aug_979.png', 'aug_980.png', 'aug_981.png', 'aug_982.png', 'aug_983.png', 'aug_984.png', 'aug_985.png', 'aug_986.png', 'aug_987.png', 'aug_988.png']\n"
          ],
          "name": "stdout"
        }
      ]
    },
    {
      "cell_type": "code",
      "metadata": {
        "id": "Hj-MSK3jdEzd",
        "colab_type": "code",
        "colab": {
          "base_uri": "https://localhost:8080/",
          "height": 268
        },
        "outputId": "a4525254-e5ae-4986-8e57-6150149bff2c"
      },
      "source": [
        "num_image = 251\n",
        "classe = 0\n",
        "path = os.path.join(data_folder, classes[classe])\n",
        "images = os.listdir(path)\n",
        "image = os.path.join(path, images[num_image])\n",
        "image_arr = cv.imread(image, cv.IMREAD_GRAYSCALE)\n",
        "new_arr = image_arr / 255\n",
        "plt.imshow(image_arr, cmap='gray')\n",
        "plt.show()"
      ],
      "execution_count": 7,
      "outputs": [
        {
          "output_type": "display_data",
          "data": {
            "image/png": "[encoded data removed]",
            "text/plain": [
              "<Figure size 432x288 with 1 Axes>"
            ]
          },
          "metadata": {
            "tags": [],
            "needs_background": "light"
          }
        }
      ]
    },
    {
      "cell_type": "code",
      "metadata": {
        "id": "EFAAcE63toNB",
        "colab_type": "code",
        "colab": {
          "base_uri": "https://localhost:8080/",
          "height": 268
        },
        "outputId": "b99263f7-79da-4117-a367-a4d78fe648b5"
      },
      "source": [
        "plt.imshow(new_arr, cmap='gray')\n",
        "plt.show()"
      ],
      "execution_count": 8,
      "outputs": [
        {
          "output_type": "display_data",
          "data": {
            "image/png": "[encoded data removed]",
            "text/plain": [
              "<Figure size 432x288 with 1 Axes>"
            ]
          },
          "metadata": {
            "tags": [],
            "needs_background": "light"
          }
        }
      ]
    },
    {
      "cell_type": "code",
      "metadata": {
        "id": "yRVAKU5ZdEvm",
        "colab_type": "code",
        "colab": {
          "base_uri": "https://localhost:8080/",
          "height": 34
        },
        "outputId": "1553e235-56e7-4c13-f670-8231d44d193f"
      },
      "source": [
        "print(image_arr.shape)"
      ],
      "execution_count": null,
      "outputs": [
        {
          "output_type": "stream",
          "text": [
            "(100, 100)\n"
          ],
          "name": "stdout"
        }
      ]
    },
    {
      "cell_type": "code",
      "metadata": {
        "id": "qOUGFIX0dErs",
        "colab_type": "code",
        "colab": {}
      },
      "source": [
        "def create_data():\n",
        "  '''\n",
        "    create the data as grayscale images (1 channel (cv.IMREAD_GRAYSCALE))\n",
        "    \n",
        "    returns a list of pairs containing the image matrix and it's label\n",
        "  '''\n",
        "  data = []\n",
        "  for classe in classes:\n",
        "    path = os.path.join(data_folder, classe)\n",
        "    classe_num = classes.index(classe)\n",
        "    for image in os.listdir(path):\n",
        "      image_arr = cv.imread(os.path.join(path, image), cv.IMREAD_GRAYSCALE)\n",
        "      data.append([image_arr, classe_num])\n",
        "    \n",
        "  return data"
      ],
      "execution_count": null,
      "outputs": []
    },
    {
      "cell_type": "code",
      "metadata": {
        "id": "o43pVDGG1Q63",
        "colab_type": "code",
        "colab": {}
      },
      "source": [
        "def create_data_3():\n",
        "  '''\n",
        "    create the data as rgb images (3 channels)\n",
        "\n",
        "    returns a list of pairs containing the image matrix and it's label \n",
        "  '''\n",
        "  data = []\n",
        "  for classe in classes:\n",
        "    path = os.path.join(data_folder, classe)\n",
        "    classe_num = classes.index(classe)\n",
        "    for image in os.listdir(path):\n",
        "      image_arr = cv.imread(os.path.join(path, image))\n",
        "      data.append([image_arr, classe_num])\n",
        "    \n",
        "  return data"
      ],
      "execution_count": null,
      "outputs": []
    },
    {
      "cell_type": "code",
      "metadata": {
        "id": "YgscdTh8dEmg",
        "colab_type": "code",
        "colab": {}
      },
      "source": [
        "# creating the data (grayscale images)\n",
        "data = create_data()"
      ],
      "execution_count": null,
      "outputs": []
    },
    {
      "cell_type": "code",
      "metadata": {
        "id": "DJNlY3ST4oYV",
        "colab_type": "code",
        "colab": {}
      },
      "source": [
        "# creating the data (rgb images)\n",
        "data_3 = create_data_3()"
      ],
      "execution_count": null,
      "outputs": []
    },
    {
      "cell_type": "code",
      "metadata": {
        "id": "riYVz-BkxzN-",
        "colab_type": "code",
        "colab": {}
      },
      "source": [
        "A = data.copy()"
      ],
      "execution_count": null,
      "outputs": []
    },
    {
      "cell_type": "code",
      "metadata": {
        "id": "Zf_mV11x5ErG",
        "colab_type": "code",
        "colab": {}
      },
      "source": [
        "A_3 = data_3.copy()"
      ],
      "execution_count": null,
      "outputs": []
    },
    {
      "cell_type": "code",
      "metadata": {
        "id": "KxABDf-o5Jtz",
        "colab_type": "code",
        "colab": {}
      },
      "source": [
        "print(A_3[2])\n",
        "print(len(A_3))"
      ],
      "execution_count": null,
      "outputs": []
    },
    {
      "cell_type": "code",
      "metadata": {
        "id": "9pcxw66gzWWz",
        "colab_type": "code",
        "colab": {}
      },
      "source": [
        "# seperating the benign and the malign (grayscale images)\n",
        "benign_data = A[:1988].copy()\n",
        "malign_data = A[1988:].copy()"
      ],
      "execution_count": null,
      "outputs": []
    },
    {
      "cell_type": "code",
      "metadata": {
        "id": "WCTueeLL5imY",
        "colab_type": "code",
        "colab": {}
      },
      "source": [
        "# seperating the benign and the malign (rgb images)\n",
        "benign_data_3 = A_3[:1988].copy()\n",
        "malign_data_3 = A_3[1988:].copy()"
      ],
      "execution_count": null,
      "outputs": []
    },
    {
      "cell_type": "code",
      "metadata": {
        "id": "72r9RHmLHICf",
        "colab_type": "code",
        "colab": {}
      },
      "source": [
        "print(benign_data[1987][1])"
      ],
      "execution_count": null,
      "outputs": []
    },
    {
      "cell_type": "code",
      "metadata": {
        "id": "1o6Vroo3p5WL",
        "colab_type": "code",
        "colab": {
          "base_uri": "https://localhost:8080/",
          "height": 34
        },
        "outputId": "1dde790a-20ce-4586-e484-45f246747836"
      },
      "source": [
        "print(len(data))"
      ],
      "execution_count": null,
      "outputs": [
        {
          "output_type": "stream",
          "text": [
            "3988\n"
          ],
          "name": "stdout"
        }
      ]
    },
    {
      "cell_type": "code",
      "metadata": {
        "id": "OimlwSHlzNoQ",
        "colab_type": "code",
        "colab": {
          "base_uri": "https://localhost:8080/",
          "height": 34
        },
        "outputId": "2514353a-dbcd-4f59-b95c-b92b689dc5da"
      },
      "source": [
        "print(len(benign_data))"
      ],
      "execution_count": null,
      "outputs": [
        {
          "output_type": "stream",
          "text": [
            "1988\n"
          ],
          "name": "stdout"
        }
      ]
    },
    {
      "cell_type": "code",
      "metadata": {
        "id": "h8dB4Mr6zRiq",
        "colab_type": "code",
        "colab": {
          "base_uri": "https://localhost:8080/",
          "height": 34
        },
        "outputId": "ca4e21d4-f050-461a-99c7-5f9c6b606f45"
      },
      "source": [
        "print(len(malign_data))"
      ],
      "execution_count": null,
      "outputs": [
        {
          "output_type": "stream",
          "text": [
            "2000\n"
          ],
          "name": "stdout"
        }
      ]
    },
    {
      "cell_type": "code",
      "metadata": {
        "id": "QrT-MH7rxIR3",
        "colab_type": "code",
        "colab": {}
      },
      "source": [
        "#random.shuffle(data)"
      ],
      "execution_count": null,
      "outputs": []
    },
    {
      "cell_type": "code",
      "metadata": {
        "id": "WP4zOc2_yS8W",
        "colab_type": "code",
        "colab": {}
      },
      "source": [
        "# for x in data[:10]:\n",
        "#   print(x[1])"
      ],
      "execution_count": null,
      "outputs": []
    },
    {
      "cell_type": "code",
      "metadata": {
        "id": "k5pOR8f8QIW8",
        "colab_type": "code",
        "colab": {}
      },
      "source": [
        "# saving the arrays as pickle files for later usage (grayscale images)\n",
        "pickle_out = open(\"benign.pickle\", \"wb\")\n",
        "pickle.dump(benign_data, pickle_out)\n",
        "pickle_out.close()\n",
        "\n",
        "pickle_out = open(\"malign.pickle\", \"wb\")\n",
        "pickle.dump(malign_data, pickle_out)\n",
        "pickle_out.close()"
      ],
      "execution_count": null,
      "outputs": []
    },
    {
      "cell_type": "code",
      "metadata": {
        "id": "rErdMuSr57Qs",
        "colab_type": "code",
        "colab": {}
      },
      "source": [
        "# saving the arrays as pickle files for later usage (rgb images)\n",
        "pickle_out = open(\"benign_3.pickle\", \"wb\")\n",
        "pickle.dump(benign_data_3, pickle_out)\n",
        "pickle_out.close()\n",
        "\n",
        "pickle_out = open(\"malign_3.pickle\", \"wb\")\n",
        "pickle.dump(malign_data_3, pickle_out)\n",
        "pickle_out.close()"
      ],
      "execution_count": null,
      "outputs": []
    },
    {
      "cell_type": "markdown",
      "metadata": {
        "id": "v3os8S47KXfy",
        "colab_type": "text"
      },
      "source": [
        "### **Import data**"
      ]
    },
    {
      "cell_type": "markdown",
      "metadata": {
        "id": "DktLNMJ_dI8b",
        "colab_type": "text"
      },
      "source": [
        "#### **GRAYSCALE IMAGES**"
      ]
    },
    {
      "cell_type": "code",
      "metadata": {
        "id": "QGL6gQOHmI5G",
        "colab_type": "code",
        "colab": {}
      },
      "source": [
        "# setting the path to the pickle files saved  (grayscale images)\n",
        "benign_link = \"/content/gdrive/Copy of BCD/Breast Cancer Detection/Pickle files of images/GRAYSCALE IMAGES ARRAY/benign.pickle\"\n",
        "\n",
        "malign_link = \"/content/gdrive/Copy of BCD/Breast Cancer Detection/Pickle files of images/GRAYSCALE IMAGES ARRAY/malign.pickle\""
      ],
      "execution_count": 4,
      "outputs": []
    },
    {
      "cell_type": "code",
      "metadata": {
        "id": "VjLxEcrSl3m9",
        "colab_type": "code",
        "colab": {}
      },
      "source": [
        "# opening pickle files (grayscale images)\n",
        "pickle_in = open(benign_link, \"rb\")\n",
        "benign_data = pickle.load(pickle_in)\n",
        "\n",
        "pickle_in = open(malign_link, \"rb\")\n",
        "malign_data = pickle.load(pickle_in)"
      ],
      "execution_count": 5,
      "outputs": []
    },
    {
      "cell_type": "code",
      "metadata": {
        "id": "cmlbv-nKJcAD",
        "colab_type": "code",
        "colab": {}
      },
      "source": [
        "# shuffle the data\n",
        "random.shuffle(benign_data)\n",
        "random.shuffle(malign_data)"
      ],
      "execution_count": 6,
      "outputs": []
    },
    {
      "cell_type": "code",
      "metadata": {
        "id": "X4ACdWpegQ8Y",
        "colab_type": "code",
        "colab": {}
      },
      "source": [
        "# splitting and merging the data from benign and malign arrays\n",
        "\n",
        "# split eg. train_per = 0.7 --> 70% train data, 30% test data\n",
        "train_per = 0.7\n",
        "\n",
        "trn_b = int(len(benign_data) * train_per)\n",
        "\n",
        "trn_m = int(len(malign_data) * train_per)\n",
        "\n",
        "train_data = benign_data[: trn_b].copy() + malign_data[: trn_m].copy()\n",
        "\n",
        "test_data = benign_data[trn_b :].copy() + malign_data[trn_m :].copy()"
      ],
      "execution_count": 7,
      "outputs": []
    },
    {
      "cell_type": "code",
      "metadata": {
        "id": "IImICxJTjSYb",
        "colab_type": "code",
        "colab": {}
      },
      "source": [
        "# shuffle train and test data\n",
        "random.shuffle(train_data)\n",
        "random.shuffle(test_data)"
      ],
      "execution_count": 8,
      "outputs": []
    },
    {
      "cell_type": "code",
      "metadata": {
        "id": "etRLOt8RiKXD",
        "colab_type": "code",
        "colab": {}
      },
      "source": [
        "assert len(train_data + test_data) == len(benign_data + malign_data)"
      ],
      "execution_count": 9,
      "outputs": []
    },
    {
      "cell_type": "code",
      "metadata": {
        "id": "Rmst7DXKibRU",
        "colab_type": "code",
        "colab": {}
      },
      "source": [
        "# separating the features and labels\n",
        "\n",
        "X_train = []\n",
        "y_train = []\n",
        "\n",
        "X_test = []\n",
        "y_test = []\n",
        "\n",
        "for X, y in train_data:\n",
        "  X_train.append(X)\n",
        "  y_train.append(y)\n",
        "\n",
        "for X, y in test_data:\n",
        "  X_test.append(X)\n",
        "  y_test.append(y)\n"
      ],
      "execution_count": 10,
      "outputs": []
    },
    {
      "cell_type": "code",
      "metadata": {
        "id": "D_SwLZ_Mjkwr",
        "colab_type": "code",
        "colab": {}
      },
      "source": [
        "# reshaping \n",
        "\n",
        "num_channels = 1 # depend whether you're using rgb or grayscale images\n",
        "\n",
        "IMG_SIZE = len(X_train[0])\n",
        "\n",
        "X_train = np.array(X_train).reshape(-1, IMG_SIZE, IMG_SIZE, num_channels)\n",
        "\n",
        "y_train = np.array(y_train).reshape(-1)\n",
        "\n",
        "IMG_SIZE = len(X_test[0])\n",
        "\n",
        "X_test = np.array(X_test).reshape(-1, IMG_SIZE, IMG_SIZE, num_channels)\n",
        "\n",
        "y_test = np.array(y_test).reshape(-1)"
      ],
      "execution_count": 11,
      "outputs": []
    },
    {
      "cell_type": "code",
      "metadata": {
        "id": "H6VcUqG-lDYT",
        "colab_type": "code",
        "colab": {
          "base_uri": "https://localhost:8080/",
          "height": 0
        },
        "outputId": "e9f32403-e272-43d9-ed66-c9960532f684"
      },
      "source": [
        "print(X_train.shape)\n",
        "print(X_test.shape)"
      ],
      "execution_count": 12,
      "outputs": [
        {
          "output_type": "stream",
          "text": [
            "(2791, 100, 100, 1)\n",
            "(1197, 100, 100, 1)\n"
          ],
          "name": "stdout"
        }
      ]
    },
    {
      "cell_type": "markdown",
      "metadata": {
        "id": "f38sLk8quBIC",
        "colab_type": "text"
      },
      "source": [
        "**Scaling**"
      ]
    },
    {
      "cell_type": "code",
      "metadata": {
        "id": "kGGxNQ-Lz-jB",
        "colab_type": "code",
        "colab": {}
      },
      "source": [
        "X_train = X_train / 255\n",
        "X_test = X_test / 255"
      ],
      "execution_count": 13,
      "outputs": []
    },
    {
      "cell_type": "markdown",
      "metadata": {
        "id": "8NHYEy7_dYrt",
        "colab_type": "text"
      },
      "source": [
        "#### **RGB IMAGES**"
      ]
    },
    {
      "cell_type": "code",
      "metadata": {
        "colab_type": "code",
        "id": "zh2cj2yhdB2A",
        "colab": {}
      },
      "source": [
        "# setting the path to the pickle files saved (rgb images)\n",
        "benign_link_3 = \"/content/gdrive/Copy of BCD/Breast Cancer Detection/Pickle files of images/RGB IMAGES ARRAY/benign_3.pickle\"\n",
        "\n",
        "malign_link_3 = \"/content/gdrive/Copy of BCD/Breast Cancer Detection/Pickle files of images/RGB IMAGES ARRAY/malign_3.pickle\""
      ],
      "execution_count": 14,
      "outputs": []
    },
    {
      "cell_type": "code",
      "metadata": {
        "colab_type": "code",
        "id": "_YWVcCW2dB2E",
        "colab": {}
      },
      "source": [
        "# opening saved data pickle files (rgb images)\n",
        "pickle_in = open(benign_link_3, \"rb\")\n",
        "benign_data_3 = pickle.load(pickle_in)\n",
        "\n",
        "pickle_in = open(malign_link_3, \"rb\")\n",
        "malign_data_3 = pickle.load(pickle_in)"
      ],
      "execution_count": 15,
      "outputs": []
    },
    {
      "cell_type": "code",
      "metadata": {
        "colab_type": "code",
        "id": "HByF2zc-dB2G",
        "colab": {}
      },
      "source": [
        "# shuffle the data\n",
        "random.shuffle(benign_data_3)\n",
        "random.shuffle(malign_data_3)"
      ],
      "execution_count": 16,
      "outputs": []
    },
    {
      "cell_type": "code",
      "metadata": {
        "colab_type": "code",
        "id": "oZzQrPlqdB2I",
        "colab": {}
      },
      "source": [
        "# splitting and merging the data from benign and malign arrays\n",
        "\n",
        "# split eg. train_per = 0.7 --> 70% train data, 30% test data\n",
        "train_per = 0.7\n",
        "\n",
        "trn_b_3 = int(len(benign_data_3) * train_per)\n",
        "\n",
        "trn_m_3 = int(len(malign_data_3) * train_per)\n",
        "\n",
        "train_data_3 = benign_data_3[: trn_b_3].copy() + malign_data_3[: trn_m_3].copy()\n",
        "\n",
        "test_data_3 = benign_data_3[trn_b_3 :].copy() + malign_data_3[trn_m_3 :].copy()"
      ],
      "execution_count": 17,
      "outputs": []
    },
    {
      "cell_type": "code",
      "metadata": {
        "colab_type": "code",
        "id": "AEKnhM7CdB2M",
        "colab": {}
      },
      "source": [
        "# shuffle train and test data\n",
        "random.shuffle(train_data_3)\n",
        "random.shuffle(test_data_3)"
      ],
      "execution_count": 18,
      "outputs": []
    },
    {
      "cell_type": "code",
      "metadata": {
        "colab_type": "code",
        "id": "y2jsPLVDdB2O",
        "colab": {}
      },
      "source": [
        "assert len(train_data_3 + test_data_3) == len(benign_data_3 + malign_data_3)"
      ],
      "execution_count": 19,
      "outputs": []
    },
    {
      "cell_type": "code",
      "metadata": {
        "colab_type": "code",
        "id": "TWTnaH7AdB2P",
        "colab": {}
      },
      "source": [
        "# separating the features and labels\n",
        "\n",
        "X_train_3 = []\n",
        "y_train_3 = []\n",
        "\n",
        "X_test_3 = []\n",
        "y_test_3 = []\n",
        "\n",
        "for X, y in train_data_3:\n",
        "  X_train_3.append(X)\n",
        "  y_train_3.append(y)\n",
        "\n",
        "for X, y in test_data_3:\n",
        "  X_test_3.append(X)\n",
        "  y_test_3.append(y)\n"
      ],
      "execution_count": 20,
      "outputs": []
    },
    {
      "cell_type": "code",
      "metadata": {
        "colab_type": "code",
        "id": "ZjPrhhiTdB2S",
        "colab": {}
      },
      "source": [
        "# reshaping \n",
        "\n",
        "num_channels = 3 # depend whether you're using rgb or grayscale images\n",
        "\n",
        "IMG_SIZE = len(X_train_3[0])\n",
        "\n",
        "X_train_3 = np.array(X_train_3).reshape(-1, IMG_SIZE, IMG_SIZE, num_channels)\n",
        "\n",
        "y_train_3 = np.array(y_train_3).reshape(-1)\n",
        "\n",
        "IMG_SIZE = len(X_test_3[0])\n",
        "\n",
        "X_test_3 = np.array(X_test_3).reshape(-1, IMG_SIZE, IMG_SIZE, num_channels)\n",
        "\n",
        "y_test_3 = np.array(y_test_3).reshape(-1)"
      ],
      "execution_count": 21,
      "outputs": []
    },
    {
      "cell_type": "code",
      "metadata": {
        "colab_type": "code",
        "id": "gH1kPJFpdB2U",
        "colab": {
          "base_uri": "https://localhost:8080/",
          "height": 0
        },
        "outputId": "6c4cf204-07fa-4ff7-f0d2-e63295b9c7a4"
      },
      "source": [
        "print(X_train_3.shape)\n",
        "print(X_test_3.shape)"
      ],
      "execution_count": 22,
      "outputs": [
        {
          "output_type": "stream",
          "text": [
            "(2791, 100, 100, 3)\n",
            "(1197, 100, 100, 3)\n"
          ],
          "name": "stdout"
        }
      ]
    },
    {
      "cell_type": "markdown",
      "metadata": {
        "id": "kWgpxZ-6uh7R",
        "colab_type": "text"
      },
      "source": [
        "**Scaling**"
      ]
    },
    {
      "cell_type": "code",
      "metadata": {
        "colab_type": "code",
        "id": "47QLwoeTdB2X",
        "colab": {}
      },
      "source": [
        "X_train_3 = X_train_3 / 255\n",
        "X_test_3 = X_test_3 / 255"
      ],
      "execution_count": 23,
      "outputs": []
    },
    {
      "cell_type": "markdown",
      "metadata": {
        "id": "cIBc1D1Yt0pm",
        "colab_type": "text"
      },
      "source": [
        "# **Setting up models**"
      ]
    },
    {
      "cell_type": "markdown",
      "metadata": {
        "id": "5G4vnvBtu3zU",
        "colab_type": "text"
      },
      "source": [
        "## **Grayscale images**"
      ]
    },
    {
      "cell_type": "code",
      "metadata": {
        "id": "Fm9QuYQAvAsB",
        "colab_type": "code",
        "colab": {}
      },
      "source": [
        "num_channels = 1"
      ],
      "execution_count": 109,
      "outputs": []
    },
    {
      "cell_type": "markdown",
      "metadata": {
        "id": "yhcbfimhuJwE",
        "colab_type": "text"
      },
      "source": [
        "### **model**"
      ]
    },
    {
      "cell_type": "code",
      "metadata": {
        "id": "jObIrtDK-n-H",
        "colab_type": "code",
        "colab": {}
      },
      "source": [
        "model = tf.keras.models.Sequential(\n",
        "    [\n",
        "     \n",
        "     Conv2D(16, (3,3), padding='same', activation='relu', input_shape=(100,100,num_channels)),\n",
        "     MaxPooling2D(2,2),\n",
        "\n",
        "     Conv2D(32, (3,3), padding='same', activation='relu'),\n",
        "     MaxPooling2D(2,2),\n",
        "\n",
        "     Flatten(),\n",
        "\n",
        "     Dense(512, activation='relu'),\n",
        "\n",
        "     Dense(1, activation='sigmoid')\n",
        "     \n",
        "    ]\n",
        ")"
      ],
      "execution_count": 110,
      "outputs": []
    },
    {
      "cell_type": "code",
      "metadata": {
        "id": "qqMZ_c-T-n7a",
        "colab_type": "code",
        "colab": {
          "base_uri": "https://localhost:8080/",
          "height": 0
        },
        "outputId": "29530ab4-9b92-4f84-e51f-23f613846f81"
      },
      "source": [
        "model.summary()"
      ],
      "execution_count": 111,
      "outputs": [
        {
          "output_type": "stream",
          "text": [
            "Model: \"sequential_10\"\n",
            "_________________________________________________________________\n",
            "Layer (type)                 Output Shape              Param #   \n",
            "=================================================================\n",
            "conv2d_20 (Conv2D)           (None, 100, 100, 16)      160       \n",
            "_________________________________________________________________\n",
            "max_pooling2d_20 (MaxPooling (None, 50, 50, 16)        0         \n",
            "_________________________________________________________________\n",
            "conv2d_21 (Conv2D)           (None, 50, 50, 32)        4640      \n",
            "_________________________________________________________________\n",
            "max_pooling2d_21 (MaxPooling (None, 25, 25, 32)        0         \n",
            "_________________________________________________________________\n",
            "flatten_13 (Flatten)         (None, 20000)             0         \n",
            "_________________________________________________________________\n",
            "dense_27 (Dense)             (None, 512)               10240512  \n",
            "_________________________________________________________________\n",
            "dense_28 (Dense)             (None, 1)                 513       \n",
            "=================================================================\n",
            "Total params: 10,245,825\n",
            "Trainable params: 10,245,825\n",
            "Non-trainable params: 0\n",
            "_________________________________________________________________\n"
          ],
          "name": "stdout"
        }
      ]
    },
    {
      "cell_type": "code",
      "metadata": {
        "id": "Xjb5XbD6-n4Y",
        "colab_type": "code",
        "colab": {}
      },
      "source": [
        "model.compile(\n",
        "    loss = 'binary_crossentropy',\n",
        "    optimizer = Adam(),\n",
        "    metrics = ['acc']\n",
        ")"
      ],
      "execution_count": 112,
      "outputs": []
    },
    {
      "cell_type": "code",
      "metadata": {
        "id": "PpiaonjN-n1f",
        "colab_type": "code",
        "colab": {
          "base_uri": "https://localhost:8080/",
          "height": 0
        },
        "outputId": "409ed464-8638-4393-904e-3b37a83c63d3"
      },
      "source": [
        "result = model.fit(\n",
        "    x = X_train,\n",
        "    y = y_train,\n",
        "    batch_size = 32,\n",
        "    epochs = 15,\n",
        "    validation_split = 0.1,\n",
        "    verbose = 2\n",
        ")"
      ],
      "execution_count": 113,
      "outputs": [
        {
          "output_type": "stream",
          "text": [
            "Epoch 1/15\n",
            "79/79 - 1s - loss: 0.6105 - acc: 0.7025 - val_loss: 0.5698 - val_acc: 0.7143\n",
            "Epoch 2/15\n",
            "79/79 - 1s - loss: 0.4440 - acc: 0.8025 - val_loss: 0.4876 - val_acc: 0.7929\n",
            "Epoch 3/15\n",
            "79/79 - 1s - loss: 0.3840 - acc: 0.8395 - val_loss: 0.5324 - val_acc: 0.7393\n",
            "Epoch 4/15\n",
            "79/79 - 1s - loss: 0.3372 - acc: 0.8519 - val_loss: 0.4573 - val_acc: 0.8071\n",
            "Epoch 5/15\n",
            "79/79 - 1s - loss: 0.3122 - acc: 0.8638 - val_loss: 0.4082 - val_acc: 0.8321\n",
            "Epoch 6/15\n",
            "79/79 - 1s - loss: 0.2743 - acc: 0.8789 - val_loss: 0.4478 - val_acc: 0.8250\n",
            "Epoch 7/15\n",
            "79/79 - 1s - loss: 0.2440 - acc: 0.8988 - val_loss: 0.4532 - val_acc: 0.8179\n",
            "Epoch 8/15\n",
            "79/79 - 1s - loss: 0.2370 - acc: 0.8961 - val_loss: 0.4580 - val_acc: 0.8393\n",
            "Epoch 9/15\n",
            "79/79 - 1s - loss: 0.2195 - acc: 0.9028 - val_loss: 0.4046 - val_acc: 0.8393\n",
            "Epoch 10/15\n",
            "79/79 - 1s - loss: 0.1861 - acc: 0.9188 - val_loss: 0.6576 - val_acc: 0.8321\n",
            "Epoch 11/15\n",
            "79/79 - 1s - loss: 0.1851 - acc: 0.9287 - val_loss: 0.4292 - val_acc: 0.8393\n",
            "Epoch 12/15\n",
            "79/79 - 1s - loss: 0.1491 - acc: 0.9383 - val_loss: 0.5659 - val_acc: 0.8536\n",
            "Epoch 13/15\n",
            "79/79 - 1s - loss: 0.1388 - acc: 0.9466 - val_loss: 0.4484 - val_acc: 0.8214\n",
            "Epoch 14/15\n",
            "79/79 - 1s - loss: 0.1374 - acc: 0.9395 - val_loss: 0.5832 - val_acc: 0.8464\n",
            "Epoch 15/15\n",
            "79/79 - 1s - loss: 0.1000 - acc: 0.9614 - val_loss: 0.6009 - val_acc: 0.8429\n"
          ],
          "name": "stdout"
        }
      ]
    },
    {
      "cell_type": "code",
      "metadata": {
        "id": "ZIO6YiSN-nvf",
        "colab_type": "code",
        "colab": {
          "base_uri": "https://localhost:8080/",
          "height": 0
        },
        "outputId": "dd420e26-5206-4ba1-e756-9b88883bddca"
      },
      "source": [
        "# Plotting the accuracy of \"model\"\n",
        "plt.plot(result.history['acc'])\n",
        "plt.plot(result.history['val_acc'])\n",
        "plt.title('model accuracy')\n",
        "plt.ylabel('accuracy')\n",
        "plt.xlabel('epoch')\n",
        "plt.legend(['train', 'validation'], loc='upper left')\n",
        "plt.show()\n",
        "\n",
        "# Loss of \"model\"\n",
        "plt.plot(result.history['loss'])\n",
        "plt.plot(result.history['val_loss'])\n",
        "plt.title('model loss')\n",
        "plt.ylabel('loss')\n",
        "plt.xlabel('epoch')\n",
        "plt.legend(['train', 'validation'], loc='upper left')\n",
        "plt.show()\n"
      ],
      "execution_count": 114,
      "outputs": [
        {
          "output_type": "display_data",
          "data": {
            "image/png": "[encoded data removed]",
            "text/plain": [
              "<Figure size 432x288 with 1 Axes>"
            ]
          },
          "metadata": {
            "tags": [],
            "needs_background": "light"
          }
        },
        {
          "output_type": "display_data",
          "data": {
            "image/png": "[encoded data removed]",
            "text/plain": [
              "<Figure size 432x288 with 1 Axes>"
            ]
          },
          "metadata": {
            "tags": [],
            "needs_background": "light"
          }
        }
      ]
    },
    {
      "cell_type": "markdown",
      "metadata": {
        "id": "tAH3BbyeuYKe",
        "colab_type": "text"
      },
      "source": [
        "### **model_DO**"
      ]
    },
    {
      "cell_type": "code",
      "metadata": {
        "id": "esRrGBa6-np5",
        "colab_type": "code",
        "colab": {}
      },
      "source": [
        "model_DO = tf.keras.models.Sequential(\n",
        "    [\n",
        "     \n",
        "     Conv2D(16, (3,3), padding='same', activation='relu', input_shape=(100,100,num_channels)),\n",
        "     MaxPooling2D(2,2),\n",
        "\n",
        "     Conv2D(32, (3,3), padding='same', activation='relu'),\n",
        "     MaxPooling2D(2,2),\n",
        "\n",
        "     Flatten(),\n",
        "\n",
        "     Dense(512, activation='relu'),\n",
        "\n",
        "     Dropout(0.5),\n",
        "\n",
        "     Dense(1, activation='sigmoid')\n",
        "     \n",
        "    ]\n",
        ")"
      ],
      "execution_count": 115,
      "outputs": []
    },
    {
      "cell_type": "code",
      "metadata": {
        "id": "KVi5zTXY-nnQ",
        "colab_type": "code",
        "colab": {
          "base_uri": "https://localhost:8080/",
          "height": 0
        },
        "outputId": "4c8d8ef6-202e-467a-cf72-684d8be1a9fb"
      },
      "source": [
        "model_DO.summary()"
      ],
      "execution_count": 116,
      "outputs": [
        {
          "output_type": "stream",
          "text": [
            "Model: \"sequential_11\"\n",
            "_________________________________________________________________\n",
            "Layer (type)                 Output Shape              Param #   \n",
            "=================================================================\n",
            "conv2d_22 (Conv2D)           (None, 100, 100, 16)      160       \n",
            "_________________________________________________________________\n",
            "max_pooling2d_22 (MaxPooling (None, 50, 50, 16)        0         \n",
            "_________________________________________________________________\n",
            "conv2d_23 (Conv2D)           (None, 50, 50, 32)        4640      \n",
            "_________________________________________________________________\n",
            "max_pooling2d_23 (MaxPooling (None, 25, 25, 32)        0         \n",
            "_________________________________________________________________\n",
            "flatten_14 (Flatten)         (None, 20000)             0         \n",
            "_________________________________________________________________\n",
            "dense_29 (Dense)             (None, 512)               10240512  \n",
            "_________________________________________________________________\n",
            "dropout_11 (Dropout)         (None, 512)               0         \n",
            "_________________________________________________________________\n",
            "dense_30 (Dense)             (None, 1)                 513       \n",
            "=================================================================\n",
            "Total params: 10,245,825\n",
            "Trainable params: 10,245,825\n",
            "Non-trainable params: 0\n",
            "_________________________________________________________________\n"
          ],
          "name": "stdout"
        }
      ]
    },
    {
      "cell_type": "code",
      "metadata": {
        "id": "9GVnF07q-nki",
        "colab_type": "code",
        "colab": {}
      },
      "source": [
        "model_DO.compile(\n",
        "    loss = 'binary_crossentropy',\n",
        "    optimizer = Adam(),\n",
        "    metrics = ['acc']\n",
        ")"
      ],
      "execution_count": 117,
      "outputs": []
    },
    {
      "cell_type": "code",
      "metadata": {
        "id": "D_EfWYjW-nhu",
        "colab_type": "code",
        "colab": {
          "base_uri": "https://localhost:8080/",
          "height": 0
        },
        "outputId": "78695421-ef13-4a9f-84ff-c54fbd5c5b35"
      },
      "source": [
        "result_DO = model_DO.fit(\n",
        "    x = X_train,\n",
        "    y = y_train,\n",
        "    batch_size = 32,\n",
        "    epochs = 15,\n",
        "    validation_split = 0.1,\n",
        "    verbose = 2\n",
        ")"
      ],
      "execution_count": 118,
      "outputs": [
        {
          "output_type": "stream",
          "text": [
            "Epoch 1/15\n",
            "79/79 - 1s - loss: 0.5589 - acc: 0.7216 - val_loss: 0.5174 - val_acc: 0.7750\n",
            "Epoch 2/15\n",
            "79/79 - 1s - loss: 0.4127 - acc: 0.8232 - val_loss: 0.4378 - val_acc: 0.8107\n",
            "Epoch 3/15\n",
            "79/79 - 1s - loss: 0.3713 - acc: 0.8451 - val_loss: 0.4191 - val_acc: 0.8250\n",
            "Epoch 4/15\n",
            "79/79 - 1s - loss: 0.3460 - acc: 0.8471 - val_loss: 0.3778 - val_acc: 0.8429\n",
            "Epoch 5/15\n",
            "79/79 - 1s - loss: 0.3111 - acc: 0.8702 - val_loss: 0.3790 - val_acc: 0.8393\n",
            "Epoch 6/15\n",
            "79/79 - 1s - loss: 0.2976 - acc: 0.8734 - val_loss: 0.3473 - val_acc: 0.8571\n",
            "Epoch 7/15\n",
            "79/79 - 1s - loss: 0.2668 - acc: 0.8901 - val_loss: 0.3471 - val_acc: 0.8536\n",
            "Epoch 8/15\n",
            "79/79 - 1s - loss: 0.2502 - acc: 0.8913 - val_loss: 0.3646 - val_acc: 0.8321\n",
            "Epoch 9/15\n",
            "79/79 - 1s - loss: 0.2298 - acc: 0.9004 - val_loss: 0.3419 - val_acc: 0.8750\n",
            "Epoch 10/15\n",
            "79/79 - 1s - loss: 0.2182 - acc: 0.9088 - val_loss: 0.3596 - val_acc: 0.8643\n",
            "Epoch 11/15\n",
            "79/79 - 1s - loss: 0.2054 - acc: 0.9148 - val_loss: 0.3445 - val_acc: 0.8679\n",
            "Epoch 12/15\n",
            "79/79 - 1s - loss: 0.1698 - acc: 0.9331 - val_loss: 0.3943 - val_acc: 0.8607\n",
            "Epoch 13/15\n",
            "79/79 - 1s - loss: 0.1561 - acc: 0.9403 - val_loss: 0.4091 - val_acc: 0.8714\n",
            "Epoch 14/15\n",
            "79/79 - 1s - loss: 0.1517 - acc: 0.9379 - val_loss: 0.4694 - val_acc: 0.8429\n",
            "Epoch 15/15\n",
            "79/79 - 1s - loss: 0.1393 - acc: 0.9450 - val_loss: 0.3815 - val_acc: 0.8714\n"
          ],
          "name": "stdout"
        }
      ]
    },
    {
      "cell_type": "code",
      "metadata": {
        "id": "1j3Kddxo-neo",
        "colab_type": "code",
        "colab": {
          "base_uri": "https://localhost:8080/",
          "height": 0
        },
        "outputId": "acebe2df-e1ee-478d-98a1-ea166fc9eecd"
      },
      "source": [
        "# Accuracy of \"model_DO\"\n",
        "plt.plot(result_DO.history['acc'])\n",
        "plt.plot(result_DO.history['val_acc'])\n",
        "plt.title('model accuracy')\n",
        "plt.ylabel('accuracy')\n",
        "plt.xlabel('epoch')\n",
        "plt.legend(['train', 'validation'], loc='upper left')\n",
        "plt.show()\n",
        "\n",
        "# Loss of \"model_DO\"\n",
        "plt.plot(result_DO.history['loss'])\n",
        "plt.plot(result_DO.history['val_loss'])\n",
        "plt.title('model loss')\n",
        "plt.ylabel('loss')\n",
        "plt.xlabel('epoch')\n",
        "plt.legend(['train', 'validation'], loc='upper left')\n",
        "plt.show()\n"
      ],
      "execution_count": 119,
      "outputs": [
        {
          "output_type": "display_data",
          "data": {
            "image/png": "[encoded data removed]",
            "text/plain": [
              "<Figure size 432x288 with 1 Axes>"
            ]
          },
          "metadata": {
            "tags": [],
            "needs_background": "light"
          }
        },
        {
          "output_type": "display_data",
          "data": {
            "image/png": "[encoded data removed]",
            "text/plain": [
              "<Figure size 432x288 with 1 Axes>"
            ]
          },
          "metadata": {
            "tags": [],
            "needs_background": "light"
          }
        }
      ]
    },
    {
      "cell_type": "markdown",
      "metadata": {
        "id": "u1MDvszRulre",
        "colab_type": "text"
      },
      "source": [
        "### **model_DO_less**"
      ]
    },
    {
      "cell_type": "code",
      "metadata": {
        "id": "DeMevjtQ-nZB",
        "colab_type": "code",
        "colab": {}
      },
      "source": [
        "model_DO_less = tf.keras.models.Sequential(\n",
        "    [\n",
        "     \n",
        "     Conv2D(8, (3,3), padding='same', activation='relu', input_shape=(100,100,num_channels)),\n",
        "     MaxPooling2D(2,2),\n",
        "\n",
        "     Conv2D(16, (3,3), padding='same', activation='relu'),\n",
        "     MaxPooling2D(2,2),\n",
        "\n",
        "     Flatten(),\n",
        "\n",
        "     Dense(128, activation='relu'),\n",
        "\n",
        "     Dropout(0.5),\n",
        "\n",
        "     Dense(1, activation='sigmoid')\n",
        "     \n",
        "    ]\n",
        ")"
      ],
      "execution_count": 120,
      "outputs": []
    },
    {
      "cell_type": "code",
      "metadata": {
        "id": "pZK6i3ht-nWQ",
        "colab_type": "code",
        "colab": {
          "base_uri": "https://localhost:8080/",
          "height": 0
        },
        "outputId": "d4fef0ea-ca1e-4a6c-ba7c-1ae0a2e3bfd4"
      },
      "source": [
        "model_DO_less.summary()"
      ],
      "execution_count": 121,
      "outputs": [
        {
          "output_type": "stream",
          "text": [
            "Model: \"sequential_12\"\n",
            "_________________________________________________________________\n",
            "Layer (type)                 Output Shape              Param #   \n",
            "=================================================================\n",
            "conv2d_24 (Conv2D)           (None, 100, 100, 8)       80        \n",
            "_________________________________________________________________\n",
            "max_pooling2d_24 (MaxPooling (None, 50, 50, 8)         0         \n",
            "_________________________________________________________________\n",
            "conv2d_25 (Conv2D)           (None, 50, 50, 16)        1168      \n",
            "_________________________________________________________________\n",
            "max_pooling2d_25 (MaxPooling (None, 25, 25, 16)        0         \n",
            "_________________________________________________________________\n",
            "flatten_15 (Flatten)         (None, 10000)             0         \n",
            "_________________________________________________________________\n",
            "dense_31 (Dense)             (None, 128)               1280128   \n",
            "_________________________________________________________________\n",
            "dropout_12 (Dropout)         (None, 128)               0         \n",
            "_________________________________________________________________\n",
            "dense_32 (Dense)             (None, 1)                 129       \n",
            "=================================================================\n",
            "Total params: 1,281,505\n",
            "Trainable params: 1,281,505\n",
            "Non-trainable params: 0\n",
            "_________________________________________________________________\n"
          ],
          "name": "stdout"
        }
      ]
    },
    {
      "cell_type": "code",
      "metadata": {
        "id": "yqGpmFwh-nTg",
        "colab_type": "code",
        "colab": {}
      },
      "source": [
        "model_DO_less.compile(\n",
        "    loss = 'binary_crossentropy',\n",
        "    optimizer = Adam(),\n",
        "    metrics = ['acc']\n",
        ")"
      ],
      "execution_count": 122,
      "outputs": []
    },
    {
      "cell_type": "code",
      "metadata": {
        "id": "zFHDNeAV-nQv",
        "colab_type": "code",
        "colab": {
          "base_uri": "https://localhost:8080/",
          "height": 0
        },
        "outputId": "4731e1bc-4c9c-42ac-80bc-b2e5656e50db"
      },
      "source": [
        "result_DO_less = model_DO_less.fit(\n",
        "    x = X_train,\n",
        "    y = y_train,\n",
        "    batch_size = 32,\n",
        "    epochs = 15,\n",
        "    validation_split = 0.1,\n",
        "    verbose = 2\n",
        ")"
      ],
      "execution_count": 123,
      "outputs": [
        {
          "output_type": "stream",
          "text": [
            "Epoch 1/15\n",
            "79/79 - 1s - loss: 0.6279 - acc: 0.6706 - val_loss: 0.5790 - val_acc: 0.7179\n",
            "Epoch 2/15\n",
            "79/79 - 0s - loss: 0.4914 - acc: 0.7834 - val_loss: 0.5296 - val_acc: 0.7786\n",
            "Epoch 3/15\n",
            "79/79 - 0s - loss: 0.4254 - acc: 0.8220 - val_loss: 0.4553 - val_acc: 0.7964\n",
            "Epoch 4/15\n",
            "79/79 - 0s - loss: 0.3892 - acc: 0.8403 - val_loss: 0.4089 - val_acc: 0.8036\n",
            "Epoch 5/15\n",
            "79/79 - 0s - loss: 0.3691 - acc: 0.8491 - val_loss: 0.4280 - val_acc: 0.8214\n",
            "Epoch 6/15\n",
            "79/79 - 0s - loss: 0.3507 - acc: 0.8459 - val_loss: 0.4022 - val_acc: 0.8250\n",
            "Epoch 7/15\n",
            "79/79 - 0s - loss: 0.3373 - acc: 0.8586 - val_loss: 0.3942 - val_acc: 0.8429\n",
            "Epoch 8/15\n",
            "79/79 - 0s - loss: 0.3301 - acc: 0.8674 - val_loss: 0.3830 - val_acc: 0.8393\n",
            "Epoch 9/15\n",
            "79/79 - 0s - loss: 0.3181 - acc: 0.8646 - val_loss: 0.3613 - val_acc: 0.8500\n",
            "Epoch 10/15\n",
            "79/79 - 0s - loss: 0.3079 - acc: 0.8626 - val_loss: 0.3541 - val_acc: 0.8321\n",
            "Epoch 11/15\n",
            "79/79 - 0s - loss: 0.3040 - acc: 0.8702 - val_loss: 0.3554 - val_acc: 0.8679\n",
            "Epoch 12/15\n",
            "79/79 - 0s - loss: 0.2919 - acc: 0.8765 - val_loss: 0.3611 - val_acc: 0.8464\n",
            "Epoch 13/15\n",
            "79/79 - 0s - loss: 0.2947 - acc: 0.8742 - val_loss: 0.3877 - val_acc: 0.8429\n",
            "Epoch 14/15\n",
            "79/79 - 0s - loss: 0.2957 - acc: 0.8702 - val_loss: 0.3817 - val_acc: 0.8321\n",
            "Epoch 15/15\n",
            "79/79 - 0s - loss: 0.2856 - acc: 0.8738 - val_loss: 0.3904 - val_acc: 0.8500\n"
          ],
          "name": "stdout"
        }
      ]
    },
    {
      "cell_type": "code",
      "metadata": {
        "id": "W00eO2Ie-nN_",
        "colab_type": "code",
        "colab": {
          "base_uri": "https://localhost:8080/",
          "height": 0
        },
        "outputId": "674ce088-5430-48b6-a7bd-c9dfc8cb45b3"
      },
      "source": [
        "# Accuracy of \"model_DO_less\"\n",
        "plt.plot(result_DO_less.history['acc'])\n",
        "plt.plot(result_DO_less.history['val_acc'])\n",
        "plt.title('model accuracy')\n",
        "plt.ylabel('accuracy')\n",
        "plt.xlabel('epoch')\n",
        "plt.legend(['train', 'validation'], loc='upper left')\n",
        "plt.show()\n",
        "\n",
        "# Loss of \"model_DO_less\"\n",
        "plt.plot(result_DO_less.history['loss'])\n",
        "plt.plot(result_DO_less.history['val_loss'])\n",
        "plt.title('model loss')\n",
        "plt.ylabel('loss')\n",
        "plt.xlabel('epoch')\n",
        "plt.legend(['train', 'validation'], loc='upper left')\n",
        "plt.show()\n"
      ],
      "execution_count": 124,
      "outputs": [
        {
          "output_type": "display_data",
          "data": {
            "image/png": "[encoded data removed]",
            "text/plain": [
              "<Figure size 432x288 with 1 Axes>"
            ]
          },
          "metadata": {
            "tags": [],
            "needs_background": "light"
          }
        },
        {
          "output_type": "display_data",
          "data": {
            "image/png": "[encoded data removed]",
            "text/plain": [
              "<Figure size 432x288 with 1 Axes>"
            ]
          },
          "metadata": {
            "tags": [],
            "needs_background": "light"
          }
        }
      ]
    },
    {
      "cell_type": "markdown",
      "metadata": {
        "id": "ZJAbIU2fuw-2",
        "colab_type": "text"
      },
      "source": [
        "### **model_DO_06_Dense_128**"
      ]
    },
    {
      "cell_type": "code",
      "metadata": {
        "id": "Y6rSoUWJw7qC",
        "colab_type": "code",
        "colab": {}
      },
      "source": [
        "model_DO_06_Dense_128 = tf.keras.models.Sequential(\n",
        "    [\n",
        "     \n",
        "     Conv2D(8, (3,3), padding='same', activation='relu', input_shape=(100,100,num_channels)),\n",
        "     MaxPooling2D(2,2),\n",
        "\n",
        "     Conv2D(16, (3,3), padding='same', activation='relu'),\n",
        "     MaxPooling2D(2,2),\n",
        "\n",
        "     Flatten(),\n",
        "\n",
        "     Dense(128, activation='relu'),\n",
        "\n",
        "     Dropout(0.6),\n",
        "\n",
        "     Dense(1, activation='sigmoid')\n",
        "     \n",
        "    ]\n",
        ")"
      ],
      "execution_count": 125,
      "outputs": []
    },
    {
      "cell_type": "code",
      "metadata": {
        "id": "9IS6f3N4w7Yo",
        "colab_type": "code",
        "colab": {
          "base_uri": "https://localhost:8080/",
          "height": 0
        },
        "outputId": "432a3f57-5840-4b23-88d8-7f739c71a156"
      },
      "source": [
        "model_DO_06_Dense_128.summary()"
      ],
      "execution_count": 126,
      "outputs": [
        {
          "output_type": "stream",
          "text": [
            "Model: \"sequential_13\"\n",
            "_________________________________________________________________\n",
            "Layer (type)                 Output Shape              Param #   \n",
            "=================================================================\n",
            "conv2d_26 (Conv2D)           (None, 100, 100, 8)       80        \n",
            "_________________________________________________________________\n",
            "max_pooling2d_26 (MaxPooling (None, 50, 50, 8)         0         \n",
            "_________________________________________________________________\n",
            "conv2d_27 (Conv2D)           (None, 50, 50, 16)        1168      \n",
            "_________________________________________________________________\n",
            "max_pooling2d_27 (MaxPooling (None, 25, 25, 16)        0         \n",
            "_________________________________________________________________\n",
            "flatten_16 (Flatten)         (None, 10000)             0         \n",
            "_________________________________________________________________\n",
            "dense_33 (Dense)             (None, 128)               1280128   \n",
            "_________________________________________________________________\n",
            "dropout_13 (Dropout)         (None, 128)               0         \n",
            "_________________________________________________________________\n",
            "dense_34 (Dense)             (None, 1)                 129       \n",
            "=================================================================\n",
            "Total params: 1,281,505\n",
            "Trainable params: 1,281,505\n",
            "Non-trainable params: 0\n",
            "_________________________________________________________________\n"
          ],
          "name": "stdout"
        }
      ]
    },
    {
      "cell_type": "code",
      "metadata": {
        "id": "AjPhnlX2w6fL",
        "colab_type": "code",
        "colab": {}
      },
      "source": [
        "model_DO_06_Dense_128.compile(\n",
        "    loss = 'binary_crossentropy',\n",
        "    optimizer = Adam(),\n",
        "    metrics = ['acc']\n",
        ")"
      ],
      "execution_count": 127,
      "outputs": []
    },
    {
      "cell_type": "code",
      "metadata": {
        "id": "miAKqRHCw6VD",
        "colab_type": "code",
        "colab": {
          "base_uri": "https://localhost:8080/",
          "height": 0
        },
        "outputId": "9544d961-fa0d-4418-ec86-0d532a70bad5"
      },
      "source": [
        "result_DO_06_Dense_128 = model_DO_06_Dense_128.fit(\n",
        "    x = X_train,\n",
        "    y = y_train,\n",
        "    batch_size = 32,\n",
        "    epochs = 15,\n",
        "    validation_split = 0.1,\n",
        "    verbose = 2\n",
        ")"
      ],
      "execution_count": 128,
      "outputs": [
        {
          "output_type": "stream",
          "text": [
            "Epoch 1/15\n",
            "79/79 - 1s - loss: 0.6092 - acc: 0.6882 - val_loss: 0.5948 - val_acc: 0.7143\n",
            "Epoch 2/15\n",
            "79/79 - 0s - loss: 0.5151 - acc: 0.7686 - val_loss: 0.5650 - val_acc: 0.7821\n",
            "Epoch 3/15\n",
            "79/79 - 0s - loss: 0.4670 - acc: 0.8009 - val_loss: 0.5185 - val_acc: 0.7643\n",
            "Epoch 4/15\n",
            "79/79 - 0s - loss: 0.4301 - acc: 0.8192 - val_loss: 0.4934 - val_acc: 0.7857\n",
            "Epoch 5/15\n",
            "79/79 - 0s - loss: 0.4145 - acc: 0.8236 - val_loss: 0.4778 - val_acc: 0.7750\n",
            "Epoch 6/15\n",
            "79/79 - 0s - loss: 0.3915 - acc: 0.8303 - val_loss: 0.4602 - val_acc: 0.7929\n",
            "Epoch 7/15\n",
            "79/79 - 0s - loss: 0.3724 - acc: 0.8311 - val_loss: 0.4736 - val_acc: 0.7964\n",
            "Epoch 8/15\n",
            "79/79 - 0s - loss: 0.3620 - acc: 0.8391 - val_loss: 0.4304 - val_acc: 0.7857\n",
            "Epoch 9/15\n",
            "79/79 - 0s - loss: 0.3350 - acc: 0.8499 - val_loss: 0.4480 - val_acc: 0.7893\n",
            "Epoch 10/15\n",
            "79/79 - 0s - loss: 0.3270 - acc: 0.8578 - val_loss: 0.4562 - val_acc: 0.8071\n",
            "Epoch 11/15\n",
            "79/79 - 0s - loss: 0.3168 - acc: 0.8610 - val_loss: 0.4028 - val_acc: 0.8286\n",
            "Epoch 12/15\n",
            "79/79 - 0s - loss: 0.3136 - acc: 0.8678 - val_loss: 0.4032 - val_acc: 0.8107\n",
            "Epoch 13/15\n",
            "79/79 - 0s - loss: 0.3006 - acc: 0.8670 - val_loss: 0.4022 - val_acc: 0.8107\n",
            "Epoch 14/15\n",
            "79/79 - 0s - loss: 0.2800 - acc: 0.8785 - val_loss: 0.4319 - val_acc: 0.8179\n",
            "Epoch 15/15\n",
            "79/79 - 0s - loss: 0.2786 - acc: 0.8738 - val_loss: 0.4058 - val_acc: 0.8429\n"
          ],
          "name": "stdout"
        }
      ]
    },
    {
      "cell_type": "code",
      "metadata": {
        "id": "-Jkx2nrOxmAL",
        "colab_type": "code",
        "colab": {
          "base_uri": "https://localhost:8080/",
          "height": 0
        },
        "outputId": "c9d62766-f4b2-4f83-dfae-7c1e9f346819"
      },
      "source": [
        "# Accuracy of \"model_DO_06_Dense_128\"\n",
        "plt.plot(result_DO_06_Dense_128.history['acc'])\n",
        "plt.plot(result_DO_06_Dense_128.history['val_acc'])\n",
        "plt.title('model accuracy')\n",
        "plt.ylabel('accuracy')\n",
        "plt.legend(['train', 'validation'], loc='upper left')\n",
        "plt.show()\n",
        "plt.xlabel('epoch')\n",
        "\n",
        "# Loss of \"model_DO_06_Dense_128\"\n",
        "plt.plot(result_DO_06_Dense_128.history['loss'])\n",
        "plt.plot(result_DO_06_Dense_128.history['val_loss'])\n",
        "plt.title('model loss')\n",
        "plt.ylabel('loss')\n",
        "plt.xlabel('epoch')\n",
        "plt.legend(['train', 'validation'], loc='upper left')\n",
        "plt.show()\n"
      ],
      "execution_count": 129,
      "outputs": [
        {
          "output_type": "display_data",
          "data": {
            "image/png": "[encoded data removed]",
            "text/plain": [
              "<Figure size 432x288 with 1 Axes>"
            ]
          },
          "metadata": {
            "tags": [],
            "needs_background": "light"
          }
        },
        {
          "output_type": "display_data",
          "data": {
            "image/png": "[encoded data removed]",
            "text/plain": [
              "<Figure size 432x288 with 1 Axes>"
            ]
          },
          "metadata": {
            "tags": [],
            "needs_background": "light"
          }
        }
      ]
    },
    {
      "cell_type": "markdown",
      "metadata": {
        "id": "yA2V1oIJu8XM",
        "colab_type": "text"
      },
      "source": [
        "### **model_DO_04_Dense_256**"
      ]
    },
    {
      "cell_type": "code",
      "metadata": {
        "id": "QayBfJ1WujPc",
        "colab_type": "code",
        "colab": {}
      },
      "source": [
        "model_DO_04_Dense_256 = tf.keras.models.Sequential(\n",
        "    [\n",
        "     \n",
        "     Conv2D(8, (3,3), padding='same', activation='relu', input_shape=(100,100,num_channels)),\n",
        "     MaxPooling2D(2,2),\n",
        "\n",
        "     Conv2D(16, (3,3), padding='same', activation='relu'),\n",
        "     MaxPooling2D(2,2),\n",
        "\n",
        "     Flatten(),\n",
        "\n",
        "     Dense(256, activation='relu'),\n",
        "\n",
        "     Dropout(0.4),\n",
        "\n",
        "     Dense(1, activation='sigmoid')\n",
        "     \n",
        "    ]\n",
        ")"
      ],
      "execution_count": 130,
      "outputs": []
    },
    {
      "cell_type": "code",
      "metadata": {
        "id": "X-NDvD9iujNB",
        "colab_type": "code",
        "colab": {
          "base_uri": "https://localhost:8080/",
          "height": 0
        },
        "outputId": "d41c979b-be43-4425-e1bf-dde8e10b1ca0"
      },
      "source": [
        "model_DO_04_Dense_256.summary()"
      ],
      "execution_count": 131,
      "outputs": [
        {
          "output_type": "stream",
          "text": [
            "Model: \"sequential_14\"\n",
            "_________________________________________________________________\n",
            "Layer (type)                 Output Shape              Param #   \n",
            "=================================================================\n",
            "conv2d_28 (Conv2D)           (None, 100, 100, 8)       80        \n",
            "_________________________________________________________________\n",
            "max_pooling2d_28 (MaxPooling (None, 50, 50, 8)         0         \n",
            "_________________________________________________________________\n",
            "conv2d_29 (Conv2D)           (None, 50, 50, 16)        1168      \n",
            "_________________________________________________________________\n",
            "max_pooling2d_29 (MaxPooling (None, 25, 25, 16)        0         \n",
            "_________________________________________________________________\n",
            "flatten_17 (Flatten)         (None, 10000)             0         \n",
            "_________________________________________________________________\n",
            "dense_35 (Dense)             (None, 256)               2560256   \n",
            "_________________________________________________________________\n",
            "dropout_14 (Dropout)         (None, 256)               0         \n",
            "_________________________________________________________________\n",
            "dense_36 (Dense)             (None, 1)                 257       \n",
            "=================================================================\n",
            "Total params: 2,561,761\n",
            "Trainable params: 2,561,761\n",
            "Non-trainable params: 0\n",
            "_________________________________________________________________\n"
          ],
          "name": "stdout"
        }
      ]
    },
    {
      "cell_type": "code",
      "metadata": {
        "id": "WoExatvWujKK",
        "colab_type": "code",
        "colab": {}
      },
      "source": [
        "model_DO_04_Dense_256.compile(\n",
        "    loss = 'binary_crossentropy',\n",
        "    optimizer = Adam(),\n",
        "    metrics = ['acc']\n",
        ")"
      ],
      "execution_count": 132,
      "outputs": []
    },
    {
      "cell_type": "code",
      "metadata": {
        "id": "d9-isKV1ujH4",
        "colab_type": "code",
        "colab": {
          "base_uri": "https://localhost:8080/",
          "height": 0
        },
        "outputId": "88059b39-0685-447e-e5bd-1681925e7db5"
      },
      "source": [
        "result_DO_04_Dense_256 = model_DO_04_Dense_256.fit(\n",
        "    x = X_train,\n",
        "    y = y_train,\n",
        "    batch_size = 32,\n",
        "    epochs = 15,\n",
        "    validation_split = 0.1,\n",
        "    verbose = 2\n",
        ")"
      ],
      "execution_count": 133,
      "outputs": [
        {
          "output_type": "stream",
          "text": [
            "Epoch 1/15\n",
            "79/79 - 1s - loss: 0.5679 - acc: 0.7196 - val_loss: 0.5368 - val_acc: 0.7607\n",
            "Epoch 2/15\n",
            "79/79 - 0s - loss: 0.4446 - acc: 0.8104 - val_loss: 0.4685 - val_acc: 0.8000\n",
            "Epoch 3/15\n",
            "79/79 - 0s - loss: 0.3986 - acc: 0.8331 - val_loss: 0.4497 - val_acc: 0.8071\n",
            "Epoch 4/15\n",
            "79/79 - 0s - loss: 0.3725 - acc: 0.8375 - val_loss: 0.4457 - val_acc: 0.8000\n",
            "Epoch 5/15\n",
            "79/79 - 0s - loss: 0.3434 - acc: 0.8515 - val_loss: 0.4202 - val_acc: 0.8107\n",
            "Epoch 6/15\n",
            "79/79 - 0s - loss: 0.3383 - acc: 0.8554 - val_loss: 0.3962 - val_acc: 0.8214\n",
            "Epoch 7/15\n",
            "79/79 - 0s - loss: 0.3229 - acc: 0.8610 - val_loss: 0.3975 - val_acc: 0.8286\n",
            "Epoch 8/15\n",
            "79/79 - 0s - loss: 0.2906 - acc: 0.8757 - val_loss: 0.3528 - val_acc: 0.8536\n",
            "Epoch 9/15\n",
            "79/79 - 0s - loss: 0.2692 - acc: 0.8857 - val_loss: 0.3825 - val_acc: 0.8464\n",
            "Epoch 10/15\n",
            "79/79 - 0s - loss: 0.2741 - acc: 0.8829 - val_loss: 0.3693 - val_acc: 0.8500\n",
            "Epoch 11/15\n",
            "79/79 - 0s - loss: 0.2518 - acc: 0.8945 - val_loss: 0.3835 - val_acc: 0.8321\n",
            "Epoch 12/15\n",
            "79/79 - 0s - loss: 0.2507 - acc: 0.8941 - val_loss: 0.3688 - val_acc: 0.8536\n",
            "Epoch 13/15\n",
            "79/79 - 0s - loss: 0.2260 - acc: 0.9028 - val_loss: 0.3707 - val_acc: 0.8500\n",
            "Epoch 14/15\n",
            "79/79 - 0s - loss: 0.2094 - acc: 0.9152 - val_loss: 0.4266 - val_acc: 0.8286\n",
            "Epoch 15/15\n",
            "79/79 - 0s - loss: 0.2058 - acc: 0.9148 - val_loss: 0.3703 - val_acc: 0.8500\n"
          ],
          "name": "stdout"
        }
      ]
    },
    {
      "cell_type": "code",
      "metadata": {
        "id": "alEGcxBrujFe",
        "colab_type": "code",
        "colab": {
          "base_uri": "https://localhost:8080/",
          "height": 0
        },
        "outputId": "a3c6d995-9f02-4d52-c7a6-44cd2f1db2f9"
      },
      "source": [
        "# Accuracy of \"model_DO_04_Dense_256\"\n",
        "plt.plot(result_DO_04_Dense_256.history['acc'])\n",
        "plt.plot(result_DO_04_Dense_256.history['val_acc'])\n",
        "plt.title('model accuracy')\n",
        "plt.ylabel('accuracy')\n",
        "plt.xlabel('epoch')\n",
        "plt.legend(['train', 'validation'], loc='upper left')\n",
        "plt.show()\n",
        "\n",
        "# Loss of \"model_DO_04_Dense_256\"\n",
        "plt.plot(result_DO_04_Dense_256.history['loss'])\n",
        "plt.plot(result_DO_04_Dense_256.history['val_loss'])\n",
        "plt.title('model loss')\n",
        "plt.ylabel('loss')\n",
        "plt.xlabel('epoch')\n",
        "plt.legend(['train', 'validation'], loc='upper left')\n",
        "plt.show()"
      ],
      "execution_count": 134,
      "outputs": [
        {
          "output_type": "display_data",
          "data": {
            "image/png": "[encoded data removed]",
            "text/plain": [
              "<Figure size 432x288 with 1 Axes>"
            ]
          },
          "metadata": {
            "tags": [],
            "needs_background": "light"
          }
        },
        {
          "output_type": "display_data",
          "data": {
            "image/png": "[encoded data removed]",
            "text/plain": [
              "<Figure size 432x288 with 1 Axes>"
            ]
          },
          "metadata": {
            "tags": [],
            "needs_background": "light"
          }
        }
      ]
    },
    {
      "cell_type": "code",
      "metadata": {
        "id": "hIx_zJbmvYWj",
        "colab_type": "code",
        "colab": {}
      },
      "source": [
        ""
      ],
      "execution_count": 134,
      "outputs": []
    },
    {
      "cell_type": "markdown",
      "metadata": {
        "colab_type": "text",
        "id": "9onglqrJvZQr"
      },
      "source": [
        "## **RGB images**"
      ]
    },
    {
      "cell_type": "code",
      "metadata": {
        "colab_type": "code",
        "id": "H_uwDgmCvZQ0",
        "colab": {}
      },
      "source": [
        "num_channels = 3"
      ],
      "execution_count": 50,
      "outputs": []
    },
    {
      "cell_type": "markdown",
      "metadata": {
        "colab_type": "text",
        "id": "VvPp2I1qvZQ_"
      },
      "source": [
        "### **model**"
      ]
    },
    {
      "cell_type": "code",
      "metadata": {
        "colab_type": "code",
        "id": "Kk-rHdZmvZRB",
        "colab": {}
      },
      "source": [
        "model = tf.keras.models.Sequential(\n",
        "    [\n",
        "     \n",
        "     Conv2D(16, (3,3), padding='same', activation='relu', input_shape=(100,100,num_channels)),\n",
        "     MaxPooling2D(2,2),\n",
        "\n",
        "     Conv2D(32, (3,3), padding='same', activation='relu'),\n",
        "     MaxPooling2D(2,2),\n",
        "\n",
        "     Flatten(),\n",
        "\n",
        "     Dense(512, activation='relu'),\n",
        "\n",
        "     Dense(1, activation='sigmoid')\n",
        "     \n",
        "    ]\n",
        ")"
      ],
      "execution_count": 51,
      "outputs": []
    },
    {
      "cell_type": "code",
      "metadata": {
        "colab_type": "code",
        "id": "F6JCDcwuvZRO",
        "colab": {
          "base_uri": "https://localhost:8080/",
          "height": 0
        },
        "outputId": "995a2901-c132-4cdd-e07a-f98979ac3fff"
      },
      "source": [
        "model.summary()"
      ],
      "execution_count": 52,
      "outputs": [
        {
          "output_type": "stream",
          "text": [
            "Model: \"sequential_5\"\n",
            "_________________________________________________________________\n",
            "Layer (type)                 Output Shape              Param #   \n",
            "=================================================================\n",
            "conv2d_10 (Conv2D)           (None, 100, 100, 16)      448       \n",
            "_________________________________________________________________\n",
            "max_pooling2d_10 (MaxPooling (None, 50, 50, 16)        0         \n",
            "_________________________________________________________________\n",
            "conv2d_11 (Conv2D)           (None, 50, 50, 32)        4640      \n",
            "_________________________________________________________________\n",
            "max_pooling2d_11 (MaxPooling (None, 25, 25, 32)        0         \n",
            "_________________________________________________________________\n",
            "flatten_5 (Flatten)          (None, 20000)             0         \n",
            "_________________________________________________________________\n",
            "dense_10 (Dense)             (None, 512)               10240512  \n",
            "_________________________________________________________________\n",
            "dense_11 (Dense)             (None, 1)                 513       \n",
            "=================================================================\n",
            "Total params: 10,246,113\n",
            "Trainable params: 10,246,113\n",
            "Non-trainable params: 0\n",
            "_________________________________________________________________\n"
          ],
          "name": "stdout"
        }
      ]
    },
    {
      "cell_type": "code",
      "metadata": {
        "colab_type": "code",
        "id": "HhJ6X4KLvZRW",
        "colab": {}
      },
      "source": [
        "model.compile(\n",
        "    loss = 'binary_crossentropy',\n",
        "    optimizer = Adam(),\n",
        "    metrics = ['acc']\n",
        ")"
      ],
      "execution_count": 53,
      "outputs": []
    },
    {
      "cell_type": "code",
      "metadata": {
        "colab_type": "code",
        "id": "4x51fomevZRd",
        "colab": {
          "base_uri": "https://localhost:8080/",
          "height": 0
        },
        "outputId": "203e6d52-cadd-4a13-eb39-cef8bd1b575c"
      },
      "source": [
        "result = model.fit(\n",
        "    x = X_train_3,\n",
        "    y = y_train_3,\n",
        "    batch_size = 32,\n",
        "    epochs = 15,\n",
        "    validation_split = 0.1,\n",
        "    verbose = 2\n",
        ")"
      ],
      "execution_count": 54,
      "outputs": [
        {
          "output_type": "stream",
          "text": [
            "Epoch 1/15\n",
            "79/79 - 1s - loss: 0.5868 - acc: 0.7236 - val_loss: 0.4244 - val_acc: 0.8179\n",
            "Epoch 2/15\n",
            "79/79 - 1s - loss: 0.4266 - acc: 0.8100 - val_loss: 0.4171 - val_acc: 0.8071\n",
            "Epoch 3/15\n",
            "79/79 - 1s - loss: 0.3847 - acc: 0.8343 - val_loss: 0.3109 - val_acc: 0.8679\n",
            "Epoch 4/15\n",
            "79/79 - 1s - loss: 0.3339 - acc: 0.8479 - val_loss: 0.3452 - val_acc: 0.8750\n",
            "Epoch 5/15\n",
            "79/79 - 1s - loss: 0.3054 - acc: 0.8706 - val_loss: 0.3297 - val_acc: 0.8607\n",
            "Epoch 6/15\n",
            "79/79 - 1s - loss: 0.2837 - acc: 0.8750 - val_loss: 0.3199 - val_acc: 0.8643\n",
            "Epoch 7/15\n",
            "79/79 - 1s - loss: 0.2364 - acc: 0.9012 - val_loss: 0.3448 - val_acc: 0.8571\n",
            "Epoch 8/15\n",
            "79/79 - 1s - loss: 0.2166 - acc: 0.9032 - val_loss: 0.2870 - val_acc: 0.8964\n",
            "Epoch 9/15\n",
            "79/79 - 1s - loss: 0.2068 - acc: 0.9148 - val_loss: 0.3571 - val_acc: 0.8536\n",
            "Epoch 10/15\n",
            "79/79 - 1s - loss: 0.1705 - acc: 0.9259 - val_loss: 0.3016 - val_acc: 0.8679\n",
            "Epoch 11/15\n",
            "79/79 - 1s - loss: 0.1538 - acc: 0.9347 - val_loss: 0.3160 - val_acc: 0.8821\n",
            "Epoch 12/15\n",
            "79/79 - 1s - loss: 0.1390 - acc: 0.9450 - val_loss: 0.3148 - val_acc: 0.8679\n",
            "Epoch 13/15\n",
            "79/79 - 1s - loss: 0.1046 - acc: 0.9558 - val_loss: 0.3577 - val_acc: 0.8714\n",
            "Epoch 14/15\n",
            "79/79 - 1s - loss: 0.0969 - acc: 0.9661 - val_loss: 0.4340 - val_acc: 0.8107\n",
            "Epoch 15/15\n",
            "79/79 - 1s - loss: 0.0830 - acc: 0.9705 - val_loss: 0.4226 - val_acc: 0.8714\n"
          ],
          "name": "stdout"
        }
      ]
    },
    {
      "cell_type": "code",
      "metadata": {
        "colab_type": "code",
        "id": "EfDX1fvFvZRl",
        "colab": {
          "base_uri": "https://localhost:8080/",
          "height": 0
        },
        "outputId": "21f71288-d925-4e6f-e99c-6477627038fd"
      },
      "source": [
        "# Plotting the accuracy of \"model\"\n",
        "plt.plot(result.history['acc'])\n",
        "plt.plot(result.history['val_acc'])\n",
        "plt.title('model accuracy')\n",
        "plt.ylabel('accuracy')\n",
        "plt.xlabel('epoch')\n",
        "plt.legend(['train', 'validation'], loc='upper left')\n",
        "plt.show()\n",
        "\n",
        "# Loss of \"model\"\n",
        "plt.plot(result.history['loss'])\n",
        "plt.plot(result.history['val_loss'])\n",
        "plt.title('model loss')\n",
        "plt.ylabel('loss')\n",
        "plt.xlabel('epoch')\n",
        "plt.legend(['train', 'validation'], loc='upper left')\n",
        "plt.show()\n"
      ],
      "execution_count": 55,
      "outputs": [
        {
          "output_type": "display_data",
          "data": {
            "image/png": "[encoded data removed]",
            "text/plain": [
              "<Figure size 432x288 with 1 Axes>"
            ]
          },
          "metadata": {
            "tags": [],
            "needs_background": "light"
          }
        },
        {
          "output_type": "display_data",
          "data": {
            "image/png": "[encoded data removed]",
            "text/plain": [
              "<Figure size 432x288 with 1 Axes>"
            ]
          },
          "metadata": {
            "tags": [],
            "needs_background": "light"
          }
        }
      ]
    },
    {
      "cell_type": "markdown",
      "metadata": {
        "colab_type": "text",
        "id": "k8lGHpvGvZRs"
      },
      "source": [
        "### **model_DO**"
      ]
    },
    {
      "cell_type": "code",
      "metadata": {
        "colab_type": "code",
        "id": "remuA_iPvZRt",
        "colab": {}
      },
      "source": [
        "model_DO = tf.keras.models.Sequential(\n",
        "    [\n",
        "     \n",
        "     Conv2D(16, (3,3), padding='same', activation='relu', input_shape=(100,100,num_channels)),\n",
        "     MaxPooling2D(2,2),\n",
        "\n",
        "     Conv2D(32, (3,3), padding='same', activation='relu'),\n",
        "     MaxPooling2D(2,2),\n",
        "\n",
        "     Flatten(),\n",
        "\n",
        "     Dense(512, activation='relu'),\n",
        "\n",
        "     Dropout(0.5),\n",
        "\n",
        "     Dense(1, activation='sigmoid')\n",
        "     \n",
        "    ]\n",
        ")"
      ],
      "execution_count": 56,
      "outputs": []
    },
    {
      "cell_type": "code",
      "metadata": {
        "colab_type": "code",
        "id": "OpVQ9JzPvZR0",
        "colab": {
          "base_uri": "https://localhost:8080/",
          "height": 0
        },
        "outputId": "ea9983d6-c4a9-4725-ce7e-6e442226dbef"
      },
      "source": [
        "model_DO.summary()"
      ],
      "execution_count": 57,
      "outputs": [
        {
          "output_type": "stream",
          "text": [
            "Model: \"sequential_6\"\n",
            "_________________________________________________________________\n",
            "Layer (type)                 Output Shape              Param #   \n",
            "=================================================================\n",
            "conv2d_12 (Conv2D)           (None, 100, 100, 16)      448       \n",
            "_________________________________________________________________\n",
            "max_pooling2d_12 (MaxPooling (None, 50, 50, 16)        0         \n",
            "_________________________________________________________________\n",
            "conv2d_13 (Conv2D)           (None, 50, 50, 32)        4640      \n",
            "_________________________________________________________________\n",
            "max_pooling2d_13 (MaxPooling (None, 25, 25, 32)        0         \n",
            "_________________________________________________________________\n",
            "flatten_6 (Flatten)          (None, 20000)             0         \n",
            "_________________________________________________________________\n",
            "dense_12 (Dense)             (None, 512)               10240512  \n",
            "_________________________________________________________________\n",
            "dropout_4 (Dropout)          (None, 512)               0         \n",
            "_________________________________________________________________\n",
            "dense_13 (Dense)             (None, 1)                 513       \n",
            "=================================================================\n",
            "Total params: 10,246,113\n",
            "Trainable params: 10,246,113\n",
            "Non-trainable params: 0\n",
            "_________________________________________________________________\n"
          ],
          "name": "stdout"
        }
      ]
    },
    {
      "cell_type": "code",
      "metadata": {
        "colab_type": "code",
        "id": "3lsBrrqrvZR9",
        "colab": {}
      },
      "source": [
        "model_DO.compile(\n",
        "    loss = 'binary_crossentropy',\n",
        "    optimizer = Adam(),\n",
        "    metrics = ['acc']\n",
        ")"
      ],
      "execution_count": 58,
      "outputs": []
    },
    {
      "cell_type": "code",
      "metadata": {
        "colab_type": "code",
        "id": "SUdQEE3FvZSF",
        "colab": {
          "base_uri": "https://localhost:8080/",
          "height": 0
        },
        "outputId": "355a074f-15be-49a4-c82d-a3529bd1f978"
      },
      "source": [
        "result_DO = model_DO.fit(\n",
        "    x = X_train_3,\n",
        "    y = y_train_3,\n",
        "    batch_size = 32,\n",
        "    epochs = 15,\n",
        "    validation_split = 0.1,\n",
        "    verbose = 2\n",
        ")"
      ],
      "execution_count": 59,
      "outputs": [
        {
          "output_type": "stream",
          "text": [
            "Epoch 1/15\n",
            "79/79 - 1s - loss: 0.6601 - acc: 0.6834 - val_loss: 0.4980 - val_acc: 0.7964\n",
            "Epoch 2/15\n",
            "79/79 - 1s - loss: 0.4758 - acc: 0.7917 - val_loss: 0.4244 - val_acc: 0.8321\n",
            "Epoch 3/15\n",
            "79/79 - 1s - loss: 0.4172 - acc: 0.8188 - val_loss: 0.3520 - val_acc: 0.8321\n",
            "Epoch 4/15\n",
            "79/79 - 1s - loss: 0.3819 - acc: 0.8343 - val_loss: 0.3248 - val_acc: 0.8786\n",
            "Epoch 5/15\n",
            "79/79 - 1s - loss: 0.3580 - acc: 0.8455 - val_loss: 0.3011 - val_acc: 0.8857\n",
            "Epoch 6/15\n",
            "79/79 - 1s - loss: 0.3369 - acc: 0.8558 - val_loss: 0.2944 - val_acc: 0.8857\n",
            "Epoch 7/15\n",
            "79/79 - 1s - loss: 0.3195 - acc: 0.8610 - val_loss: 0.2772 - val_acc: 0.8893\n",
            "Epoch 8/15\n",
            "79/79 - 1s - loss: 0.2940 - acc: 0.8726 - val_loss: 0.2843 - val_acc: 0.8821\n",
            "Epoch 9/15\n",
            "79/79 - 1s - loss: 0.2846 - acc: 0.8781 - val_loss: 0.3083 - val_acc: 0.8714\n",
            "Epoch 10/15\n",
            "79/79 - 1s - loss: 0.2655 - acc: 0.8817 - val_loss: 0.2848 - val_acc: 0.8964\n",
            "Epoch 11/15\n",
            "79/79 - 1s - loss: 0.2428 - acc: 0.8901 - val_loss: 0.2887 - val_acc: 0.8821\n",
            "Epoch 12/15\n",
            "79/79 - 1s - loss: 0.2265 - acc: 0.9088 - val_loss: 0.2544 - val_acc: 0.8929\n",
            "Epoch 13/15\n",
            "79/79 - 1s - loss: 0.2138 - acc: 0.9068 - val_loss: 0.2639 - val_acc: 0.9179\n",
            "Epoch 14/15\n",
            "79/79 - 1s - loss: 0.1948 - acc: 0.9219 - val_loss: 0.2729 - val_acc: 0.8893\n",
            "Epoch 15/15\n",
            "79/79 - 1s - loss: 0.1784 - acc: 0.9239 - val_loss: 0.2918 - val_acc: 0.8929\n"
          ],
          "name": "stdout"
        }
      ]
    },
    {
      "cell_type": "code",
      "metadata": {
        "colab_type": "code",
        "id": "vy_PaL41vZSL",
        "colab": {
          "base_uri": "https://localhost:8080/",
          "height": 0
        },
        "outputId": "095f2443-29ec-480b-cfb7-cc14a9fbf455"
      },
      "source": [
        "# Accuracy of \"model_DO\"\n",
        "plt.plot(result_DO.history['acc'])\n",
        "plt.plot(result_DO.history['val_acc'])\n",
        "plt.title('model accuracy')\n",
        "plt.ylabel('accuracy')\n",
        "plt.xlabel('epoch')\n",
        "plt.legend(['train', 'validation'], loc='upper left')\n",
        "plt.show()\n",
        "\n",
        "# Loss of \"model_DO\"\n",
        "plt.plot(result_DO.history['loss'])\n",
        "plt.plot(result_DO.history['val_loss'])\n",
        "plt.title('model loss')\n",
        "plt.ylabel('loss')\n",
        "plt.xlabel('epoch')\n",
        "plt.legend(['train', 'validation'], loc='upper left')\n",
        "plt.show()\n"
      ],
      "execution_count": 60,
      "outputs": [
        {
          "output_type": "display_data",
          "data": {
            "image/png": "[encoded data removed]",
            "text/plain": [
              "<Figure size 432x288 with 1 Axes>"
            ]
          },
          "metadata": {
            "tags": [],
            "needs_background": "light"
          }
        },
        {
          "output_type": "display_data",
          "data": {
            "image/png": "[encoded data removed]",
            "text/plain": [
              "<Figure size 432x288 with 1 Axes>"
            ]
          },
          "metadata": {
            "tags": [],
            "needs_background": "light"
          }
        }
      ]
    },
    {
      "cell_type": "markdown",
      "metadata": {
        "colab_type": "text",
        "id": "HZtytQm2vZST"
      },
      "source": [
        "### **model_DO_less**"
      ]
    },
    {
      "cell_type": "code",
      "metadata": {
        "colab_type": "code",
        "id": "mMocBKdhvZSU",
        "colab": {}
      },
      "source": [
        "model_DO_less = tf.keras.models.Sequential(\n",
        "    [\n",
        "     \n",
        "     Conv2D(8, (3,3), padding='same', activation='relu', input_shape=(100,100,num_channels)),\n",
        "     MaxPooling2D(2,2),\n",
        "\n",
        "     Conv2D(16, (3,3), padding='same', activation='relu'),\n",
        "     MaxPooling2D(2,2),\n",
        "\n",
        "     Flatten(),\n",
        "\n",
        "     Dense(128, activation='relu'),\n",
        "\n",
        "     Dropout(0.5),\n",
        "\n",
        "     Dense(1, activation='sigmoid')\n",
        "     \n",
        "    ]\n",
        ")"
      ],
      "execution_count": 61,
      "outputs": []
    },
    {
      "cell_type": "code",
      "metadata": {
        "colab_type": "code",
        "id": "YDnCxOQSvZSb",
        "colab": {
          "base_uri": "https://localhost:8080/",
          "height": 0
        },
        "outputId": "2e0b3a1d-d216-4b71-d780-4112983d2d84"
      },
      "source": [
        "model_DO_less.summary()"
      ],
      "execution_count": 62,
      "outputs": [
        {
          "output_type": "stream",
          "text": [
            "Model: \"sequential_7\"\n",
            "_________________________________________________________________\n",
            "Layer (type)                 Output Shape              Param #   \n",
            "=================================================================\n",
            "conv2d_14 (Conv2D)           (None, 100, 100, 8)       224       \n",
            "_________________________________________________________________\n",
            "max_pooling2d_14 (MaxPooling (None, 50, 50, 8)         0         \n",
            "_________________________________________________________________\n",
            "conv2d_15 (Conv2D)           (None, 50, 50, 16)        1168      \n",
            "_________________________________________________________________\n",
            "max_pooling2d_15 (MaxPooling (None, 25, 25, 16)        0         \n",
            "_________________________________________________________________\n",
            "flatten_7 (Flatten)          (None, 10000)             0         \n",
            "_________________________________________________________________\n",
            "dense_14 (Dense)             (None, 128)               1280128   \n",
            "_________________________________________________________________\n",
            "dropout_5 (Dropout)          (None, 128)               0         \n",
            "_________________________________________________________________\n",
            "dense_15 (Dense)             (None, 1)                 129       \n",
            "=================================================================\n",
            "Total params: 1,281,649\n",
            "Trainable params: 1,281,649\n",
            "Non-trainable params: 0\n",
            "_________________________________________________________________\n"
          ],
          "name": "stdout"
        }
      ]
    },
    {
      "cell_type": "code",
      "metadata": {
        "colab_type": "code",
        "id": "jDCU4RDjvZSh",
        "colab": {}
      },
      "source": [
        "model_DO_less.compile(\n",
        "    loss = 'binary_crossentropy',\n",
        "    optimizer = Adam(),\n",
        "    metrics = ['acc']\n",
        ")"
      ],
      "execution_count": 63,
      "outputs": []
    },
    {
      "cell_type": "code",
      "metadata": {
        "colab_type": "code",
        "id": "F22uWPMZvZSo",
        "colab": {
          "base_uri": "https://localhost:8080/",
          "height": 0
        },
        "outputId": "6e1c16e5-a015-4571-a692-0c816940d6ed"
      },
      "source": [
        "result_DO_less = model_DO_less.fit(\n",
        "    x = X_train_3,\n",
        "    y = y_train_3,\n",
        "    batch_size = 32,\n",
        "    epochs = 15,\n",
        "    validation_split = 0.1,\n",
        "    verbose = 2\n",
        ")"
      ],
      "execution_count": 64,
      "outputs": [
        {
          "output_type": "stream",
          "text": [
            "Epoch 1/15\n",
            "79/79 - 1s - loss: 0.6910 - acc: 0.6065 - val_loss: 0.5723 - val_acc: 0.7464\n",
            "Epoch 2/15\n",
            "79/79 - 0s - loss: 0.5734 - acc: 0.7288 - val_loss: 0.5090 - val_acc: 0.7821\n",
            "Epoch 3/15\n",
            "79/79 - 0s - loss: 0.5090 - acc: 0.7583 - val_loss: 0.4460 - val_acc: 0.8250\n",
            "Epoch 4/15\n",
            "79/79 - 0s - loss: 0.4681 - acc: 0.7997 - val_loss: 0.4321 - val_acc: 0.8286\n",
            "Epoch 5/15\n",
            "79/79 - 0s - loss: 0.4368 - acc: 0.8061 - val_loss: 0.4288 - val_acc: 0.8071\n",
            "Epoch 6/15\n",
            "79/79 - 0s - loss: 0.4093 - acc: 0.8172 - val_loss: 0.3566 - val_acc: 0.8643\n",
            "Epoch 7/15\n",
            "79/79 - 0s - loss: 0.3902 - acc: 0.8395 - val_loss: 0.3344 - val_acc: 0.8643\n",
            "Epoch 8/15\n",
            "79/79 - 0s - loss: 0.3658 - acc: 0.8471 - val_loss: 0.3316 - val_acc: 0.8607\n",
            "Epoch 9/15\n",
            "79/79 - 0s - loss: 0.3569 - acc: 0.8463 - val_loss: 0.3251 - val_acc: 0.8857\n",
            "Epoch 10/15\n",
            "79/79 - 0s - loss: 0.3531 - acc: 0.8487 - val_loss: 0.3090 - val_acc: 0.8714\n",
            "Epoch 11/15\n",
            "79/79 - 0s - loss: 0.3337 - acc: 0.8479 - val_loss: 0.3065 - val_acc: 0.8786\n",
            "Epoch 12/15\n",
            "79/79 - 0s - loss: 0.3393 - acc: 0.8459 - val_loss: 0.2955 - val_acc: 0.8750\n",
            "Epoch 13/15\n",
            "79/79 - 0s - loss: 0.3093 - acc: 0.8606 - val_loss: 0.2871 - val_acc: 0.8821\n",
            "Epoch 14/15\n",
            "79/79 - 0s - loss: 0.2974 - acc: 0.8698 - val_loss: 0.3291 - val_acc: 0.8500\n",
            "Epoch 15/15\n",
            "79/79 - 0s - loss: 0.2946 - acc: 0.8710 - val_loss: 0.2781 - val_acc: 0.8821\n"
          ],
          "name": "stdout"
        }
      ]
    },
    {
      "cell_type": "code",
      "metadata": {
        "colab_type": "code",
        "id": "pEXuGuYNvZSx",
        "colab": {
          "base_uri": "https://localhost:8080/",
          "height": 0
        },
        "outputId": "533dd229-bb5a-4f42-b802-9d29a4e8c01b"
      },
      "source": [
        "# Accuracy of \"model_DO_less\"\n",
        "plt.plot(result_DO_less.history['acc'])\n",
        "plt.plot(result_DO_less.history['val_acc'])\n",
        "plt.title('model accuracy')\n",
        "plt.ylabel('accuracy')\n",
        "plt.xlabel('epoch')\n",
        "plt.legend(['train', 'validation'], loc='upper left')\n",
        "plt.show()\n",
        "\n",
        "# Loss of \"model_DO_less\"\n",
        "plt.plot(result_DO_less.history['loss'])\n",
        "plt.plot(result_DO_less.history['val_loss'])\n",
        "plt.title('model loss')\n",
        "plt.ylabel('loss')\n",
        "plt.xlabel('epoch')\n",
        "plt.legend(['train', 'validation'], loc='upper left')\n",
        "plt.show()\n"
      ],
      "execution_count": 65,
      "outputs": [
        {
          "output_type": "display_data",
          "data": {
            "image/png": "[encoded data removed]",
            "text/plain": [
              "<Figure size 432x288 with 1 Axes>"
            ]
          },
          "metadata": {
            "tags": [],
            "needs_background": "light"
          }
        },
        {
          "output_type": "display_data",
          "data": {
            "image/png": "[encoded data removed]",
            "text/plain": [
              "<Figure size 432x288 with 1 Axes>"
            ]
          },
          "metadata": {
            "tags": [],
            "needs_background": "light"
          }
        }
      ]
    },
    {
      "cell_type": "markdown",
      "metadata": {
        "colab_type": "text",
        "id": "AzRQmWYNvZS4"
      },
      "source": [
        "### **model_DO_06_Dense_128**"
      ]
    },
    {
      "cell_type": "code",
      "metadata": {
        "colab_type": "code",
        "id": "crX91COevZS5",
        "colab": {}
      },
      "source": [
        "model_DO_06_Dense_128 = tf.keras.models.Sequential(\n",
        "    [\n",
        "     \n",
        "     Conv2D(8, (3,3), padding='same', activation='relu', input_shape=(100,100,num_channels)),\n",
        "     MaxPooling2D(2,2),\n",
        "\n",
        "     Conv2D(16, (3,3), padding='same', activation='relu'),\n",
        "     MaxPooling2D(2,2),\n",
        "\n",
        "     Flatten(),\n",
        "\n",
        "     Dense(128, activation='relu'),\n",
        "\n",
        "     Dropout(0.6),\n",
        "\n",
        "     Dense(1, activation='sigmoid')\n",
        "     \n",
        "    ]\n",
        ")"
      ],
      "execution_count": 66,
      "outputs": []
    },
    {
      "cell_type": "code",
      "metadata": {
        "colab_type": "code",
        "id": "DHf9HeIsvZTA",
        "colab": {
          "base_uri": "https://localhost:8080/",
          "height": 0
        },
        "outputId": "9df22a37-e961-4b56-f33c-17402b385fcc"
      },
      "source": [
        "model_DO_06_Dense_128.summary()"
      ],
      "execution_count": 67,
      "outputs": [
        {
          "output_type": "stream",
          "text": [
            "Model: \"sequential_8\"\n",
            "_________________________________________________________________\n",
            "Layer (type)                 Output Shape              Param #   \n",
            "=================================================================\n",
            "conv2d_16 (Conv2D)           (None, 100, 100, 8)       224       \n",
            "_________________________________________________________________\n",
            "max_pooling2d_16 (MaxPooling (None, 50, 50, 8)         0         \n",
            "_________________________________________________________________\n",
            "conv2d_17 (Conv2D)           (None, 50, 50, 16)        1168      \n",
            "_________________________________________________________________\n",
            "max_pooling2d_17 (MaxPooling (None, 25, 25, 16)        0         \n",
            "_________________________________________________________________\n",
            "flatten_8 (Flatten)          (None, 10000)             0         \n",
            "_________________________________________________________________\n",
            "dense_16 (Dense)             (None, 128)               1280128   \n",
            "_________________________________________________________________\n",
            "dropout_6 (Dropout)          (None, 128)               0         \n",
            "_________________________________________________________________\n",
            "dense_17 (Dense)             (None, 1)                 129       \n",
            "=================================================================\n",
            "Total params: 1,281,649\n",
            "Trainable params: 1,281,649\n",
            "Non-trainable params: 0\n",
            "_________________________________________________________________\n"
          ],
          "name": "stdout"
        }
      ]
    },
    {
      "cell_type": "code",
      "metadata": {
        "colab_type": "code",
        "id": "pnC0TVGevZTI",
        "colab": {}
      },
      "source": [
        "model_DO_06_Dense_128.compile(\n",
        "    loss = 'binary_crossentropy',\n",
        "    optimizer = Adam(),\n",
        "    metrics = ['acc']\n",
        ")"
      ],
      "execution_count": 68,
      "outputs": []
    },
    {
      "cell_type": "code",
      "metadata": {
        "colab_type": "code",
        "id": "NTvgzAuVvZTP",
        "colab": {
          "base_uri": "https://localhost:8080/",
          "height": 0
        },
        "outputId": "bd4f4c23-2354-4e48-dfd1-0e6399f9ad67"
      },
      "source": [
        "result_DO_06_Dense_128 = model_DO_06_Dense_128.fit(\n",
        "    x = X_train_3,\n",
        "    y = y_train_3,\n",
        "    batch_size = 32,\n",
        "    epochs = 15,\n",
        "    validation_split = 0.1,\n",
        "    verbose = 2\n",
        ")"
      ],
      "execution_count": 69,
      "outputs": [
        {
          "output_type": "stream",
          "text": [
            "Epoch 1/15\n",
            "79/79 - 1s - loss: 0.6771 - acc: 0.6221 - val_loss: 0.5743 - val_acc: 0.7071\n",
            "Epoch 2/15\n",
            "79/79 - 0s - loss: 0.5551 - acc: 0.7336 - val_loss: 0.5012 - val_acc: 0.7714\n",
            "Epoch 3/15\n",
            "79/79 - 0s - loss: 0.4991 - acc: 0.7786 - val_loss: 0.4327 - val_acc: 0.8071\n",
            "Epoch 4/15\n",
            "79/79 - 0s - loss: 0.4540 - acc: 0.8037 - val_loss: 0.3886 - val_acc: 0.8429\n",
            "Epoch 5/15\n",
            "79/79 - 0s - loss: 0.4300 - acc: 0.8100 - val_loss: 0.3840 - val_acc: 0.8429\n",
            "Epoch 6/15\n",
            "79/79 - 0s - loss: 0.3911 - acc: 0.8264 - val_loss: 0.3376 - val_acc: 0.8714\n",
            "Epoch 7/15\n",
            "79/79 - 0s - loss: 0.3842 - acc: 0.8347 - val_loss: 0.3284 - val_acc: 0.8714\n",
            "Epoch 8/15\n",
            "79/79 - 0s - loss: 0.3478 - acc: 0.8411 - val_loss: 0.3126 - val_acc: 0.8643\n",
            "Epoch 9/15\n",
            "79/79 - 0s - loss: 0.3499 - acc: 0.8483 - val_loss: 0.3103 - val_acc: 0.8714\n",
            "Epoch 10/15\n",
            "79/79 - 0s - loss: 0.3291 - acc: 0.8598 - val_loss: 0.2875 - val_acc: 0.8786\n",
            "Epoch 11/15\n",
            "79/79 - 0s - loss: 0.3380 - acc: 0.8530 - val_loss: 0.3097 - val_acc: 0.8893\n",
            "Epoch 12/15\n",
            "79/79 - 0s - loss: 0.3069 - acc: 0.8650 - val_loss: 0.3048 - val_acc: 0.8500\n",
            "Epoch 13/15\n",
            "79/79 - 0s - loss: 0.2960 - acc: 0.8714 - val_loss: 0.2739 - val_acc: 0.8857\n",
            "Epoch 14/15\n",
            "79/79 - 0s - loss: 0.2875 - acc: 0.8658 - val_loss: 0.2981 - val_acc: 0.8643\n",
            "Epoch 15/15\n",
            "79/79 - 0s - loss: 0.2783 - acc: 0.8769 - val_loss: 0.2541 - val_acc: 0.8964\n"
          ],
          "name": "stdout"
        }
      ]
    },
    {
      "cell_type": "code",
      "metadata": {
        "colab_type": "code",
        "id": "B2ufM9qxvZTX",
        "colab": {
          "base_uri": "https://localhost:8080/",
          "height": 0
        },
        "outputId": "0b25f11f-587d-42a1-aeef-842c4c07474d"
      },
      "source": [
        "# Accuracy of \"model_DO_06_Dense_128\"\n",
        "plt.plot(result_DO_06_Dense_128.history['acc'])\n",
        "plt.plot(result_DO_06_Dense_128.history['val_acc'])\n",
        "plt.title('model accuracy')\n",
        "plt.ylabel('accuracy')\n",
        "plt.legend(['train', 'validation'], loc='upper left')\n",
        "plt.show()\n",
        "plt.xlabel('epoch')\n",
        "\n",
        "# Loss of \"model_DO_06_Dense_128\"\n",
        "plt.plot(result_DO_06_Dense_128.history['loss'])\n",
        "plt.plot(result_DO_06_Dense_128.history['val_loss'])\n",
        "plt.title('model loss')\n",
        "plt.ylabel('loss')\n",
        "plt.xlabel('epoch')\n",
        "plt.legend(['train', 'validation'], loc='upper left')\n",
        "plt.show()\n"
      ],
      "execution_count": 70,
      "outputs": [
        {
          "output_type": "display_data",
          "data": {
            "image/png": "[encoded data removed]",
            "text/plain": [
              "<Figure size 432x288 with 1 Axes>"
            ]
          },
          "metadata": {
            "tags": [],
            "needs_background": "light"
          }
        },
        {
          "output_type": "display_data",
          "data": {
            "image/png": "[encoded data removed]",
            "text/plain": [
              "<Figure size 432x288 with 1 Axes>"
            ]
          },
          "metadata": {
            "tags": [],
            "needs_background": "light"
          }
        }
      ]
    },
    {
      "cell_type": "markdown",
      "metadata": {
        "colab_type": "text",
        "id": "zF_bS5rZvZTd"
      },
      "source": [
        "### **model_DO_04_Dense_256**"
      ]
    },
    {
      "cell_type": "code",
      "metadata": {
        "colab_type": "code",
        "id": "RMTHqzJRvZTg",
        "colab": {}
      },
      "source": [
        "model_DO_04_Dense_256 = tf.keras.models.Sequential(\n",
        "    [\n",
        "     \n",
        "     Conv2D(8, (3,3), padding='same', activation='relu', input_shape=(100,100,num_channels)),\n",
        "     MaxPooling2D(2,2),\n",
        "\n",
        "     Conv2D(16, (3,3), padding='same', activation='relu'),\n",
        "     MaxPooling2D(2,2),\n",
        "\n",
        "     Flatten(),\n",
        "\n",
        "     Dense(256, activation='relu'),\n",
        "\n",
        "     Dropout(0.4),\n",
        "\n",
        "     Dense(1, activation='sigmoid')\n",
        "     \n",
        "    ]\n",
        ")"
      ],
      "execution_count": 71,
      "outputs": []
    },
    {
      "cell_type": "code",
      "metadata": {
        "colab_type": "code",
        "id": "V1oKjMlbvZTm",
        "colab": {
          "base_uri": "https://localhost:8080/",
          "height": 0
        },
        "outputId": "9bf7ffbe-c425-4779-9ade-4da308f3d1ba"
      },
      "source": [
        "model_DO_04_Dense_256.summary()"
      ],
      "execution_count": 72,
      "outputs": [
        {
          "output_type": "stream",
          "text": [
            "Model: \"sequential_9\"\n",
            "_________________________________________________________________\n",
            "Layer (type)                 Output Shape              Param #   \n",
            "=================================================================\n",
            "conv2d_18 (Conv2D)           (None, 100, 100, 8)       224       \n",
            "_________________________________________________________________\n",
            "max_pooling2d_18 (MaxPooling (None, 50, 50, 8)         0         \n",
            "_________________________________________________________________\n",
            "conv2d_19 (Conv2D)           (None, 50, 50, 16)        1168      \n",
            "_________________________________________________________________\n",
            "max_pooling2d_19 (MaxPooling (None, 25, 25, 16)        0         \n",
            "_________________________________________________________________\n",
            "flatten_9 (Flatten)          (None, 10000)             0         \n",
            "_________________________________________________________________\n",
            "dense_18 (Dense)             (None, 256)               2560256   \n",
            "_________________________________________________________________\n",
            "dropout_7 (Dropout)          (None, 256)               0         \n",
            "_________________________________________________________________\n",
            "dense_19 (Dense)             (None, 1)                 257       \n",
            "=================================================================\n",
            "Total params: 2,561,905\n",
            "Trainable params: 2,561,905\n",
            "Non-trainable params: 0\n",
            "_________________________________________________________________\n"
          ],
          "name": "stdout"
        }
      ]
    },
    {
      "cell_type": "code",
      "metadata": {
        "colab_type": "code",
        "id": "7Id3XgQhvZTt",
        "colab": {}
      },
      "source": [
        "model_DO_04_Dense_256.compile(\n",
        "    loss = 'binary_crossentropy',\n",
        "    optimizer = Adam(),\n",
        "    metrics = ['acc']\n",
        ")"
      ],
      "execution_count": 73,
      "outputs": []
    },
    {
      "cell_type": "code",
      "metadata": {
        "colab_type": "code",
        "id": "9zCgCOIBvZTz",
        "colab": {
          "base_uri": "https://localhost:8080/",
          "height": 0
        },
        "outputId": "aa6d547e-eba9-4271-abfc-020a2905f2e9"
      },
      "source": [
        "result_DO_04_Dense_256 = model_DO_04_Dense_256.fit(\n",
        "    x = X_train_3,\n",
        "    y = y_train_3,\n",
        "    batch_size = 32,\n",
        "    epochs = 15,\n",
        "    validation_split = 0.1,\n",
        "    verbose = 2\n",
        ")"
      ],
      "execution_count": 74,
      "outputs": [
        {
          "output_type": "stream",
          "text": [
            "Epoch 1/15\n",
            "79/79 - 1s - loss: 0.6111 - acc: 0.6858 - val_loss: 0.4937 - val_acc: 0.8107\n",
            "Epoch 2/15\n",
            "79/79 - 0s - loss: 0.4745 - acc: 0.7925 - val_loss: 0.4336 - val_acc: 0.8179\n",
            "Epoch 3/15\n",
            "79/79 - 0s - loss: 0.4273 - acc: 0.8128 - val_loss: 0.3714 - val_acc: 0.8393\n",
            "Epoch 4/15\n",
            "79/79 - 0s - loss: 0.3919 - acc: 0.8264 - val_loss: 0.3394 - val_acc: 0.8500\n",
            "Epoch 5/15\n",
            "79/79 - 1s - loss: 0.3594 - acc: 0.8371 - val_loss: 0.3719 - val_acc: 0.8571\n",
            "Epoch 6/15\n",
            "79/79 - 0s - loss: 0.3353 - acc: 0.8487 - val_loss: 0.3455 - val_acc: 0.8679\n",
            "Epoch 7/15\n",
            "79/79 - 0s - loss: 0.3272 - acc: 0.8526 - val_loss: 0.3227 - val_acc: 0.8607\n",
            "Epoch 8/15\n",
            "79/79 - 0s - loss: 0.2957 - acc: 0.8630 - val_loss: 0.3419 - val_acc: 0.8429\n",
            "Epoch 9/15\n",
            "79/79 - 0s - loss: 0.3008 - acc: 0.8650 - val_loss: 0.3154 - val_acc: 0.8714\n",
            "Epoch 10/15\n",
            "79/79 - 0s - loss: 0.2608 - acc: 0.8921 - val_loss: 0.2981 - val_acc: 0.8893\n",
            "Epoch 11/15\n",
            "79/79 - 0s - loss: 0.2532 - acc: 0.8984 - val_loss: 0.3214 - val_acc: 0.8714\n",
            "Epoch 12/15\n",
            "79/79 - 0s - loss: 0.2142 - acc: 0.9120 - val_loss: 0.3001 - val_acc: 0.8821\n",
            "Epoch 13/15\n",
            "79/79 - 0s - loss: 0.2051 - acc: 0.9152 - val_loss: 0.3029 - val_acc: 0.8821\n",
            "Epoch 14/15\n",
            "79/79 - 0s - loss: 0.1904 - acc: 0.9239 - val_loss: 0.3375 - val_acc: 0.8679\n",
            "Epoch 15/15\n",
            "79/79 - 0s - loss: 0.1741 - acc: 0.9247 - val_loss: 0.3242 - val_acc: 0.8607\n"
          ],
          "name": "stdout"
        }
      ]
    },
    {
      "cell_type": "code",
      "metadata": {
        "colab_type": "code",
        "id": "QOCG9WH_vZT9",
        "colab": {
          "base_uri": "https://localhost:8080/",
          "height": 0
        },
        "outputId": "03475c6e-b4d4-456a-e0d0-e677f70ca6ed"
      },
      "source": [
        "# Accuracy of \"model_DO_04_Dense_256\"\n",
        "plt.plot(result_DO_04_Dense_256.history['acc'])\n",
        "plt.plot(result_DO_04_Dense_256.history['val_acc'])\n",
        "plt.title('model accuracy')\n",
        "plt.ylabel('accuracy')\n",
        "plt.xlabel('epoch')\n",
        "plt.legend(['train', 'validation'], loc='upper left')\n",
        "plt.show()\n",
        "\n",
        "# Loss of \"model_DO_04_Dense_256\"\n",
        "plt.plot(result_DO_04_Dense_256.history['loss'])\n",
        "plt.plot(result_DO_04_Dense_256.history['val_loss'])\n",
        "plt.title('model loss')\n",
        "plt.ylabel('loss')\n",
        "plt.xlabel('epoch')\n",
        "plt.legend(['train', 'validation'], loc='upper left')\n",
        "plt.show()"
      ],
      "execution_count": 75,
      "outputs": [
        {
          "output_type": "display_data",
          "data": {
            "image/png": "[encoded data removed]",
            "text/plain": [
              "<Figure size 432x288 with 1 Axes>"
            ]
          },
          "metadata": {
            "tags": [],
            "needs_background": "light"
          }
        },
        {
          "output_type": "display_data",
          "data": {
            "image/png": "[encoded data removed]",
            "text/plain": [
              "<Figure size 432x288 with 1 Axes>"
            ]
          },
          "metadata": {
            "tags": [],
            "needs_background": "light"
          }
        }
      ]
    },
    {
      "cell_type": "markdown",
      "metadata": {
        "id": "0hSfKKfWjQbt",
        "colab_type": "text"
      },
      "source": [
        "### **model_vgg**"
      ]
    },
    {
      "cell_type": "markdown",
      "metadata": {
        "id": "9Ho2GojJSx7F",
        "colab_type": "text"
      },
      "source": [
        "#### **vgg without dropout**"
      ]
    },
    {
      "cell_type": "code",
      "metadata": {
        "id": "qxWWNTayjQFl",
        "colab_type": "code",
        "colab": {
          "base_uri": "https://localhost:8080/",
          "height": 0
        },
        "outputId": "27aee396-2ef4-4ce2-867b-91d8ab286e67"
      },
      "source": [
        "vgg = VGG16(\n",
        "    include_top=False, \n",
        "    weights='imagenet', \n",
        "    input_shape=(100, 100, 3)\n",
        "    )\n",
        "# vgg.trainable = False\n",
        "\n",
        "for layer in vgg.layers:\n",
        "  layer.trainable = False"
      ],
      "execution_count": 76,
      "outputs": [
        {
          "output_type": "stream",
          "text": [
            "Downloading data from https://storage.googleapis.com/tensorflow/keras-applications/vgg16/vgg16_weights_tf_dim_ordering_tf_kernels_notop.h5\n",
            "58892288/58889256 [==============================] - 0s 0us/step\n"
          ],
          "name": "stdout"
        }
      ]
    },
    {
      "cell_type": "code",
      "metadata": {
        "id": "vLoQB6uvqBNP",
        "colab_type": "code",
        "colab": {
          "base_uri": "https://localhost:8080/",
          "height": 0
        },
        "outputId": "2e48ae7d-c647-4752-ad77-b9898249bb91"
      },
      "source": [
        "vgg.summary()"
      ],
      "execution_count": 77,
      "outputs": [
        {
          "output_type": "stream",
          "text": [
            "Model: \"vgg16\"\n",
            "_________________________________________________________________\n",
            "Layer (type)                 Output Shape              Param #   \n",
            "=================================================================\n",
            "input_1 (InputLayer)         [(None, 100, 100, 3)]     0         \n",
            "_________________________________________________________________\n",
            "block1_conv1 (Conv2D)        (None, 100, 100, 64)      1792      \n",
            "_________________________________________________________________\n",
            "block1_conv2 (Conv2D)        (None, 100, 100, 64)      36928     \n",
            "_________________________________________________________________\n",
            "block1_pool (MaxPooling2D)   (None, 50, 50, 64)        0         \n",
            "_________________________________________________________________\n",
            "block2_conv1 (Conv2D)        (None, 50, 50, 128)       73856     \n",
            "_________________________________________________________________\n",
            "block2_conv2 (Conv2D)        (None, 50, 50, 128)       147584    \n",
            "_________________________________________________________________\n",
            "block2_pool (MaxPooling2D)   (None, 25, 25, 128)       0         \n",
            "_________________________________________________________________\n",
            "block3_conv1 (Conv2D)        (None, 25, 25, 256)       295168    \n",
            "_________________________________________________________________\n",
            "block3_conv2 (Conv2D)        (None, 25, 25, 256)       590080    \n",
            "_________________________________________________________________\n",
            "block3_conv3 (Conv2D)        (None, 25, 25, 256)       590080    \n",
            "_________________________________________________________________\n",
            "block3_pool (MaxPooling2D)   (None, 12, 12, 256)       0         \n",
            "_________________________________________________________________\n",
            "block4_conv1 (Conv2D)        (None, 12, 12, 512)       1180160   \n",
            "_________________________________________________________________\n",
            "block4_conv2 (Conv2D)        (None, 12, 12, 512)       2359808   \n",
            "_________________________________________________________________\n",
            "block4_conv3 (Conv2D)        (None, 12, 12, 512)       2359808   \n",
            "_________________________________________________________________\n",
            "block4_pool (MaxPooling2D)   (None, 6, 6, 512)         0         \n",
            "_________________________________________________________________\n",
            "block5_conv1 (Conv2D)        (None, 6, 6, 512)         2359808   \n",
            "_________________________________________________________________\n",
            "block5_conv2 (Conv2D)        (None, 6, 6, 512)         2359808   \n",
            "_________________________________________________________________\n",
            "block5_conv3 (Conv2D)        (None, 6, 6, 512)         2359808   \n",
            "_________________________________________________________________\n",
            "block5_pool (MaxPooling2D)   (None, 3, 3, 512)         0         \n",
            "=================================================================\n",
            "Total params: 14,714,688\n",
            "Trainable params: 0\n",
            "Non-trainable params: 14,714,688\n",
            "_________________________________________________________________\n"
          ],
          "name": "stdout"
        }
      ]
    },
    {
      "cell_type": "code",
      "metadata": {
        "id": "LPWkTX9iLLXK",
        "colab_type": "code",
        "colab": {
          "base_uri": "https://localhost:8080/",
          "height": 0
        },
        "outputId": "fa213d50-c370-4ec2-8956-00c7d92d1251"
      },
      "source": [
        "last_layer = vgg.get_layer('block4_pool')\n",
        "print('last layer output shape: ', last_layer.output_shape)\n",
        "last_output = last_layer.output"
      ],
      "execution_count": 78,
      "outputs": [
        {
          "output_type": "stream",
          "text": [
            "last layer output shape:  (None, 6, 6, 512)\n"
          ],
          "name": "stdout"
        }
      ]
    },
    {
      "cell_type": "code",
      "metadata": {
        "id": "C9OFLfidqANB",
        "colab_type": "code",
        "colab": {}
      },
      "source": [
        "x = Flatten()(last_output)\n",
        "\n",
        "x = Dense(256, activation='relu')(x)\n",
        "#x = Dense(256, activation='relu')(x)\n",
        "\n",
        "x = Dense(1, activation='sigmoid')(x)\n",
        "\n",
        "model_vgg = Model(vgg.input, outputs=x)\n"
      ],
      "execution_count": 79,
      "outputs": []
    },
    {
      "cell_type": "code",
      "metadata": {
        "id": "mNBRik-26VzU",
        "colab_type": "code",
        "colab": {
          "base_uri": "https://localhost:8080/",
          "height": 0
        },
        "outputId": "fe564b2d-d975-4ea2-ef1a-ae78d8fb9294"
      },
      "source": [
        "model_vgg.summary()"
      ],
      "execution_count": 80,
      "outputs": [
        {
          "output_type": "stream",
          "text": [
            "Model: \"functional_1\"\n",
            "_________________________________________________________________\n",
            "Layer (type)                 Output Shape              Param #   \n",
            "=================================================================\n",
            "input_1 (InputLayer)         [(None, 100, 100, 3)]     0         \n",
            "_________________________________________________________________\n",
            "block1_conv1 (Conv2D)        (None, 100, 100, 64)      1792      \n",
            "_________________________________________________________________\n",
            "block1_conv2 (Conv2D)        (None, 100, 100, 64)      36928     \n",
            "_________________________________________________________________\n",
            "block1_pool (MaxPooling2D)   (None, 50, 50, 64)        0         \n",
            "_________________________________________________________________\n",
            "block2_conv1 (Conv2D)        (None, 50, 50, 128)       73856     \n",
            "_________________________________________________________________\n",
            "block2_conv2 (Conv2D)        (None, 50, 50, 128)       147584    \n",
            "_________________________________________________________________\n",
            "block2_pool (MaxPooling2D)   (None, 25, 25, 128)       0         \n",
            "_________________________________________________________________\n",
            "block3_conv1 (Conv2D)        (None, 25, 25, 256)       295168    \n",
            "_________________________________________________________________\n",
            "block3_conv2 (Conv2D)        (None, 25, 25, 256)       590080    \n",
            "_________________________________________________________________\n",
            "block3_conv3 (Conv2D)        (None, 25, 25, 256)       590080    \n",
            "_________________________________________________________________\n",
            "block3_pool (MaxPooling2D)   (None, 12, 12, 256)       0         \n",
            "_________________________________________________________________\n",
            "block4_conv1 (Conv2D)        (None, 12, 12, 512)       1180160   \n",
            "_________________________________________________________________\n",
            "block4_conv2 (Conv2D)        (None, 12, 12, 512)       2359808   \n",
            "_________________________________________________________________\n",
            "block4_conv3 (Conv2D)        (None, 12, 12, 512)       2359808   \n",
            "_________________________________________________________________\n",
            "block4_pool (MaxPooling2D)   (None, 6, 6, 512)         0         \n",
            "_________________________________________________________________\n",
            "flatten_10 (Flatten)         (None, 18432)             0         \n",
            "_________________________________________________________________\n",
            "dense_20 (Dense)             (None, 256)               4718848   \n",
            "_________________________________________________________________\n",
            "dense_21 (Dense)             (None, 1)                 257       \n",
            "=================================================================\n",
            "Total params: 12,354,369\n",
            "Trainable params: 4,719,105\n",
            "Non-trainable params: 7,635,264\n",
            "_________________________________________________________________\n"
          ],
          "name": "stdout"
        }
      ]
    },
    {
      "cell_type": "code",
      "metadata": {
        "id": "oSX3G7ekrLiX",
        "colab_type": "code",
        "colab": {}
      },
      "source": [
        "model_vgg.compile(\n",
        "    loss = 'binary_crossentropy',\n",
        "    optimizer = Adam(),\n",
        "    metrics = ['acc']\n",
        ")"
      ],
      "execution_count": 81,
      "outputs": []
    },
    {
      "cell_type": "code",
      "metadata": {
        "id": "wjv-3VKi3IpY",
        "colab_type": "code",
        "colab": {
          "base_uri": "https://localhost:8080/",
          "height": 0
        },
        "outputId": "ccf3b2c9-9de5-4b25-fa41-8b05f9404281"
      },
      "source": [
        "tf.test.gpu_device_name()"
      ],
      "execution_count": 82,
      "outputs": [
        {
          "output_type": "execute_result",
          "data": {
            "application/vnd.google.colaboratory.intrinsic+json": {
              "type": "string"
            },
            "text/plain": [
              "'/device:GPU:0'"
            ]
          },
          "metadata": {
            "tags": []
          },
          "execution_count": 82
        }
      ]
    },
    {
      "cell_type": "code",
      "metadata": {
        "id": "PhkffWXUqwFX",
        "colab_type": "code",
        "colab": {
          "base_uri": "https://localhost:8080/",
          "height": 0
        },
        "outputId": "d7b0739e-1dce-48d5-c4a2-f654cc845316"
      },
      "source": [
        "result_model_vgg = model_vgg.fit(\n",
        "    x = X_train_3,\n",
        "    y = y_train_3,\n",
        "    batch_size = 32,\n",
        "    epochs = 15,\n",
        "    validation_split = 0.1,\n",
        "    verbose = 2\n",
        ")"
      ],
      "execution_count": 83,
      "outputs": [
        {
          "output_type": "stream",
          "text": [
            "Epoch 1/15\n",
            "79/79 - 3s - loss: 1.6266 - acc: 0.7264 - val_loss: 0.3836 - val_acc: 0.8429\n",
            "Epoch 2/15\n",
            "79/79 - 2s - loss: 0.3263 - acc: 0.8602 - val_loss: 0.4276 - val_acc: 0.8107\n",
            "Epoch 3/15\n",
            "79/79 - 2s - loss: 0.2521 - acc: 0.8957 - val_loss: 0.2915 - val_acc: 0.8964\n",
            "Epoch 4/15\n",
            "79/79 - 2s - loss: 0.1756 - acc: 0.9371 - val_loss: 0.3232 - val_acc: 0.8607\n",
            "Epoch 5/15\n",
            "79/79 - 2s - loss: 0.1186 - acc: 0.9654 - val_loss: 0.2433 - val_acc: 0.9071\n",
            "Epoch 6/15\n",
            "79/79 - 3s - loss: 0.0881 - acc: 0.9781 - val_loss: 0.2183 - val_acc: 0.9214\n",
            "Epoch 7/15\n",
            "79/79 - 3s - loss: 0.0603 - acc: 0.9908 - val_loss: 0.2397 - val_acc: 0.9286\n",
            "Epoch 8/15\n",
            "79/79 - 3s - loss: 0.0527 - acc: 0.9892 - val_loss: 0.2049 - val_acc: 0.9250\n",
            "Epoch 9/15\n",
            "79/79 - 3s - loss: 0.0394 - acc: 0.9928 - val_loss: 0.2096 - val_acc: 0.9214\n",
            "Epoch 10/15\n",
            "79/79 - 3s - loss: 0.0292 - acc: 0.9968 - val_loss: 0.2265 - val_acc: 0.9321\n",
            "Epoch 11/15\n",
            "79/79 - 3s - loss: 0.0171 - acc: 0.9996 - val_loss: 0.2334 - val_acc: 0.9143\n",
            "Epoch 12/15\n",
            "79/79 - 3s - loss: 0.0127 - acc: 1.0000 - val_loss: 0.2282 - val_acc: 0.9179\n",
            "Epoch 13/15\n",
            "79/79 - 3s - loss: 0.0132 - acc: 0.9996 - val_loss: 0.2404 - val_acc: 0.9321\n",
            "Epoch 14/15\n",
            "79/79 - 3s - loss: 0.0080 - acc: 1.0000 - val_loss: 0.2227 - val_acc: 0.9214\n",
            "Epoch 15/15\n",
            "79/79 - 3s - loss: 0.0061 - acc: 1.0000 - val_loss: 0.2634 - val_acc: 0.9214\n"
          ],
          "name": "stdout"
        }
      ]
    },
    {
      "cell_type": "code",
      "metadata": {
        "id": "zM8kzHgesBV9",
        "colab_type": "code",
        "colab": {
          "base_uri": "https://localhost:8080/",
          "height": 0
        },
        "outputId": "0c1bdba5-f238-4e6f-ae43-d04700f26e0a"
      },
      "source": [
        "# Accuracy of \"result_model_vgg\"\n",
        "plt.plot(result_model_vgg.history['acc'])\n",
        "plt.plot(result_model_vgg.history['val_acc'])\n",
        "plt.title('result_model_vgg accuracy')\n",
        "plt.ylabel('accuracy')\n",
        "plt.xlabel('epoch')\n",
        "plt.legend(['train', 'validation'], loc='upper left')\n",
        "plt.show()\n",
        "\n",
        "# Loss of \"result_model_vgg\"\n",
        "plt.plot(result_model_vgg.history['loss'])\n",
        "plt.plot(result_model_vgg.history['val_loss'])\n",
        "plt.title('result_model_vgg loss')\n",
        "plt.ylabel('loss')\n",
        "plt.xlabel('epoch')\n",
        "plt.legend(['train', 'validation'], loc='upper left')\n",
        "plt.show()"
      ],
      "execution_count": 84,
      "outputs": [
        {
          "output_type": "display_data",
          "data": {
            "image/png": "[encoded data removed]",
            "text/plain": [
              "<Figure size 432x288 with 1 Axes>"
            ]
          },
          "metadata": {
            "tags": [],
            "needs_background": "light"
          }
        },
        {
          "output_type": "display_data",
          "data": {
            "image/png": "[encoded data removed]",
            "text/plain": [
              "<Figure size 432x288 with 1 Axes>"
            ]
          },
          "metadata": {
            "tags": [],
            "needs_background": "light"
          }
        }
      ]
    },
    {
      "cell_type": "markdown",
      "metadata": {
        "id": "HFT3bkATSiBk",
        "colab_type": "text"
      },
      "source": [
        "#### **vgg with dropout**"
      ]
    },
    {
      "cell_type": "code",
      "metadata": {
        "id": "Ua0vglPPQZHf",
        "colab_type": "code",
        "colab": {}
      },
      "source": [
        "vgg_do = VGG16(\n",
        "    include_top=False, \n",
        "    weights='imagenet', \n",
        "    input_shape=(100, 100, 3)\n",
        "    )\n",
        "# vgg.trainable = False\n",
        "\n",
        "for layer in vgg_do.layers:\n",
        "  layer.trainable = False"
      ],
      "execution_count": 85,
      "outputs": []
    },
    {
      "cell_type": "code",
      "metadata": {
        "id": "48LHOn_iQk6t",
        "colab_type": "code",
        "colab": {
          "base_uri": "https://localhost:8080/",
          "height": 0
        },
        "outputId": "53616b7a-8474-468c-af21-54b3387592fe"
      },
      "source": [
        "vgg_do.summary()"
      ],
      "execution_count": 86,
      "outputs": [
        {
          "output_type": "stream",
          "text": [
            "Model: \"vgg16\"\n",
            "_________________________________________________________________\n",
            "Layer (type)                 Output Shape              Param #   \n",
            "=================================================================\n",
            "input_2 (InputLayer)         [(None, 100, 100, 3)]     0         \n",
            "_________________________________________________________________\n",
            "block1_conv1 (Conv2D)        (None, 100, 100, 64)      1792      \n",
            "_________________________________________________________________\n",
            "block1_conv2 (Conv2D)        (None, 100, 100, 64)      36928     \n",
            "_________________________________________________________________\n",
            "block1_pool (MaxPooling2D)   (None, 50, 50, 64)        0         \n",
            "_________________________________________________________________\n",
            "block2_conv1 (Conv2D)        (None, 50, 50, 128)       73856     \n",
            "_________________________________________________________________\n",
            "block2_conv2 (Conv2D)        (None, 50, 50, 128)       147584    \n",
            "_________________________________________________________________\n",
            "block2_pool (MaxPooling2D)   (None, 25, 25, 128)       0         \n",
            "_________________________________________________________________\n",
            "block3_conv1 (Conv2D)        (None, 25, 25, 256)       295168    \n",
            "_________________________________________________________________\n",
            "block3_conv2 (Conv2D)        (None, 25, 25, 256)       590080    \n",
            "_________________________________________________________________\n",
            "block3_conv3 (Conv2D)        (None, 25, 25, 256)       590080    \n",
            "_________________________________________________________________\n",
            "block3_pool (MaxPooling2D)   (None, 12, 12, 256)       0         \n",
            "_________________________________________________________________\n",
            "block4_conv1 (Conv2D)        (None, 12, 12, 512)       1180160   \n",
            "_________________________________________________________________\n",
            "block4_conv2 (Conv2D)        (None, 12, 12, 512)       2359808   \n",
            "_________________________________________________________________\n",
            "block4_conv3 (Conv2D)        (None, 12, 12, 512)       2359808   \n",
            "_________________________________________________________________\n",
            "block4_pool (MaxPooling2D)   (None, 6, 6, 512)         0         \n",
            "_________________________________________________________________\n",
            "block5_conv1 (Conv2D)        (None, 6, 6, 512)         2359808   \n",
            "_________________________________________________________________\n",
            "block5_conv2 (Conv2D)        (None, 6, 6, 512)         2359808   \n",
            "_________________________________________________________________\n",
            "block5_conv3 (Conv2D)        (None, 6, 6, 512)         2359808   \n",
            "_________________________________________________________________\n",
            "block5_pool (MaxPooling2D)   (None, 3, 3, 512)         0         \n",
            "=================================================================\n",
            "Total params: 14,714,688\n",
            "Trainable params: 0\n",
            "Non-trainable params: 14,714,688\n",
            "_________________________________________________________________\n"
          ],
          "name": "stdout"
        }
      ]
    },
    {
      "cell_type": "code",
      "metadata": {
        "id": "mBG_S6AfQv3P",
        "colab_type": "code",
        "colab": {
          "base_uri": "https://localhost:8080/",
          "height": 0
        },
        "outputId": "73174494-9ebe-4302-f6df-25b5662a7c62"
      },
      "source": [
        "last_layer = vgg_do.get_layer('block4_pool')\n",
        "print('last layer output shape: ', last_layer.output_shape)\n",
        "last_output = last_layer.output"
      ],
      "execution_count": 87,
      "outputs": [
        {
          "output_type": "stream",
          "text": [
            "last layer output shape:  (None, 6, 6, 512)\n"
          ],
          "name": "stdout"
        }
      ]
    },
    {
      "cell_type": "code",
      "metadata": {
        "id": "Ucv-MbnsQvw9",
        "colab_type": "code",
        "colab": {}
      },
      "source": [
        "x = Flatten()(last_output)\n",
        "\n",
        "x = Dense(256, activation='relu')(x)\n",
        "#x = Dense(256, activation='relu')(x)\n",
        "\n",
        "x = Dropout(0.3)(x)\n",
        "\n",
        "x = Dense(1, activation='sigmoid')(x)\n",
        "\n",
        "model_vgg_do = Model(vgg_do.input, outputs=x)"
      ],
      "execution_count": 88,
      "outputs": []
    },
    {
      "cell_type": "code",
      "metadata": {
        "id": "XhKq9CPoQvo4",
        "colab_type": "code",
        "colab": {
          "base_uri": "https://localhost:8080/",
          "height": 0
        },
        "outputId": "9abc300f-8f59-44a6-cd9b-61569d2a2258"
      },
      "source": [
        "model_vgg_do.summary()"
      ],
      "execution_count": 89,
      "outputs": [
        {
          "output_type": "stream",
          "text": [
            "Model: \"functional_3\"\n",
            "_________________________________________________________________\n",
            "Layer (type)                 Output Shape              Param #   \n",
            "=================================================================\n",
            "input_2 (InputLayer)         [(None, 100, 100, 3)]     0         \n",
            "_________________________________________________________________\n",
            "block1_conv1 (Conv2D)        (None, 100, 100, 64)      1792      \n",
            "_________________________________________________________________\n",
            "block1_conv2 (Conv2D)        (None, 100, 100, 64)      36928     \n",
            "_________________________________________________________________\n",
            "block1_pool (MaxPooling2D)   (None, 50, 50, 64)        0         \n",
            "_________________________________________________________________\n",
            "block2_conv1 (Conv2D)        (None, 50, 50, 128)       73856     \n",
            "_________________________________________________________________\n",
            "block2_conv2 (Conv2D)        (None, 50, 50, 128)       147584    \n",
            "_________________________________________________________________\n",
            "block2_pool (MaxPooling2D)   (None, 25, 25, 128)       0         \n",
            "_________________________________________________________________\n",
            "block3_conv1 (Conv2D)        (None, 25, 25, 256)       295168    \n",
            "_________________________________________________________________\n",
            "block3_conv2 (Conv2D)        (None, 25, 25, 256)       590080    \n",
            "_________________________________________________________________\n",
            "block3_conv3 (Conv2D)        (None, 25, 25, 256)       590080    \n",
            "_________________________________________________________________\n",
            "block3_pool (MaxPooling2D)   (None, 12, 12, 256)       0         \n",
            "_________________________________________________________________\n",
            "block4_conv1 (Conv2D)        (None, 12, 12, 512)       1180160   \n",
            "_________________________________________________________________\n",
            "block4_conv2 (Conv2D)        (None, 12, 12, 512)       2359808   \n",
            "_________________________________________________________________\n",
            "block4_conv3 (Conv2D)        (None, 12, 12, 512)       2359808   \n",
            "_________________________________________________________________\n",
            "block4_pool (MaxPooling2D)   (None, 6, 6, 512)         0         \n",
            "_________________________________________________________________\n",
            "flatten_11 (Flatten)         (None, 18432)             0         \n",
            "_________________________________________________________________\n",
            "dense_22 (Dense)             (None, 256)               4718848   \n",
            "_________________________________________________________________\n",
            "dropout_8 (Dropout)          (None, 256)               0         \n",
            "_________________________________________________________________\n",
            "dense_23 (Dense)             (None, 1)                 257       \n",
            "=================================================================\n",
            "Total params: 12,354,369\n",
            "Trainable params: 4,719,105\n",
            "Non-trainable params: 7,635,264\n",
            "_________________________________________________________________\n"
          ],
          "name": "stdout"
        }
      ]
    },
    {
      "cell_type": "code",
      "metadata": {
        "id": "8Mq2Y-4FRPfI",
        "colab_type": "code",
        "colab": {}
      },
      "source": [
        "model_vgg_do.compile(\n",
        "    loss = 'binary_crossentropy',\n",
        "    optimizer = Adam(),\n",
        "    metrics = ['acc']\n",
        ")"
      ],
      "execution_count": 90,
      "outputs": []
    },
    {
      "cell_type": "code",
      "metadata": {
        "id": "qLbH4muoRPan",
        "colab_type": "code",
        "colab": {
          "base_uri": "https://localhost:8080/",
          "height": 0
        },
        "outputId": "5feedd1a-9483-414b-df71-919455731359"
      },
      "source": [
        "\"\"\"\n",
        "result_model_vgg_do = model_vgg_do.fit(\n",
        "    train_generator,\n",
        "    steps_per_epoch = 160,\n",
        "    epochs = 15,\n",
        "    validation_data = validation_generator,\n",
        "    validation_steps = 20,\n",
        "    verbose = 2\n",
        ")\n",
        "\"\"\"\n",
        "\n",
        "result_model_vgg_do = model_vgg_do.fit(\n",
        "    x = X_train_3,\n",
        "    y = y_train_3,\n",
        "    batch_size = 32,\n",
        "    epochs = 15,\n",
        "    validation_split = 0.1,\n",
        "    verbose = 2\n",
        ")\n"
      ],
      "execution_count": 91,
      "outputs": [
        {
          "output_type": "stream",
          "text": [
            "Epoch 1/15\n",
            "79/79 - 3s - loss: 1.8515 - acc: 0.6587 - val_loss: 0.4686 - val_acc: 0.8214\n",
            "Epoch 2/15\n",
            "79/79 - 2s - loss: 0.4697 - acc: 0.7814 - val_loss: 0.3796 - val_acc: 0.8500\n",
            "Epoch 3/15\n",
            "79/79 - 2s - loss: 0.3724 - acc: 0.8339 - val_loss: 0.3283 - val_acc: 0.8714\n",
            "Epoch 4/15\n",
            "79/79 - 2s - loss: 0.3170 - acc: 0.8718 - val_loss: 0.3462 - val_acc: 0.8571\n",
            "Epoch 5/15\n",
            "79/79 - 2s - loss: 0.2834 - acc: 0.8746 - val_loss: 0.3521 - val_acc: 0.8464\n",
            "Epoch 6/15\n",
            "79/79 - 2s - loss: 0.2413 - acc: 0.9036 - val_loss: 0.2943 - val_acc: 0.8750\n",
            "Epoch 7/15\n",
            "79/79 - 2s - loss: 0.1953 - acc: 0.9227 - val_loss: 0.2478 - val_acc: 0.8964\n",
            "Epoch 8/15\n",
            "79/79 - 2s - loss: 0.1940 - acc: 0.9156 - val_loss: 0.2507 - val_acc: 0.9179\n",
            "Epoch 9/15\n",
            "79/79 - 2s - loss: 0.1502 - acc: 0.9387 - val_loss: 0.3338 - val_acc: 0.8643\n",
            "Epoch 10/15\n",
            "79/79 - 2s - loss: 0.1714 - acc: 0.9243 - val_loss: 0.2773 - val_acc: 0.8893\n",
            "Epoch 11/15\n",
            "79/79 - 2s - loss: 0.1211 - acc: 0.9542 - val_loss: 0.3034 - val_acc: 0.8750\n",
            "Epoch 12/15\n",
            "79/79 - 2s - loss: 0.1112 - acc: 0.9522 - val_loss: 0.2516 - val_acc: 0.9071\n",
            "Epoch 13/15\n",
            "79/79 - 2s - loss: 0.0934 - acc: 0.9665 - val_loss: 0.2140 - val_acc: 0.9321\n",
            "Epoch 14/15\n",
            "79/79 - 2s - loss: 0.1062 - acc: 0.9554 - val_loss: 0.2353 - val_acc: 0.9250\n",
            "Epoch 15/15\n",
            "79/79 - 2s - loss: 0.0768 - acc: 0.9737 - val_loss: 0.2669 - val_acc: 0.9107\n"
          ],
          "name": "stdout"
        }
      ]
    },
    {
      "cell_type": "code",
      "metadata": {
        "id": "3GYPtNYIRPWL",
        "colab_type": "code",
        "colab": {
          "base_uri": "https://localhost:8080/",
          "height": 0
        },
        "outputId": "037bec85-de08-4a75-ca27-7be4d9e35c8b"
      },
      "source": [
        "# Accuracy of \"result_model_vgg_do\"\n",
        "plt.plot(result_model_vgg_do.history['acc'])\n",
        "plt.plot(result_model_vgg_do.history['val_acc'])\n",
        "plt.title('result_model_vgg_do accuracy')\n",
        "plt.ylabel('accuracy')\n",
        "plt.xlabel('epoch')\n",
        "plt.legend(['train', 'validation'], loc='upper left')\n",
        "plt.show()\n",
        "\n",
        "# Loss of \"result_model_vgg_do\"\n",
        "plt.plot(result_model_vgg_do.history['loss'])\n",
        "plt.plot(result_model_vgg_do.history['val_loss'])\n",
        "plt.title('result_model_vgg_do loss')\n",
        "plt.ylabel('loss')\n",
        "plt.xlabel('epoch')\n",
        "plt.legend(['train', 'validation'], loc='upper left')\n",
        "plt.show()"
      ],
      "execution_count": 92,
      "outputs": [
        {
          "output_type": "display_data",
          "data": {
            "image/png": "[encoded data removed]",
            "text/plain": [
              "<Figure size 432x288 with 1 Axes>"
            ]
          },
          "metadata": {
            "tags": [],
            "needs_background": "light"
          }
        },
        {
          "output_type": "display_data",
          "data": {
            "image/png": "[encoded data removed]",
            "text/plain": [
              "<Figure size 432x288 with 1 Axes>"
            ]
          },
          "metadata": {
            "tags": [],
            "needs_background": "light"
          }
        }
      ]
    },
    {
      "cell_type": "code",
      "metadata": {
        "id": "b7aXrFl5RPSy",
        "colab_type": "code",
        "colab": {}
      },
      "source": [
        ""
      ],
      "execution_count": 92,
      "outputs": []
    },
    {
      "cell_type": "code",
      "metadata": {
        "colab_type": "code",
        "id": "YkdY9QKkTMLt",
        "colab": {}
      },
      "source": [
        "vgg_do_block5 = VGG16(\n",
        "    include_top=False, \n",
        "    weights='imagenet', \n",
        "    input_shape=(100, 100, 3)\n",
        "    )\n",
        "# vgg.trainable = False\n",
        "\n",
        "for layer in vgg_do_block5.layers:\n",
        "  layer.trainable = False"
      ],
      "execution_count": 93,
      "outputs": []
    },
    {
      "cell_type": "code",
      "metadata": {
        "colab_type": "code",
        "id": "AHeJUXRLTML2",
        "colab": {
          "base_uri": "https://localhost:8080/",
          "height": 0
        },
        "outputId": "7c3f57f9-95f9-4fc9-fd6e-acee04c621be"
      },
      "source": [
        "vgg_do_block5.summary()"
      ],
      "execution_count": 94,
      "outputs": [
        {
          "output_type": "stream",
          "text": [
            "Model: \"vgg16\"\n",
            "_________________________________________________________________\n",
            "Layer (type)                 Output Shape              Param #   \n",
            "=================================================================\n",
            "input_3 (InputLayer)         [(None, 100, 100, 3)]     0         \n",
            "_________________________________________________________________\n",
            "block1_conv1 (Conv2D)        (None, 100, 100, 64)      1792      \n",
            "_________________________________________________________________\n",
            "block1_conv2 (Conv2D)        (None, 100, 100, 64)      36928     \n",
            "_________________________________________________________________\n",
            "block1_pool (MaxPooling2D)   (None, 50, 50, 64)        0         \n",
            "_________________________________________________________________\n",
            "block2_conv1 (Conv2D)        (None, 50, 50, 128)       73856     \n",
            "_________________________________________________________________\n",
            "block2_conv2 (Conv2D)        (None, 50, 50, 128)       147584    \n",
            "_________________________________________________________________\n",
            "block2_pool (MaxPooling2D)   (None, 25, 25, 128)       0         \n",
            "_________________________________________________________________\n",
            "block3_conv1 (Conv2D)        (None, 25, 25, 256)       295168    \n",
            "_________________________________________________________________\n",
            "block3_conv2 (Conv2D)        (None, 25, 25, 256)       590080    \n",
            "_________________________________________________________________\n",
            "block3_conv3 (Conv2D)        (None, 25, 25, 256)       590080    \n",
            "_________________________________________________________________\n",
            "block3_pool (MaxPooling2D)   (None, 12, 12, 256)       0         \n",
            "_________________________________________________________________\n",
            "block4_conv1 (Conv2D)        (None, 12, 12, 512)       1180160   \n",
            "_________________________________________________________________\n",
            "block4_conv2 (Conv2D)        (None, 12, 12, 512)       2359808   \n",
            "_________________________________________________________________\n",
            "block4_conv3 (Conv2D)        (None, 12, 12, 512)       2359808   \n",
            "_________________________________________________________________\n",
            "block4_pool (MaxPooling2D)   (None, 6, 6, 512)         0         \n",
            "_________________________________________________________________\n",
            "block5_conv1 (Conv2D)        (None, 6, 6, 512)         2359808   \n",
            "_________________________________________________________________\n",
            "block5_conv2 (Conv2D)        (None, 6, 6, 512)         2359808   \n",
            "_________________________________________________________________\n",
            "block5_conv3 (Conv2D)        (None, 6, 6, 512)         2359808   \n",
            "_________________________________________________________________\n",
            "block5_pool (MaxPooling2D)   (None, 3, 3, 512)         0         \n",
            "=================================================================\n",
            "Total params: 14,714,688\n",
            "Trainable params: 0\n",
            "Non-trainable params: 14,714,688\n",
            "_________________________________________________________________\n"
          ],
          "name": "stdout"
        }
      ]
    },
    {
      "cell_type": "code",
      "metadata": {
        "colab_type": "code",
        "id": "yDb1w47fTML5",
        "colab": {
          "base_uri": "https://localhost:8080/",
          "height": 0
        },
        "outputId": "a15eb6ba-288d-4eb2-f96f-bdd1f1758ae4"
      },
      "source": [
        "last_layer = vgg_do_block5.get_layer('block5_pool')\n",
        "print('last layer output shape: ', last_layer.output_shape)\n",
        "last_output = last_layer.output"
      ],
      "execution_count": 95,
      "outputs": [
        {
          "output_type": "stream",
          "text": [
            "last layer output shape:  (None, 3, 3, 512)\n"
          ],
          "name": "stdout"
        }
      ]
    },
    {
      "cell_type": "code",
      "metadata": {
        "colab_type": "code",
        "id": "ORr-uFh3TML9",
        "colab": {}
      },
      "source": [
        "x = Flatten()(last_output)\n",
        "\n",
        "x = Dense(512, activation='relu')(x)\n",
        "x = Dropout(0.3)(x)\n",
        "\n",
        "x = Dense(256, activation='relu')(x)\n",
        "x = Dropout(0.3)(x)\n",
        "\n",
        "x = Dense(1, activation='sigmoid')(x)\n",
        "\n",
        "model_vgg_do_block5 = Model(vgg_do_block5.input, outputs=x)"
      ],
      "execution_count": 96,
      "outputs": []
    },
    {
      "cell_type": "code",
      "metadata": {
        "colab_type": "code",
        "id": "iYuFyYf6TML_",
        "colab": {
          "base_uri": "https://localhost:8080/",
          "height": 0
        },
        "outputId": "7e60aafb-bc68-4605-e4cb-659715fdc01c"
      },
      "source": [
        "model_vgg_do_block5.summary()"
      ],
      "execution_count": 97,
      "outputs": [
        {
          "output_type": "stream",
          "text": [
            "Model: \"functional_5\"\n",
            "_________________________________________________________________\n",
            "Layer (type)                 Output Shape              Param #   \n",
            "=================================================================\n",
            "input_3 (InputLayer)         [(None, 100, 100, 3)]     0         \n",
            "_________________________________________________________________\n",
            "block1_conv1 (Conv2D)        (None, 100, 100, 64)      1792      \n",
            "_________________________________________________________________\n",
            "block1_conv2 (Conv2D)        (None, 100, 100, 64)      36928     \n",
            "_________________________________________________________________\n",
            "block1_pool (MaxPooling2D)   (None, 50, 50, 64)        0         \n",
            "_________________________________________________________________\n",
            "block2_conv1 (Conv2D)        (None, 50, 50, 128)       73856     \n",
            "_________________________________________________________________\n",
            "block2_conv2 (Conv2D)        (None, 50, 50, 128)       147584    \n",
            "_________________________________________________________________\n",
            "block2_pool (MaxPooling2D)   (None, 25, 25, 128)       0         \n",
            "_________________________________________________________________\n",
            "block3_conv1 (Conv2D)        (None, 25, 25, 256)       295168    \n",
            "_________________________________________________________________\n",
            "block3_conv2 (Conv2D)        (None, 25, 25, 256)       590080    \n",
            "_________________________________________________________________\n",
            "block3_conv3 (Conv2D)        (None, 25, 25, 256)       590080    \n",
            "_________________________________________________________________\n",
            "block3_pool (MaxPooling2D)   (None, 12, 12, 256)       0         \n",
            "_________________________________________________________________\n",
            "block4_conv1 (Conv2D)        (None, 12, 12, 512)       1180160   \n",
            "_________________________________________________________________\n",
            "block4_conv2 (Conv2D)        (None, 12, 12, 512)       2359808   \n",
            "_________________________________________________________________\n",
            "block4_conv3 (Conv2D)        (None, 12, 12, 512)       2359808   \n",
            "_________________________________________________________________\n",
            "block4_pool (MaxPooling2D)   (None, 6, 6, 512)         0         \n",
            "_________________________________________________________________\n",
            "block5_conv1 (Conv2D)        (None, 6, 6, 512)         2359808   \n",
            "_________________________________________________________________\n",
            "block5_conv2 (Conv2D)        (None, 6, 6, 512)         2359808   \n",
            "_________________________________________________________________\n",
            "block5_conv3 (Conv2D)        (None, 6, 6, 512)         2359808   \n",
            "_________________________________________________________________\n",
            "block5_pool (MaxPooling2D)   (None, 3, 3, 512)         0         \n",
            "_________________________________________________________________\n",
            "flatten_12 (Flatten)         (None, 4608)              0         \n",
            "_________________________________________________________________\n",
            "dense_24 (Dense)             (None, 512)               2359808   \n",
            "_________________________________________________________________\n",
            "dropout_9 (Dropout)          (None, 512)               0         \n",
            "_________________________________________________________________\n",
            "dense_25 (Dense)             (None, 256)               131328    \n",
            "_________________________________________________________________\n",
            "dropout_10 (Dropout)         (None, 256)               0         \n",
            "_________________________________________________________________\n",
            "dense_26 (Dense)             (None, 1)                 257       \n",
            "=================================================================\n",
            "Total params: 17,206,081\n",
            "Trainable params: 2,491,393\n",
            "Non-trainable params: 14,714,688\n",
            "_________________________________________________________________\n"
          ],
          "name": "stdout"
        }
      ]
    },
    {
      "cell_type": "code",
      "metadata": {
        "colab_type": "code",
        "id": "AaVGOpJ0TMMB",
        "colab": {}
      },
      "source": [
        "model_vgg_do_block5.compile(\n",
        "    loss = 'binary_crossentropy',\n",
        "    optimizer = Adam(),\n",
        "    metrics = ['acc']\n",
        ")"
      ],
      "execution_count": 98,
      "outputs": []
    },
    {
      "cell_type": "code",
      "metadata": {
        "colab_type": "code",
        "id": "7h51477RTMMD",
        "colab": {
          "base_uri": "https://localhost:8080/",
          "height": 0
        },
        "outputId": "e82412e9-3ad0-46b0-8947-dba6472956b1"
      },
      "source": [
        "result_model_vgg_do_block5 = model_vgg_do_block5.fit(\n",
        "    x = X_train_3,\n",
        "    y = y_train_3,\n",
        "    batch_size = 32,\n",
        "    epochs = 15,\n",
        "    validation_split = 0.1,\n",
        "    verbose = 2\n",
        ")"
      ],
      "execution_count": 99,
      "outputs": [
        {
          "output_type": "stream",
          "text": [
            "Epoch 1/15\n",
            "79/79 - 3s - loss: 0.7252 - acc: 0.5723 - val_loss: 0.6245 - val_acc: 0.6214\n",
            "Epoch 2/15\n",
            "79/79 - 3s - loss: 0.5546 - acc: 0.7192 - val_loss: 0.4479 - val_acc: 0.7964\n",
            "Epoch 3/15\n",
            "79/79 - 3s - loss: 0.4957 - acc: 0.7614 - val_loss: 0.4628 - val_acc: 0.8036\n",
            "Epoch 4/15\n",
            "79/79 - 3s - loss: 0.4552 - acc: 0.7838 - val_loss: 0.4015 - val_acc: 0.8500\n",
            "Epoch 5/15\n",
            "79/79 - 3s - loss: 0.4330 - acc: 0.8013 - val_loss: 0.4281 - val_acc: 0.7929\n",
            "Epoch 6/15\n",
            "79/79 - 3s - loss: 0.4134 - acc: 0.8132 - val_loss: 0.3839 - val_acc: 0.8607\n",
            "Epoch 7/15\n",
            "79/79 - 3s - loss: 0.3601 - acc: 0.8303 - val_loss: 0.3400 - val_acc: 0.8679\n",
            "Epoch 8/15\n",
            "79/79 - 3s - loss: 0.3744 - acc: 0.8284 - val_loss: 0.3875 - val_acc: 0.8500\n",
            "Epoch 9/15\n",
            "79/79 - 3s - loss: 0.3358 - acc: 0.8511 - val_loss: 0.3815 - val_acc: 0.8179\n",
            "Epoch 10/15\n",
            "79/79 - 3s - loss: 0.3305 - acc: 0.8499 - val_loss: 0.3480 - val_acc: 0.8750\n",
            "Epoch 11/15\n",
            "79/79 - 3s - loss: 0.3133 - acc: 0.8638 - val_loss: 0.3547 - val_acc: 0.8571\n",
            "Epoch 12/15\n",
            "79/79 - 3s - loss: 0.3357 - acc: 0.8499 - val_loss: 0.3841 - val_acc: 0.8679\n",
            "Epoch 13/15\n",
            "79/79 - 3s - loss: 0.2893 - acc: 0.8702 - val_loss: 0.3632 - val_acc: 0.8750\n",
            "Epoch 14/15\n",
            "79/79 - 3s - loss: 0.2870 - acc: 0.8646 - val_loss: 0.4272 - val_acc: 0.8321\n",
            "Epoch 15/15\n",
            "79/79 - 3s - loss: 0.3337 - acc: 0.8530 - val_loss: 0.3522 - val_acc: 0.8643\n"
          ],
          "name": "stdout"
        }
      ]
    },
    {
      "cell_type": "code",
      "metadata": {
        "colab_type": "code",
        "id": "QmNCziROTMMF",
        "colab": {
          "base_uri": "https://localhost:8080/",
          "height": 0
        },
        "outputId": "6c9130dd-481b-4349-ffa3-2f636efecac6"
      },
      "source": [
        "# Accuracy of \"result_model_vgg_do_block5\"\n",
        "plt.plot(result_model_vgg_do_block5.history['acc'])\n",
        "plt.plot(result_model_vgg_do_block5.history['val_acc'])\n",
        "plt.title('result_model_vgg_do_block5 accuracy')\n",
        "plt.ylabel('accuracy')\n",
        "plt.xlabel('epoch')\n",
        "plt.legend(['train', 'validation'], loc='upper left')\n",
        "plt.show()\n",
        "\n",
        "# Loss of \"result_model_vgg_do_block5\"\n",
        "plt.plot(result_model_vgg_do_block5.history['loss'])\n",
        "plt.plot(result_model_vgg_do_block5.history['val_loss'])\n",
        "plt.title('result_model_vgg_do_block5 loss')\n",
        "plt.ylabel('loss')\n",
        "plt.xlabel('epoch')\n",
        "plt.legend(['train', 'validation'], loc='upper left')\n",
        "plt.show()"
      ],
      "execution_count": 100,
      "outputs": [
        {
          "output_type": "display_data",
          "data": {
            "image/png": "[encoded data removed]",
            "text/plain": [
              "<Figure size 432x288 with 1 Axes>"
            ]
          },
          "metadata": {
            "tags": [],
            "needs_background": "light"
          }
        },
        {
          "output_type": "display_data",
          "data": {
            "image/png": "[encoded data removed]",
            "text/plain": [
              "<Figure size 432x288 with 1 Axes>"
            ]
          },
          "metadata": {
            "tags": [],
            "needs_background": "light"
          }
        }
      ]
    },
    {
      "cell_type": "markdown",
      "metadata": {
        "id": "2CS604EtNpqn",
        "colab_type": "text"
      },
      "source": [
        "### **model_resnet**"
      ]
    },
    {
      "cell_type": "code",
      "metadata": {
        "id": "SsYxo0pFNpfn",
        "colab_type": "code",
        "colab": {}
      },
      "source": [
        ""
      ],
      "execution_count": 100,
      "outputs": []
    },
    {
      "cell_type": "markdown",
      "metadata": {
        "id": "7w3W3VGUOaCQ",
        "colab_type": "text"
      },
      "source": [
        "### **model_inception**"
      ]
    },
    {
      "cell_type": "code",
      "metadata": {
        "id": "BqzsYh3KOZ13",
        "colab_type": "code",
        "colab": {}
      },
      "source": [
        ""
      ],
      "execution_count": 100,
      "outputs": []
    },
    {
      "cell_type": "code",
      "metadata": {
        "id": "ouEr9Ms0Lm3I",
        "colab_type": "code",
        "colab": {}
      },
      "source": [
        ""
      ],
      "execution_count": 100,
      "outputs": []
    },
    {
      "cell_type": "code",
      "metadata": {
        "id": "CfCdBEaNLnBC",
        "colab_type": "code",
        "colab": {}
      },
      "source": [
        ""
      ],
      "execution_count": 100,
      "outputs": []
    },
    {
      "cell_type": "code",
      "metadata": {
        "id": "FCE4lDXVLm97",
        "colab_type": "code",
        "colab": {}
      },
      "source": [
        ""
      ],
      "execution_count": 100,
      "outputs": []
    },
    {
      "cell_type": "code",
      "metadata": {
        "id": "gxJP-uUtLmmr",
        "colab_type": "code",
        "colab": {}
      },
      "source": [
        ""
      ],
      "execution_count": 100,
      "outputs": []
    },
    {
      "cell_type": "code",
      "metadata": {
        "id": "fiX9OmXVIe85",
        "colab_type": "code",
        "colab": {}
      },
      "source": [
        ""
      ],
      "execution_count": 100,
      "outputs": []
    },
    {
      "cell_type": "markdown",
      "metadata": {
        "id": "zRHJCn-9vMLf",
        "colab_type": "text"
      },
      "source": [
        "# **Evaluation of the models**"
      ]
    },
    {
      "cell_type": "markdown",
      "metadata": {
        "colab_type": "text",
        "id": "9rNQDEUsP4ev"
      },
      "source": [
        "## **Grayscale images**"
      ]
    },
    {
      "cell_type": "markdown",
      "metadata": {
        "colab_type": "text",
        "id": "1k3macyqP4fJ"
      },
      "source": [
        "### **model**"
      ]
    },
    {
      "cell_type": "code",
      "metadata": {
        "colab_type": "code",
        "id": "4NAAUJSMP4fM",
        "colab": {
          "base_uri": "https://localhost:8080/",
          "height": 50
        },
        "outputId": "189e8677-cc89-4e58-efc8-131e9bee7612"
      },
      "source": [
        "resEv_model = model.evaluate(X_test, y_test, 20)\n",
        "print('test loss, test acc:', resEv_model)"
      ],
      "execution_count": 135,
      "outputs": [
        {
          "output_type": "stream",
          "text": [
            "60/60 [==============================] - 0s 3ms/step - loss: 0.5709 - acc: 0.8505\n",
            "test loss, test acc: [0.5708868503570557, 0.8504594564437866]\n"
          ],
          "name": "stdout"
        }
      ]
    },
    {
      "cell_type": "markdown",
      "metadata": {
        "colab_type": "text",
        "id": "2qZGNeGyP4fe"
      },
      "source": [
        "### **model_DO**"
      ]
    },
    {
      "cell_type": "code",
      "metadata": {
        "colab_type": "code",
        "id": "SfU1KhEgP4fg",
        "colab": {
          "base_uri": "https://localhost:8080/",
          "height": 50
        },
        "outputId": "c69b6a14-4a93-4957-d948-3619e6f9a575"
      },
      "source": [
        "resEv_model_DO = model_DO.evaluate(X_test, y_test, 20)\n",
        "print('test loss, test acc:', resEv_model_DO)"
      ],
      "execution_count": 136,
      "outputs": [
        {
          "output_type": "stream",
          "text": [
            "60/60 [==============================] - 0s 3ms/step - loss: 0.4142 - acc: 0.8563\n",
            "test loss, test acc: [0.4141804277896881, 0.8563074469566345]\n"
          ],
          "name": "stdout"
        }
      ]
    },
    {
      "cell_type": "markdown",
      "metadata": {
        "colab_type": "text",
        "id": "0tUpK1wmP4fo"
      },
      "source": [
        "### **model_DO_04_Dense_256**"
      ]
    },
    {
      "cell_type": "code",
      "metadata": {
        "colab_type": "code",
        "id": "1NXlPgCEP4fq",
        "colab": {
          "base_uri": "https://localhost:8080/",
          "height": 50
        },
        "outputId": "eb552a4e-4daa-4d5d-aa90-855ca70444f9"
      },
      "source": [
        "resEv_model_DO_04_Dense_256 = model_DO_04_Dense_256.evaluate(X_test, y_test, 20)\n",
        "print('test loss, test acc:', resEv_model_DO_04_Dense_256)"
      ],
      "execution_count": 137,
      "outputs": [
        {
          "output_type": "stream",
          "text": [
            "60/60 [==============================] - 0s 3ms/step - loss: 0.3874 - acc: 0.8413\n",
            "test loss, test acc: [0.3874412775039673, 0.841269850730896]\n"
          ],
          "name": "stdout"
        }
      ]
    },
    {
      "cell_type": "markdown",
      "metadata": {
        "colab_type": "text",
        "id": "iwC_ZRTfP4fx"
      },
      "source": [
        "### **model_DO_06_Dense_128**"
      ]
    },
    {
      "cell_type": "code",
      "metadata": {
        "colab_type": "code",
        "id": "LKeTi7p6P4fz",
        "colab": {
          "base_uri": "https://localhost:8080/",
          "height": 50
        },
        "outputId": "5e32b67a-7eb9-4573-fdab-0379dc444e0d"
      },
      "source": [
        "resEv_model_DO_06_Dense_128 = model_DO_06_Dense_128.evaluate(X_test, y_test, 20)\n",
        "print('test loss, test acc:', resEv_model_DO_06_Dense_128)"
      ],
      "execution_count": 138,
      "outputs": [
        {
          "output_type": "stream",
          "text": [
            "60/60 [==============================] - 0s 3ms/step - loss: 0.4139 - acc: 0.8246\n",
            "test loss, test acc: [0.41394299268722534, 0.8245614171028137]\n"
          ],
          "name": "stdout"
        }
      ]
    },
    {
      "cell_type": "markdown",
      "metadata": {
        "colab_type": "text",
        "id": "4kFbzhzGP4f6"
      },
      "source": [
        "### **model_DO_less**"
      ]
    },
    {
      "cell_type": "code",
      "metadata": {
        "colab_type": "code",
        "id": "QArfs687P4f7",
        "colab": {
          "base_uri": "https://localhost:8080/",
          "height": 50
        },
        "outputId": "4df95cdd-ee10-4065-fe87-585938c2bcdd"
      },
      "source": [
        "resEv_model_DO_less = model_DO_less.evaluate(X_test, y_test, 20)\n",
        "print('test loss, test acc:', resEv_model_DO_less)"
      ],
      "execution_count": 139,
      "outputs": [
        {
          "output_type": "stream",
          "text": [
            "60/60 [==============================] - 0s 2ms/step - loss: 0.3848 - acc: 0.8555\n",
            "test loss, test acc: [0.3847937285900116, 0.8554720282554626]\n"
          ],
          "name": "stdout"
        }
      ]
    },
    {
      "cell_type": "markdown",
      "metadata": {
        "id": "efl94GYIL3SQ",
        "colab_type": "text"
      },
      "source": [
        "## **RGB images**"
      ]
    },
    {
      "cell_type": "markdown",
      "metadata": {
        "id": "RpH4lAiOvTUl",
        "colab_type": "text"
      },
      "source": [
        "### **model**"
      ]
    },
    {
      "cell_type": "code",
      "metadata": {
        "id": "BdBqbydn_dCE",
        "colab_type": "code",
        "colab": {
          "base_uri": "https://localhost:8080/",
          "height": 50
        },
        "outputId": "109b07a2-1a7e-4096-d38f-07c5bc948b3e"
      },
      "source": [
        "resEv_model = model.evaluate(X_test_3, y_test_3, 20)\n",
        "print('test loss, test acc:', resEv_model)"
      ],
      "execution_count": 101,
      "outputs": [
        {
          "output_type": "stream",
          "text": [
            "60/60 [==============================] - 0s 4ms/step - loss: 0.5733 - acc: 0.8221\n",
            "test loss, test acc: [0.5733054876327515, 0.8220551609992981]\n"
          ],
          "name": "stdout"
        }
      ]
    },
    {
      "cell_type": "markdown",
      "metadata": {
        "id": "6UJJFF3CvWqt",
        "colab_type": "text"
      },
      "source": [
        "### **model_DO**"
      ]
    },
    {
      "cell_type": "code",
      "metadata": {
        "id": "IxEDbuqnuigj",
        "colab_type": "code",
        "colab": {
          "base_uri": "https://localhost:8080/",
          "height": 50
        },
        "outputId": "4369ece4-c59f-4357-a4f5-2b69ae5b9abd"
      },
      "source": [
        "resEv_model_DO = model_DO.evaluate(X_test_3, y_test_3, 20)\n",
        "print('test loss, test acc:', resEv_model_DO)"
      ],
      "execution_count": 102,
      "outputs": [
        {
          "output_type": "stream",
          "text": [
            "60/60 [==============================] - 0s 3ms/step - loss: 0.4207 - acc: 0.8580\n",
            "test loss, test acc: [0.4207492768764496, 0.8579782843589783]\n"
          ],
          "name": "stdout"
        }
      ]
    },
    {
      "cell_type": "markdown",
      "metadata": {
        "id": "X0SOJxidvaFM",
        "colab_type": "text"
      },
      "source": [
        "### **model_DO_04_Dense_256**"
      ]
    },
    {
      "cell_type": "code",
      "metadata": {
        "id": "_XPGsunl_17h",
        "colab_type": "code",
        "colab": {
          "base_uri": "https://localhost:8080/",
          "height": 50
        },
        "outputId": "061e1667-7d4a-45f4-ca9d-72201c964de9"
      },
      "source": [
        "resEv_model_DO_04_Dense_256 = model_DO_04_Dense_256.evaluate(X_test_3, y_test_3, 20)\n",
        "print('test loss, test acc:', resEv_model_DO_04_Dense_256)"
      ],
      "execution_count": 103,
      "outputs": [
        {
          "output_type": "stream",
          "text": [
            "60/60 [==============================] - 0s 3ms/step - loss: 0.3698 - acc: 0.8613\n",
            "test loss, test acc: [0.36978259682655334, 0.8613199591636658]\n"
          ],
          "name": "stdout"
        }
      ]
    },
    {
      "cell_type": "markdown",
      "metadata": {
        "id": "hRkEPzy_vdTF",
        "colab_type": "text"
      },
      "source": [
        "### **model_DO_06_Dense_128**"
      ]
    },
    {
      "cell_type": "code",
      "metadata": {
        "id": "CRb1UyAMATNC",
        "colab_type": "code",
        "colab": {
          "base_uri": "https://localhost:8080/",
          "height": 50
        },
        "outputId": "59bb83d9-3737-47b5-d9dd-4a2a4d7b6c21"
      },
      "source": [
        "resEv_model_DO_06_Dense_128 = model_DO_06_Dense_128.evaluate(X_test_3, y_test_3, 20)\n",
        "print('test loss, test acc:', resEv_model_DO_06_Dense_128)"
      ],
      "execution_count": 104,
      "outputs": [
        {
          "output_type": "stream",
          "text": [
            "60/60 [==============================] - 0s 3ms/step - loss: 0.3304 - acc: 0.8655\n",
            "test loss, test acc: [0.3303968012332916, 0.8654970526695251]\n"
          ],
          "name": "stdout"
        }
      ]
    },
    {
      "cell_type": "markdown",
      "metadata": {
        "id": "B-k7cZHhvjP-",
        "colab_type": "text"
      },
      "source": [
        "### **model_DO_less**"
      ]
    },
    {
      "cell_type": "code",
      "metadata": {
        "id": "fRT7u_gO-nDI",
        "colab_type": "code",
        "colab": {
          "base_uri": "https://localhost:8080/",
          "height": 50
        },
        "outputId": "9860ba34-785a-480b-c6fd-0d48aa741e06"
      },
      "source": [
        "resEv_model_DO_less = model_DO_less.evaluate(X_test_3, y_test_3, 20)\n",
        "print('test loss, test acc:', resEv_model_DO_less)"
      ],
      "execution_count": 105,
      "outputs": [
        {
          "output_type": "stream",
          "text": [
            "60/60 [==============================] - 0s 3ms/step - loss: 0.3408 - acc: 0.8713\n",
            "test loss, test acc: [0.3407999277114868, 0.871345043182373]\n"
          ],
          "name": "stdout"
        }
      ]
    },
    {
      "cell_type": "markdown",
      "metadata": {
        "id": "Jsb-yXmzMgnR",
        "colab_type": "text"
      },
      "source": [
        "### **model_vgg**"
      ]
    },
    {
      "cell_type": "code",
      "metadata": {
        "id": "P_qPLZ8FMgK-",
        "colab_type": "code",
        "colab": {
          "base_uri": "https://localhost:8080/",
          "height": 50
        },
        "outputId": "7ea84b34-98c1-4b82-de2c-a0a9a3c7465a"
      },
      "source": [
        "resEv_model_vgg = model_vgg.evaluate(X_test_3, y_test_3, 20)\n",
        "print('test loss, test acc:', resEv_model_vgg)"
      ],
      "execution_count": 106,
      "outputs": [
        {
          "output_type": "stream",
          "text": [
            "60/60 [==============================] - 2s 28ms/step - loss: 0.3586 - acc: 0.8981\n",
            "test loss, test acc: [0.35857024788856506, 0.8980785012245178]\n"
          ],
          "name": "stdout"
        }
      ]
    },
    {
      "cell_type": "code",
      "metadata": {
        "id": "q3wdjS9vUrmO",
        "colab_type": "code",
        "colab": {
          "base_uri": "https://localhost:8080/",
          "height": 50
        },
        "outputId": "7f860f13-debd-4bb7-d6b1-1ef43187238e"
      },
      "source": [
        "resEv_model_vgg_do_block5 = model_vgg_do_block5.evaluate(X_test_3, y_test_3, 20)\n",
        "print('test loss, test acc:', resEv_model_vgg_do_block5)"
      ],
      "execution_count": 108,
      "outputs": [
        {
          "output_type": "stream",
          "text": [
            "60/60 [==============================] - 2s 28ms/step - loss: 0.3984 - acc: 0.8363\n",
            "test loss, test acc: [0.3983507454395294, 0.8362573385238647]\n"
          ],
          "name": "stdout"
        }
      ]
    },
    {
      "cell_type": "code",
      "metadata": {
        "id": "4ApJXDLuIe3H",
        "colab_type": "code",
        "colab": {}
      },
      "source": [
        ""
      ],
      "execution_count": null,
      "outputs": []
    }
  ]
}